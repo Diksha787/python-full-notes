{
 "cells": [
  {
   "cell_type": "markdown",
   "metadata": {
    "id": "OxAt_6jVp2wl"
   },
   "source": [
    "**Loops concept**"
   ]
  },
  {
   "cell_type": "code",
   "execution_count": null,
   "metadata": {
    "id": "UclQ8cavp6ca"
   },
   "outputs": [],
   "source": [
    "if\n",
    "elif\n",
    "else\n",
    "\n",
    "while\n",
    "\n",
    "for "
   ]
  },
  {
   "cell_type": "code",
   "execution_count": null,
   "metadata": {
    "id": "Ivwnr7M3p_XH"
   },
   "outputs": [],
   "source": [
    "# when u hv only 1 condition\n",
    "if condition:\n",
    "  #code\n",
    "\n",
    "# when u hv 2 conditions\n",
    "if condition:\n",
    "  #code\n",
    "else:\n",
    "  #code\n",
    "\n",
    "# when u hv 3 conditions\n",
    "if condition:\n",
    "  #code\n",
    "elif condition:\n",
    "  #code\n",
    "else:\n",
    "  #code\n",
    "\n",
    "# when u hv 20 conditions\n",
    "\n",
    "if\n",
    "18 elif statements\n",
    "else"
   ]
  },
  {
   "cell_type": "code",
   "execution_count": 1,
   "metadata": {
    "id": "HKcwKVaZusDU"
   },
   "outputs": [],
   "source": [
    "data = \"banana is not so tasty. Its the talk of the town\"\n",
    "\n",
    "# Q) Print Tasty when its apple and sugary when its banana?"
   ]
  },
  {
   "cell_type": "code",
   "execution_count": 2,
   "metadata": {
    "colab": {
     "base_uri": "https://localhost:8080/"
    },
    "executionInfo": {
     "elapsed": 10,
     "status": "ok",
     "timestamp": 1653625158650,
     "user": {
      "displayName": "Diksha Soni",
      "userId": "00039680945596626387"
     },
     "user_tz": -330
    },
    "id": "c5icZFSGuuL6",
    "outputId": "857c020f-83d3-4d9d-b433-263b2a09eb3a"
   },
   "outputs": [
    {
     "name": "stdout",
     "output_type": "stream",
     "text": [
      "yes its present\n"
     ]
    }
   ],
   "source": [
    "if \"banana\" in data:\n",
    "  print(\"yes its present\")\n",
    "elif \"talk\" in data:\n",
    "  print(\"yes its present\")\n",
    "else:\n",
    "  print(\"Both are present\")  \n"
   ]
  },
  {
   "cell_type": "code",
   "execution_count": 3,
   "metadata": {
    "colab": {
     "base_uri": "https://localhost:8080/"
    },
    "executionInfo": {
     "elapsed": 16,
     "status": "ok",
     "timestamp": 1653625310061,
     "user": {
      "displayName": "Diksha Soni",
      "userId": "00039680945596626387"
     },
     "user_tz": -330
    },
    "id": "7-V60VOnvJgd",
    "outputId": "7193b409-aed0-448f-87a6-d6450e78af27"
   },
   "outputs": [
    {
     "name": "stdout",
     "output_type": "stream",
     "text": [
      "yes\n"
     ]
    }
   ],
   "source": [
    "List = [367, 111, 562, 945, 6726, 873]\n",
    "if 367 in List:\n",
    "  print(\"yes\")\n",
    "elif 111 in List:\n",
    "  print(\"No\")\n",
    "else:\n",
    "  print(\"Both are present\")\n",
    "\n",
    "\n"
   ]
  },
  {
   "cell_type": "code",
   "execution_count": null,
   "metadata": {
    "colab": {
     "base_uri": "https://localhost:8080/"
    },
    "executionInfo": {
     "elapsed": 411,
     "status": "ok",
     "timestamp": 1653625869852,
     "user": {
      "displayName": "Diksha Soni",
      "userId": "00039680945596626387"
     },
     "user_tz": -330
    },
    "id": "8bQr7kJVv8RV",
    "outputId": "c8ffad7c-3d2c-4fbb-f0e6-cf5f9740b6bb"
   },
   "outputs": [
    {
     "name": "stdout",
     "output_type": "stream",
     "text": [
      "data scientist's is to analyze data \n"
     ]
    }
   ],
   "source": [
    "tuple=(354,42,\"python\",\"Data Science\",235.2)\n",
    "if \"java\" in tuple:\n",
    "  print(\"python is programming language\")\n",
    "elif \"Data Science\" in tuple:\n",
    "  print(\"data scientist's is to analyze data \")\n",
    "else:\n",
    "  print(\"Both are not present in tuple\")  \n",
    "\n",
    "  "
   ]
  },
  {
   "cell_type": "code",
   "execution_count": null,
   "metadata": {
    "colab": {
     "base_uri": "https://localhost:8080/"
    },
    "executionInfo": {
     "elapsed": 12,
     "status": "ok",
     "timestamp": 1653626101862,
     "user": {
      "displayName": "Diksha Soni",
      "userId": "00039680945596626387"
     },
     "user_tz": -330
    },
    "id": "zw-5dJ1hyE7h",
    "outputId": "8a0d60ef-380b-4a86-ab06-539e6e24aba8"
   },
   "outputs": [
    {
     "name": "stdout",
     "output_type": "stream",
     "text": [
      "Both are not present in set\n"
     ]
    }
   ],
   "source": [
    "set = {\"java\",\"python\",\"Data Science\",21,25.42}\n",
    "if \"java script\" in set:\n",
    "  print(\"yes its present\")\n",
    "elif \"c\" in set:\n",
    "  print(\"No its present\")\n",
    "else:\n",
    "  print(\"Both are not present in set\")    "
   ]
  },
  {
   "cell_type": "code",
   "execution_count": null,
   "metadata": {
    "colab": {
     "base_uri": "https://localhost:8080/"
    },
    "executionInfo": {
     "elapsed": 4502,
     "status": "ok",
     "timestamp": 1653626214745,
     "user": {
      "displayName": "Diksha Soni",
      "userId": "00039680945596626387"
     },
     "user_tz": -330
    },
    "id": "gTaUC8Juy9x-",
    "outputId": "b5b845c3-10ec-401d-e377-58decb97d186"
   },
   "outputs": [
    {
     "name": "stdout",
     "output_type": "stream",
     "text": [
      "what do u want to drink: tea\n",
      "okay sure!!\n"
     ]
    }
   ],
   "source": [
    "lst = ['tea','coffee','juice']\n",
    "\n",
    "res = input('what do u want to drink: ')\n",
    "\n",
    "\n",
    "\n",
    "if res in lst:\n",
    "\n",
    "  print('okay sure!!')\n",
    "\n",
    "else:\n",
    "\n",
    "  print('sorry!!it is not available here')"
   ]
  },
  {
   "cell_type": "code",
   "execution_count": null,
   "metadata": {
    "colab": {
     "base_uri": "https://localhost:8080/"
    },
    "executionInfo": {
     "elapsed": 4344,
     "status": "ok",
     "timestamp": 1653626283678,
     "user": {
      "displayName": "Diksha Soni",
      "userId": "00039680945596626387"
     },
     "user_tz": -330
    },
    "id": "5d3lk8kxzReV",
    "outputId": "7622ec0f-d0a4-4b7a-ce9a-2658b996212a"
   },
   "outputs": [
    {
     "name": "stdout",
     "output_type": "stream",
     "text": [
      "Enter a number: 25\n",
      "Positive number\n"
     ]
    }
   ],
   "source": [
    "num = float(input(\"Enter a number: \"))\n",
    "if num >= 0:\n",
    "    if num == 0:\n",
    "        print(\"Zero\")\n",
    "    else:\n",
    "        print(\"Positive number\")\n",
    "else:\n",
    "    print(\"Negative number\")"
   ]
  },
  {
   "cell_type": "code",
   "execution_count": null,
   "metadata": {
    "colab": {
     "base_uri": "https://localhost:8080/"
    },
    "executionInfo": {
     "elapsed": 12,
     "status": "ok",
     "timestamp": 1653626675727,
     "user": {
      "displayName": "Diksha Soni",
      "userId": "00039680945596626387"
     },
     "user_tz": -330
    },
    "id": "r32FLy8qzo7Y",
    "outputId": "29d7758d-b75c-4113-f5c4-43f6dbd040a6"
   },
   "outputs": [
    {
     "name": "stdout",
     "output_type": "stream",
     "text": [
      "a is odd\n",
      "not a string\n",
      "not a integer\n"
     ]
    }
   ],
   "source": [
    "C = {'a':45, \"b\": 'python', 'c':55.5, 'd':[34,56], 'e':\"Language\"}\n",
    "\n",
    "if C['a']%2==0:\n",
    "\n",
    "  print (\"a is even\")\n",
    "\n",
    "else:\n",
    "\n",
    "  print (\"a is odd\")\n",
    "\n",
    "if C['b'] == \"pet\":\n",
    "\n",
    "  print(\"it is a string\")\n",
    "\n",
    "else:\n",
    "\n",
    "  print(\"not a string\")\n",
    "\n",
    "if C['c'] - 55 == 0 :\n",
    "\n",
    "  print (\"it is a integer\")\n",
    "\n",
    "else:\n",
    "\n",
    "  print (\"not a integer\")"
   ]
  },
  {
   "cell_type": "code",
   "execution_count": null,
   "metadata": {
    "colab": {
     "base_uri": "https://localhost:8080/"
    },
    "executionInfo": {
     "elapsed": 12,
     "status": "ok",
     "timestamp": 1653626817497,
     "user": {
      "displayName": "Diksha Soni",
      "userId": "00039680945596626387"
     },
     "user_tz": -330
    },
    "id": "OkEqeIBM1JgL",
    "outputId": "331ee38e-f7d4-43c5-ffa9-28f07b29c2c3"
   },
   "outputs": [
    {
     "name": "stdout",
     "output_type": "stream",
     "text": [
      "45\n"
     ]
    }
   ],
   "source": [
    "dict = {'a':45, \"b\": 'python', 'c':55.5, 'd':[34,56], 'e':\"Language\"}\n",
    "\n",
    "if \"a\" in dict:\n",
    "  print(45)\n",
    "elif \"python\" in dict:\n",
    "  print(\"yes its in dict\")\n",
    "else:\n",
    "  print(\"Both are present in dict\")  \n",
    "\n",
    "\n"
   ]
  },
  {
   "cell_type": "code",
   "execution_count": null,
   "metadata": {
    "id": "G2MkTh8e1m5M"
   },
   "outputs": [],
   "source": []
  },
  {
   "cell_type": "code",
   "execution_count": null,
   "metadata": {
    "colab": {
     "base_uri": "https://localhost:8080/",
     "height": 235
    },
    "executionInfo": {
     "elapsed": 22,
     "status": "error",
     "timestamp": 1653628179375,
     "user": {
      "displayName": "Diksha Soni",
      "userId": "00039680945596626387"
     },
     "user_tz": -330
    },
    "id": "U9OVl5hq2wxJ",
    "outputId": "18493b86-a0b4-419a-e15a-8d46fb656951"
   },
   "outputs": [
    {
     "ename": "TypeError",
     "evalue": "ignored",
     "output_type": "error",
     "traceback": [
      "\u001b[0;31m---------------------------------------------------------------------------\u001b[0m",
      "\u001b[0;31mTypeError\u001b[0m                                 Traceback (most recent call last)",
      "\u001b[0;32m<ipython-input-15-29bf3e758d45>\u001b[0m in \u001b[0;36m<module>\u001b[0;34m()\u001b[0m\n\u001b[0;32m----> 1\u001b[0;31m \u001b[0mmarks\u001b[0m \u001b[0;34m=\u001b[0m \u001b[0mdict\u001b[0m\u001b[0;34m(\u001b[0m\u001b[0mash\u001b[0m\u001b[0;34m=\u001b[0m\u001b[0;36m72\u001b[0m\u001b[0;34m,\u001b[0m\u001b[0mdeku\u001b[0m\u001b[0;34m=\u001b[0m\u001b[0;36m82\u001b[0m\u001b[0;34m,\u001b[0m\u001b[0mrock\u001b[0m\u001b[0;34m=\u001b[0m\u001b[0;36m63\u001b[0m\u001b[0;34m,\u001b[0m\u001b[0mgoku\u001b[0m\u001b[0;34m=\u001b[0m\u001b[0;36m100\u001b[0m\u001b[0;34m,\u001b[0m\u001b[0msaitama\u001b[0m\u001b[0;34m=\u001b[0m\u001b[0;36m100\u001b[0m\u001b[0;34m,\u001b[0m\u001b[0mvageta\u001b[0m\u001b[0;34m=\u001b[0m\u001b[0;36m99\u001b[0m\u001b[0;34m)\u001b[0m\u001b[0;34m\u001b[0m\u001b[0;34m\u001b[0m\u001b[0m\n\u001b[0m\u001b[1;32m      2\u001b[0m \u001b[0mname\u001b[0m \u001b[0;34m=\u001b[0m \u001b[0minput\u001b[0m\u001b[0;34m(\u001b[0m\u001b[0;34m\"Enter name:\"\u001b[0m\u001b[0;34m)\u001b[0m\u001b[0;34m\u001b[0m\u001b[0;34m\u001b[0m\u001b[0m\n\u001b[1;32m      3\u001b[0m \u001b[0;32mif\u001b[0m \u001b[0mname\u001b[0m \u001b[0;32min\u001b[0m \u001b[0mmarks\u001b[0m\u001b[0;34m:\u001b[0m\u001b[0;34m\u001b[0m\u001b[0;34m\u001b[0m\u001b[0m\n\u001b[1;32m      4\u001b[0m   \u001b[0mprint\u001b[0m\u001b[0;34m(\u001b[0m\u001b[0;34m\"your marks is:\"\u001b[0m\u001b[0;34m,\u001b[0m\u001b[0mmarks\u001b[0m\u001b[0;34m[\u001b[0m\u001b[0mname\u001b[0m\u001b[0;34m]\u001b[0m\u001b[0;34m)\u001b[0m\u001b[0;34m\u001b[0m\u001b[0;34m\u001b[0m\u001b[0m\n\u001b[1;32m      5\u001b[0m \u001b[0;32melse\u001b[0m\u001b[0;34m:\u001b[0m\u001b[0;34m\u001b[0m\u001b[0;34m\u001b[0m\u001b[0m\n",
      "\u001b[0;31mTypeError\u001b[0m: 'dict' object is not callable"
     ]
    }
   ],
   "source": [
    "marks = dict(ash=72,deku=82,rock=63,goku=100,saitama=100,vageta=99)\n",
    "name = input(\"Enter name:\")\n",
    "if name in marks:\n",
    "  print(\"your marks is:\",marks[name])\n",
    "else:\n",
    "    print(\"We do not have student with this name.\")"
   ]
  },
  {
   "cell_type": "code",
   "execution_count": null,
   "metadata": {
    "id": "RHqgJSNt2vpk"
   },
   "outputs": [],
   "source": []
  },
  {
   "cell_type": "code",
   "execution_count": null,
   "metadata": {
    "id": "pHggLi_q84Wi"
   },
   "outputs": [],
   "source": []
  },
  {
   "cell_type": "markdown",
   "metadata": {
    "id": "Eyvn2s-986AQ"
   },
   "source": [
    "**While loop**"
   ]
  },
  {
   "cell_type": "code",
   "execution_count": null,
   "metadata": {
    "colab": {
     "base_uri": "https://localhost:8080/"
    },
    "executionInfo": {
     "elapsed": 15,
     "status": "ok",
     "timestamp": 1653628733741,
     "user": {
      "displayName": "Diksha Soni",
      "userId": "00039680945596626387"
     },
     "user_tz": -330
    },
    "id": "PW_Nc52388av",
    "outputId": "a75aa4d5-0bf2-433d-de6f-965a6be399d3"
   },
   "outputs": [
    {
     "name": "stdout",
     "output_type": "stream",
     "text": [
      "value of x is 10\n",
      "value of x is 11\n",
      "value of x is 12\n",
      "value of x is 13\n",
      "value of x is 14\n",
      "value of x is 15\n",
      "value of x is 16\n",
      "value of x is 17\n",
      "value of x is 18\n",
      "value of x is 19\n"
     ]
    }
   ],
   "source": [
    "x = 10\n",
    "while x<20:\n",
    "  print(\"value of x is {}\".format(x))\n",
    "  x+=1"
   ]
  },
  {
   "cell_type": "code",
   "execution_count": null,
   "metadata": {
    "id": "YU0sLbEx9Ky8"
   },
   "outputs": [],
   "source": [
    "for tmp_var in data:\n",
    "  #code"
   ]
  },
  {
   "cell_type": "code",
   "execution_count": null,
   "metadata": {
    "colab": {
     "base_uri": "https://localhost:8080/"
    },
    "executionInfo": {
     "elapsed": 11,
     "status": "ok",
     "timestamp": 1653628753707,
     "user": {
      "displayName": "Diksha Soni",
      "userId": "00039680945596626387"
     },
     "user_tz": -330
    },
    "id": "pAenpjYg9DIB",
    "outputId": "13193677-b5fa-497f-b32f-d9b582480c37"
   },
   "outputs": [
    {
     "name": "stdout",
     "output_type": "stream",
     "text": [
      "12\n",
      "13\n",
      "14\n",
      "15\n"
     ]
    }
   ],
   "source": [
    "for sg_a in [12, 13, 14, 15]:\n",
    "  print(sg_a) "
   ]
  },
  {
   "cell_type": "code",
   "execution_count": null,
   "metadata": {
    "id": "_TI_vkSx9FNB"
   },
   "outputs": [],
   "source": [
    "12 gets stored in sg_a\n",
    "print 12\n",
    "\n",
    "13 gets stored in sg_a\n",
    "print 13\n",
    "\n",
    "14 gets stored in sg_a\n",
    "print 14\n",
    "\n",
    "15 gets stored in sg_a\n",
    "print 15"
   ]
  },
  {
   "cell_type": "code",
   "execution_count": null,
   "metadata": {
    "colab": {
     "base_uri": "https://localhost:8080/"
    },
    "executionInfo": {
     "elapsed": 5,
     "status": "ok",
     "timestamp": 1653628804508,
     "user": {
      "displayName": "Diksha Soni",
      "userId": "00039680945596626387"
     },
     "user_tz": -330
    },
    "id": "9bGUAhwf9PGz",
    "outputId": "de7ff9dc-9bd3-46d6-9138-fa64fb2653c5"
   },
   "outputs": [
    {
     "name": "stdout",
     "output_type": "stream",
     "text": [
      "12 is an even number\n",
      "13 is an odd number\n",
      "14 is an even number\n",
      "15 is an odd number\n"
     ]
    }
   ],
   "source": [
    "for sg_a in [12, 13, 14, 15]:\n",
    "  if  sg_a % 2 == 0:\n",
    "    print(\"{} is an even number\".format(sg_a))\n",
    "  else:\n",
    "    print(\"{} is an odd number\".format(sg_a))"
   ]
  },
  {
   "cell_type": "code",
   "execution_count": null,
   "metadata": {
    "colab": {
     "base_uri": "https://localhost:8080/"
    },
    "executionInfo": {
     "elapsed": 9,
     "status": "ok",
     "timestamp": 1653629279145,
     "user": {
      "displayName": "Diksha Soni",
      "userId": "00039680945596626387"
     },
     "user_tz": -330
    },
    "id": "BQkvDBHI9RZh",
    "outputId": "4c73b925-d77a-4eb3-a8a1-aee359696d17"
   },
   "outputs": [
    {
     "name": "stdout",
     "output_type": "stream",
     "text": [
      "['python', 'Java', 'C', 'C++', 'PHP', 'ML', 'DL'] is a programming language\n",
      "['python', 'Java', 'C', 'C++', 'PHP', 'ML', 'DL'] is a programming language\n",
      "['python', 'Java', 'C', 'C++', 'PHP', 'ML', 'DL'] is a programming language\n",
      "['python', 'Java', 'C', 'C++', 'PHP', 'ML', 'DL'] is a programming language\n",
      "['python', 'Java', 'C', 'C++', 'PHP', 'ML', 'DL'] is a programming language\n",
      "['python', 'Java', 'C', 'C++', 'PHP', 'ML', 'DL'] is a programming language\n",
      "['python', 'Java', 'C', 'C++', 'PHP', 'ML', 'DL'] is a programming language\n"
     ]
    }
   ],
   "source": [
    "list=[\"python\",\"Java\",\"C\",\"C++\",\"PHP\",\"ML\",\"DL\"]\n",
    "for i in list:\n",
    "  if \"python\" in list:\n",
    "    print(\"{} is a programming language\".format(list))\n",
    "  elif \"HTML\" in list:\n",
    "    print(\"{} is also praogramming language\".format(list))  \n",
    "  else:\n",
    "    print(\"Both are programming language\")"
   ]
  },
  {
   "cell_type": "code",
   "execution_count": null,
   "metadata": {
    "colab": {
     "base_uri": "https://localhost:8080/"
    },
    "executionInfo": {
     "elapsed": 5,
     "status": "ok",
     "timestamp": 1653631845679,
     "user": {
      "displayName": "Diksha Soni",
      "userId": "00039680945596626387"
     },
     "user_tz": -330
    },
    "id": "icizHTv7E4pQ",
    "outputId": "07fbeb9b-fe3d-47cc-e085-771e6553b483"
   },
   "outputs": [
    {
     "name": "stdout",
     "output_type": "stream",
     "text": [
      "Python\n",
      "hi Python is programming  language its used for Interpreter\n",
      "Java\n",
      "C\n",
      "hi C is programming  language its used for Coding\n",
      "Php\n",
      "hi Php is programming  language its used for Web Development\n",
      "Ml\n",
      "hi Ml is programming  language its used for Create Model\n",
      "Dl\n",
      "hi Dl is programming  language its used for Object Detection\n"
     ]
    }
   ],
   "source": [
    "dict={'python':'interpreter','java':'programming','C':'coding','PHP':'web development','ML':'create model','DL':'object detection'}\n",
    "lang=['python','Java','C','PHP','ML','DL']\n",
    "for i in dict.keys():\n",
    "  print(i.title())\n",
    "  if i in lang:\n",
    "    print(\"hi \" +i.title() + \" is programming  language its used for \" + dict[i].title() )"
   ]
  },
  {
   "cell_type": "code",
   "execution_count": null,
   "metadata": {
    "colab": {
     "base_uri": "https://localhost:8080/"
    },
    "executionInfo": {
     "elapsed": 423,
     "status": "ok",
     "timestamp": 1653629522756,
     "user": {
      "displayName": "Diksha Soni",
      "userId": "00039680945596626387"
     },
     "user_tz": -330
    },
    "id": "YjbTaynI_7OH",
    "outputId": "a435fc8d-2989-41b9-a647-046f3f7ac1ac"
   },
   "outputs": [
    {
     "name": "stdout",
     "output_type": "stream",
     "text": [
      "Tata\n",
      " Hi Tata your son Jaugar has such a powerful engine!\n",
      "Volkswagen\n",
      " Hi Volkswagen your son Audi has such a powerful engine!\n",
      "Bmw\n",
      " Hi Bmw your son Minicooper has such a powerful engine!\n"
     ]
    }
   ],
   "source": [
    "car_group = {'tata': 'jaugar','volkswagen':'audi','bmw': 'minicooper'}\n",
    "\n",
    "cars = ['tata', 'bmw', 'volkswagen' ]\n",
    "\n",
    "for car in car_group.keys():\n",
    "\n",
    "  print(car.title())\n",
    "\n",
    "  if car in cars:\n",
    "\n",
    "    print(\" Hi \" + car.title() + \" your son \" +  car_group[car].title() + \" has such a powerful engine!\")"
   ]
  },
  {
   "cell_type": "code",
   "execution_count": null,
   "metadata": {
    "colab": {
     "base_uri": "https://localhost:8080/"
    },
    "executionInfo": {
     "elapsed": 412,
     "status": "ok",
     "timestamp": 1653630687698,
     "user": {
      "displayName": "Diksha Soni",
      "userId": "00039680945596626387"
     },
     "user_tz": -330
    },
    "id": "et0VUu8sEVMA",
    "outputId": "db212c0b-9cd0-4ec9-c955-506b140f83d2"
   },
   "outputs": [
    {
     "name": "stdout",
     "output_type": "stream",
     "text": [
      "the m hawk is the best off roading engine\n",
      "the m hawk is the best off roading engine\n",
      "the m hawk is the best off roading engine\n",
      "<class 'list'>\n"
     ]
    }
   ],
   "source": [
    "car=[\"mahindra\", \"ford\", \"amg\",]\n",
    "\n",
    "for brand in car:\n",
    "\n",
    "  if \"lucid\" in car:\n",
    "\n",
    "   print(\"It is a luxury on wheels with battery powered\")\n",
    "\n",
    "  elif \"mahindra\" in car:\n",
    "\n",
    "   print(\"the m hawk is the best off roading engine\")\n",
    "\n",
    "  elif \"amg\" in car:\n",
    "\n",
    "    print(\"it is the best tuning system\")\n",
    "\n",
    "  else:\n",
    "\n",
    "      print(\"nothing\")\n",
    "\n",
    "print(type(car))"
   ]
  },
  {
   "cell_type": "code",
   "execution_count": null,
   "metadata": {
    "colab": {
     "base_uri": "https://localhost:8080/"
    },
    "executionInfo": {
     "elapsed": 4976,
     "status": "ok",
     "timestamp": 1653632016052,
     "user": {
      "displayName": "Diksha Soni",
      "userId": "00039680945596626387"
     },
     "user_tz": -330
    },
    "id": "qjTeRTB3JV08",
    "outputId": "a45b97b7-51c8-49a1-c86e-4f1cebcb37a5"
   },
   "outputs": [
    {
     "name": "stdout",
     "output_type": "stream",
     "text": [
      "Enter max range value12\n",
      "Range of Prime numbers:  (0, 12)\n",
      "Prime number are: [2, 3, 5, 7, 11]\n"
     ]
    }
   ],
   "source": [
    "A = int(input('Enter max range value'))\n",
    "\n",
    "prime_numbers=[]\n",
    "\n",
    "print(\"Range of Prime numbers: \",(0,A))\n",
    "\n",
    "for i in range (2,A+1):\n",
    "\n",
    "  for j in range (2,i):\n",
    "\n",
    "    if (i%j) == 0:\n",
    "\n",
    "      break\n",
    "\n",
    "  else:\n",
    "\n",
    "      prime_numbers.append(i)\n",
    "\n",
    "print(\"Prime number are:\",prime_numbers)"
   ]
  },
  {
   "cell_type": "code",
   "execution_count": null,
   "metadata": {
    "colab": {
     "base_uri": "https://localhost:8080/"
    },
    "executionInfo": {
     "elapsed": 9,
     "status": "ok",
     "timestamp": 1653637997895,
     "user": {
      "displayName": "Diksha Soni",
      "userId": "00039680945596626387"
     },
     "user_tz": -330
    },
    "id": "aEe1iNe8-ro0",
    "outputId": "732c907f-6d32-4824-cf86-de231e55b29b"
   },
   "outputs": [
    {
     "name": "stdout",
     "output_type": "stream",
     "text": [
      "64\n",
      "98\n",
      "23\n",
      "41\n",
      "85\n",
      "42\n",
      "25\n",
      "14\n",
      "12\n"
     ]
    }
   ],
   "source": [
    "list=[12,14,25,42,85,41,23,98,64]\n",
    "while list:\n",
    "    print(list.pop(-1))"
   ]
  },
  {
   "cell_type": "code",
   "execution_count": null,
   "metadata": {
    "colab": {
     "base_uri": "https://localhost:8080/"
    },
    "executionInfo": {
     "elapsed": 727,
     "status": "ok",
     "timestamp": 1653632376694,
     "user": {
      "displayName": "Diksha Soni",
      "userId": "00039680945596626387"
     },
     "user_tz": -330
    },
    "id": "d1VJ0ADLA77q",
    "outputId": "1a3cc239-15f5-4f20-d934-3f2cf3c09c0a"
   },
   "outputs": [
    {
     "name": "stdout",
     "output_type": "stream",
     "text": [
      "10\n",
      "9\n",
      "8\n",
      "7\n",
      "loop is finished\n"
     ]
    }
   ],
   "source": [
    "num = 10\n",
    "while num > 6:\n",
    "   print(num)\n",
    "   num = num-1\n",
    "else:\n",
    "   print(\"loop is finished\")"
   ]
  },
  {
   "cell_type": "code",
   "execution_count": null,
   "metadata": {
    "colab": {
     "base_uri": "https://localhost:8080/"
    },
    "executionInfo": {
     "elapsed": 7362,
     "status": "ok",
     "timestamp": 1653632607112,
     "user": {
      "displayName": "Diksha Soni",
      "userId": "00039680945596626387"
     },
     "user_tz": -330
    },
    "id": "CuT1qh4aLUKx",
    "outputId": "4ce982d1-40bd-4937-d5f2-42c9111c97cb"
   },
   "outputs": [
    {
     "name": "stdout",
     "output_type": "stream",
     "text": [
      "enter table number5\n",
      "enter the number to which table is to printed10\n",
      "5 x 1 = 5\n",
      "5 x 2 = 10\n",
      "5 x 3 = 15\n",
      "5 x 4 = 20\n",
      "5 x 5 = 25\n",
      "5 x 6 = 30\n",
      "5 x 7 = 35\n",
      "5 x 8 = 40\n",
      "5 x 9 = 45\n",
      "5 x 10 = 50\n"
     ]
    }
   ],
   "source": [
    "a=int(input(\"enter table number\"))\n",
    "b=int(input(\"enter the number to which table is to printed\"))\n",
    "i=1\n",
    "while i<=b:\n",
    "    print(a,\"x\",i,\"=\",a*i)\n",
    "    i=i+1"
   ]
  },
  {
   "cell_type": "code",
   "execution_count": null,
   "metadata": {
    "colab": {
     "base_uri": "https://localhost:8080/"
    },
    "executionInfo": {
     "elapsed": 4281,
     "status": "ok",
     "timestamp": 1653639005162,
     "user": {
      "displayName": "Diksha Soni",
      "userId": "00039680945596626387"
     },
     "user_tz": -330
    },
    "id": "8lAqlb2GLwJP",
    "outputId": "764cb11c-d681-4033-e9cb-55b8af5bb6d6"
   },
   "outputs": [
    {
     "name": "stdout",
     "output_type": "stream",
     "text": [
      "Enter the number of rows: 6\n",
      "1 \n",
      "1 2 \n",
      "1 2 3 \n",
      "1 2 3 4 \n",
      "1 2 3 4 5 \n"
     ]
    }
   ],
   "source": [
    "n=int(input(\"Enter the number of rows: \"))\n",
    "for i in range(1,n):\n",
    "    for j in range(1, i+1):\n",
    "        print(j, end=\" \")\n",
    "    print()"
   ]
  },
  {
   "cell_type": "code",
   "execution_count": null,
   "metadata": {
    "colab": {
     "base_uri": "https://localhost:8080/"
    },
    "executionInfo": {
     "elapsed": 419,
     "status": "ok",
     "timestamp": 1653639251615,
     "user": {
      "displayName": "Diksha Soni",
      "userId": "00039680945596626387"
     },
     "user_tz": -330
    },
    "id": "m9a7WOL4iq-V",
    "outputId": "9f2e5334-1e3e-42d0-898d-73e075a97c9d"
   },
   "outputs": [
    {
     "name": "stdout",
     "output_type": "stream",
     "text": [
      "1 \n",
      "1 2 \n",
      "1 2 3 \n",
      "1 2 3 4 \n",
      "1 2 3 4 5 \n"
     ]
    }
   ],
   "source": [
    "num=6\n",
    "for i in range(1,num):\n",
    "  for j in range(1,i+1):\n",
    "    print(j,end=\" \")\n",
    "  print()\n",
    "  "
   ]
  },
  {
   "cell_type": "code",
   "execution_count": null,
   "metadata": {
    "colab": {
     "base_uri": "https://localhost:8080/"
    },
    "executionInfo": {
     "elapsed": 430,
     "status": "ok",
     "timestamp": 1653639414769,
     "user": {
      "displayName": "Diksha Soni",
      "userId": "00039680945596626387"
     },
     "user_tz": -330
    },
    "id": "ED4VyXuhk3Yt",
    "outputId": "8ff693ce-ac8e-4ad7-e83d-6e474fd95356"
   },
   "outputs": [
    {
     "name": "stdout",
     "output_type": "stream",
     "text": [
      "1\n",
      "2\n",
      "3\n",
      "4\n",
      "5\n"
     ]
    }
   ],
   "source": [
    "for i in range(1,6):\n",
    "  print(i)"
   ]
  },
  {
   "cell_type": "code",
   "execution_count": null,
   "metadata": {
    "colab": {
     "base_uri": "https://localhost:8080/"
    },
    "executionInfo": {
     "elapsed": 401,
     "status": "ok",
     "timestamp": 1653640831665,
     "user": {
      "displayName": "Diksha Soni",
      "userId": "00039680945596626387"
     },
     "user_tz": -330
    },
    "id": "ywJQTqg7pypt",
    "outputId": "5a598390-5bee-4727-a808-1db31b77fdee"
   },
   "outputs": [
    {
     "name": "stdout",
     "output_type": "stream",
     "text": [
      "5 4 3 2 1 \n",
      "4 3 2 1 \n",
      "3 2 1 \n",
      "2 1 \n",
      "1 \n",
      "\n"
     ]
    }
   ],
   "source": [
    "row = 5\n",
    "while ( row >= 0):\n",
    "    for i in range ( row,0, -1):\n",
    "        print (i, end=(\" \"))\n",
    "    print()\n",
    "    row=row-1"
   ]
  },
  {
   "cell_type": "code",
   "execution_count": null,
   "metadata": {
    "colab": {
     "base_uri": "https://localhost:8080/"
    },
    "executionInfo": {
     "elapsed": 404,
     "status": "ok",
     "timestamp": 1653641456097,
     "user": {
      "displayName": "Diksha Soni",
      "userId": "00039680945596626387"
     },
     "user_tz": -330
    },
    "id": "4CzzfhA_tJ4M",
    "outputId": "5e9fd48d-0788-46f6-d470-d7f6633adc81"
   },
   "outputs": [
    {
     "name": "stdout",
     "output_type": "stream",
     "text": [
      "1 2 3 4 5 6 \n",
      "1 2 3 4 5 \n",
      "1 2 3 4 \n",
      "1 2 3 \n",
      "1 2 \n",
      "1 \n"
     ]
    }
   ],
   "source": [
    "num=6\n",
    "for i in range(num,0,-1):\n",
    "  for j in range(1,i+1):\n",
    "    print(j,end=\" \")\n",
    "  print()"
   ]
  },
  {
   "cell_type": "code",
   "execution_count": null,
   "metadata": {
    "colab": {
     "base_uri": "https://localhost:8080/"
    },
    "executionInfo": {
     "elapsed": 399,
     "status": "ok",
     "timestamp": 1653641579184,
     "user": {
      "displayName": "Diksha Soni",
      "userId": "00039680945596626387"
     },
     "user_tz": -330
    },
    "id": "SkAZhIiKtiGc",
    "outputId": "77a8cdd9-99cc-43f7-f721-a47e919da720"
   },
   "outputs": [
    {
     "name": "stdout",
     "output_type": "stream",
     "text": [
      "1 \n",
      "1 2 \n",
      "1 2 3 \n",
      "1 2 3 4 \n",
      "1 2 3 4 5 \n",
      "1 \n",
      "1 2 \n",
      "1 2 3 \n",
      "1 2 3 4 \n",
      "1 2 3 4 5 \n"
     ]
    }
   ],
   "source": [
    "num=6\n",
    "for i in range(1,num):\n",
    "  for j in range(1,i+1):\n",
    "    print(j,end=\" \")\n",
    "  print()\n",
    "for i in range(1,num):\n",
    "  for j in range(1,i+1):\n",
    "    print(j,end=\" \")\n",
    "  print()\n",
    "    \n"
   ]
  },
  {
   "cell_type": "code",
   "execution_count": null,
   "metadata": {
    "id": "ZXBse1jvt5-C"
   },
   "outputs": [],
   "source": []
  },
  {
   "cell_type": "markdown",
   "metadata": {
    "id": "bb4tn-l9txxm"
   },
   "source": [
    "**Function**"
   ]
  },
  {
   "cell_type": "code",
   "execution_count": 7,
   "metadata": {
    "colab": {
     "base_uri": "https://localhost:8080/"
    },
    "executionInfo": {
     "elapsed": 13,
     "status": "ok",
     "timestamp": 1653977273104,
     "user": {
      "displayName": "Diksha Soni",
      "userId": "00039680945596626387"
     },
     "user_tz": -330
    },
    "id": "lhNVk2lYt0LP",
    "outputId": "976a3a0b-5e13-42a5-8477-7a46700a85ec"
   },
   "outputs": [
    {
     "name": "stdout",
     "output_type": "stream",
     "text": [
      "even number\n"
     ]
    }
   ],
   "source": [
    "def even_odd(i):\n",
    " if i%2 == 0:\n",
    "   return \"even number\"\n",
    " else:\n",
    "   return \"odd number\"  \n",
    "print(even_odd(24))   "
   ]
  },
  {
   "cell_type": "code",
   "execution_count": 8,
   "metadata": {
    "colab": {
     "base_uri": "https://localhost:8080/"
    },
    "executionInfo": {
     "elapsed": 499,
     "status": "ok",
     "timestamp": 1653977307694,
     "user": {
      "displayName": "Diksha Soni",
      "userId": "00039680945596626387"
     },
     "user_tz": -330
    },
    "id": "ZXILKWH5t-3O",
    "outputId": "7ca0036d-b252-4496-efe7-0321749e20eb"
   },
   "outputs": [
    {
     "name": "stdout",
     "output_type": "stream",
     "text": [
      "even\n"
     ]
    }
   ],
   "source": [
    "def my_func(a):\n",
    "\n",
    "  if a%2==0:\n",
    "\n",
    "    return \"even\"\n",
    "\n",
    "  else:\n",
    "\n",
    "    return \"odd\"\n",
    "\n",
    "print(my_func(456))"
   ]
  },
  {
   "cell_type": "code",
   "execution_count": 9,
   "metadata": {
    "colab": {
     "base_uri": "https://localhost:8080/"
    },
    "executionInfo": {
     "elapsed": 3804,
     "status": "ok",
     "timestamp": 1653977349021,
     "user": {
      "displayName": "Diksha Soni",
      "userId": "00039680945596626387"
     },
     "user_tz": -330
    },
    "id": "Us7hQJIButGi",
    "outputId": "980f1eed-9471-4724-91e9-355973238e73"
   },
   "outputs": [
    {
     "name": "stdout",
     "output_type": "stream",
     "text": [
      "Enter a number to determine odd or even: 25\n",
      "Given number 25 is Odd\n"
     ]
    }
   ],
   "source": [
    "number = int(input(\"Enter a number to determine odd or even: \"))\n",
    "def oddeven(number):\n",
    "  if number % 2 == 0:\n",
    "    print(\"Given number {} is Even\".format(number))\n",
    "  else:\n",
    "    print(\"Given number {} is Odd\".format(number))\n",
    "oddeven(number)"
   ]
  },
  {
   "cell_type": "code",
   "execution_count": null,
   "metadata": {
    "id": "mnZhxkCtu2T9"
   },
   "outputs": [],
   "source": []
  }
 ],
 "metadata": {
  "colab": {
   "authorship_tag": "ABX9TyN0+ny9mGuD9eH/9N3Iiqnc",
   "name": "Loop concept.ipynb",
   "provenance": []
  },
  "kernelspec": {
   "display_name": "Python 3 (ipykernel)",
   "language": "python",
   "name": "python3"
  },
  "language_info": {
   "codemirror_mode": {
    "name": "ipython",
    "version": 3
   },
   "file_extension": ".py",
   "mimetype": "text/x-python",
   "name": "python",
   "nbconvert_exporter": "python",
   "pygments_lexer": "ipython3",
   "version": "3.10.4"
  }
 },
 "nbformat": 4,
 "nbformat_minor": 1
}
