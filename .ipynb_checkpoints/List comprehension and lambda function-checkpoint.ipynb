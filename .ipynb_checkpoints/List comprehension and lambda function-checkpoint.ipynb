{
 "cells": [
  {
   "cell_type": "markdown",
   "metadata": {
    "id": "KdtstdkpZcCU"
   },
   "source": [
    "**List comprehension**"
   ]
  },
  {
   "cell_type": "code",
   "execution_count": null,
   "metadata": {
    "id": "4Mdwv7aoZiDd"
   },
   "outputs": [],
   "source": [
    "#  List comprehension\n",
    "data_y = [2, 34, 45,6,7.7]\n",
    "\n",
    "newdata = []\n",
    "for a in data_y:\n",
    "  b= str(a)\n",
    "  newdata.append(b)"
   ]
  },
  {
   "cell_type": "code",
   "execution_count": null,
   "metadata": {
    "colab": {
     "base_uri": "https://localhost:8080/"
    },
    "executionInfo": {
     "elapsed": 10,
     "status": "ok",
     "timestamp": 1654055724344,
     "user": {
      "displayName": "Diksha Soni",
      "userId": "00039680945596626387"
     },
     "user_tz": -330
    },
    "id": "hiwjiZPIZzPw",
    "outputId": "b654fdf4-476f-4d8a-fed4-ea3afa72cb40"
   },
   "outputs": [
    {
     "data": {
      "text/plain": [
       "['2', '34', '45', '6', '7.7']"
      ]
     },
     "execution_count": 2,
     "metadata": {},
     "output_type": "execute_result"
    }
   ],
   "source": [
    "newdata"
   ]
  },
  {
   "cell_type": "code",
   "execution_count": null,
   "metadata": {
    "colab": {
     "base_uri": "https://localhost:8080/"
    },
    "executionInfo": {
     "elapsed": 10,
     "status": "ok",
     "timestamp": 1654055732815,
     "user": {
      "displayName": "Diksha Soni",
      "userId": "00039680945596626387"
     },
     "user_tz": -330
    },
    "id": "kcFeMD4QZ1ZM",
    "outputId": "dc251c58-0e24-4df6-972a-6b35934bd67f"
   },
   "outputs": [
    {
     "data": {
      "text/plain": [
       "['2', '34', '45', '6', '7.7']"
      ]
     },
     "execution_count": 3,
     "metadata": {},
     "output_type": "execute_result"
    }
   ],
   "source": [
    "[str(a) for a in data_y]"
   ]
  },
  {
   "cell_type": "code",
   "execution_count": null,
   "metadata": {
    "id": "vlzp2a3vbnMq"
   },
   "outputs": [],
   "source": [
    "tuples = [(), ('ram','15','8'), (), ('laxman', 'sita'), \n",
    "          ('krishna', 'akbar', '45'), ('',''),()]"
   ]
  },
  {
   "cell_type": "code",
   "execution_count": null,
   "metadata": {
    "id": "_x_BOC09Z37j"
   },
   "outputs": [],
   "source": [
    "def remove_tuples(data):\n",
    "\n",
    "  new_t = [t for t in data if len(t) > 0]\n",
    "\n",
    "  return new_t\n"
   ]
  },
  {
   "cell_type": "code",
   "execution_count": null,
   "metadata": {
    "colab": {
     "base_uri": "https://localhost:8080/"
    },
    "executionInfo": {
     "elapsed": 11,
     "status": "ok",
     "timestamp": 1654056287456,
     "user": {
      "displayName": "Diksha Soni",
      "userId": "00039680945596626387"
     },
     "user_tz": -330
    },
    "id": "nxqf08vXbNNK",
    "outputId": "16970979-e4ba-4bbf-d635-5535485d1d2e"
   },
   "outputs": [
    {
     "data": {
      "text/plain": [
       "[('ram', '15', '8'), ('laxman', 'sita'), ('krishna', 'akbar', '45'), ('', '')]"
      ]
     },
     "execution_count": 16,
     "metadata": {},
     "output_type": "execute_result"
    }
   ],
   "source": [
    "remove_tuples(tuples)"
   ]
  },
  {
   "cell_type": "code",
   "execution_count": null,
   "metadata": {
    "colab": {
     "base_uri": "https://localhost:8080/"
    },
    "executionInfo": {
     "elapsed": 674,
     "status": "ok",
     "timestamp": 1654056343729,
     "user": {
      "displayName": "Diksha Soni",
      "userId": "00039680945596626387"
     },
     "user_tz": -330
    },
    "id": "Gi9BRuG9bNw8",
    "outputId": "06201e5e-8d17-4884-dc91-ff2a804b992f"
   },
   "outputs": [
    {
     "name": "stdout",
     "output_type": "stream",
     "text": [
      "['apple', 'banana', 'mango']\n"
     ]
    }
   ],
   "source": [
    "fruits = [\"apple\", \"banana\", \"cherry\", \"kiwi\", \"mango\"]\n",
    "newlist = []\n",
    "\n",
    "for x in fruits:\n",
    "  if \"a\" in x:\n",
    "    newlist.append(x)\n",
    "\n",
    "print(newlist)"
   ]
  },
  {
   "cell_type": "code",
   "execution_count": null,
   "metadata": {
    "colab": {
     "base_uri": "https://localhost:8080/"
    },
    "executionInfo": {
     "elapsed": 10,
     "status": "ok",
     "timestamp": 1654056377306,
     "user": {
      "displayName": "Diksha Soni",
      "userId": "00039680945596626387"
     },
     "user_tz": -330
    },
    "id": "DDzkvTUacM-A",
    "outputId": "18c8e314-5876-48e4-83df-a00908425c74"
   },
   "outputs": [
    {
     "name": "stdout",
     "output_type": "stream",
     "text": [
      "['apple', 'banana', 'mango']\n"
     ]
    }
   ],
   "source": [
    "fruits = [\"apple\", \"banana\", \"cherry\", \"kiwi\", \"mango\"]\n",
    "\n",
    "newlist = [x for x in fruits if \"a\" in x]\n",
    "\n",
    "print(newlist)"
   ]
  },
  {
   "cell_type": "code",
   "execution_count": null,
   "metadata": {
    "colab": {
     "base_uri": "https://localhost:8080/"
    },
    "executionInfo": {
     "elapsed": 1174,
     "status": "ok",
     "timestamp": 1654056758393,
     "user": {
      "displayName": "Diksha Soni",
      "userId": "00039680945596626387"
     },
     "user_tz": -330
    },
    "id": "n-YEh_tIc8PY",
    "outputId": "9eab7c45-84a6-44f7-b6c3-9498bdd0572f"
   },
   "outputs": [
    {
     "name": "stdout",
     "output_type": "stream",
     "text": [
      "[6, 16, 26, 36, 46, 56, 60, 61, 62, 63, 64, 65, 66, 67, 68, 69, 76, 86, 96, 106, 116, 126, 136, 146, 156, 160, 161, 162, 163, 164, 165, 166, 167, 168, 169, 176, 186, 196, 206, 216, 226, 236, 246, 256, 260, 261, 262, 263, 264, 265, 266, 267, 268, 269, 276, 286, 296, 306, 316, 326, 336, 346, 356, 360, 361, 362, 363, 364, 365, 366, 367, 368, 369, 376, 386, 396, 406, 416, 426, 436, 446, 456, 460, 461, 462, 463, 464, 465, 466, 467, 468, 469, 476, 486, 496, 506, 516, 526, 536, 546, 556, 560, 561, 562, 563, 564, 565, 566, 567, 568, 569, 576, 586, 596, 600, 601, 602, 603, 604, 605, 606, 607, 608, 609, 610, 611, 612, 613, 614, 615, 616, 617, 618, 619, 620, 621, 622, 623, 624, 625, 626, 627, 628, 629, 630, 631, 632, 633, 634, 635, 636, 637, 638, 639, 640, 641, 642, 643, 644, 645, 646, 647, 648, 649, 650, 651, 652, 653, 654, 655, 656, 657, 658, 659, 660, 661, 662, 663, 664, 665, 666, 667, 668, 669, 670, 671, 672, 673, 674, 675, 676, 677, 678, 679, 680, 681, 682, 683, 684, 685, 686, 687, 688, 689, 690, 691, 692, 693, 694, 695, 696, 697, 698, 699, 706, 716, 726, 736, 746, 756, 760, 761, 762, 763, 764, 765, 766, 767, 768, 769, 776, 786, 796, 806, 816, 826, 836, 846, 856, 860, 861, 862, 863, 864, 865, 866, 867, 868, 869, 876, 886, 896, 906, 916, 926, 936, 946, 956, 960, 961, 962, 963, 964, 965, 966, 967, 968, 969, 976, 986, 996]\n"
     ]
    }
   ],
   "source": [
    "## Find all of the numbers from 1–1000 that have a 6 in them\n",
    "list = [i for i in range(1, 1000) if '6' in str(i)]\n",
    "print (list)"
   ]
  },
  {
   "cell_type": "code",
   "execution_count": null,
   "metadata": {
    "colab": {
     "base_uri": "https://localhost:8080/"
    },
    "executionInfo": {
     "elapsed": 6,
     "status": "ok",
     "timestamp": 1654056935351,
     "user": {
      "displayName": "Diksha Soni",
      "userId": "00039680945596626387"
     },
     "user_tz": -330
    },
    "id": "yPRVNU37c-9v",
    "outputId": "124499ef-63d1-48d8-ee7e-266d0583c6de"
   },
   "outputs": [
    {
     "name": "stdout",
     "output_type": "stream",
     "text": [
      "6\n",
      "16\n",
      "26\n",
      "36\n",
      "46\n",
      "56\n",
      "60\n",
      "61\n",
      "62\n",
      "63\n",
      "64\n",
      "65\n",
      "66\n",
      "67\n",
      "68\n",
      "69\n",
      "76\n",
      "86\n",
      "96\n",
      "106\n",
      "116\n",
      "126\n",
      "136\n",
      "146\n",
      "156\n",
      "160\n",
      "161\n",
      "162\n",
      "163\n",
      "164\n",
      "165\n",
      "166\n",
      "167\n",
      "168\n",
      "169\n",
      "176\n",
      "186\n",
      "196\n",
      "206\n",
      "216\n",
      "226\n",
      "236\n",
      "246\n",
      "256\n",
      "260\n",
      "261\n",
      "262\n",
      "263\n",
      "264\n",
      "265\n",
      "266\n",
      "267\n",
      "268\n",
      "269\n",
      "276\n",
      "286\n",
      "296\n",
      "306\n",
      "316\n",
      "326\n",
      "336\n",
      "346\n",
      "356\n",
      "360\n",
      "361\n",
      "362\n",
      "363\n",
      "364\n",
      "365\n",
      "366\n",
      "367\n",
      "368\n",
      "369\n",
      "376\n",
      "386\n",
      "396\n",
      "406\n",
      "416\n",
      "426\n",
      "436\n",
      "446\n",
      "456\n",
      "460\n",
      "461\n",
      "462\n",
      "463\n",
      "464\n",
      "465\n",
      "466\n",
      "467\n",
      "468\n",
      "469\n",
      "476\n",
      "486\n",
      "496\n",
      "506\n",
      "516\n",
      "526\n",
      "536\n",
      "546\n",
      "556\n",
      "560\n",
      "561\n",
      "562\n",
      "563\n",
      "564\n",
      "565\n",
      "566\n",
      "567\n",
      "568\n",
      "569\n",
      "576\n",
      "586\n",
      "596\n",
      "600\n",
      "601\n",
      "602\n",
      "603\n",
      "604\n",
      "605\n",
      "606\n",
      "607\n",
      "608\n",
      "609\n",
      "610\n",
      "611\n",
      "612\n",
      "613\n",
      "614\n",
      "615\n",
      "616\n",
      "617\n",
      "618\n",
      "619\n",
      "620\n",
      "621\n",
      "622\n",
      "623\n",
      "624\n",
      "625\n",
      "626\n",
      "627\n",
      "628\n",
      "629\n",
      "630\n",
      "631\n",
      "632\n",
      "633\n",
      "634\n",
      "635\n",
      "636\n",
      "637\n",
      "638\n",
      "639\n",
      "640\n",
      "641\n",
      "642\n",
      "643\n",
      "644\n",
      "645\n",
      "646\n",
      "647\n",
      "648\n",
      "649\n",
      "650\n",
      "651\n",
      "652\n",
      "653\n",
      "654\n",
      "655\n",
      "656\n",
      "657\n",
      "658\n",
      "659\n",
      "660\n",
      "661\n",
      "662\n",
      "663\n",
      "664\n",
      "665\n",
      "666\n",
      "667\n",
      "668\n",
      "669\n",
      "670\n",
      "671\n",
      "672\n",
      "673\n",
      "674\n",
      "675\n",
      "676\n",
      "677\n",
      "678\n",
      "679\n",
      "680\n",
      "681\n",
      "682\n",
      "683\n",
      "684\n",
      "685\n",
      "686\n",
      "687\n",
      "688\n",
      "689\n",
      "690\n",
      "691\n",
      "692\n",
      "693\n",
      "694\n",
      "695\n",
      "696\n",
      "697\n",
      "698\n",
      "699\n",
      "706\n",
      "716\n",
      "726\n",
      "736\n",
      "746\n",
      "756\n",
      "760\n",
      "761\n",
      "762\n",
      "763\n",
      "764\n",
      "765\n",
      "766\n",
      "767\n",
      "768\n",
      "769\n",
      "776\n",
      "786\n",
      "796\n",
      "806\n",
      "816\n",
      "826\n",
      "836\n",
      "846\n",
      "856\n",
      "860\n",
      "861\n",
      "862\n",
      "863\n",
      "864\n",
      "865\n",
      "866\n",
      "867\n",
      "868\n",
      "869\n",
      "876\n",
      "886\n",
      "896\n",
      "906\n",
      "916\n",
      "926\n",
      "936\n",
      "946\n",
      "956\n",
      "960\n",
      "961\n",
      "962\n",
      "963\n",
      "964\n",
      "965\n",
      "966\n",
      "967\n",
      "968\n",
      "969\n",
      "976\n",
      "986\n",
      "996\n"
     ]
    }
   ],
   "source": [
    "num = []\n",
    "\n",
    "for i in range(1,1000):\n",
    "\n",
    "  if '6' in str(i):\n",
    "\n",
    "    b = print(i)\n",
    "\n",
    "    num.append(b)"
   ]
  },
  {
   "cell_type": "code",
   "execution_count": null,
   "metadata": {
    "colab": {
     "base_uri": "https://localhost:8080/"
    },
    "executionInfo": {
     "elapsed": 3535,
     "status": "ok",
     "timestamp": 1654060456929,
     "user": {
      "displayName": "Diksha Soni",
      "userId": "00039680945596626387"
     },
     "user_tz": -330
    },
    "id": "3kSZBvjcfABh",
    "outputId": "c1995652-d590-4ea9-ff1b-5b2272dc151a"
   },
   "outputs": [
    {
     "name": "stdout",
     "output_type": "stream",
     "text": [
      "enter the number:-52\n",
      "even number\n"
     ]
    }
   ],
   "source": [
    "## even or odd using lambda function?\n",
    "number = input (\"enter the number:-\")\n",
    "even_odd=lambda :\"even number\"if i%2==0 else \"odd number\"  ## ip:op\n",
    "print(even_odd())"
   ]
  },
  {
   "cell_type": "code",
   "execution_count": null,
   "metadata": {
    "colab": {
     "base_uri": "https://localhost:8080/"
    },
    "executionInfo": {
     "elapsed": 416,
     "status": "ok",
     "timestamp": 1654060215627,
     "user": {
      "displayName": "Diksha Soni",
      "userId": "00039680945596626387"
     },
     "user_tz": -330
    },
    "id": "RArg-5yMp_0R",
    "outputId": "5db819ca-ac03-47fb-e5f8-58955b78588f"
   },
   "outputs": [
    {
     "name": "stdout",
     "output_type": "stream",
     "text": [
      "15\n"
     ]
    }
   ],
   "source": [
    "## add using lambda function\n",
    "x = lambda a : a + 10\n",
    "print(x(5))"
   ]
  },
  {
   "cell_type": "code",
   "execution_count": null,
   "metadata": {
    "colab": {
     "base_uri": "https://localhost:8080/"
    },
    "executionInfo": {
     "elapsed": 3224,
     "status": "ok",
     "timestamp": 1654060340612,
     "user": {
      "displayName": "Diksha Soni",
      "userId": "00039680945596626387"
     },
     "user_tz": -330
    },
    "id": "QkxpIEyPq-S3",
    "outputId": "3e219e39-2448-476f-f9f1-b91f09f72b85"
   },
   "outputs": [
    {
     "name": "stdout",
     "output_type": "stream",
     "text": [
      "Enter a number: 12\n",
      "even\n"
     ]
    }
   ],
   "source": [
    "x = int(input(\"Enter a number: \"))\n",
    "evenodd = lambda x: x % 2 == 0\n",
    "if evenodd(x) == False:\n",
    "  print(\"Odd\")\n",
    "else:\n",
    "  print(\"even\")"
   ]
  },
  {
   "cell_type": "code",
   "execution_count": null,
   "metadata": {
    "colab": {
     "base_uri": "https://localhost:8080/",
     "height": 35
    },
    "executionInfo": {
     "elapsed": 6,
     "status": "ok",
     "timestamp": 1654060409907,
     "user": {
      "displayName": "Diksha Soni",
      "userId": "00039680945596626387"
     },
     "user_tz": -330
    },
    "id": "y2NVFnJercJC",
    "outputId": "83a4173f-a4a9-4587-d6a9-338579cb06e4"
   },
   "outputs": [
    {
     "data": {
      "application/vnd.google.colaboratory.intrinsic+json": {
       "type": "string"
      },
      "text/plain": [
       "'even'"
      ]
     },
     "execution_count": 36,
     "metadata": {},
     "output_type": "execute_result"
    }
   ],
   "source": [
    "x=lambda a: (\"even\" if a%2==0 else \"odd\")\n",
    "\n",
    "x(8)"
   ]
  },
  {
   "cell_type": "code",
   "execution_count": null,
   "metadata": {
    "colab": {
     "base_uri": "https://localhost:8080/"
    },
    "executionInfo": {
     "elapsed": 7,
     "status": "ok",
     "timestamp": 1654060586780,
     "user": {
      "displayName": "Diksha Soni",
      "userId": "00039680945596626387"
     },
     "user_tz": -330
    },
    "id": "dFWIB5Fxrt_s",
    "outputId": "ba86d1b5-1793-4825-d2ad-14d0b56760ac"
   },
   "outputs": [
    {
     "name": "stdout",
     "output_type": "stream",
     "text": [
      "30\n"
     ]
    }
   ],
   "source": [
    "x = lambda a, b : a * b\n",
    "print(x(5, 6))"
   ]
  },
  {
   "cell_type": "code",
   "execution_count": null,
   "metadata": {
    "colab": {
     "base_uri": "https://localhost:8080/"
    },
    "executionInfo": {
     "elapsed": 9,
     "status": "ok",
     "timestamp": 1654060633806,
     "user": {
      "displayName": "Diksha Soni",
      "userId": "00039680945596626387"
     },
     "user_tz": -330
    },
    "id": "kMYso2kcsZK8",
    "outputId": "a518e9b5-c157-4e88-bef3-1bddd17502d1"
   },
   "outputs": [
    {
     "name": "stdout",
     "output_type": "stream",
     "text": [
      "30\n"
     ]
    }
   ],
   "source": [
    "x =  lambda a,b,c: a*b*c\n",
    "print(x(3,2,5))\n"
   ]
  },
  {
   "cell_type": "code",
   "execution_count": null,
   "metadata": {
    "colab": {
     "base_uri": "https://localhost:8080/"
    },
    "executionInfo": {
     "elapsed": 8,
     "status": "ok",
     "timestamp": 1654060680418,
     "user": {
      "displayName": "Diksha Soni",
      "userId": "00039680945596626387"
     },
     "user_tz": -330
    },
    "id": "_DTo7-8KskdD",
    "outputId": "84cda302-a156-420d-c657-c0dadbf7e960"
   },
   "outputs": [
    {
     "name": "stdout",
     "output_type": "stream",
     "text": [
      "2.0\n"
     ]
    }
   ],
   "source": [
    "x = lambda a,b : a/b\n",
    "print(x(14,7))"
   ]
  },
  {
   "cell_type": "code",
   "execution_count": null,
   "metadata": {
    "colab": {
     "base_uri": "https://localhost:8080/"
    },
    "executionInfo": {
     "elapsed": 440,
     "status": "ok",
     "timestamp": 1654061610374,
     "user": {
      "displayName": "Diksha Soni",
      "userId": "00039680945596626387"
     },
     "user_tz": -330
    },
    "id": "NBd2HRPRswH0",
    "outputId": "da938274-808a-4b41-b228-1b134bdd6179"
   },
   "outputs": [
    {
     "name": "stdout",
     "output_type": "stream",
     "text": [
      "[('b', 1, 22), ('a', 1, 16), ('a', 1, 14), ('d', 2, 12), ('d', 2, 11)]\n"
     ]
    }
   ],
   "source": [
    "## Write a Python program to sort a list of tuples using Lambda.\n",
    "tlist= [('b', 1, 22), ('a', 1, 16), ('a', 1, 14), ('d', 2, 12), ('d', 2, 11)]\n",
    "tlist = sorted(tlist, key=lambda x:x[1])\n",
    "print(tlist)\n"
   ]
  },
  {
   "cell_type": "code",
   "execution_count": null,
   "metadata": {
    "colab": {
     "base_uri": "https://localhost:8080/"
    },
    "executionInfo": {
     "elapsed": 4,
     "status": "ok",
     "timestamp": 1654061681971,
     "user": {
      "displayName": "Diksha Soni",
      "userId": "00039680945596626387"
     },
     "user_tz": -330
    },
    "id": "QSTmZHk2va1b",
    "outputId": "6c129623-ecae-4e81-e657-c78c71e7f5ba"
   },
   "outputs": [
    {
     "name": "stdout",
     "output_type": "stream",
     "text": [
      "[('a', 1, 14), ('a', 1, 16), ('b', 1, 22), ('d', 2, 11), ('d', 2, 12)]\n"
     ]
    }
   ],
   "source": [
    "tlist= [('b', 1, 22), ('a', 1, 16), ('a', 1, 14), ('d', 2, 12), ('d', 2, 11)]\n",
    "tlist=sorted(tlist,key=lambda x : (x[1],x[-1]))\n",
    "print(tlist)"
   ]
  },
  {
   "cell_type": "code",
   "execution_count": null,
   "metadata": {
    "colab": {
     "base_uri": "https://localhost:8080/"
    },
    "executionInfo": {
     "elapsed": 436,
     "status": "ok",
     "timestamp": 1654064378872,
     "user": {
      "displayName": "Diksha Soni",
      "userId": "00039680945596626387"
     },
     "user_tz": -330
    },
    "id": "wrSBXb8Pwkjd",
    "outputId": "8a3f3b07-ed47-4f3c-a6fa-2ca5a688a2f6"
   },
   "outputs": [
    {
     "name": "stdout",
     "output_type": "stream",
     "text": [
      "Double the number of 15 = 30\n",
      "Triple the number of 15 = 45\n",
      "Quadruple the number of 15 = 60\n",
      "Quintuple the number 15 = 75\n"
     ]
    }
   ],
   "source": [
    "## Write a Python program to create a function that takes one argument, and that argument will be multiplied with an unknown given number.\n",
    "def func_compute(n):\n",
    " return lambda x : x * n\n",
    "result = func_compute(2)\n",
    "print(\"Double the number of 15 =\", result(15))\n",
    "result = func_compute(3)\n",
    "print(\"Triple the number of 15 =\", result(15))\n",
    "result = func_compute(4)\n",
    "print(\"Quadruple the number of 15 =\", result(15))\n",
    "result = func_compute(5)\n",
    "print(\"Quintuple the number 15 =\", result(15))"
   ]
  },
  {
   "cell_type": "code",
   "execution_count": null,
   "metadata": {
    "colab": {
     "base_uri": "https://localhost:8080/"
    },
    "executionInfo": {
     "elapsed": 4693,
     "status": "ok",
     "timestamp": 1654065154230,
     "user": {
      "displayName": "Diksha Soni",
      "userId": "00039680945596626387"
     },
     "user_tz": -330
    },
    "id": "yPbhgK2M9LOK",
    "outputId": "8b1bf0c2-3f8b-4892-e54d-18591dc9b1f7"
   },
   "outputs": [
    {
     "name": "stdout",
     "output_type": "stream",
     "text": [
      "enter the number5\n",
      "55\n"
     ]
    }
   ],
   "source": [
    "n=input(\"enter the number\")  \n",
    "x=lambda x: x*n\n",
    "print(x(2))"
   ]
  },
  {
   "cell_type": "code",
   "execution_count": null,
   "metadata": {
    "id": "GIMt9na2-CzX"
   },
   "outputs": [],
   "source": [
    "subject_marks = [('English', 88), ('Science', 90), ('Maths', 97), ('Social sciences', 82)]\n",
    "print(\"Original list of tuples:\")\n",
    "print(subject_marks)\n",
    "subject_marks.sort(key = lambda x: x[1])\n",
    "print(\"\\nSorting the List of Tuples:\")\n",
    "print(subject_marks)"
   ]
  },
  {
   "cell_type": "code",
   "execution_count": null,
   "metadata": {
    "colab": {
     "base_uri": "https://localhost:8080/"
    },
    "executionInfo": {
     "elapsed": 381,
     "status": "ok",
     "timestamp": 1654065465935,
     "user": {
      "displayName": "Diksha Soni",
      "userId": "00039680945596626387"
     },
     "user_tz": -330
    },
    "id": "U53awVPu-GgC",
    "outputId": "ffb252a5-015e-49c4-ce23-6f81a8a97427"
   },
   "outputs": [
    {
     "name": "stdout",
     "output_type": "stream",
     "text": [
      "[('Social sciences', 82), ('English', 88), ('Science', 90), ('Maths', 97)]\n"
     ]
    }
   ],
   "source": [
    "## Write a Python program to sort a list of tuples using Lambda\n",
    "subject_marks = [('English', 88), ('Science', 90), ('Maths', 97), ('Social sciences', 82)]\n",
    "subject_marks =sorted(subject_marks, key = lambda x : (x[1],x[-1]))\n",
    "print(subject_marks)"
   ]
  },
  {
   "cell_type": "code",
   "execution_count": null,
   "metadata": {
    "colab": {
     "base_uri": "https://localhost:8080/"
    },
    "executionInfo": {
     "elapsed": 7,
     "status": "ok",
     "timestamp": 1654065723793,
     "user": {
      "displayName": "Diksha Soni",
      "userId": "00039680945596626387"
     },
     "user_tz": -330
    },
    "id": "861ksQUh_X4o",
    "outputId": "93ee24e5-e0fc-4b01-90ec-82834b1318c8"
   },
   "outputs": [
    {
     "name": "stdout",
     "output_type": "stream",
     "text": [
      "[{'make': 'Nokia', 'model': 216, 'color': 'Black'}, {'make': 'Samsung', 'model': 7, 'color': 'Blue'}, {'make': 'Mi Max', 'model': '2', 'color': 'Gold'}]\n"
     ]
    }
   ],
   "source": [
    "## Write a Python program to sort a list of dictionaries using Lambda.\n",
    "\n",
    "dict=[{'make': 'Nokia', 'model': 216, 'color': 'Black'}, {'make': 'Mi Max', 'model': '2', 'color': 'Gold'}, \n",
    " {'make': 'Samsung', 'model': 7, 'color': 'Blue'}]\n",
    "dict = sorted(dict, key = lambda x : x['color'])\n",
    "print(dict) "
   ]
  },
  {
   "cell_type": "code",
   "execution_count": 3,
   "metadata": {
    "colab": {
     "base_uri": "https://localhost:8080/",
     "height": 134
    },
    "executionInfo": {
     "elapsed": 20,
     "status": "error",
     "timestamp": 1656155476882,
     "user": {
      "displayName": "Diksha Soni",
      "userId": "00039680945596626387"
     },
     "user_tz": -330
    },
    "id": "lHoFJXqR4Fge",
    "outputId": "393344da-80a8-4070-9724-cc10792b4ade"
   },
   "outputs": [
    {
     "ename": "SyntaxError",
     "evalue": "ignored",
     "output_type": "error",
     "traceback": [
      "\u001b[0;36m  File \u001b[0;32m\"<ipython-input-3-b92c0628da63>\"\u001b[0;36m, line \u001b[0;32m3\u001b[0m\n\u001b[0;31m    nums=list(filter( nums even lambda if i%2==0 :nums ))\u001b[0m\n\u001b[0m                              ^\u001b[0m\n\u001b[0;31mSyntaxError\u001b[0m\u001b[0;31m:\u001b[0m invalid syntax\n"
     ]
    }
   ],
   "source": [
    "##  Write a Python program to filter a list of integers using Lambda\n",
    "nums = [1, 2, 3, 4, 5, 6, 7, 8, 9, 10]\n",
    "nums=list(filter( nums even lambda if i%2==0 :nums ))"
   ]
  },
  {
   "cell_type": "code",
   "execution_count": null,
   "metadata": {
    "id": "hREQjtPejLxk"
   },
   "outputs": [],
   "source": []
  }
 ],
 "metadata": {
  "colab": {
   "authorship_tag": "ABX9TyN8FZ2eEbkix94e1kbpHJkI",
   "name": "List comprehension and lambda function.ipynb",
   "provenance": []
  },
  "kernelspec": {
   "display_name": "Python 3 (ipykernel)",
   "language": "python",
   "name": "python3"
  },
  "language_info": {
   "codemirror_mode": {
    "name": "ipython",
    "version": 3
   },
   "file_extension": ".py",
   "mimetype": "text/x-python",
   "name": "python",
   "nbconvert_exporter": "python",
   "pygments_lexer": "ipython3",
   "version": "3.10.4"
  }
 },
 "nbformat": 4,
 "nbformat_minor": 1
}
