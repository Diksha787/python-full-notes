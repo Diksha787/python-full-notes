{
 "cells": [
  {
   "cell_type": "markdown",
   "metadata": {
    "id": "hbbFHT5TEZjh"
   },
   "source": [
    "Syllabus:\n",
    "\n",
    "Python: \n",
    "why python? (c vs java vs c++ vs python)\n",
    "\n",
    "constants  y = 20\n",
    "variables  y\n",
    "functions  def myfunc()\n",
    "classes    class Batch\n",
    "modules    .py (python file)\n",
    "\n",
    "\n",
    "\n",
    "Data structure Types and its methods\n",
    "Loops (if for while)\n",
    "control flow statements\n",
    "functions\n",
    "lambda, map, reduce, filter, sort\n",
    "*args, **kwargs\n",
    "classes\n",
    "oops concepts\n",
    "read and write diff files\n",
    "regex statements\n",
    "\n",
    "Numpy\n",
    "Pandas\n",
    "\n",
    "(10 days)"
   ]
  },
  {
   "cell_type": "markdown",
   "metadata": {
    "id": "R8uk_dOGHi9T"
   },
   "source": [
    "\t\t\t\t\tWEEK 1\n",
    "Day1:\n",
    "Install IDE, Course Overview, Jupyter Notebook, Colab, Python vs C vs Java, Print Statement, Variable Creation, Indentation, Single & Multiline Comments & Documentation, Docstrings, Pep Convention, help(), upgrading pip, Date & Time Formatting, Operators, User Input, built-in modules, Indexing, and Slicing. \n",
    "\n",
    "Day2:\n",
    "Python Data Types, Mutability, Immutability, Collection Types (List, Tuple, Dictionary, Set), Scope of a variable, Local & Global Variable, Different methods on these Data Types, List Comprehension, Conditional List Comprehension, Dictionary Comprehension, Set Comprehension, fstrings.\n",
    "\n",
    "Day3:  \n",
    "heapq, if….elif….else loops, while loop, for loop, Control flow (break, pass, continue), Nested Loops, Iterations, Looping and Unpacking, try & except, lambda, map, reduce, filter, group by & sorted methods. \n",
    " \n",
    "\n",
    "Day4: \n",
    "Functions, positional and Keyword arguments, Files & Folders, importing a module, OS, JSON, Math, Collections, Itertools Module. Module vs Package\n",
    "\n",
    "Day5: \n",
    "Quiz\n",
    "\n",
    "\t\t\t\t\tWEEK 2\n",
    "Day6: \n",
    "Class objects, Decorators, Inheritance, OOPS Concepts\n",
    "\n",
    "Day7:\n",
    "Generators, regex patterns, 100 assignment questions \n",
    "\n",
    "Day8: \n",
    "Numpy array definition, indexing, and slicing, array method, Multidimensional arrays,  \n",
    "\n",
    "Day9: \n",
    "Numpy array reshaping, min, max, mathematical operations\n",
    "\n",
    "Day10: Pandas, Quiz\n",
    "\n",
    "\t\t\t\t\tWEEK 3\n",
    "Day11: \n",
    "SQL: SELECT, SELECT DISTINCT, WHERE, AND, OR, NOT, ORDER BY,  INSERT INTO, NULL VALUES, UPDATE, DELETE, SELECT TOP, MIN MAX, COUNT, AVG, LIKE, WILDCARDS, IN, BETWEEN , ALIASES, \n",
    "\n",
    "Day12: \n",
    "SQL: JOINS, INNER JOIN, LEFT JOIN, OUTER JOIN, RIGHT JOIN, FULL JOIN, SELF JOIN, UNION, GROUP BY, HAVING, EXISTS, ANY, ALL, INSERT INTO, CASE, NULL FUNCTIONS, STORED PROCEDURES.\n",
    "\n",
    "\n",
    "Day13: SQL: Python sqlite3, CREATE, DROP, BACKUP DB and Table, UNIQUE, PRIMARY KEY, FOREIGN KEY, AUTO INCREMENT\n",
    "\n",
    "Day14: SQL: DATES, VIEW, INJECTION, WITH CLAUSE, HOSTING, DATA TYPES\n",
    "\n",
    "Day15: Quiz\n",
    "\n",
    "\t\t\t\t\tWEEK 4\n",
    "Day16: \n",
    "No SQL: Intro to No SQL Databases, Big data intro\n",
    "\n",
    "Day17: \n",
    "No SQL: CREATE DB, CREATE COLLECTION\n",
    "\n",
    "Day18: \n",
    "No SQL: INSERT, FIND, QUERY, SORT,\n",
    "\n",
    "Day19: \n",
    "No SQL: DELETE, DROP COLLECTION, UPDATE, LIMIT\n",
    " \n",
    "Day20: Quiz\n",
    "\n"
   ]
  },
  {
   "cell_type": "code",
   "execution_count": null,
   "metadata": {
    "id": "3oGR7vAiaTi5"
   },
   "outputs": [],
   "source": []
  },
  {
   "cell_type": "code",
   "execution_count": null,
   "metadata": {
    "id": "I7H5XzYTaTlU"
   },
   "outputs": [],
   "source": []
  },
  {
   "cell_type": "markdown",
   "metadata": {
    "id": "zYmNQ0-uaUJP"
   },
   "source": [
    "**20 May 2022**"
   ]
  },
  {
   "cell_type": "code",
   "execution_count": null,
   "metadata": {
    "id": "DkuQQ5A5aXsf"
   },
   "outputs": [],
   "source": [
    "100 lines: c, c++ and java\n",
    "10 lines: python             "
   ]
  },
  {
   "cell_type": "code",
   "execution_count": null,
   "metadata": {
    "id": "gjgEcVWIbZs5"
   },
   "outputs": [],
   "source": [
    "c++ : fast, easily adapts software changes\n",
    "\n",
    "java: garbage collection and memory management, multi-threadding(executing many tasks simultaneously)\n",
    "\n",
    "python: 137000 libraries, few lines of codes, webscraping, ds, ml "
   ]
  },
  {
   "cell_type": "code",
   "execution_count": null,
   "metadata": {
    "id": "FL_njmINdohe"
   },
   "outputs": [],
   "source": [
    "# find sqrt root of 9984"
   ]
  },
  {
   "cell_type": "code",
   "execution_count": null,
   "metadata": {
    "id": "YVA8TrIbeg1k"
   },
   "outputs": [],
   "source": [
    "import math"
   ]
  },
  {
   "cell_type": "code",
   "execution_count": null,
   "metadata": {
    "colab": {
     "base_uri": "https://localhost:8080/"
    },
    "executionInfo": {
     "elapsed": 379,
     "status": "ok",
     "timestamp": 1653033552438,
     "user": {
      "displayName": "Neuro Labs",
      "userId": "15488119700446268077"
     },
     "user_tz": -330
    },
    "id": "LgwOVda0eh2a",
    "outputId": "de56c3b0-63ec-4d55-d67a-da5aecc13b1d"
   },
   "outputs": [
    {
     "data": {
      "text/plain": [
       "99.91996797437437"
      ]
     },
     "execution_count": 3,
     "metadata": {},
     "output_type": "execute_result"
    }
   ],
   "source": [
    "math.sqrt(9984)"
   ]
  },
  {
   "cell_type": "code",
   "execution_count": null,
   "metadata": {
    "colab": {
     "base_uri": "https://localhost:8080/"
    },
    "executionInfo": {
     "elapsed": 477,
     "status": "ok",
     "timestamp": 1653034237205,
     "user": {
      "displayName": "Neuro Labs",
      "userId": "15488119700446268077"
     },
     "user_tz": -330
    },
    "id": "Pqvlhp92ekZr",
    "outputId": "58fc9523-6604-4387-ba58-ac1e397daa12"
   },
   "outputs": [
    {
     "name": "stdout",
     "output_type": "stream",
     "text": [
      "2\n"
     ]
    }
   ],
   "source": [
    "print(2)"
   ]
  },
  {
   "cell_type": "code",
   "execution_count": null,
   "metadata": {
    "colab": {
     "base_uri": "https://localhost:8080/"
    },
    "executionInfo": {
     "elapsed": 9,
     "status": "ok",
     "timestamp": 1653034245778,
     "user": {
      "displayName": "Neuro Labs",
      "userId": "15488119700446268077"
     },
     "user_tz": -330
    },
    "id": "J1lQM40_hLVL",
    "outputId": "52865a57-f162-4999-829a-c8245b0f107e"
   },
   "outputs": [
    {
     "name": "stdout",
     "output_type": "stream",
     "text": [
      "3.5\n"
     ]
    }
   ],
   "source": [
    "print(3.5)"
   ]
  },
  {
   "cell_type": "code",
   "execution_count": null,
   "metadata": {
    "colab": {
     "base_uri": "https://localhost:8080/"
    },
    "executionInfo": {
     "elapsed": 388,
     "status": "ok",
     "timestamp": 1653034256896,
     "user": {
      "displayName": "Neuro Labs",
      "userId": "15488119700446268077"
     },
     "user_tz": -330
    },
    "id": "15kcIIWwhNi-",
    "outputId": "7fa82e71-a5ad-4d39-9285-e29c041befcb"
   },
   "outputs": [
    {
     "name": "stdout",
     "output_type": "stream",
     "text": [
      "sample data\n"
     ]
    }
   ],
   "source": [
    "print(\"sample data\")"
   ]
  },
  {
   "cell_type": "code",
   "execution_count": null,
   "metadata": {
    "id": "ehUNjgEQhmD2"
   },
   "outputs": [],
   "source": [
    "deer = 55"
   ]
  },
  {
   "cell_type": "code",
   "execution_count": null,
   "metadata": {
    "colab": {
     "base_uri": "https://localhost:8080/"
    },
    "executionInfo": {
     "elapsed": 403,
     "status": "ok",
     "timestamp": 1653034362853,
     "user": {
      "displayName": "Neuro Labs",
      "userId": "15488119700446268077"
     },
     "user_tz": -330
    },
    "id": "5wdi5pDQhmhE",
    "outputId": "ba3cee22-e227-4d7b-deef-c23e83a1cfeb"
   },
   "outputs": [
    {
     "name": "stdout",
     "output_type": "stream",
     "text": [
      "55\n"
     ]
    }
   ],
   "source": [
    "print(deer)"
   ]
  },
  {
   "cell_type": "code",
   "execution_count": null,
   "metadata": {
    "colab": {
     "base_uri": "https://localhost:8080/"
    },
    "executionInfo": {
     "elapsed": 377,
     "status": "ok",
     "timestamp": 1653034685623,
     "user": {
      "displayName": "Neuro Labs",
      "userId": "15488119700446268077"
     },
     "user_tz": -330
    },
    "id": "qG3ZVfxqhmjq",
    "outputId": "27d9bbef-4b5d-44df-e569-f59932ba9428"
   },
   "outputs": [
    {
     "name": "stdout",
     "output_type": "stream",
     "text": [
      "deer value is:  55\n"
     ]
    }
   ],
   "source": [
    "print(\"deer value is: \", deer)"
   ]
  },
  {
   "cell_type": "code",
   "execution_count": null,
   "metadata": {
    "colab": {
     "base_uri": "https://localhost:8080/"
    },
    "executionInfo": {
     "elapsed": 670,
     "status": "ok",
     "timestamp": 1653034579500,
     "user": {
      "displayName": "Neuro Labs",
      "userId": "15488119700446268077"
     },
     "user_tz": -330
    },
    "id": "QTOQ-QM8iaju",
    "outputId": "edb78e73-e726-4b15-860c-5493bcfa2288"
   },
   "outputs": [
    {
     "name": "stdout",
     "output_type": "stream",
     "text": [
      "dhoni scored 100 runs\n"
     ]
    }
   ],
   "source": [
    "print(\"dhoni scored 100 runs\")"
   ]
  },
  {
   "cell_type": "code",
   "execution_count": null,
   "metadata": {
    "colab": {
     "base_uri": "https://localhost:8080/"
    },
    "executionInfo": {
     "elapsed": 384,
     "status": "ok",
     "timestamp": 1653034539071,
     "user": {
      "displayName": "Neuro Labs",
      "userId": "15488119700446268077"
     },
     "user_tz": -330
    },
    "id": "y0fujyEShmmI",
    "outputId": "b42da3d2-1638-44ea-9ca7-4747af56ca84"
   },
   "outputs": [
    {
     "name": "stdout",
     "output_type": "stream",
     "text": [
      " dhoni scored 23 runs in his 45th match \n"
     ]
    }
   ],
   "source": [
    "# string formats\n",
    "\n",
    "print(\" dhoni scored {} runs in his {}th match \".format(32, 45))"
   ]
  },
  {
   "cell_type": "code",
   "execution_count": null,
   "metadata": {
    "id": "Dp_q5O8iiHgp"
   },
   "outputs": [],
   "source": [
    "# variable creation"
   ]
  },
  {
   "cell_type": "code",
   "execution_count": null,
   "metadata": {
    "id": "RcEUPgnAi-dk"
   },
   "outputs": [],
   "source": [
    "t = 90 "
   ]
  },
  {
   "cell_type": "code",
   "execution_count": null,
   "metadata": {
    "colab": {
     "base_uri": "https://localhost:8080/"
    },
    "executionInfo": {
     "elapsed": 599,
     "status": "ok",
     "timestamp": 1653035932135,
     "user": {
      "displayName": "Neuro Labs",
      "userId": "15488119700446268077"
     },
     "user_tz": -330
    },
    "id": "dRnmSsxDi-gf",
    "outputId": "6f19e094-f918-437b-9fbc-761bd159c31c"
   },
   "outputs": [
    {
     "data": {
      "text/plain": [
       "90"
      ]
     },
     "execution_count": 22,
     "metadata": {},
     "output_type": "execute_result"
    }
   ],
   "source": [
    "t"
   ]
  },
  {
   "cell_type": "code",
   "execution_count": null,
   "metadata": {
    "id": "glL16vgOi-oa"
   },
   "outputs": [],
   "source": [
    "# here actually whats happening is ?"
   ]
  },
  {
   "cell_type": "code",
   "execution_count": null,
   "metadata": {
    "id": "ecfOF2I1i-wF"
   },
   "outputs": [],
   "source": [
    "# 90 occupies some memory and gets stored in some location \n",
    "#  variable t is pointing out towards that memory location"
   ]
  },
  {
   "cell_type": "code",
   "execution_count": null,
   "metadata": {
    "colab": {
     "base_uri": "https://localhost:8080/"
    },
    "executionInfo": {
     "elapsed": 374,
     "status": "ok",
     "timestamp": 1653036015114,
     "user": {
      "displayName": "Neuro Labs",
      "userId": "15488119700446268077"
     },
     "user_tz": -330
    },
    "id": "lRefvWLriHkY",
    "outputId": "0c0ac767-4609-4542-c0a2-9b5dc395eb5f"
   },
   "outputs": [
    {
     "data": {
      "text/plain": [
       "11258912"
      ]
     },
     "execution_count": 24,
     "metadata": {},
     "output_type": "execute_result"
    }
   ],
   "source": [
    "id(t)"
   ]
  },
  {
   "cell_type": "code",
   "execution_count": null,
   "metadata": {
    "colab": {
     "base_uri": "https://localhost:8080/"
    },
    "executionInfo": {
     "elapsed": 389,
     "status": "ok",
     "timestamp": 1653036066837,
     "user": {
      "displayName": "Neuro Labs",
      "userId": "15488119700446268077"
     },
     "user_tz": -330
    },
    "id": "fP0dY0h_hmoc",
    "outputId": "c0ae442f-47f7-473d-d683-c58c26c69a1f"
   },
   "outputs": [
    {
     "data": {
      "text/plain": [
       "110"
      ]
     },
     "execution_count": 25,
     "metadata": {},
     "output_type": "execute_result"
    }
   ],
   "source": [
    "t + 20"
   ]
  },
  {
   "cell_type": "code",
   "execution_count": null,
   "metadata": {
    "id": "gTrSlP-rhQW2"
   },
   "outputs": [],
   "source": []
  },
  {
   "cell_type": "code",
   "execution_count": null,
   "metadata": {
    "colab": {
     "base_uri": "https://localhost:8080/",
     "height": 133
    },
    "executionInfo": {
     "elapsed": 388,
     "status": "error",
     "timestamp": 1653036583182,
     "user": {
      "displayName": "Neuro Labs",
      "userId": "15488119700446268077"
     },
     "user_tz": -330
    },
    "id": "ZBVxSurihaMv",
    "outputId": "d16da446-a3f2-4e62-a5a6-8b4af5445c2c"
   },
   "outputs": [
    {
     "ename": "IndentationError",
     "evalue": "ignored",
     "output_type": "error",
     "traceback": [
      "\u001b[0;36m  File \u001b[0;32m\"<ipython-input-31-9fccc95b846d>\"\u001b[0;36m, line \u001b[0;32m2\u001b[0m\n\u001b[0;31m    print(data)\u001b[0m\n\u001b[0m        ^\u001b[0m\n\u001b[0;31mIndentationError\u001b[0m\u001b[0;31m:\u001b[0m expected an indented block\n"
     ]
    }
   ],
   "source": [
    "def my_function(input_data):\n",
    "print(input_data)"
   ]
  },
  {
   "cell_type": "code",
   "execution_count": null,
   "metadata": {
    "id": "7kUzZHVZhb9s"
   },
   "outputs": [],
   "source": [
    "x = 4"
   ]
  },
  {
   "cell_type": "code",
   "execution_count": null,
   "metadata": {
    "id": "YJ0DVHkbp3yw"
   },
   "outputs": [],
   "source": [
    "   y = 4"
   ]
  },
  {
   "cell_type": "code",
   "execution_count": null,
   "metadata": {
    "colab": {
     "base_uri": "https://localhost:8080/"
    },
    "executionInfo": {
     "elapsed": 5,
     "status": "ok",
     "timestamp": 1653036559946,
     "user": {
      "displayName": "Neuro Labs",
      "userId": "15488119700446268077"
     },
     "user_tz": -330
    },
    "id": "fbGAUkXhp_8l",
    "outputId": "33e1bd50-b599-4087-b0d1-c77a0422dade"
   },
   "outputs": [
    {
     "data": {
      "text/plain": [
       "4"
      ]
     },
     "execution_count": 30,
     "metadata": {},
     "output_type": "execute_result"
    }
   ],
   "source": [
    "y"
   ]
  },
  {
   "cell_type": "code",
   "execution_count": null,
   "metadata": {
    "id": "Wfiyw6PGqCeq"
   },
   "outputs": [],
   "source": [
    "# i am a superhero   #comment"
   ]
  },
  {
   "cell_type": "code",
   "execution_count": null,
   "metadata": {
    "colab": {
     "base_uri": "https://localhost:8080/"
    },
    "executionInfo": {
     "elapsed": 364,
     "status": "ok",
     "timestamp": 1653036695308,
     "user": {
      "displayName": "Neuro Labs",
      "userId": "15488119700446268077"
     },
     "user_tz": -330
    },
    "id": "SjyRX4kSqZ62",
    "outputId": "a2ec01b1-1a88-4043-f806-815222da21f9"
   },
   "outputs": [
    {
     "data": {
      "text/plain": [
       "2"
      ]
     },
     "execution_count": 35,
     "metadata": {},
     "output_type": "execute_result"
    }
   ],
   "source": [
    "2"
   ]
  },
  {
   "cell_type": "code",
   "execution_count": null,
   "metadata": {
    "id": "K5wUijCqqjnl"
   },
   "outputs": [],
   "source": [
    "x  =  2"
   ]
  },
  {
   "cell_type": "code",
   "execution_count": null,
   "metadata": {
    "colab": {
     "base_uri": "https://localhost:8080/"
    },
    "executionInfo": {
     "elapsed": 398,
     "status": "ok",
     "timestamp": 1653036703275,
     "user": {
      "displayName": "Neuro Labs",
      "userId": "15488119700446268077"
     },
     "user_tz": -330
    },
    "id": "XPq3S3wvqk-c",
    "outputId": "8828caef-2824-4549-8d89-41dee3bc78b3"
   },
   "outputs": [
    {
     "data": {
      "text/plain": [
       "2"
      ]
     },
     "execution_count": 37,
     "metadata": {},
     "output_type": "execute_result"
    }
   ],
   "source": [
    "x"
   ]
  },
  {
   "cell_type": "code",
   "execution_count": null,
   "metadata": {
    "id": "Bils1NIrqlgO"
   },
   "outputs": [],
   "source": [
    "# by=90  "
   ]
  },
  {
   "cell_type": "code",
   "execution_count": null,
   "metadata": {
    "colab": {
     "base_uri": "https://localhost:8080/",
     "height": 169
    },
    "executionInfo": {
     "elapsed": 571,
     "status": "error",
     "timestamp": 1653036722813,
     "user": {
      "displayName": "Neuro Labs",
      "userId": "15488119700446268077"
     },
     "user_tz": -330
    },
    "id": "DPawfuUFqoPd",
    "outputId": "2d0511e4-3798-450e-cb97-695049b13b30"
   },
   "outputs": [
    {
     "ename": "NameError",
     "evalue": "ignored",
     "output_type": "error",
     "traceback": [
      "\u001b[0;31m---------------------------------------------------------------------------\u001b[0m",
      "\u001b[0;31mNameError\u001b[0m                                 Traceback (most recent call last)",
      "\u001b[0;32m<ipython-input-40-5c7f111e3c52>\u001b[0m in \u001b[0;36m<module>\u001b[0;34m()\u001b[0m\n\u001b[0;32m----> 1\u001b[0;31m \u001b[0mby\u001b[0m\u001b[0;34m\u001b[0m\u001b[0;34m\u001b[0m\u001b[0m\n\u001b[0m",
      "\u001b[0;31mNameError\u001b[0m: name 'by' is not defined"
     ]
    }
   ],
   "source": [
    "by  "
   ]
  },
  {
   "cell_type": "code",
   "execution_count": null,
   "metadata": {
    "id": "tQFu6lvwqqYM"
   },
   "outputs": [],
   "source": [
    "# Variable creation is completed  \n",
    "# there will be a class 2mrw"
   ]
  },
  {
   "cell_type": "code",
   "execution_count": null,
   "metadata": {
    "id": "CiL2w9nRrRkU"
   },
   "outputs": [],
   "source": [
    "\"\"\" \n",
    "triple quotes\n",
    "can write multi lines\n",
    "everything will become a comment\n",
    "\"\"\""
   ]
  },
  {
   "cell_type": "code",
   "execution_count": null,
   "metadata": {
    "id": "MufCPF5Xtvwq"
   },
   "outputs": [],
   "source": [
    "# Pep convention"
   ]
  },
  {
   "cell_type": "code",
   "execution_count": null,
   "metadata": {
    "id": "rygv1xpUtxKR"
   },
   "outputs": [],
   "source": [
    "pep8 guide               \n",
    "\n",
    "packages            short, all lower-case names. preferably no underscores      eg: utilities\n",
    "modules             short, all lower-case names. can have underscores           eg: db_utils   dbutils\n",
    "classes             capwords convention                                         eg: BankAccount\n",
    "functions           lowercase, words seperated by underscores(which is called snake case) eg:open_account\n",
    "                                                                                             This can be a method \n",
    "                                                                                             in your BankAccount class\n",
    "         \n",
    "variables           lowercase, words seperated by underscores(which is called snake case) eg: account_id\n",
    "constants           all uppercase, words seperated by underscores                eg: MIN_APR\n",
    "\n",
    "    \n",
    "BLOG REFERENCE: https://www.python.org/dev/peps/pep-0008/"
   ]
  },
  {
   "cell_type": "code",
   "execution_count": null,
   "metadata": {
    "colab": {
     "base_uri": "https://localhost:8080/"
    },
    "executionInfo": {
     "elapsed": 2711489,
     "status": "ok",
     "timestamp": 1653041412014,
     "user": {
      "displayName": "Neuro Labs",
      "userId": "15488119700446268077"
     },
     "user_tz": -330
    },
    "id": "aMGh4k9cyMhN",
    "outputId": "4178c701-556a-4e08-f24d-f2d3075f325e"
   },
   "outputs": [
    {
     "name": "stdout",
     "output_type": "stream",
     "text": [
      "\n",
      "Welcome to Python 3.7's help utility!\n",
      "\n",
      "If this is your first time using Python, you should definitely check out\n",
      "the tutorial on the Internet at https://docs.python.org/3.7/tutorial/.\n",
      "\n",
      "Enter the name of any module, keyword, or topic to get help on writing\n",
      "Python programs and using Python modules.  To quit this help utility and\n",
      "return to the interpreter, just type \"quit\".\n",
      "\n",
      "To get a list of available modules, keywords, symbols, or topics, type\n",
      "\"modules\", \"keywords\", \"symbols\", or \"topics\".  Each module also comes\n",
      "with a one-line summary of what it does; to list the modules whose name\n",
      "or summary contain a given string such as \"spam\", type \"modules spam\".\n",
      "\n",
      "help> list\n",
      "Help on class list in module builtins:\n",
      "\n",
      "class list(object)\n",
      " |  list(iterable=(), /)\n",
      " |  \n",
      " |  Built-in mutable sequence.\n",
      " |  \n",
      " |  If no argument is given, the constructor creates a new empty list.\n",
      " |  The argument must be an iterable if specified.\n",
      " |  \n",
      " |  Methods defined here:\n",
      " |  \n",
      " |  __add__(self, value, /)\n",
      " |      Return self+value.\n",
      " |  \n",
      " |  __contains__(self, key, /)\n",
      " |      Return key in self.\n",
      " |  \n",
      " |  __delitem__(self, key, /)\n",
      " |      Delete self[key].\n",
      " |  \n",
      " |  __eq__(self, value, /)\n",
      " |      Return self==value.\n",
      " |  \n",
      " |  __ge__(self, value, /)\n",
      " |      Return self>=value.\n",
      " |  \n",
      " |  __getattribute__(self, name, /)\n",
      " |      Return getattr(self, name).\n",
      " |  \n",
      " |  __getitem__(...)\n",
      " |      x.__getitem__(y) <==> x[y]\n",
      " |  \n",
      " |  __gt__(self, value, /)\n",
      " |      Return self>value.\n",
      " |  \n",
      " |  __iadd__(self, value, /)\n",
      " |      Implement self+=value.\n",
      " |  \n",
      " |  __imul__(self, value, /)\n",
      " |      Implement self*=value.\n",
      " |  \n",
      " |  __init__(self, /, *args, **kwargs)\n",
      " |      Initialize self.  See help(type(self)) for accurate signature.\n",
      " |  \n",
      " |  __iter__(self, /)\n",
      " |      Implement iter(self).\n",
      " |  \n",
      " |  __le__(self, value, /)\n",
      " |      Return self<=value.\n",
      " |  \n",
      " |  __len__(self, /)\n",
      " |      Return len(self).\n",
      " |  \n",
      " |  __lt__(self, value, /)\n",
      " |      Return self<value.\n",
      " |  \n",
      " |  __mul__(self, value, /)\n",
      " |      Return self*value.\n",
      " |  \n",
      " |  __ne__(self, value, /)\n",
      " |      Return self!=value.\n",
      " |  \n",
      " |  __repr__(self, /)\n",
      " |      Return repr(self).\n",
      " |  \n",
      " |  __reversed__(self, /)\n",
      " |      Return a reverse iterator over the list.\n",
      " |  \n",
      " |  __rmul__(self, value, /)\n",
      " |      Return value*self.\n",
      " |  \n",
      " |  __setitem__(self, key, value, /)\n",
      " |      Set self[key] to value.\n",
      " |  \n",
      " |  __sizeof__(self, /)\n",
      " |      Return the size of the list in memory, in bytes.\n",
      " |  \n",
      " |  append(self, object, /)\n",
      " |      Append object to the end of the list.\n",
      " |  \n",
      " |  clear(self, /)\n",
      " |      Remove all items from list.\n",
      " |  \n",
      " |  copy(self, /)\n",
      " |      Return a shallow copy of the list.\n",
      " |  \n",
      " |  count(self, value, /)\n",
      " |      Return number of occurrences of value.\n",
      " |  \n",
      " |  extend(self, iterable, /)\n",
      " |      Extend list by appending elements from the iterable.\n",
      " |  \n",
      " |  index(self, value, start=0, stop=9223372036854775807, /)\n",
      " |      Return first index of value.\n",
      " |      \n",
      " |      Raises ValueError if the value is not present.\n",
      " |  \n",
      " |  insert(self, index, object, /)\n",
      " |      Insert object before index.\n",
      " |  \n",
      " |  pop(self, index=-1, /)\n",
      " |      Remove and return item at index (default last).\n",
      " |      \n",
      " |      Raises IndexError if list is empty or index is out of range.\n",
      " |  \n",
      " |  remove(self, value, /)\n",
      " |      Remove first occurrence of value.\n",
      " |      \n",
      " |      Raises ValueError if the value is not present.\n",
      " |  \n",
      " |  reverse(self, /)\n",
      " |      Reverse *IN PLACE*.\n",
      " |  \n",
      " |  sort(self, /, *, key=None, reverse=False)\n",
      " |      Stable sort *IN PLACE*.\n",
      " |  \n",
      " |  ----------------------------------------------------------------------\n",
      " |  Static methods defined here:\n",
      " |  \n",
      " |  __new__(*args, **kwargs) from builtins.type\n",
      " |      Create and return a new object.  See help(type) for accurate signature.\n",
      " |  \n",
      " |  ----------------------------------------------------------------------\n",
      " |  Data and other attributes defined here:\n",
      " |  \n",
      " |  __hash__ = None\n",
      "\n",
      "help> tuple\n",
      "Help on class tuple in module builtins:\n",
      "\n",
      "class tuple(object)\n",
      " |  tuple(iterable=(), /)\n",
      " |  \n",
      " |  Built-in immutable sequence.\n",
      " |  \n",
      " |  If no argument is given, the constructor returns an empty tuple.\n",
      " |  If iterable is specified the tuple is initialized from iterable's items.\n",
      " |  \n",
      " |  If the argument is a tuple, the return value is the same object.\n",
      " |  \n",
      " |  Methods defined here:\n",
      " |  \n",
      " |  __add__(self, value, /)\n",
      " |      Return self+value.\n",
      " |  \n",
      " |  __contains__(self, key, /)\n",
      " |      Return key in self.\n",
      " |  \n",
      " |  __eq__(self, value, /)\n",
      " |      Return self==value.\n",
      " |  \n",
      " |  __ge__(self, value, /)\n",
      " |      Return self>=value.\n",
      " |  \n",
      " |  __getattribute__(self, name, /)\n",
      " |      Return getattr(self, name).\n",
      " |  \n",
      " |  __getitem__(self, key, /)\n",
      " |      Return self[key].\n",
      " |  \n",
      " |  __getnewargs__(self, /)\n",
      " |  \n",
      " |  __gt__(self, value, /)\n",
      " |      Return self>value.\n",
      " |  \n",
      " |  __hash__(self, /)\n",
      " |      Return hash(self).\n",
      " |  \n",
      " |  __iter__(self, /)\n",
      " |      Implement iter(self).\n",
      " |  \n",
      " |  __le__(self, value, /)\n",
      " |      Return self<=value.\n",
      " |  \n",
      " |  __len__(self, /)\n",
      " |      Return len(self).\n",
      " |  \n",
      " |  __lt__(self, value, /)\n",
      " |      Return self<value.\n",
      " |  \n",
      " |  __mul__(self, value, /)\n",
      " |      Return self*value.\n",
      " |  \n",
      " |  __ne__(self, value, /)\n",
      " |      Return self!=value.\n",
      " |  \n",
      " |  __repr__(self, /)\n",
      " |      Return repr(self).\n",
      " |  \n",
      " |  __rmul__(self, value, /)\n",
      " |      Return value*self.\n",
      " |  \n",
      " |  count(self, value, /)\n",
      " |      Return number of occurrences of value.\n",
      " |  \n",
      " |  index(self, value, start=0, stop=9223372036854775807, /)\n",
      " |      Return first index of value.\n",
      " |      \n",
      " |      Raises ValueError if the value is not present.\n",
      " |  \n",
      " |  ----------------------------------------------------------------------\n",
      " |  Static methods defined here:\n",
      " |  \n",
      " |  __new__(*args, **kwargs) from builtins.type\n",
      " |      Create and return a new object.  See help(type) for accurate signature.\n",
      "\n",
      "help> set\n",
      "Help on class set in module builtins:\n",
      "\n",
      "class set(object)\n",
      " |  set() -> new empty set object\n",
      " |  set(iterable) -> new set object\n",
      " |  \n",
      " |  Build an unordered collection of unique elements.\n",
      " |  \n",
      " |  Methods defined here:\n",
      " |  \n",
      " |  __and__(self, value, /)\n",
      " |      Return self&value.\n",
      " |  \n",
      " |  __contains__(...)\n",
      " |      x.__contains__(y) <==> y in x.\n",
      " |  \n",
      " |  __eq__(self, value, /)\n",
      " |      Return self==value.\n",
      " |  \n",
      " |  __ge__(self, value, /)\n",
      " |      Return self>=value.\n",
      " |  \n",
      " |  __getattribute__(self, name, /)\n",
      " |      Return getattr(self, name).\n",
      " |  \n",
      " |  __gt__(self, value, /)\n",
      " |      Return self>value.\n",
      " |  \n",
      " |  __iand__(self, value, /)\n",
      " |      Return self&=value.\n",
      " |  \n",
      " |  __init__(self, /, *args, **kwargs)\n",
      " |      Initialize self.  See help(type(self)) for accurate signature.\n",
      " |  \n",
      " |  __ior__(self, value, /)\n",
      " |      Return self|=value.\n",
      " |  \n",
      " |  __isub__(self, value, /)\n",
      " |      Return self-=value.\n",
      " |  \n",
      " |  __iter__(self, /)\n",
      " |      Implement iter(self).\n",
      " |  \n",
      " |  __ixor__(self, value, /)\n",
      " |      Return self^=value.\n",
      " |  \n",
      " |  __le__(self, value, /)\n",
      " |      Return self<=value.\n",
      " |  \n",
      " |  __len__(self, /)\n",
      " |      Return len(self).\n",
      " |  \n",
      " |  __lt__(self, value, /)\n",
      " |      Return self<value.\n",
      " |  \n",
      " |  __ne__(self, value, /)\n",
      " |      Return self!=value.\n",
      " |  \n",
      " |  __or__(self, value, /)\n",
      " |      Return self|value.\n",
      " |  \n",
      " |  __rand__(self, value, /)\n",
      " |      Return value&self.\n",
      " |  \n",
      " |  __reduce__(...)\n",
      " |      Return state information for pickling.\n",
      " |  \n",
      " |  __repr__(self, /)\n",
      " |      Return repr(self).\n",
      " |  \n",
      " |  __ror__(self, value, /)\n",
      " |      Return value|self.\n",
      " |  \n",
      " |  __rsub__(self, value, /)\n",
      " |      Return value-self.\n",
      " |  \n",
      " |  __rxor__(self, value, /)\n",
      " |      Return value^self.\n",
      " |  \n",
      " |  __sizeof__(...)\n",
      " |      S.__sizeof__() -> size of S in memory, in bytes\n",
      " |  \n",
      " |  __sub__(self, value, /)\n",
      " |      Return self-value.\n",
      " |  \n",
      " |  __xor__(self, value, /)\n",
      " |      Return self^value.\n",
      " |  \n",
      " |  add(...)\n",
      " |      Add an element to a set.\n",
      " |      \n",
      " |      This has no effect if the element is already present.\n",
      " |  \n",
      " |  clear(...)\n",
      " |      Remove all elements from this set.\n",
      " |  \n",
      " |  copy(...)\n",
      " |      Return a shallow copy of a set.\n",
      " |  \n",
      " |  difference(...)\n",
      " |      Return the difference of two or more sets as a new set.\n",
      " |      \n",
      " |      (i.e. all elements that are in this set but not the others.)\n",
      " |  \n",
      " |  difference_update(...)\n",
      " |      Remove all elements of another set from this set.\n",
      " |  \n",
      " |  discard(...)\n",
      " |      Remove an element from a set if it is a member.\n",
      " |      \n",
      " |      If the element is not a member, do nothing.\n",
      " |  \n",
      " |  intersection(...)\n",
      " |      Return the intersection of two sets as a new set.\n",
      " |      \n",
      " |      (i.e. all elements that are in both sets.)\n",
      " |  \n",
      " |  intersection_update(...)\n",
      " |      Update a set with the intersection of itself and another.\n",
      " |  \n",
      " |  isdisjoint(...)\n",
      " |      Return True if two sets have a null intersection.\n",
      " |  \n",
      " |  issubset(...)\n",
      " |      Report whether another set contains this set.\n",
      " |  \n",
      " |  issuperset(...)\n",
      " |      Report whether this set contains another set.\n",
      " |  \n",
      " |  pop(...)\n",
      " |      Remove and return an arbitrary set element.\n",
      " |      Raises KeyError if the set is empty.\n",
      " |  \n",
      " |  remove(...)\n",
      " |      Remove an element from a set; it must be a member.\n",
      " |      \n",
      " |      If the element is not a member, raise a KeyError.\n",
      " |  \n",
      " |  symmetric_difference(...)\n",
      " |      Return the symmetric difference of two sets as a new set.\n",
      " |      \n",
      " |      (i.e. all elements that are in exactly one of the sets.)\n",
      " |  \n",
      " |  symmetric_difference_update(...)\n",
      " |      Update a set with the symmetric difference of itself and another.\n",
      " |  \n",
      " |  union(...)\n",
      " |      Return the union of sets as a new set.\n",
      " |      \n",
      " |      (i.e. all elements that are in either set.)\n",
      " |  \n",
      " |  update(...)\n",
      " |      Update a set with the union of itself and others.\n",
      " |  \n",
      " |  ----------------------------------------------------------------------\n",
      " |  Static methods defined here:\n",
      " |  \n",
      " |  __new__(*args, **kwargs) from builtins.type\n",
      " |      Create and return a new object.  See help(type) for accurate signature.\n",
      " |  \n",
      " |  ----------------------------------------------------------------------\n",
      " |  Data and other attributes defined here:\n",
      " |  \n",
      " |  __hash__ = None\n",
      "\n",
      "help> dictionary\n",
      "No Python documentation found for 'dictionary'.\n",
      "Use help() to get the interactive help utility.\n",
      "Use help(str) for help on the str class.\n",
      "\n",
      "help> dict\n",
      "Help on class dict in module builtins:\n",
      "\n",
      "class dict(object)\n",
      " |  dict() -> new empty dictionary\n",
      " |  dict(mapping) -> new dictionary initialized from a mapping object's\n",
      " |      (key, value) pairs\n",
      " |  dict(iterable) -> new dictionary initialized as if via:\n",
      " |      d = {}\n",
      " |      for k, v in iterable:\n",
      " |          d[k] = v\n",
      " |  dict(**kwargs) -> new dictionary initialized with the name=value pairs\n",
      " |      in the keyword argument list.  For example:  dict(one=1, two=2)\n",
      " |  \n",
      " |  Methods defined here:\n",
      " |  \n",
      " |  __contains__(self, key, /)\n",
      " |      True if the dictionary has the specified key, else False.\n",
      " |  \n",
      " |  __delitem__(self, key, /)\n",
      " |      Delete self[key].\n",
      " |  \n",
      " |  __eq__(self, value, /)\n",
      " |      Return self==value.\n",
      " |  \n",
      " |  __ge__(self, value, /)\n",
      " |      Return self>=value.\n",
      " |  \n",
      " |  __getattribute__(self, name, /)\n",
      " |      Return getattr(self, name).\n",
      " |  \n",
      " |  __getitem__(...)\n",
      " |      x.__getitem__(y) <==> x[y]\n",
      " |  \n",
      " |  __gt__(self, value, /)\n",
      " |      Return self>value.\n",
      " |  \n",
      " |  __init__(self, /, *args, **kwargs)\n",
      " |      Initialize self.  See help(type(self)) for accurate signature.\n",
      " |  \n",
      " |  __iter__(self, /)\n",
      " |      Implement iter(self).\n",
      " |  \n",
      " |  __le__(self, value, /)\n",
      " |      Return self<=value.\n",
      " |  \n",
      " |  __len__(self, /)\n",
      " |      Return len(self).\n",
      " |  \n",
      " |  __lt__(self, value, /)\n",
      " |      Return self<value.\n",
      " |  \n",
      " |  __ne__(self, value, /)\n",
      " |      Return self!=value.\n",
      " |  \n",
      " |  __repr__(self, /)\n",
      " |      Return repr(self).\n",
      " |  \n",
      " |  __setitem__(self, key, value, /)\n",
      " |      Set self[key] to value.\n",
      " |  \n",
      " |  __sizeof__(...)\n",
      " |      D.__sizeof__() -> size of D in memory, in bytes\n",
      " |  \n",
      " |  clear(...)\n",
      " |      D.clear() -> None.  Remove all items from D.\n",
      " |  \n",
      " |  copy(...)\n",
      " |      D.copy() -> a shallow copy of D\n",
      " |  \n",
      " |  get(self, key, default=None, /)\n",
      " |      Return the value for key if key is in the dictionary, else default.\n",
      " |  \n",
      " |  items(...)\n",
      " |      D.items() -> a set-like object providing a view on D's items\n",
      " |  \n",
      " |  keys(...)\n",
      " |      D.keys() -> a set-like object providing a view on D's keys\n",
      " |  \n",
      " |  pop(...)\n",
      " |      D.pop(k[,d]) -> v, remove specified key and return the corresponding value.\n",
      " |      If key is not found, d is returned if given, otherwise KeyError is raised\n",
      " |  \n",
      " |  popitem(...)\n",
      " |      D.popitem() -> (k, v), remove and return some (key, value) pair as a\n",
      " |      2-tuple; but raise KeyError if D is empty.\n",
      " |  \n",
      " |  setdefault(self, key, default=None, /)\n",
      " |      Insert key with a value of default if key is not in the dictionary.\n",
      " |      \n",
      " |      Return the value for key if key is in the dictionary, else default.\n",
      " |  \n",
      " |  update(...)\n",
      " |      D.update([E, ]**F) -> None.  Update D from dict/iterable E and F.\n",
      " |      If E is present and has a .keys() method, then does:  for k in E: D[k] = E[k]\n",
      " |      If E is present and lacks a .keys() method, then does:  for k, v in E: D[k] = v\n",
      " |      In either case, this is followed by: for k in F:  D[k] = F[k]\n",
      " |  \n",
      " |  values(...)\n",
      " |      D.values() -> an object providing a view on D's values\n",
      " |  \n",
      " |  ----------------------------------------------------------------------\n",
      " |  Class methods defined here:\n",
      " |  \n",
      " |  fromkeys(iterable, value=None, /) from builtins.type\n",
      " |      Create a new dictionary with keys from iterable and values set to value.\n",
      " |  \n",
      " |  ----------------------------------------------------------------------\n",
      " |  Static methods defined here:\n",
      " |  \n",
      " |  __new__(*args, **kwargs) from builtins.type\n",
      " |      Create and return a new object.  See help(type) for accurate signature.\n",
      " |  \n",
      " |  ----------------------------------------------------------------------\n",
      " |  Data and other attributes defined here:\n",
      " |  \n",
      " |  __hash__ = None\n",
      "\n",
      "help> tuple\n",
      "Help on class tuple in module builtins:\n",
      "\n",
      "class tuple(object)\n",
      " |  tuple(iterable=(), /)\n",
      " |  \n",
      " |  Built-in immutable sequence.\n",
      " |  \n",
      " |  If no argument is given, the constructor returns an empty tuple.\n",
      " |  If iterable is specified the tuple is initialized from iterable's items.\n",
      " |  \n",
      " |  If the argument is a tuple, the return value is the same object.\n",
      " |  \n",
      " |  Methods defined here:\n",
      " |  \n",
      " |  __add__(self, value, /)\n",
      " |      Return self+value.\n",
      " |  \n",
      " |  __contains__(self, key, /)\n",
      " |      Return key in self.\n",
      " |  \n",
      " |  __eq__(self, value, /)\n",
      " |      Return self==value.\n",
      " |  \n",
      " |  __ge__(self, value, /)\n",
      " |      Return self>=value.\n",
      " |  \n",
      " |  __getattribute__(self, name, /)\n",
      " |      Return getattr(self, name).\n",
      " |  \n",
      " |  __getitem__(self, key, /)\n",
      " |      Return self[key].\n",
      " |  \n",
      " |  __getnewargs__(self, /)\n",
      " |  \n",
      " |  __gt__(self, value, /)\n",
      " |      Return self>value.\n",
      " |  \n",
      " |  __hash__(self, /)\n",
      " |      Return hash(self).\n",
      " |  \n",
      " |  __iter__(self, /)\n",
      " |      Implement iter(self).\n",
      " |  \n",
      " |  __le__(self, value, /)\n",
      " |      Return self<=value.\n",
      " |  \n",
      " |  __len__(self, /)\n",
      " |      Return len(self).\n",
      " |  \n",
      " |  __lt__(self, value, /)\n",
      " |      Return self<value.\n",
      " |  \n",
      " |  __mul__(self, value, /)\n",
      " |      Return self*value.\n",
      " |  \n",
      " |  __ne__(self, value, /)\n",
      " |      Return self!=value.\n",
      " |  \n",
      " |  __repr__(self, /)\n",
      " |      Return repr(self).\n",
      " |  \n",
      " |  __rmul__(self, value, /)\n",
      " |      Return value*self.\n",
      " |  \n",
      " |  count(self, value, /)\n",
      " |      Return number of occurrences of value.\n",
      " |  \n",
      " |  index(self, value, start=0, stop=9223372036854775807, /)\n",
      " |      Return first index of value.\n",
      " |      \n",
      " |      Raises ValueError if the value is not present.\n",
      " |  \n",
      " |  ----------------------------------------------------------------------\n",
      " |  Static methods defined here:\n",
      " |  \n",
      " |  __new__(*args, **kwargs) from builtins.type\n",
      " |      Create and return a new object.  See help(type) for accurate signature.\n",
      "\n",
      "\n",
      "You are now leaving help and returning to the Python interpreter.\n",
      "If you want to ask for help on a particular object directly from the\n",
      "interpreter, you can type \"help(object)\".  Executing \"help('string')\"\n",
      "has the same effect as typing a particular string at the help> prompt.\n"
     ]
    }
   ],
   "source": [
    "help()"
   ]
  },
  {
   "cell_type": "code",
   "execution_count": null,
   "metadata": {
    "id": "6p9o8ldXyNWu"
   },
   "outputs": [],
   "source": [
    "int\n",
    "str\n",
    "float\n",
    "list\n",
    "set\n",
    "dict\n",
    "tuple\n"
   ]
  },
  {
   "cell_type": "code",
   "execution_count": null,
   "metadata": {
    "colab": {
     "base_uri": "https://localhost:8080/"
    },
    "executionInfo": {
     "elapsed": 991,
     "status": "ok",
     "timestamp": 1653041629874,
     "user": {
      "displayName": "Neuro Labs",
      "userId": "15488119700446268077"
     },
     "user_tz": -330
    },
    "id": "Qd63R8u29Xvb",
    "outputId": "7c699456-e1dd-450d-f403-4ba9b824ab98"
   },
   "outputs": [
    {
     "name": "stdout",
     "output_type": "stream",
     "text": [
      "\n",
      "Usage:   \n",
      "  pip3 <command> [options]\n",
      "\n",
      "Commands:\n",
      "  install                     Install packages.\n",
      "  download                    Download packages.\n",
      "  uninstall                   Uninstall packages.\n",
      "  freeze                      Output installed packages in requirements format.\n",
      "  list                        List installed packages.\n",
      "  show                        Show information about installed packages.\n",
      "  check                       Verify installed packages have compatible dependencies.\n",
      "  config                      Manage local and global configuration.\n",
      "  search                      Search PyPI for packages.\n",
      "  cache                       Inspect and manage pip's wheel cache.\n",
      "  wheel                       Build wheels from your requirements.\n",
      "  hash                        Compute hashes of package archives.\n",
      "  completion                  A helper command used for command completion.\n",
      "  debug                       Show information useful for debugging.\n",
      "  help                        Show help for commands.\n",
      "\n",
      "General Options:\n",
      "  -h, --help\n",
      "  Show help.\n",
      "  --isolated\n",
      "  Run pip in\n",
      "  an isolated\n",
      "  mode,\n",
      "  ignoring\n",
      "  environment\n",
      "  variables\n",
      "  and user co\n",
      "  nfiguration\n",
      "  .\n",
      "  -v, --verbose\n",
      "  Give more\n",
      "  output.\n",
      "  Option is\n",
      "  additive,\n",
      "  and can be\n",
      "  used up to\n",
      "  3 times.\n",
      "  -V, --version\n",
      "  Show\n",
      "  version and\n",
      "  exit.\n",
      "  -q, --quiet\n",
      "  Give less\n",
      "  output.\n",
      "  Option is\n",
      "  additive,\n",
      "  and can be\n",
      "  used up to\n",
      "  3 times (co\n",
      "  rresponding\n",
      "  to WARNING,\n",
      "  ERROR, and\n",
      "  CRITICAL\n",
      "  logging\n",
      "  levels).\n",
      "  --log <path>\n",
      "  Path to a\n",
      "  verbose\n",
      "  appending\n",
      "  log.\n",
      "  --no-input\n",
      "  Disable\n",
      "  prompting\n",
      "  for input.\n",
      "  --proxy <proxy>\n",
      "  Specify a\n",
      "  proxy in\n",
      "  the form [u\n",
      "  ser:passwd@\n",
      "  ]proxy.serv\n",
      "  er:port.\n",
      "  --retries <retries>\n",
      "  Maximum\n",
      "  number of\n",
      "  retries\n",
      "  each\n",
      "  connection\n",
      "  should\n",
      "  attempt\n",
      "  (default 5\n",
      "  times).\n",
      "  --timeout <sec>\n",
      "  Set the\n",
      "  socket\n",
      "  timeout\n",
      "  (default 15\n",
      "  seconds).\n",
      "  --exists-action <action>\n",
      "  Default\n",
      "  action when\n",
      "  a path\n",
      "  already\n",
      "  exists:\n",
      "  (s)witch,\n",
      "  (i)gnore,\n",
      "  (w)ipe,\n",
      "  (b)ackup,\n",
      "  (a)bort.\n",
      "  --trusted-host <hostname>\n",
      "  Mark this\n",
      "  host or\n",
      "  host:port\n",
      "  pair as\n",
      "  trusted,\n",
      "  even though\n",
      "  it does not\n",
      "  have valid\n",
      "  or any\n",
      "  HTTPS.\n",
      "  --cert <path>\n",
      "  Path to\n",
      "  PEM-encoded\n",
      "  CA\n",
      "  certificate\n",
      "  bundle. If\n",
      "  provided,\n",
      "  overrides\n",
      "  the\n",
      "  default.\n",
      "  See 'SSL\n",
      "  Certificate\n",
      "  Verificatio\n",
      "  n' in pip d\n",
      "  ocumentatio\n",
      "  n for more \n",
      "  information\n",
      "  .\n",
      "  --client-cert <path>\n",
      "  Path to SSL\n",
      "  client cert\n",
      "  ificate, a\n",
      "  single file\n",
      "  containing\n",
      "  the private\n",
      "  key and the\n",
      "  certificate\n",
      "  in PEM\n",
      "  format.\n",
      "  --cache-dir <dir>\n",
      "  Store the\n",
      "  cache data\n",
      "  in <dir>.\n",
      "  --no-cache-dir\n",
      "  Disable the\n",
      "  cache.\n",
      "  --disable-pip-version-check\n",
      "  Don't perio\n",
      "  dically\n",
      "  check PyPI\n",
      "  to\n",
      "  determine\n",
      "  whether a\n",
      "  new version\n",
      "  of pip is\n",
      "  available\n",
      "  for\n",
      "  download.\n",
      "  Implied\n",
      "  with --no-\n",
      "  index.\n",
      "  --no-color\n",
      "  Suppress\n",
      "  colored\n",
      "  output.\n",
      "  --no-python-version-warning\n",
      "  Silence\n",
      "  deprecation\n",
      "  warnings\n",
      "  for\n",
      "  upcoming\n",
      "  unsupported\n",
      "  Pythons.\n",
      "  --use-feature <feature>\n",
      "  Enable new \n",
      "  functionali\n",
      "  ty, that\n",
      "  may be\n",
      "  backward in\n",
      "  compatible.\n",
      "  --use-deprecated <feature>\n",
      "  Enable\n",
      "  deprecated \n",
      "  functionali\n",
      "  ty, that\n",
      "  will be\n",
      "  removed in\n",
      "  the future.\n"
     ]
    }
   ],
   "source": [
    "pip"
   ]
  },
  {
   "cell_type": "code",
   "execution_count": null,
   "metadata": {
    "colab": {
     "base_uri": "https://localhost:8080/"
    },
    "executionInfo": {
     "elapsed": 1193,
     "status": "ok",
     "timestamp": 1653041663471,
     "user": {
      "displayName": "Neuro Labs",
      "userId": "15488119700446268077"
     },
     "user_tz": -330
    },
    "id": "ogGdarKX9YM3",
    "outputId": "d36dde07-022c-4a22-b6b1-5dc6e2a984ef"
   },
   "outputs": [
    {
     "name": "stdout",
     "output_type": "stream",
     "text": [
      "Package                       Version\n",
      "----------------------------- ------------------------------\n",
      "absl-py                       1.0.0\n",
      "alabaster                     0.7.12\n",
      "albumentations                0.1.12\n",
      "altair                        4.2.0\n",
      "appdirs                       1.4.4\n",
      "argon2-cffi                   21.3.0\n",
      "argon2-cffi-bindings          21.2.0\n",
      "arviz                         0.12.1\n",
      "astor                         0.8.1\n",
      "astropy                       4.3.1\n",
      "astunparse                    1.6.3\n",
      "atari-py                      0.2.9\n",
      "atomicwrites                  1.4.0\n",
      "attrs                         21.4.0\n",
      "audioread                     2.1.9\n",
      "autograd                      1.4\n",
      "Babel                         2.10.1\n",
      "backcall                      0.2.0\n",
      "beautifulsoup4                4.6.3\n",
      "bleach                        5.0.0\n",
      "blis                          0.4.1\n",
      "bokeh                         2.3.3\n",
      "Bottleneck                    1.3.4\n",
      "branca                        0.5.0\n",
      "bs4                           0.0.1\n",
      "CacheControl                  0.12.11\n",
      "cached-property               1.5.2\n",
      "cachetools                    4.2.4\n",
      "catalogue                     1.0.0\n",
      "certifi                       2021.10.8\n",
      "cffi                          1.15.0\n",
      "cftime                        1.6.0\n",
      "chardet                       3.0.4\n",
      "charset-normalizer            2.0.12\n",
      "click                         7.1.2\n",
      "cloudpickle                   1.3.0\n",
      "cmake                         3.22.4\n",
      "cmdstanpy                     0.9.5\n",
      "colorcet                      3.0.0\n",
      "colorlover                    0.3.0\n",
      "community                     1.0.0b1\n",
      "contextlib2                   0.5.5\n",
      "convertdate                   2.4.0\n",
      "coverage                      3.7.1\n",
      "coveralls                     0.5\n",
      "crcmod                        1.7\n",
      "cufflinks                     0.17.3\n",
      "cvxopt                        1.2.7\n",
      "cvxpy                         1.0.31\n",
      "cycler                        0.11.0\n",
      "cymem                         2.0.6\n",
      "Cython                        0.29.30\n",
      "daft                          0.0.4\n",
      "dask                          2.12.0\n",
      "datascience                   0.10.6\n",
      "debugpy                       1.0.0\n",
      "decorator                     4.4.2\n",
      "defusedxml                    0.7.1\n",
      "descartes                     1.1.0\n",
      "dill                          0.3.4\n",
      "distributed                   1.25.3\n",
      "dlib                          19.18.0+zzzcolab20220513001918\n",
      "dm-tree                       0.1.7\n",
      "docopt                        0.6.2\n",
      "docutils                      0.17.1\n",
      "dopamine-rl                   1.0.5\n",
      "earthengine-api               0.1.309\n",
      "easydict                      1.9\n",
      "ecos                          2.0.10\n",
      "editdistance                  0.5.3\n",
      "en-core-web-sm                2.2.5\n",
      "entrypoints                   0.4\n",
      "ephem                         4.1.3\n",
      "et-xmlfile                    1.1.0\n",
      "fa2                           0.3.5\n",
      "fastai                        1.0.61\n",
      "fastdtw                       0.3.4\n",
      "fastjsonschema                2.15.3\n",
      "fastprogress                  1.0.2\n",
      "fastrlock                     0.8\n",
      "fbprophet                     0.7.1\n",
      "feather-format                0.4.1\n",
      "filelock                      3.7.0\n",
      "firebase-admin                4.4.0\n",
      "fix-yahoo-finance             0.0.22\n",
      "Flask                         1.1.4\n",
      "flatbuffers                   2.0\n",
      "folium                        0.8.3\n",
      "future                        0.16.0\n",
      "gast                          0.5.3\n",
      "GDAL                          2.2.2\n",
      "gdown                         4.4.0\n",
      "gensim                        3.6.0\n",
      "geographiclib                 1.52\n",
      "geopy                         1.17.0\n",
      "gin-config                    0.5.0\n",
      "glob2                         0.7\n",
      "google                        2.0.3\n",
      "google-api-core               1.31.5\n",
      "google-api-python-client      1.12.11\n",
      "google-auth                   1.35.0\n",
      "google-auth-httplib2          0.0.4\n",
      "google-auth-oauthlib          0.4.6\n",
      "google-cloud-bigquery         1.21.0\n",
      "google-cloud-bigquery-storage 1.1.1\n",
      "google-cloud-core             1.0.3\n",
      "google-cloud-datastore        1.8.0\n",
      "google-cloud-firestore        1.7.0\n",
      "google-cloud-language         1.2.0\n",
      "google-cloud-storage          1.18.1\n",
      "google-cloud-translate        1.5.0\n",
      "google-colab                  1.0.0\n",
      "google-pasta                  0.2.0\n",
      "google-resumable-media        0.4.1\n",
      "googleapis-common-protos      1.56.1\n",
      "googledrivedownloader         0.4\n",
      "graphviz                      0.10.1\n",
      "greenlet                      1.1.2\n",
      "grpcio                        1.46.1\n",
      "gspread                       3.4.2\n",
      "gspread-dataframe             3.0.8\n",
      "gym                           0.17.3\n",
      "h5py                          3.1.0\n",
      "HeapDict                      1.0.1\n",
      "hijri-converter               2.2.3\n",
      "holidays                      0.10.5.2\n",
      "holoviews                     1.14.9\n",
      "html5lib                      1.0.1\n",
      "httpimport                    0.5.18\n",
      "httplib2                      0.17.4\n",
      "httplib2shim                  0.0.3\n",
      "humanize                      0.5.1\n",
      "hyperopt                      0.1.2\n",
      "ideep4py                      2.0.0.post3\n",
      "idna                          2.10\n",
      "imageio                       2.4.1\n",
      "imagesize                     1.3.0\n",
      "imbalanced-learn              0.8.1\n",
      "imblearn                      0.0\n",
      "imgaug                        0.2.9\n",
      "importlib-metadata            4.11.3\n",
      "importlib-resources           5.7.1\n",
      "imutils                       0.5.4\n",
      "inflect                       2.1.0\n",
      "iniconfig                     1.1.1\n",
      "intel-openmp                  2022.1.0\n",
      "intervaltree                  2.1.0\n",
      "ipykernel                     4.10.1\n",
      "ipython                       5.5.0\n",
      "ipython-genutils              0.2.0\n",
      "ipython-sql                   0.3.9\n",
      "ipywidgets                    7.7.0\n",
      "itsdangerous                  1.1.0\n",
      "jax                           0.3.8\n",
      "jaxlib                        0.3.7+cuda11.cudnn805\n",
      "jedi                          0.18.1\n",
      "jieba                         0.42.1\n",
      "Jinja2                        2.11.3\n",
      "joblib                        1.1.0\n",
      "jpeg4py                       0.1.4\n",
      "jsonschema                    4.3.3\n",
      "jupyter                       1.0.0\n",
      "jupyter-client                5.3.5\n",
      "jupyter-console               5.2.0\n",
      "jupyter-core                  4.10.0\n",
      "jupyterlab-pygments           0.2.2\n",
      "jupyterlab-widgets            1.1.0\n",
      "kaggle                        1.5.12\n",
      "kapre                         0.3.7\n",
      "keras                         2.8.0\n",
      "Keras-Preprocessing           1.1.2\n",
      "keras-vis                     0.4.1\n",
      "kiwisolver                    1.4.2\n",
      "korean-lunar-calendar         0.2.1\n",
      "libclang                      14.0.1\n",
      "librosa                       0.8.1\n",
      "lightgbm                      2.2.3\n",
      "llvmlite                      0.34.0\n",
      "lmdb                          0.99\n",
      "LunarCalendar                 0.0.9\n",
      "lxml                          4.2.6\n",
      "Markdown                      3.3.7\n",
      "MarkupSafe                    2.0.1\n",
      "matplotlib                    3.2.2\n",
      "matplotlib-inline             0.1.3\n",
      "matplotlib-venn               0.11.7\n",
      "missingno                     0.5.1\n",
      "mistune                       0.8.4\n",
      "mizani                        0.6.0\n",
      "mkl                           2019.0\n",
      "mlxtend                       0.14.0\n",
      "more-itertools                8.13.0\n",
      "moviepy                       0.2.3.5\n",
      "mpmath                        1.2.1\n",
      "msgpack                       1.0.3\n",
      "multiprocess                  0.70.12.2\n",
      "multitasking                  0.0.10\n",
      "murmurhash                    1.0.7\n",
      "music21                       5.5.0\n",
      "natsort                       5.5.0\n",
      "nbclient                      0.6.3\n",
      "nbconvert                     5.6.1\n",
      "nbformat                      5.4.0\n",
      "nest-asyncio                  1.5.5\n",
      "netCDF4                       1.5.8\n",
      "networkx                      2.6.3\n",
      "nibabel                       3.0.2\n",
      "nltk                          3.2.5\n",
      "notebook                      5.3.1\n",
      "numba                         0.51.2\n",
      "numexpr                       2.8.1\n",
      "numpy                         1.21.6\n",
      "nvidia-ml-py3                 7.352.0\n",
      "oauth2client                  4.1.3\n",
      "oauthlib                      3.2.0\n",
      "okgrade                       0.4.3\n",
      "opencv-contrib-python         4.1.2.30\n",
      "opencv-python                 4.1.2.30\n",
      "openpyxl                      3.0.9\n",
      "opt-einsum                    3.3.0\n",
      "osqp                          0.6.2.post0\n",
      "packaging                     21.3\n",
      "palettable                    3.3.0\n",
      "pandas                        1.3.5\n",
      "pandas-datareader             0.9.0\n",
      "pandas-gbq                    0.13.3\n",
      "pandas-profiling              1.4.1\n",
      "pandocfilters                 1.5.0\n",
      "panel                         0.12.1\n",
      "param                         1.12.1\n",
      "parso                         0.8.3\n",
      "pathlib                       1.0.1\n",
      "patsy                         0.5.2\n",
      "pep517                        0.12.0\n",
      "pexpect                       4.8.0\n",
      "pickleshare                   0.7.5\n",
      "Pillow                        7.1.2\n",
      "pip                           21.1.3\n",
      "pip-tools                     6.2.0\n",
      "plac                          1.1.3\n",
      "plotly                        5.5.0\n",
      "plotnine                      0.6.0\n",
      "pluggy                        0.7.1\n",
      "pooch                         1.6.0\n",
      "portpicker                    1.3.9\n",
      "prefetch-generator            1.0.1\n",
      "preshed                       3.0.6\n",
      "prettytable                   3.3.0\n",
      "progressbar2                  3.38.0\n",
      "prometheus-client             0.14.1\n",
      "promise                       2.3\n",
      "prompt-toolkit                1.0.18\n",
      "protobuf                      3.17.3\n",
      "psutil                        5.4.8\n",
      "psycopg2                      2.7.6.1\n",
      "ptyprocess                    0.7.0\n",
      "py                            1.11.0\n",
      "pyarrow                       6.0.1\n",
      "pyasn1                        0.4.8\n",
      "pyasn1-modules                0.2.8\n",
      "pycocotools                   2.0.4\n",
      "pycparser                     2.21\n",
      "pyct                          0.4.8\n",
      "pydata-google-auth            1.4.0\n",
      "pydot                         1.3.0\n",
      "pydot-ng                      2.0.0\n",
      "pydotplus                     2.0.2\n",
      "PyDrive                       1.3.1\n",
      "pyemd                         0.5.1\n",
      "pyerfa                        2.0.0.1\n",
      "pyglet                        1.5.0\n",
      "Pygments                      2.6.1\n",
      "pygobject                     3.26.1\n",
      "pymc3                         3.11.4\n",
      "PyMeeus                       0.5.11\n",
      "pymongo                       4.1.1\n",
      "pymystem3                     0.2.0\n",
      "PyOpenGL                      3.1.6\n",
      "pyparsing                     3.0.9\n",
      "pyrsistent                    0.18.1\n",
      "pysndfile                     1.3.8\n",
      "PySocks                       1.7.1\n",
      "pystan                        2.19.1.1\n",
      "pytest                        3.6.4\n",
      "python-apt                    0.0.0\n",
      "python-chess                  0.23.11\n",
      "python-dateutil               2.8.2\n",
      "python-louvain                0.16\n",
      "python-slugify                6.1.2\n",
      "python-utils                  3.2.2\n",
      "pytz                          2022.1\n",
      "pyviz-comms                   2.2.0\n",
      "PyWavelets                    1.3.0\n",
      "PyYAML                        3.13\n",
      "pyzmq                         22.3.0\n",
      "qdldl                         0.1.5.post2\n",
      "qtconsole                     5.3.0\n",
      "QtPy                          2.1.0\n",
      "regex                         2019.12.20\n",
      "requests                      2.23.0\n",
      "requests-oauthlib             1.3.1\n",
      "resampy                       0.2.2\n",
      "rpy2                          3.4.5\n",
      "rsa                           4.8\n",
      "scikit-image                  0.18.3\n",
      "scikit-learn                  1.0.2\n",
      "scipy                         1.4.1\n",
      "screen-resolution-extra       0.0.0\n",
      "scs                           3.2.0\n",
      "seaborn                       0.11.2\n",
      "semver                        2.13.0\n",
      "Send2Trash                    1.8.0\n",
      "setuptools                    57.4.0\n",
      "setuptools-git                1.2\n",
      "Shapely                       1.8.2\n",
      "simplegeneric                 0.8.1\n",
      "six                           1.15.0\n",
      "sklearn                       0.0\n",
      "sklearn-pandas                1.8.0\n",
      "smart-open                    6.0.0\n",
      "snowballstemmer               2.2.0\n",
      "sortedcontainers              2.4.0\n",
      "SoundFile                     0.10.3.post1\n",
      "soupsieve                     2.3.2.post1\n",
      "spacy                         2.2.4\n",
      "Sphinx                        1.8.6\n",
      "sphinxcontrib-serializinghtml 1.1.5\n",
      "sphinxcontrib-websupport      1.2.4\n",
      "SQLAlchemy                    1.4.36\n",
      "sqlparse                      0.4.2\n",
      "srsly                         1.0.5\n",
      "statsmodels                   0.10.2\n",
      "sympy                         1.7.1\n",
      "tables                        3.7.0\n",
      "tabulate                      0.8.9\n",
      "tblib                         1.7.0\n",
      "tenacity                      8.0.1\n",
      "tensorboard                   2.8.0\n",
      "tensorboard-data-server       0.6.1\n",
      "tensorboard-plugin-wit        1.8.1\n",
      "tensorflow                    2.8.0+zzzcolab20220506162203\n",
      "tensorflow-datasets           4.0.1\n",
      "tensorflow-estimator          2.8.0\n",
      "tensorflow-gcs-config         2.8.0\n",
      "tensorflow-hub                0.12.0\n",
      "tensorflow-io-gcs-filesystem  0.25.0\n",
      "tensorflow-metadata           1.8.0\n",
      "tensorflow-probability        0.16.0\n",
      "termcolor                     1.1.0\n",
      "terminado                     0.13.3\n",
      "testpath                      0.6.0\n",
      "text-unidecode                1.3\n",
      "textblob                      0.15.3\n",
      "Theano-PyMC                   1.1.2\n",
      "thinc                         7.4.0\n",
      "threadpoolctl                 3.1.0\n",
      "tifffile                      2021.11.2\n",
      "tinycss2                      1.1.1\n",
      "tomli                         2.0.1\n",
      "toolz                         0.11.2\n",
      "torch                         1.11.0+cu113\n",
      "torchaudio                    0.11.0+cu113\n",
      "torchsummary                  1.5.1\n",
      "torchtext                     0.12.0\n",
      "torchvision                   0.12.0+cu113\n",
      "tornado                       5.1.1\n",
      "tqdm                          4.64.0\n",
      "traitlets                     5.1.1\n",
      "tweepy                        3.10.0\n",
      "typeguard                     2.7.1\n",
      "typing-extensions             4.2.0\n",
      "tzlocal                       1.5.1\n",
      "uritemplate                   3.0.1\n",
      "urllib3                       1.24.3\n",
      "vega-datasets                 0.9.0\n",
      "wasabi                        0.9.1\n",
      "wcwidth                       0.2.5\n",
      "webencodings                  0.5.1\n",
      "Werkzeug                      1.0.1\n",
      "wheel                         0.37.1\n",
      "widgetsnbextension            3.6.0\n",
      "wordcloud                     1.5.0\n",
      "wrapt                         1.14.1\n",
      "xarray                        0.20.2\n",
      "xarray-einstats               0.2.2\n",
      "xgboost                       0.90\n",
      "xkit                          0.0.0\n",
      "xlrd                          1.1.0\n",
      "xlwt                          1.3.0\n",
      "yellowbrick                   1.4\n",
      "zict                          2.2.0\n",
      "zipp                          3.8.0\n"
     ]
    }
   ],
   "source": [
    "pip list  # shows all packages"
   ]
  },
  {
   "cell_type": "code",
   "execution_count": null,
   "metadata": {
    "colab": {
     "base_uri": "https://localhost:8080/"
    },
    "executionInfo": {
     "elapsed": 3488,
     "status": "ok",
     "timestamp": 1653041762364,
     "user": {
      "displayName": "Neuro Labs",
      "userId": "15488119700446268077"
     },
     "user_tz": -330
    },
    "id": "cXZS0Dgh9gQp",
    "outputId": "e056aa72-1ab4-48c7-9bfc-d0069938ee1a"
   },
   "outputs": [
    {
     "name": "stdout",
     "output_type": "stream",
     "text": [
      "Collecting pydub\n",
      "  Downloading pydub-0.25.1-py2.py3-none-any.whl (32 kB)\n",
      "Installing collected packages: pydub\n",
      "Successfully installed pydub-0.25.1\n"
     ]
    }
   ],
   "source": [
    "pip install pydub"
   ]
  },
  {
   "cell_type": "code",
   "execution_count": null,
   "metadata": {
    "colab": {
     "base_uri": "https://localhost:8080/"
    },
    "executionInfo": {
     "elapsed": 6827,
     "status": "ok",
     "timestamp": 1653041994905,
     "user": {
      "displayName": "Neuro Labs",
      "userId": "15488119700446268077"
     },
     "user_tz": -330
    },
    "id": "tvblNcT390Mn",
    "outputId": "6bdae3f0-1db9-48cb-c5bd-360ea9517e7a"
   },
   "outputs": [
    {
     "name": "stdout",
     "output_type": "stream",
     "text": [
      "Found existing installation: pydub 0.25.1\n",
      "Uninstalling pydub-0.25.1:\n",
      "  Would remove:\n",
      "    /usr/local/lib/python3.7/dist-packages/pydub-0.25.1.dist-info/*\n",
      "    /usr/local/lib/python3.7/dist-packages/pydub/*\n",
      "Proceed (y/n)? y\n",
      "  Successfully uninstalled pydub-0.25.1\n"
     ]
    }
   ],
   "source": [
    "pip uninstall pydub "
   ]
  },
  {
   "cell_type": "code",
   "execution_count": null,
   "metadata": {
    "colab": {
     "base_uri": "https://localhost:8080/"
    },
    "executionInfo": {
     "elapsed": 5653,
     "status": "ok",
     "timestamp": 1653042243057,
     "user": {
      "displayName": "Neuro Labs",
      "userId": "15488119700446268077"
     },
     "user_tz": -330
    },
    "id": "q-h618fG-v-q",
    "outputId": "65e03900-224b-472f-b3a5-6611bb186194"
   },
   "outputs": [
    {
     "name": "stdout",
     "output_type": "stream",
     "text": [
      "Requirement already satisfied: pip in /usr/local/lib/python3.7/dist-packages (21.1.3)\n",
      "Collecting pip\n",
      "  Downloading pip-22.1-py3-none-any.whl (2.1 MB)\n",
      "\u001b[K     |████████████████████████████████| 2.1 MB 4.9 MB/s \n",
      "\u001b[?25hInstalling collected packages: pip\n",
      "  Attempting uninstall: pip\n",
      "    Found existing installation: pip 21.1.3\n",
      "    Uninstalling pip-21.1.3:\n",
      "      Successfully uninstalled pip-21.1.3\n",
      "Successfully installed pip-22.1\n"
     ]
    }
   ],
   "source": [
    "pip install --upgrade pip "
   ]
  },
  {
   "cell_type": "code",
   "execution_count": null,
   "metadata": {
    "colab": {
     "base_uri": "https://localhost:8080/"
    },
    "executionInfo": {
     "elapsed": 4153,
     "status": "ok",
     "timestamp": 1653042292122,
     "user": {
      "displayName": "Neuro Labs",
      "userId": "15488119700446268077"
     },
     "user_tz": -330
    },
    "id": "O2UUakGQ_bco",
    "outputId": "51dad235-fda9-4915-8e85-112a62445b9e"
   },
   "outputs": [
    {
     "name": "stdout",
     "output_type": "stream",
     "text": [
      "Requirement already satisfied: pip in /usr/local/lib/python3.7/dist-packages (22.1)\n",
      "\u001b[33mWARNING: Running pip as the 'root' user can result in broken permissions and conflicting behaviour with the system package manager. It is recommended to use a virtual environment instead: https://pip.pypa.io/warnings/venv\u001b[0m\u001b[33m\n",
      "\u001b[0m"
     ]
    }
   ],
   "source": [
    "pip install -U pip "
   ]
  },
  {
   "cell_type": "code",
   "execution_count": null,
   "metadata": {
    "id": "GQso618L_5Me"
   },
   "outputs": [],
   "source": [
    "Date & Time Formatting, Operators, User Input, built-in modules, Indexing, and Slicing. "
   ]
  },
  {
   "cell_type": "code",
   "execution_count": null,
   "metadata": {
    "colab": {
     "base_uri": "https://localhost:8080/"
    },
    "executionInfo": {
     "elapsed": 3289,
     "status": "ok",
     "timestamp": 1653044178152,
     "user": {
      "displayName": "Neuro Labs",
      "userId": "15488119700446268077"
     },
     "user_tz": -330
    },
    "id": "C8mnQJG4Gk16",
    "outputId": "8dc2250d-d288-4b74-ba02-e8841d4adbad"
   },
   "outputs": [
    {
     "name": "stdout",
     "output_type": "stream",
     "text": [
      "43\n"
     ]
    }
   ],
   "source": [
    "data = int(input()) "
   ]
  },
  {
   "cell_type": "code",
   "execution_count": null,
   "metadata": {
    "colab": {
     "base_uri": "https://localhost:8080/"
    },
    "executionInfo": {
     "elapsed": 2,
     "status": "ok",
     "timestamp": 1653044179710,
     "user": {
      "displayName": "Neuro Labs",
      "userId": "15488119700446268077"
     },
     "user_tz": -330
    },
    "id": "IOQ2MVJ3Glsm",
    "outputId": "de5ebacc-4919-44ba-d320-5b0b50f70500"
   },
   "outputs": [
    {
     "data": {
      "text/plain": [
       "43"
      ]
     },
     "execution_count": 59,
     "metadata": {},
     "output_type": "execute_result"
    }
   ],
   "source": [
    "data"
   ]
  },
  {
   "cell_type": "code",
   "execution_count": null,
   "metadata": {
    "id": "iq3vMUxZHCuZ"
   },
   "outputs": [],
   "source": []
  },
  {
   "cell_type": "markdown",
   "metadata": {
    "id": "K0LAUbzNDXl-"
   },
   "source": [
    "**23 May 2022**"
   ]
  },
  {
   "cell_type": "code",
   "execution_count": null,
   "metadata": {
    "id": "GMhvMKfVtORh"
   },
   "outputs": [],
   "source": []
  },
  {
   "cell_type": "code",
   "execution_count": null,
   "metadata": {
    "id": "BUdw21PBDa1G"
   },
   "outputs": [],
   "source": [
    "# operators and Data Types"
   ]
  },
  {
   "cell_type": "code",
   "execution_count": null,
   "metadata": {
    "id": "qFI68vsgD82a"
   },
   "outputs": [],
   "source": [
    "Arithmetic\n",
    "Assignment\n",
    "Comparison\n",
    "Logical\n",
    "Identity \n",
    "Membership"
   ]
  },
  {
   "cell_type": "code",
   "execution_count": null,
   "metadata": {
    "id": "eIQSjw4CEGpG"
   },
   "outputs": [],
   "source": [
    "# Arithmetic operators"
   ]
  },
  {
   "cell_type": "code",
   "execution_count": null,
   "metadata": {
    "colab": {
     "base_uri": "https://localhost:8080/"
    },
    "executionInfo": {
     "elapsed": 9,
     "status": "ok",
     "timestamp": 1653278292784,
     "user": {
      "displayName": "Neuro Labs",
      "userId": "15488119700446268077"
     },
     "user_tz": -330
    },
    "id": "Wgk62WJmEJEb",
    "outputId": "2f1cf242-a1f9-4f64-ed6c-ad0f171f50a5"
   },
   "outputs": [
    {
     "data": {
      "text/plain": [
       "57"
      ]
     },
     "execution_count": 3,
     "metadata": {},
     "output_type": "execute_result"
    }
   ],
   "source": [
    "12 + 45     #Addition"
   ]
  },
  {
   "cell_type": "code",
   "execution_count": null,
   "metadata": {
    "colab": {
     "base_uri": "https://localhost:8080/"
    },
    "executionInfo": {
     "elapsed": 12,
     "status": "ok",
     "timestamp": 1653278298531,
     "user": {
      "displayName": "Neuro Labs",
      "userId": "15488119700446268077"
     },
     "user_tz": -330
    },
    "id": "LmpoNreJELZb",
    "outputId": "6885bade-bc72-44c3-9cfd-439c8a50aafe"
   },
   "outputs": [
    {
     "data": {
      "text/plain": [
       "45"
      ]
     },
     "execution_count": 4,
     "metadata": {},
     "output_type": "execute_result"
    }
   ],
   "source": [
    "90 - 45       #Subtraction"
   ]
  },
  {
   "cell_type": "code",
   "execution_count": null,
   "metadata": {
    "colab": {
     "base_uri": "https://localhost:8080/"
    },
    "executionInfo": {
     "elapsed": 4,
     "status": "ok",
     "timestamp": 1653278304916,
     "user": {
      "displayName": "Neuro Labs",
      "userId": "15488119700446268077"
     },
     "user_tz": -330
    },
    "id": "knhyZp7pEM0J",
    "outputId": "14eabf15-f180-4bd5-c01f-acc5a49e67fa"
   },
   "outputs": [
    {
     "data": {
      "text/plain": [
       "86"
      ]
     },
     "execution_count": 5,
     "metadata": {},
     "output_type": "execute_result"
    }
   ],
   "source": [
    "43 * 2   # Multiplication"
   ]
  },
  {
   "cell_type": "code",
   "execution_count": null,
   "metadata": {
    "colab": {
     "base_uri": "https://localhost:8080/"
    },
    "executionInfo": {
     "elapsed": 10,
     "status": "ok",
     "timestamp": 1653280831967,
     "user": {
      "displayName": "Neuro Labs",
      "userId": "15488119700446268077"
     },
     "user_tz": -330
    },
    "id": "a0o3pQy2N0dj",
    "outputId": "e215d6e0-d737-424a-efbd-4d343c187299"
   },
   "outputs": [
    {
     "data": {
      "text/plain": [
       "125"
      ]
     },
     "execution_count": 18,
     "metadata": {},
     "output_type": "execute_result"
    }
   ],
   "source": [
    "5 ** 3  # power"
   ]
  },
  {
   "cell_type": "code",
   "execution_count": null,
   "metadata": {
    "colab": {
     "base_uri": "https://localhost:8080/"
    },
    "executionInfo": {
     "elapsed": 338,
     "status": "ok",
     "timestamp": 1653280897176,
     "user": {
      "displayName": "Neuro Labs",
      "userId": "15488119700446268077"
     },
     "user_tz": -330
    },
    "id": "Fh3CH0S8OCBo",
    "outputId": "e830fde3-9c7b-4e2c-fdbe-fd611388626e"
   },
   "outputs": [
    {
     "data": {
      "text/plain": [
       "298023223876953125"
      ]
     },
     "execution_count": 21,
     "metadata": {},
     "output_type": "execute_result"
    }
   ],
   "source": [
    "5 ** 25"
   ]
  },
  {
   "cell_type": "code",
   "execution_count": null,
   "metadata": {
    "colab": {
     "base_uri": "https://localhost:8080/"
    },
    "executionInfo": {
     "elapsed": 8,
     "status": "ok",
     "timestamp": 1653278314782,
     "user": {
      "displayName": "Neuro Labs",
      "userId": "15488119700446268077"
     },
     "user_tz": -330
    },
    "id": "bbQBcQ80EOXA",
    "outputId": "71cc37c6-f16c-4b25-d687-0694ae5f25c4"
   },
   "outputs": [
    {
     "data": {
      "text/plain": [
       "6.75"
      ]
     },
     "execution_count": 6,
     "metadata": {},
     "output_type": "execute_result"
    }
   ],
   "source": [
    "54 / 8     # Division"
   ]
  },
  {
   "cell_type": "code",
   "execution_count": null,
   "metadata": {
    "colab": {
     "base_uri": "https://localhost:8080/"
    },
    "executionInfo": {
     "elapsed": 7,
     "status": "ok",
     "timestamp": 1653278326941,
     "user": {
      "displayName": "Neuro Labs",
      "userId": "15488119700446268077"
     },
     "user_tz": -330
    },
    "id": "5uoieiJ6EQxZ",
    "outputId": "a0f1288f-478f-49a0-f87c-c2099a9d4fb2"
   },
   "outputs": [
    {
     "data": {
      "text/plain": [
       "9.428571428571429"
      ]
     },
     "execution_count": 7,
     "metadata": {},
     "output_type": "execute_result"
    }
   ],
   "source": [
    "66/7    # Division"
   ]
  },
  {
   "cell_type": "code",
   "execution_count": null,
   "metadata": {
    "colab": {
     "base_uri": "https://localhost:8080/"
    },
    "executionInfo": {
     "elapsed": 6,
     "status": "ok",
     "timestamp": 1653278335727,
     "user": {
      "displayName": "Neuro Labs",
      "userId": "15488119700446268077"
     },
     "user_tz": -330
    },
    "id": "tb7l7rFvETv2",
    "outputId": "a504c3d4-bc1c-4a1a-ecd5-0fe8a57c648c"
   },
   "outputs": [
    {
     "data": {
      "text/plain": [
       "9"
      ]
     },
     "execution_count": 8,
     "metadata": {},
     "output_type": "execute_result"
    }
   ],
   "source": [
    "66//7  # Floor Division"
   ]
  },
  {
   "cell_type": "code",
   "execution_count": null,
   "metadata": {
    "colab": {
     "base_uri": "https://localhost:8080/"
    },
    "executionInfo": {
     "elapsed": 7,
     "status": "ok",
     "timestamp": 1653278347733,
     "user": {
      "displayName": "Neuro Labs",
      "userId": "15488119700446268077"
     },
     "user_tz": -330
    },
    "id": "sT6A3PBAEWAO",
    "outputId": "7e04a1f0-c17b-4bd4-a34b-bd5001db277d"
   },
   "outputs": [
    {
     "data": {
      "text/plain": [
       "3"
      ]
     },
     "execution_count": 9,
     "metadata": {},
     "output_type": "execute_result"
    }
   ],
   "source": [
    "66%7    # Remainder"
   ]
  },
  {
   "cell_type": "code",
   "execution_count": null,
   "metadata": {
    "colab": {
     "base_uri": "https://localhost:8080/"
    },
    "executionInfo": {
     "elapsed": 3,
     "status": "ok",
     "timestamp": 1653278358163,
     "user": {
      "displayName": "Neuro Labs",
      "userId": "15488119700446268077"
     },
     "user_tz": -330
    },
    "id": "jqj27-OzEYyB",
    "outputId": "3cd47d13-747a-4b23-a50d-c3458aac7a67"
   },
   "outputs": [
    {
     "data": {
      "text/plain": [
       "9.4286"
      ]
     },
     "execution_count": 10,
     "metadata": {},
     "output_type": "execute_result"
    }
   ],
   "source": [
    "round(66/7, 4)  # rounds up the output to 4 decimals "
   ]
  },
  {
   "cell_type": "code",
   "execution_count": null,
   "metadata": {
    "id": "P54SXEv3Ebd9"
   },
   "outputs": [],
   "source": [
    "34 * 7 / 3 + 89 - 2 * 5 + 90 - 3 * 76 + 34         #BODMAS"
   ]
  },
  {
   "cell_type": "code",
   "execution_count": null,
   "metadata": {
    "colab": {
     "base_uri": "https://localhost:8080/"
    },
    "executionInfo": {
     "elapsed": 3,
     "status": "ok",
     "timestamp": 1653279958361,
     "user": {
      "displayName": "Neuro Labs",
      "userId": "15488119700446268077"
     },
     "user_tz": -330
    },
    "id": "CL9d2RxGKdnN",
    "outputId": "1da0faac-bdb8-4c1c-9497-cd9aed6548dd"
   },
   "outputs": [
    {
     "data": {
      "text/plain": [
       "2.3333333333333335"
      ]
     },
     "execution_count": 11,
     "metadata": {},
     "output_type": "execute_result"
    }
   ],
   "source": [
    "7 / 3"
   ]
  },
  {
   "cell_type": "code",
   "execution_count": null,
   "metadata": {
    "id": "R5sCryGtKiCv"
   },
   "outputs": [],
   "source": [
    "34 * 2.3333333333333335 + 89 - 2 * 5 + 90 - 3 * 76 + 34  "
   ]
  },
  {
   "cell_type": "code",
   "execution_count": null,
   "metadata": {
    "colab": {
     "base_uri": "https://localhost:8080/"
    },
    "executionInfo": {
     "elapsed": 12,
     "status": "ok",
     "timestamp": 1653280000740,
     "user": {
      "displayName": "Neuro Labs",
      "userId": "15488119700446268077"
     },
     "user_tz": -330
    },
    "id": "tD_BxUJqKrC5",
    "outputId": "7515b50d-41c1-47f5-d687-8570a0aeb525"
   },
   "outputs": [
    {
     "data": {
      "text/plain": [
       "79.33333333333334"
      ]
     },
     "execution_count": 12,
     "metadata": {},
     "output_type": "execute_result"
    }
   ],
   "source": [
    "34 * 2.3333333333333335"
   ]
  },
  {
   "cell_type": "code",
   "execution_count": null,
   "metadata": {
    "colab": {
     "base_uri": "https://localhost:8080/"
    },
    "executionInfo": {
     "elapsed": 13,
     "status": "ok",
     "timestamp": 1653280009591,
     "user": {
      "displayName": "Neuro Labs",
      "userId": "15488119700446268077"
     },
     "user_tz": -330
    },
    "id": "rIFl5pO_KsYz",
    "outputId": "a4c65c27-b599-48b6-ef00-07bbf2721163"
   },
   "outputs": [
    {
     "data": {
      "text/plain": [
       "228"
      ]
     },
     "execution_count": 13,
     "metadata": {},
     "output_type": "execute_result"
    }
   ],
   "source": [
    "3 * 76"
   ]
  },
  {
   "cell_type": "code",
   "execution_count": null,
   "metadata": {
    "id": "PprvKbXeKui8"
   },
   "outputs": [],
   "source": [
    "79.33333333333334 + 89 - 10 + 90 - 228 + 34  "
   ]
  },
  {
   "cell_type": "code",
   "execution_count": null,
   "metadata": {
    "colab": {
     "base_uri": "https://localhost:8080/"
    },
    "executionInfo": {
     "elapsed": 15,
     "status": "ok",
     "timestamp": 1653280062557,
     "user": {
      "displayName": "Neuro Labs",
      "userId": "15488119700446268077"
     },
     "user_tz": -330
    },
    "id": "D3aairpqK69B",
    "outputId": "34b0afad-be80-4d27-984e-361881685ffa"
   },
   "outputs": [
    {
     "data": {
      "text/plain": [
       "168.33333333333334"
      ]
     },
     "execution_count": 14,
     "metadata": {},
     "output_type": "execute_result"
    }
   ],
   "source": [
    "79.33333333333334 + 89"
   ]
  },
  {
   "cell_type": "code",
   "execution_count": null,
   "metadata": {
    "colab": {
     "base_uri": "https://localhost:8080/"
    },
    "executionInfo": {
     "elapsed": 8,
     "status": "ok",
     "timestamp": 1653280168851,
     "user": {
      "displayName": "Neuro Labs",
      "userId": "15488119700446268077"
     },
     "user_tz": -330
    },
    "id": "hVNjaV2vK7cO",
    "outputId": "6e80e387-0637-40e9-a6ff-fc3fcce06c78"
   },
   "outputs": [
    {
     "data": {
      "text/plain": [
       "54.33333333333334"
      ]
     },
     "execution_count": 17,
     "metadata": {},
     "output_type": "execute_result"
    }
   ],
   "source": [
    "168.33333333333334 - 10 + 90 - 228 + 34"
   ]
  },
  {
   "cell_type": "code",
   "execution_count": null,
   "metadata": {
    "colab": {
     "base_uri": "https://localhost:8080/"
    },
    "executionInfo": {
     "elapsed": 7,
     "status": "ok",
     "timestamp": 1653280096004,
     "user": {
      "displayName": "Neuro Labs",
      "userId": "15488119700446268077"
     },
     "user_tz": -330
    },
    "id": "9a_EAXg2LAxh",
    "outputId": "a5462db7-0f5f-4834-a7f1-0a73d2597c30"
   },
   "outputs": [
    {
     "data": {
      "text/plain": [
       "54.333333333333314"
      ]
     },
     "execution_count": 16,
     "metadata": {},
     "output_type": "execute_result"
    }
   ],
   "source": [
    "34 * 7 / 3 + 89 - 2 * 5 + 90 - 3 * 76 + 34   "
   ]
  },
  {
   "cell_type": "code",
   "execution_count": null,
   "metadata": {
    "id": "-Lj86KrFLDpF"
   },
   "outputs": [],
   "source": []
  },
  {
   "cell_type": "code",
   "execution_count": null,
   "metadata": {
    "id": "VPrLqnpSOMrY"
   },
   "outputs": [],
   "source": [
    "# Assignment operators"
   ]
  },
  {
   "cell_type": "code",
   "execution_count": null,
   "metadata": {
    "id": "SGc9POTNOPpl"
   },
   "outputs": [],
   "source": [
    "d = 34"
   ]
  },
  {
   "cell_type": "code",
   "execution_count": null,
   "metadata": {
    "id": "wqDgDLlaOva3"
   },
   "outputs": [],
   "source": [
    "34 -> memory location (mmry address)\n",
    "d -> points towards that memory address"
   ]
  },
  {
   "cell_type": "code",
   "execution_count": null,
   "metadata": {
    "id": "LSsCE1dYPQvV"
   },
   "outputs": [],
   "source": [
    "x = 5"
   ]
  },
  {
   "cell_type": "code",
   "execution_count": null,
   "metadata": {
    "colab": {
     "base_uri": "https://localhost:8080/"
    },
    "executionInfo": {
     "elapsed": 6,
     "status": "ok",
     "timestamp": 1653281286965,
     "user": {
      "displayName": "Neuro Labs",
      "userId": "15488119700446268077"
     },
     "user_tz": -330
    },
    "id": "45L_bYXmPSoh",
    "outputId": "ae63e598-718b-4ec3-8675-1e69fc16b0e7"
   },
   "outputs": [
    {
     "data": {
      "text/plain": [
       "5"
      ]
     },
     "execution_count": 29,
     "metadata": {},
     "output_type": "execute_result"
    }
   ],
   "source": [
    "x"
   ]
  },
  {
   "cell_type": "code",
   "execution_count": null,
   "metadata": {
    "colab": {
     "base_uri": "https://localhost:8080/"
    },
    "executionInfo": {
     "elapsed": 11,
     "status": "ok",
     "timestamp": 1653281294149,
     "user": {
      "displayName": "Neuro Labs",
      "userId": "15488119700446268077"
     },
     "user_tz": -330
    },
    "id": "eO5HmUpzPnLT",
    "outputId": "64ef855c-254c-4d5b-f39f-550881c83b2b"
   },
   "outputs": [
    {
     "data": {
      "text/plain": [
       "11256192"
      ]
     },
     "execution_count": 30,
     "metadata": {},
     "output_type": "execute_result"
    }
   ],
   "source": [
    "id(x)"
   ]
  },
  {
   "cell_type": "code",
   "execution_count": null,
   "metadata": {
    "id": "7xp8xM8TPXcQ"
   },
   "outputs": [],
   "source": [
    "x = x + 15"
   ]
  },
  {
   "cell_type": "code",
   "execution_count": null,
   "metadata": {
    "colab": {
     "base_uri": "https://localhost:8080/"
    },
    "executionInfo": {
     "elapsed": 6,
     "status": "ok",
     "timestamp": 1653281299781,
     "user": {
      "displayName": "Neuro Labs",
      "userId": "15488119700446268077"
     },
     "user_tz": -330
    },
    "id": "61XxEr5KPiJW",
    "outputId": "faab84e5-7d5a-4898-ad47-69e99ff67c75"
   },
   "outputs": [
    {
     "data": {
      "text/plain": [
       "20"
      ]
     },
     "execution_count": 32,
     "metadata": {},
     "output_type": "execute_result"
    }
   ],
   "source": [
    "x "
   ]
  },
  {
   "cell_type": "code",
   "execution_count": null,
   "metadata": {
    "colab": {
     "base_uri": "https://localhost:8080/"
    },
    "executionInfo": {
     "elapsed": 6,
     "status": "ok",
     "timestamp": 1653281302915,
     "user": {
      "displayName": "Neuro Labs",
      "userId": "15488119700446268077"
     },
     "user_tz": -330
    },
    "id": "NqOWLzmHPkI8",
    "outputId": "4370de12-b524-4d21-dbf6-8a9a0c32f82b"
   },
   "outputs": [
    {
     "data": {
      "text/plain": [
       "11256672"
      ]
     },
     "execution_count": 33,
     "metadata": {},
     "output_type": "execute_result"
    }
   ],
   "source": [
    "id(x)"
   ]
  },
  {
   "cell_type": "code",
   "execution_count": null,
   "metadata": {
    "id": "p995vlr8PqPb"
   },
   "outputs": [],
   "source": [
    "x = x + 8"
   ]
  },
  {
   "cell_type": "code",
   "execution_count": null,
   "metadata": {
    "colab": {
     "base_uri": "https://localhost:8080/"
    },
    "executionInfo": {
     "elapsed": 361,
     "status": "ok",
     "timestamp": 1653281399379,
     "user": {
      "displayName": "Neuro Labs",
      "userId": "15488119700446268077"
     },
     "user_tz": -330
    },
    "id": "Y2e-SAbKQBWT",
    "outputId": "452a4863-fda8-470a-ffb6-ae9ba4e2f17c"
   },
   "outputs": [
    {
     "data": {
      "text/plain": [
       "28"
      ]
     },
     "execution_count": 35,
     "metadata": {},
     "output_type": "execute_result"
    }
   ],
   "source": [
    "x"
   ]
  },
  {
   "cell_type": "code",
   "execution_count": null,
   "metadata": {
    "id": "XTk3ezuVQBpt"
   },
   "outputs": [],
   "source": [
    "\n",
    "x += 8"
   ]
  },
  {
   "cell_type": "code",
   "execution_count": null,
   "metadata": {
    "colab": {
     "base_uri": "https://localhost:8080/"
    },
    "executionInfo": {
     "elapsed": 6,
     "status": "ok",
     "timestamp": 1653281423802,
     "user": {
      "displayName": "Neuro Labs",
      "userId": "15488119700446268077"
     },
     "user_tz": -330
    },
    "id": "SvMQ3y2TQG7S",
    "outputId": "72846a5b-2bc9-4227-d508-f757f930151b"
   },
   "outputs": [
    {
     "data": {
      "text/plain": [
       "36"
      ]
     },
     "execution_count": 37,
     "metadata": {},
     "output_type": "execute_result"
    }
   ],
   "source": [
    "x"
   ]
  },
  {
   "cell_type": "code",
   "execution_count": null,
   "metadata": {
    "id": "BD83TLqhQHxp"
   },
   "outputs": [],
   "source": [
    "x += 20"
   ]
  },
  {
   "cell_type": "code",
   "execution_count": null,
   "metadata": {
    "colab": {
     "base_uri": "https://localhost:8080/"
    },
    "executionInfo": {
     "elapsed": 7,
     "status": "ok",
     "timestamp": 1653281447482,
     "user": {
      "displayName": "Neuro Labs",
      "userId": "15488119700446268077"
     },
     "user_tz": -330
    },
    "id": "nCvxzbPJQNNZ",
    "outputId": "5bc64f38-a0af-44bb-8b5c-52f827797169"
   },
   "outputs": [
    {
     "data": {
      "text/plain": [
       "56"
      ]
     },
     "execution_count": 39,
     "metadata": {},
     "output_type": "execute_result"
    }
   ],
   "source": [
    "x"
   ]
  },
  {
   "cell_type": "code",
   "execution_count": null,
   "metadata": {
    "id": "19zOyc8GQNes"
   },
   "outputs": [],
   "source": [
    "k = 20"
   ]
  },
  {
   "cell_type": "code",
   "execution_count": null,
   "metadata": {
    "id": "hSSoN77XQd9l"
   },
   "outputs": [],
   "source": [
    "k = k - 56"
   ]
  },
  {
   "cell_type": "code",
   "execution_count": null,
   "metadata": {
    "colab": {
     "base_uri": "https://localhost:8080/"
    },
    "executionInfo": {
     "elapsed": 5,
     "status": "ok",
     "timestamp": 1653281525164,
     "user": {
      "displayName": "Neuro Labs",
      "userId": "15488119700446268077"
     },
     "user_tz": -330
    },
    "id": "QG3-4ioNQgE1",
    "outputId": "fcc2cd1a-4952-4fa8-fa09-5643702c49fa"
   },
   "outputs": [
    {
     "data": {
      "text/plain": [
       "-36"
      ]
     },
     "execution_count": 42,
     "metadata": {},
     "output_type": "execute_result"
    }
   ],
   "source": [
    "k"
   ]
  },
  {
   "cell_type": "code",
   "execution_count": null,
   "metadata": {
    "id": "1G6bpN5fQgeF"
   },
   "outputs": [],
   "source": [
    "k -= 34"
   ]
  },
  {
   "cell_type": "code",
   "execution_count": null,
   "metadata": {
    "colab": {
     "base_uri": "https://localhost:8080/"
    },
    "executionInfo": {
     "elapsed": 9,
     "status": "ok",
     "timestamp": 1653281539958,
     "user": {
      "displayName": "Neuro Labs",
      "userId": "15488119700446268077"
     },
     "user_tz": -330
    },
    "id": "1mOR2z0_QisS",
    "outputId": "43dcd115-85b9-43e9-e916-fb0a5a37dd9c"
   },
   "outputs": [
    {
     "data": {
      "text/plain": [
       "-70"
      ]
     },
     "execution_count": 44,
     "metadata": {},
     "output_type": "execute_result"
    }
   ],
   "source": [
    "k"
   ]
  },
  {
   "cell_type": "code",
   "execution_count": null,
   "metadata": {
    "id": "tPk1GHcUQj_y"
   },
   "outputs": [],
   "source": [
    "# addition\n",
    "# subtraction\n",
    "# multiplication\n",
    "# power\n",
    "# division\n",
    "# floor division \n",
    "# remainder"
   ]
  },
  {
   "cell_type": "code",
   "execution_count": null,
   "metadata": {
    "id": "da1ecuu4Vbpj"
   },
   "outputs": [],
   "source": []
  },
  {
   "cell_type": "code",
   "execution_count": null,
   "metadata": {
    "id": "UZZxP_bVVfh4"
   },
   "outputs": [],
   "source": [
    "#  comparison operator"
   ]
  },
  {
   "cell_type": "code",
   "execution_count": null,
   "metadata": {
    "id": "stkhu3ExVg9n"
   },
   "outputs": [],
   "source": [
    "a = 20 \n",
    "b = 455"
   ]
  },
  {
   "cell_type": "code",
   "execution_count": null,
   "metadata": {
    "colab": {
     "base_uri": "https://localhost:8080/"
    },
    "executionInfo": {
     "elapsed": 8,
     "status": "ok",
     "timestamp": 1653283060208,
     "user": {
      "displayName": "Neuro Labs",
      "userId": "15488119700446268077"
     },
     "user_tz": -330
    },
    "id": "3o6ly1-YWWqV",
    "outputId": "b44e3726-344e-4e8e-ed97-696325d67bbf"
   },
   "outputs": [
    {
     "data": {
      "text/plain": [
       "20"
      ]
     },
     "execution_count": 47,
     "metadata": {},
     "output_type": "execute_result"
    }
   ],
   "source": [
    "a "
   ]
  },
  {
   "cell_type": "code",
   "execution_count": null,
   "metadata": {
    "colab": {
     "base_uri": "https://localhost:8080/"
    },
    "executionInfo": {
     "elapsed": 8,
     "status": "ok",
     "timestamp": 1653283061548,
     "user": {
      "displayName": "Neuro Labs",
      "userId": "15488119700446268077"
     },
     "user_tz": -330
    },
    "id": "FXDNansjWXUW",
    "outputId": "2ba60209-ae9a-471f-f8fe-81d703a67837"
   },
   "outputs": [
    {
     "data": {
      "text/plain": [
       "455"
      ]
     },
     "execution_count": 48,
     "metadata": {},
     "output_type": "execute_result"
    }
   ],
   "source": [
    "b"
   ]
  },
  {
   "cell_type": "code",
   "execution_count": null,
   "metadata": {
    "colab": {
     "base_uri": "https://localhost:8080/"
    },
    "executionInfo": {
     "elapsed": 7,
     "status": "ok",
     "timestamp": 1653283076199,
     "user": {
      "displayName": "Neuro Labs",
      "userId": "15488119700446268077"
     },
     "user_tz": -330
    },
    "id": "lDvKrPkvWXpQ",
    "outputId": "1c4c8b21-9f12-4fce-d9a3-4429950296f9"
   },
   "outputs": [
    {
     "data": {
      "text/plain": [
       "False"
      ]
     },
     "execution_count": 49,
     "metadata": {},
     "output_type": "execute_result"
    }
   ],
   "source": [
    "a > b "
   ]
  },
  {
   "cell_type": "code",
   "execution_count": null,
   "metadata": {
    "colab": {
     "base_uri": "https://localhost:8080/"
    },
    "executionInfo": {
     "elapsed": 5,
     "status": "ok",
     "timestamp": 1653283111761,
     "user": {
      "displayName": "Neuro Labs",
      "userId": "15488119700446268077"
     },
     "user_tz": -330
    },
    "id": "W5mByI11WbPD",
    "outputId": "182d172a-21a5-4195-917b-fc2ebbd18233"
   },
   "outputs": [
    {
     "data": {
      "text/plain": [
       "False"
      ]
     },
     "execution_count": 50,
     "metadata": {},
     "output_type": "execute_result"
    }
   ],
   "source": [
    "20 > 455 "
   ]
  },
  {
   "cell_type": "code",
   "execution_count": null,
   "metadata": {
    "colab": {
     "base_uri": "https://localhost:8080/"
    },
    "executionInfo": {
     "elapsed": 5,
     "status": "ok",
     "timestamp": 1653283205829,
     "user": {
      "displayName": "Neuro Labs",
      "userId": "15488119700446268077"
     },
     "user_tz": -330
    },
    "id": "QngXs05xWj6f",
    "outputId": "afee0c55-4eea-4565-81c1-10b208cac935"
   },
   "outputs": [
    {
     "data": {
      "text/plain": [
       "False"
      ]
     },
     "execution_count": 51,
     "metadata": {},
     "output_type": "execute_result"
    }
   ],
   "source": [
    "67 < 34"
   ]
  },
  {
   "cell_type": "code",
   "execution_count": null,
   "metadata": {
    "colab": {
     "base_uri": "https://localhost:8080/"
    },
    "executionInfo": {
     "elapsed": 7,
     "status": "ok",
     "timestamp": 1653283216451,
     "user": {
      "displayName": "Neuro Labs",
      "userId": "15488119700446268077"
     },
     "user_tz": -330
    },
    "id": "HEFdMaKqW6xy",
    "outputId": "b5fae94a-a824-4150-bdd0-f267d1abf951"
   },
   "outputs": [
    {
     "data": {
      "text/plain": [
       "True"
      ]
     },
     "execution_count": 52,
     "metadata": {},
     "output_type": "execute_result"
    }
   ],
   "source": [
    "67 > 34"
   ]
  },
  {
   "cell_type": "code",
   "execution_count": null,
   "metadata": {
    "colab": {
     "base_uri": "https://localhost:8080/"
    },
    "executionInfo": {
     "elapsed": 6,
     "status": "ok",
     "timestamp": 1653283221984,
     "user": {
      "displayName": "Neuro Labs",
      "userId": "15488119700446268077"
     },
     "user_tz": -330
    },
    "id": "BfIyve7gW9cZ",
    "outputId": "d2717e7c-c445-4663-e6e7-1ae45312596d"
   },
   "outputs": [
    {
     "data": {
      "text/plain": [
       "False"
      ]
     },
     "execution_count": 53,
     "metadata": {},
     "output_type": "execute_result"
    }
   ],
   "source": [
    "4 == 5"
   ]
  },
  {
   "cell_type": "code",
   "execution_count": null,
   "metadata": {
    "colab": {
     "base_uri": "https://localhost:8080/"
    },
    "executionInfo": {
     "elapsed": 14,
     "status": "ok",
     "timestamp": 1653283237148,
     "user": {
      "displayName": "Neuro Labs",
      "userId": "15488119700446268077"
     },
     "user_tz": -330
    },
    "id": "ZtY_DcknW-32",
    "outputId": "e8717f0f-fbbd-4b2d-e69b-95981e07a3f1"
   },
   "outputs": [
    {
     "data": {
      "text/plain": [
       "True"
      ]
     },
     "execution_count": 54,
     "metadata": {},
     "output_type": "execute_result"
    }
   ],
   "source": [
    "3 == 3"
   ]
  },
  {
   "cell_type": "code",
   "execution_count": null,
   "metadata": {
    "colab": {
     "base_uri": "https://localhost:8080/"
    },
    "executionInfo": {
     "elapsed": 8,
     "status": "ok",
     "timestamp": 1653283254559,
     "user": {
      "displayName": "Neuro Labs",
      "userId": "15488119700446268077"
     },
     "user_tz": -330
    },
    "id": "LpiuArWQXCiF",
    "outputId": "b81c8124-714e-4148-ee9d-c151194e68a7"
   },
   "outputs": [
    {
     "data": {
      "text/plain": [
       "True"
      ]
     },
     "execution_count": 55,
     "metadata": {},
     "output_type": "execute_result"
    }
   ],
   "source": [
    "25 != 34"
   ]
  },
  {
   "cell_type": "code",
   "execution_count": null,
   "metadata": {
    "colab": {
     "base_uri": "https://localhost:8080/"
    },
    "executionInfo": {
     "elapsed": 600,
     "status": "ok",
     "timestamp": 1653283263590,
     "user": {
      "displayName": "Neuro Labs",
      "userId": "15488119700446268077"
     },
     "user_tz": -330
    },
    "id": "0FNDqTj0XGyH",
    "outputId": "7579a455-03d7-46dd-f3d6-fbf352b8b150"
   },
   "outputs": [
    {
     "data": {
      "text/plain": [
       "False"
      ]
     },
     "execution_count": 56,
     "metadata": {},
     "output_type": "execute_result"
    }
   ],
   "source": [
    "45 != 45"
   ]
  },
  {
   "cell_type": "code",
   "execution_count": null,
   "metadata": {
    "colab": {
     "base_uri": "https://localhost:8080/"
    },
    "executionInfo": {
     "elapsed": 342,
     "status": "ok",
     "timestamp": 1653283346067,
     "user": {
      "displayName": "Neuro Labs",
      "userId": "15488119700446268077"
     },
     "user_tz": -330
    },
    "id": "b3FrvYD1XI9S",
    "outputId": "89c5f975-c090-43e6-fffb-63cee5f7caee"
   },
   "outputs": [
    {
     "data": {
      "text/plain": [
       "False"
      ]
     },
     "execution_count": 57,
     "metadata": {},
     "output_type": "execute_result"
    }
   ],
   "source": [
    "3 >= 5"
   ]
  },
  {
   "cell_type": "code",
   "execution_count": null,
   "metadata": {
    "colab": {
     "base_uri": "https://localhost:8080/"
    },
    "executionInfo": {
     "elapsed": 7,
     "status": "ok",
     "timestamp": 1653283367345,
     "user": {
      "displayName": "Neuro Labs",
      "userId": "15488119700446268077"
     },
     "user_tz": -330
    },
    "id": "jh19Vec1XdHM",
    "outputId": "afeb6129-5987-4666-a28b-6981214b6bf9"
   },
   "outputs": [
    {
     "data": {
      "text/plain": [
       "True"
      ]
     },
     "execution_count": 58,
     "metadata": {},
     "output_type": "execute_result"
    }
   ],
   "source": [
    "65 >= 64"
   ]
  },
  {
   "cell_type": "code",
   "execution_count": null,
   "metadata": {
    "colab": {
     "base_uri": "https://localhost:8080/"
    },
    "executionInfo": {
     "elapsed": 5,
     "status": "ok",
     "timestamp": 1653283378735,
     "user": {
      "displayName": "Neuro Labs",
      "userId": "15488119700446268077"
     },
     "user_tz": -330
    },
    "id": "3j6IaqbhXiWV",
    "outputId": "9a07f8e5-8b8f-4728-c529-35b06c13c506"
   },
   "outputs": [
    {
     "data": {
      "text/plain": [
       "True"
      ]
     },
     "execution_count": 59,
     "metadata": {},
     "output_type": "execute_result"
    }
   ],
   "source": [
    "65 >= 65"
   ]
  },
  {
   "cell_type": "code",
   "execution_count": null,
   "metadata": {
    "colab": {
     "base_uri": "https://localhost:8080/"
    },
    "executionInfo": {
     "elapsed": 6,
     "status": "ok",
     "timestamp": 1653283383120,
     "user": {
      "displayName": "Neuro Labs",
      "userId": "15488119700446268077"
     },
     "user_tz": -330
    },
    "id": "AknPcnAaXlBV",
    "outputId": "fe25da45-4e0c-4269-8006-f492e1a1401d"
   },
   "outputs": [
    {
     "data": {
      "text/plain": [
       "False"
      ]
     },
     "execution_count": 60,
     "metadata": {},
     "output_type": "execute_result"
    }
   ],
   "source": [
    "65 > 65"
   ]
  },
  {
   "cell_type": "code",
   "execution_count": null,
   "metadata": {
    "id": "D3pfBBu2XmNL"
   },
   "outputs": [],
   "source": [
    "# >\n",
    "# <\n",
    "# ==\n",
    "# !=\n",
    "# >=\n",
    "# <="
   ]
  },
  {
   "cell_type": "code",
   "execution_count": null,
   "metadata": {
    "id": "DH8DeKcKfIfx"
   },
   "outputs": [],
   "source": []
  },
  {
   "cell_type": "code",
   "execution_count": null,
   "metadata": {
    "id": "06A8cKysfIix"
   },
   "outputs": [],
   "source": [
    "# Logical Operators"
   ]
  },
  {
   "cell_type": "code",
   "execution_count": null,
   "metadata": {
    "id": "-CfeVUNnfKcj"
   },
   "outputs": [],
   "source": [
    "# and:  both left and right shld be true\n",
    "# or:   any one of the left and right can be true\n",
    "# not"
   ]
  },
  {
   "cell_type": "code",
   "execution_count": null,
   "metadata": {
    "id": "k_AwXgEAfLzn"
   },
   "outputs": [],
   "source": [
    "a = 34\n",
    "b = 56"
   ]
  },
  {
   "cell_type": "code",
   "execution_count": null,
   "metadata": {
    "colab": {
     "base_uri": "https://localhost:8080/"
    },
    "executionInfo": {
     "elapsed": 340,
     "status": "ok",
     "timestamp": 1653285609496,
     "user": {
      "displayName": "Neuro Labs",
      "userId": "15488119700446268077"
     },
     "user_tz": -330
    },
    "id": "_Abr3-FbfOcW",
    "outputId": "c492842f-2dda-497f-cca5-7b6d30320ec7"
   },
   "outputs": [
    {
     "data": {
      "text/plain": [
       "True"
      ]
     },
     "execution_count": 70,
     "metadata": {},
     "output_type": "execute_result"
    }
   ],
   "source": [
    "(a < b) and (a > 5)"
   ]
  },
  {
   "cell_type": "code",
   "execution_count": null,
   "metadata": {
    "colab": {
     "base_uri": "https://localhost:8080/"
    },
    "executionInfo": {
     "elapsed": 6,
     "status": "ok",
     "timestamp": 1653285609965,
     "user": {
      "displayName": "Neuro Labs",
      "userId": "15488119700446268077"
     },
     "user_tz": -330
    },
    "id": "25ivCWOKfdyB",
    "outputId": "bfb9cc5f-402b-46e1-9a77-0d9036b57409"
   },
   "outputs": [
    {
     "data": {
      "text/plain": [
       "True"
      ]
     },
     "execution_count": 71,
     "metadata": {},
     "output_type": "execute_result"
    }
   ],
   "source": [
    "a<b"
   ]
  },
  {
   "cell_type": "code",
   "execution_count": null,
   "metadata": {
    "colab": {
     "base_uri": "https://localhost:8080/"
    },
    "executionInfo": {
     "elapsed": 6,
     "status": "ok",
     "timestamp": 1653285613123,
     "user": {
      "displayName": "Neuro Labs",
      "userId": "15488119700446268077"
     },
     "user_tz": -330
    },
    "id": "rTKC6RRsfinH",
    "outputId": "1f135290-09d0-48f1-c823-20edd3710947"
   },
   "outputs": [
    {
     "data": {
      "text/plain": [
       "True"
      ]
     },
     "execution_count": 72,
     "metadata": {},
     "output_type": "execute_result"
    }
   ],
   "source": [
    "a > 5"
   ]
  },
  {
   "cell_type": "code",
   "execution_count": null,
   "metadata": {
    "colab": {
     "base_uri": "https://localhost:8080/"
    },
    "executionInfo": {
     "elapsed": 6,
     "status": "ok",
     "timestamp": 1653285650733,
     "user": {
      "displayName": "Neuro Labs",
      "userId": "15488119700446268077"
     },
     "user_tz": -330
    },
    "id": "ZDPJq6uTgJdf",
    "outputId": "a75c20cb-790f-4e0f-f74a-02e2c52339b4"
   },
   "outputs": [
    {
     "data": {
      "text/plain": [
       "True"
      ]
     },
     "execution_count": 74,
     "metadata": {},
     "output_type": "execute_result"
    }
   ],
   "source": [
    "a > 5  or  a>b"
   ]
  },
  {
   "cell_type": "code",
   "execution_count": null,
   "metadata": {
    "colab": {
     "base_uri": "https://localhost:8080/"
    },
    "executionInfo": {
     "elapsed": 12,
     "status": "ok",
     "timestamp": 1653285654837,
     "user": {
      "displayName": "Neuro Labs",
      "userId": "15488119700446268077"
     },
     "user_tz": -330
    },
    "id": "Q-t8rh3BgNdK",
    "outputId": "02aa96cc-db33-46d4-8759-32e8ce29f217"
   },
   "outputs": [
    {
     "data": {
      "text/plain": [
       "True"
      ]
     },
     "execution_count": 75,
     "metadata": {},
     "output_type": "execute_result"
    }
   ],
   "source": [
    "a > 5"
   ]
  },
  {
   "cell_type": "code",
   "execution_count": null,
   "metadata": {
    "colab": {
     "base_uri": "https://localhost:8080/"
    },
    "executionInfo": {
     "elapsed": 7,
     "status": "ok",
     "timestamp": 1653285658265,
     "user": {
      "displayName": "Neuro Labs",
      "userId": "15488119700446268077"
     },
     "user_tz": -330
    },
    "id": "VS1sV9VFgNgf",
    "outputId": "904d84a7-fa54-40f6-9a36-00248846dde6"
   },
   "outputs": [
    {
     "data": {
      "text/plain": [
       "False"
      ]
     },
     "execution_count": 76,
     "metadata": {},
     "output_type": "execute_result"
    }
   ],
   "source": [
    "a>b"
   ]
  },
  {
   "cell_type": "code",
   "execution_count": null,
   "metadata": {
    "id": "W8UU9DyzgNiG"
   },
   "outputs": [],
   "source": []
  },
  {
   "cell_type": "code",
   "execution_count": null,
   "metadata": {
    "id": "l4clTDl_gkZQ"
   },
   "outputs": [],
   "source": []
  },
  {
   "cell_type": "code",
   "execution_count": null,
   "metadata": {
    "id": "KRbqazWvfjap"
   },
   "outputs": [],
   "source": [
    "                   output\n",
    "True and True      True\n",
    "True and False     False\n",
    "False and True     False\n",
    "False and False    False "
   ]
  },
  {
   "cell_type": "code",
   "execution_count": null,
   "metadata": {
    "id": "GOeDVRTLf3JU"
   },
   "outputs": [],
   "source": [
    "                   output\n",
    "True or True      True\n",
    "True or False     True\n",
    "False or True     True\n",
    "False or False    False "
   ]
  },
  {
   "cell_type": "code",
   "execution_count": null,
   "metadata": {
    "id": "V5z6_fe6glN2"
   },
   "outputs": [],
   "source": []
  },
  {
   "cell_type": "code",
   "execution_count": null,
   "metadata": {
    "id": "o8qfN3LLglRi"
   },
   "outputs": [],
   "source": []
  },
  {
   "cell_type": "code",
   "execution_count": null,
   "metadata": {
    "colab": {
     "base_uri": "https://localhost:8080/"
    },
    "executionInfo": {
     "elapsed": 8,
     "status": "ok",
     "timestamp": 1653285743712,
     "user": {
      "displayName": "Neuro Labs",
      "userId": "15488119700446268077"
     },
     "user_tz": -330
    },
    "id": "FAXWw2DHglVF",
    "outputId": "b1939db7-e051-44a1-941a-417924bc8efe"
   },
   "outputs": [
    {
     "data": {
      "text/plain": [
       "False"
      ]
     },
     "execution_count": 77,
     "metadata": {},
     "output_type": "execute_result"
    }
   ],
   "source": [
    "not True"
   ]
  },
  {
   "cell_type": "code",
   "execution_count": null,
   "metadata": {
    "colab": {
     "base_uri": "https://localhost:8080/"
    },
    "executionInfo": {
     "elapsed": 7,
     "status": "ok",
     "timestamp": 1653285750448,
     "user": {
      "displayName": "Neuro Labs",
      "userId": "15488119700446268077"
     },
     "user_tz": -330
    },
    "id": "vpTjiBvygmZY",
    "outputId": "375fb5d1-e44f-4116-9593-7e4cc726d2c4"
   },
   "outputs": [
    {
     "data": {
      "text/plain": [
       "True"
      ]
     },
     "execution_count": 78,
     "metadata": {},
     "output_type": "execute_result"
    }
   ],
   "source": [
    "not a>b"
   ]
  },
  {
   "cell_type": "code",
   "execution_count": null,
   "metadata": {
    "id": "pWYv7JjRgoL7"
   },
   "outputs": [],
   "source": []
  },
  {
   "cell_type": "code",
   "execution_count": null,
   "metadata": {
    "id": "Y2w0_-wEoKkT"
   },
   "outputs": [],
   "source": [
    "# Identity Operator"
   ]
  },
  {
   "cell_type": "code",
   "execution_count": null,
   "metadata": {
    "id": "4J-oD0YKobZb"
   },
   "outputs": [],
   "source": [
    "# It checks for the memory location"
   ]
  },
  {
   "cell_type": "code",
   "execution_count": null,
   "metadata": {
    "id": "gAhDpuw0oft_"
   },
   "outputs": [],
   "source": [
    "x = 20 \n",
    "y = 20"
   ]
  },
  {
   "cell_type": "code",
   "execution_count": null,
   "metadata": {
    "colab": {
     "base_uri": "https://localhost:8080/"
    },
    "executionInfo": {
     "elapsed": 4,
     "status": "ok",
     "timestamp": 1653287827288,
     "user": {
      "displayName": "Neuro Labs",
      "userId": "15488119700446268077"
     },
     "user_tz": -330
    },
    "id": "T0Y3UDCGoh76",
    "outputId": "9e32e61f-ea2d-4152-8f62-80edf4a810b5"
   },
   "outputs": [
    {
     "data": {
      "text/plain": [
       "True"
      ]
     },
     "execution_count": 82,
     "metadata": {},
     "output_type": "execute_result"
    }
   ],
   "source": [
    "x == y  # == means it checks the quantity/value"
   ]
  },
  {
   "cell_type": "code",
   "execution_count": null,
   "metadata": {
    "colab": {
     "base_uri": "https://localhost:8080/"
    },
    "executionInfo": {
     "elapsed": 2,
     "status": "ok",
     "timestamp": 1653287888543,
     "user": {
      "displayName": "Neuro Labs",
      "userId": "15488119700446268077"
     },
     "user_tz": -330
    },
    "id": "fkzV18bzojHK",
    "outputId": "f84d77d9-57b7-4b32-d201-ecdab89b8c90"
   },
   "outputs": [
    {
     "data": {
      "text/plain": [
       "11256672"
      ]
     },
     "execution_count": 84,
     "metadata": {},
     "output_type": "execute_result"
    }
   ],
   "source": [
    "id(x) # memory location of x"
   ]
  },
  {
   "cell_type": "code",
   "execution_count": null,
   "metadata": {
    "colab": {
     "base_uri": "https://localhost:8080/"
    },
    "executionInfo": {
     "elapsed": 3,
     "status": "ok",
     "timestamp": 1653287899112,
     "user": {
      "displayName": "Neuro Labs",
      "userId": "15488119700446268077"
     },
     "user_tz": -330
    },
    "id": "Ymsr9zXoovLv",
    "outputId": "26bf90ac-c4b5-45fb-d230-91723c38c847"
   },
   "outputs": [
    {
     "data": {
      "text/plain": [
       "11256672"
      ]
     },
     "execution_count": 85,
     "metadata": {},
     "output_type": "execute_result"
    }
   ],
   "source": [
    "id(y) # memory location of y"
   ]
  },
  {
   "cell_type": "code",
   "execution_count": null,
   "metadata": {
    "colab": {
     "base_uri": "https://localhost:8080/"
    },
    "executionInfo": {
     "elapsed": 3,
     "status": "ok",
     "timestamp": 1653287906198,
     "user": {
      "displayName": "Neuro Labs",
      "userId": "15488119700446268077"
     },
     "user_tz": -330
    },
    "id": "cPAql2wUo0dr",
    "outputId": "72d55fff-53d8-488a-f64b-5f655a81c5a7"
   },
   "outputs": [
    {
     "data": {
      "text/plain": [
       "True"
      ]
     },
     "execution_count": 86,
     "metadata": {},
     "output_type": "execute_result"
    }
   ],
   "source": [
    "x is y  # it checks whether x and y have same memory location or not"
   ]
  },
  {
   "cell_type": "code",
   "execution_count": null,
   "metadata": {
    "id": "Cyku6Vaao2cI"
   },
   "outputs": [],
   "source": [
    "m = 45\n",
    "n = 46"
   ]
  },
  {
   "cell_type": "code",
   "execution_count": null,
   "metadata": {
    "colab": {
     "base_uri": "https://localhost:8080/"
    },
    "executionInfo": {
     "elapsed": 321,
     "status": "ok",
     "timestamp": 1653287969727,
     "user": {
      "displayName": "Neuro Labs",
      "userId": "15488119700446268077"
     },
     "user_tz": -330
    },
    "id": "ilyazW-GpESg",
    "outputId": "f106757a-2cfd-424c-88b1-b0d1a85a513f"
   },
   "outputs": [
    {
     "data": {
      "text/plain": [
       "(11257472, 11257504)"
      ]
     },
     "execution_count": 90,
     "metadata": {},
     "output_type": "execute_result"
    }
   ],
   "source": [
    "id(m), id(n)"
   ]
  },
  {
   "cell_type": "code",
   "execution_count": null,
   "metadata": {
    "colab": {
     "base_uri": "https://localhost:8080/"
    },
    "executionInfo": {
     "elapsed": 334,
     "status": "ok",
     "timestamp": 1653287958465,
     "user": {
      "displayName": "Neuro Labs",
      "userId": "15488119700446268077"
     },
     "user_tz": -330
    },
    "id": "D5-A9-9VpAu_",
    "outputId": "5a90a1d5-9223-45f7-bbc7-4dc8a6ce95c9"
   },
   "outputs": [
    {
     "data": {
      "text/plain": [
       "False"
      ]
     },
     "execution_count": 89,
     "metadata": {},
     "output_type": "execute_result"
    }
   ],
   "source": [
    "m is n "
   ]
  },
  {
   "cell_type": "code",
   "execution_count": null,
   "metadata": {
    "colab": {
     "base_uri": "https://localhost:8080/"
    },
    "executionInfo": {
     "elapsed": 2,
     "status": "ok",
     "timestamp": 1653287987096,
     "user": {
      "displayName": "Neuro Labs",
      "userId": "15488119700446268077"
     },
     "user_tz": -330
    },
    "id": "fRwsPFI1pBmP",
    "outputId": "b42f7fc1-462a-4cd5-adaf-9d6bc142b401"
   },
   "outputs": [
    {
     "data": {
      "text/plain": [
       "True"
      ]
     },
     "execution_count": 91,
     "metadata": {},
     "output_type": "execute_result"
    }
   ],
   "source": [
    "m is not n"
   ]
  },
  {
   "cell_type": "code",
   "execution_count": null,
   "metadata": {
    "id": "TPSRYZlMpKMH"
   },
   "outputs": [],
   "source": []
  },
  {
   "cell_type": "code",
   "execution_count": null,
   "metadata": {
    "id": "iuWIpj19r4gl"
   },
   "outputs": [],
   "source": [
    "# membership operator"
   ]
  },
  {
   "cell_type": "code",
   "execution_count": null,
   "metadata": {
    "id": "420ASp05r6AZ"
   },
   "outputs": [],
   "source": [
    "in, not in"
   ]
  },
  {
   "cell_type": "code",
   "execution_count": null,
   "metadata": {
    "id": "DFMVhB-Wr8z9"
   },
   "outputs": [],
   "source": [
    "names = ['Taj', 'Coffee', 'jim']"
   ]
  },
  {
   "cell_type": "code",
   "execution_count": null,
   "metadata": {
    "colab": {
     "base_uri": "https://localhost:8080/"
    },
    "executionInfo": {
     "elapsed": 3,
     "status": "ok",
     "timestamp": 1653288785778,
     "user": {
      "displayName": "Neuro Labs",
      "userId": "15488119700446268077"
     },
     "user_tz": -330
    },
    "id": "ghStoRm0r894",
    "outputId": "ff6d9d48-7d60-4bcc-e8d2-567d09fa1981"
   },
   "outputs": [
    {
     "data": {
      "text/plain": [
       "True"
      ]
     },
     "execution_count": 94,
     "metadata": {},
     "output_type": "execute_result"
    }
   ],
   "source": [
    "'jim' in names"
   ]
  },
  {
   "cell_type": "code",
   "execution_count": null,
   "metadata": {
    "id": "K1DVfgCxsNI1"
   },
   "outputs": [],
   "source": [
    "val = [12, 23, 45, 56]"
   ]
  },
  {
   "cell_type": "code",
   "execution_count": null,
   "metadata": {
    "colab": {
     "base_uri": "https://localhost:8080/"
    },
    "executionInfo": {
     "elapsed": 2,
     "status": "ok",
     "timestamp": 1653288803906,
     "user": {
      "displayName": "Neuro Labs",
      "userId": "15488119700446268077"
     },
     "user_tz": -330
    },
    "id": "ry4QMgNzsQqm",
    "outputId": "0c96d9b4-3037-4820-cc29-2dad61f87f50"
   },
   "outputs": [
    {
     "data": {
      "text/plain": [
       "True"
      ]
     },
     "execution_count": 96,
     "metadata": {},
     "output_type": "execute_result"
    }
   ],
   "source": [
    "12 in val"
   ]
  },
  {
   "cell_type": "code",
   "execution_count": null,
   "metadata": {
    "colab": {
     "base_uri": "https://localhost:8080/"
    },
    "executionInfo": {
     "elapsed": 3,
     "status": "ok",
     "timestamp": 1653288834517,
     "user": {
      "displayName": "Neuro Labs",
      "userId": "15488119700446268077"
     },
     "user_tz": -330
    },
    "id": "7syRZjgSsRrR",
    "outputId": "1c26b777-b1fe-4c17-a103-b41e029f7196"
   },
   "outputs": [
    {
     "data": {
      "text/plain": [
       "True"
      ]
     },
     "execution_count": 97,
     "metadata": {},
     "output_type": "execute_result"
    }
   ],
   "source": [
    "13 not in val"
   ]
  },
  {
   "cell_type": "code",
   "execution_count": null,
   "metadata": {
    "colab": {
     "base_uri": "https://localhost:8080/"
    },
    "executionInfo": {
     "elapsed": 5,
     "status": "ok",
     "timestamp": 1653288845192,
     "user": {
      "displayName": "Neuro Labs",
      "userId": "15488119700446268077"
     },
     "user_tz": -330
    },
    "id": "3QzUeUD5sZCv",
    "outputId": "c237b5ec-9752-4e4b-b8fe-2cf4319c56d5"
   },
   "outputs": [
    {
     "data": {
      "text/plain": [
       "False"
      ]
     },
     "execution_count": 98,
     "metadata": {},
     "output_type": "execute_result"
    }
   ],
   "source": [
    "13 in val"
   ]
  },
  {
   "cell_type": "code",
   "execution_count": null,
   "metadata": {
    "id": "NPuE2NXnsbsI"
   },
   "outputs": [],
   "source": [
    "text_data = 'hi i am new to this class'"
   ]
  },
  {
   "cell_type": "code",
   "execution_count": null,
   "metadata": {
    "colab": {
     "base_uri": "https://localhost:8080/"
    },
    "executionInfo": {
     "elapsed": 2,
     "status": "ok",
     "timestamp": 1653288994796,
     "user": {
      "displayName": "Neuro Labs",
      "userId": "15488119700446268077"
     },
     "user_tz": -330
    },
    "id": "smZKvkTPs9zI",
    "outputId": "24d64f3b-cc5f-40e2-d65b-e74695158295"
   },
   "outputs": [
    {
     "data": {
      "text/plain": [
       "True"
      ]
     },
     "execution_count": 100,
     "metadata": {},
     "output_type": "execute_result"
    }
   ],
   "source": [
    "'am' in text_data"
   ]
  },
  {
   "cell_type": "code",
   "execution_count": null,
   "metadata": {
    "colab": {
     "base_uri": "https://localhost:8080/"
    },
    "executionInfo": {
     "elapsed": 3,
     "status": "ok",
     "timestamp": 1653289018351,
     "user": {
      "displayName": "Neuro Labs",
      "userId": "15488119700446268077"
     },
     "user_tz": -330
    },
    "id": "yPQWak3FtAHJ",
    "outputId": "10266bea-9516-44e4-ba86-ec42228add31"
   },
   "outputs": [
    {
     "data": {
      "text/plain": [
       "False"
      ]
     },
     "execution_count": 101,
     "metadata": {},
     "output_type": "execute_result"
    }
   ],
   "source": [
    "'am  ' in text_data"
   ]
  },
  {
   "cell_type": "code",
   "execution_count": null,
   "metadata": {
    "id": "mTS9NZPBtF-e"
   },
   "outputs": [],
   "source": [
    "# Data Types\n",
    "\n",
    "int      #23, 34, 45, 56\n",
    "float    #24.57, 65.23, 31.33\n",
    "bool     #True, False\n",
    "str      # 'hey', \"hey\", \"hello\", 'hello'\n",
    "list     # [1, 2, 3, 4, 'tree']\n",
    "tuple    # (12, 23, 45, 67)\n",
    "set      # {12, 2, 3, 5}\n",
    "dict     # {\"A\":34, \"B\":3.33, 'C':\"truth\"}            "
   ]
  },
  {
   "cell_type": "code",
   "execution_count": null,
   "metadata": {
    "colab": {
     "base_uri": "https://localhost:8080/"
    },
    "executionInfo": {
     "elapsed": 387,
     "status": "ok",
     "timestamp": 1653295758710,
     "user": {
      "displayName": "Neuro Labs",
      "userId": "15488119700446268077"
     },
     "user_tz": -330
    },
    "id": "tAyJyvBwDW_R",
    "outputId": "ad959bd2-29bf-424a-ae67-9944ae99a53a"
   },
   "outputs": [
    {
     "data": {
      "text/plain": [
       "(12, 'des')"
      ]
     },
     "execution_count": 1,
     "metadata": {},
     "output_type": "execute_result"
    }
   ],
   "source": [
    "(12, 'des')"
   ]
  },
  {
   "cell_type": "code",
   "execution_count": null,
   "metadata": {
    "colab": {
     "base_uri": "https://localhost:8080/"
    },
    "executionInfo": {
     "elapsed": 5,
     "status": "ok",
     "timestamp": 1653295764195,
     "user": {
      "displayName": "Neuro Labs",
      "userId": "15488119700446268077"
     },
     "user_tz": -330
    },
    "id": "ItVsJC2KGzkC",
    "outputId": "bc52f4b9-452e-4f98-cb58-11360178b831"
   },
   "outputs": [
    {
     "data": {
      "text/plain": [
       "{12, 'des'}"
      ]
     },
     "execution_count": 2,
     "metadata": {},
     "output_type": "execute_result"
    }
   ],
   "source": [
    "{12, 'des'}"
   ]
  },
  {
   "cell_type": "code",
   "execution_count": null,
   "metadata": {
    "id": "gCwJp_ORG0yQ"
   },
   "outputs": [],
   "source": [
    "# strings"
   ]
  },
  {
   "cell_type": "code",
   "execution_count": null,
   "metadata": {
    "id": "hJIkvZM9HQgI"
   },
   "outputs": [],
   "source": [
    "h = 'guru'\n",
    "\n",
    "i = \"gurupara\""
   ]
  },
  {
   "cell_type": "code",
   "execution_count": null,
   "metadata": {
    "colab": {
     "base_uri": "https://localhost:8080/",
     "height": 36
    },
    "executionInfo": {
     "elapsed": 871,
     "status": "ok",
     "timestamp": 1653295940305,
     "user": {
      "displayName": "Neuro Labs",
      "userId": "15488119700446268077"
     },
     "user_tz": -330
    },
    "id": "OXGUgqOEHWTH",
    "outputId": "1cee2935-c581-4920-e241-31a3485f2d4b"
   },
   "outputs": [
    {
     "data": {
      "application/vnd.google.colaboratory.intrinsic+json": {
       "type": "string"
      },
      "text/plain": [
       "'guru'"
      ]
     },
     "execution_count": 6,
     "metadata": {},
     "output_type": "execute_result"
    }
   ],
   "source": [
    "h"
   ]
  },
  {
   "cell_type": "code",
   "execution_count": null,
   "metadata": {
    "colab": {
     "base_uri": "https://localhost:8080/",
     "height": 36
    },
    "executionInfo": {
     "elapsed": 1248,
     "status": "ok",
     "timestamp": 1653295948629,
     "user": {
      "displayName": "Neuro Labs",
      "userId": "15488119700446268077"
     },
     "user_tz": -330
    },
    "id": "Doxxzv8VHXNj",
    "outputId": "aaab80e3-48b6-47a7-c601-de49fe99b6cd"
   },
   "outputs": [
    {
     "data": {
      "application/vnd.google.colaboratory.intrinsic+json": {
       "type": "string"
      },
      "text/plain": [
       "'gurupara'"
      ]
     },
     "execution_count": 7,
     "metadata": {},
     "output_type": "execute_result"
    }
   ],
   "source": [
    "i"
   ]
  },
  {
   "cell_type": "code",
   "execution_count": null,
   "metadata": {
    "id": "HNxBV15lHg-6"
   },
   "outputs": [],
   "source": [
    "# string indexing (extracting a single element)"
   ]
  },
  {
   "cell_type": "code",
   "execution_count": null,
   "metadata": {
    "id": "qgI9FkfcHoK5"
   },
   "outputs": [],
   "source": [
    "# index: in python index starts with 0, for strings every character will have an index"
   ]
  },
  {
   "cell_type": "code",
   "execution_count": null,
   "metadata": {
    "id": "ylsf11aLHub6"
   },
   "outputs": [],
   "source": [
    "'guru@'\n",
    "\n",
    "g: 0  -5\n",
    "u: 1  -4\n",
    "r: 2  -3\n",
    "u: 3  -2\n",
    "@: 4  -1\n",
    "\n",
    "\n",
    "positive indexing:  0  1  2  3  4 (left to right)\n",
    "negative indexing: -5 -4 -3 -2 -1 (right to left)"
   ]
  },
  {
   "cell_type": "code",
   "execution_count": null,
   "metadata": {
    "colab": {
     "base_uri": "https://localhost:8080/",
     "height": 36
    },
    "executionInfo": {
     "elapsed": 15,
     "status": "ok",
     "timestamp": 1653296104194,
     "user": {
      "displayName": "Neuro Labs",
      "userId": "15488119700446268077"
     },
     "user_tz": -330
    },
    "id": "TdbUljkcIHc8",
    "outputId": "d7d79b39-fd79-4586-c28c-e7ac59e7b9fd"
   },
   "outputs": [
    {
     "data": {
      "application/vnd.google.colaboratory.intrinsic+json": {
       "type": "string"
      },
      "text/plain": [
       "'guru'"
      ]
     },
     "execution_count": 10,
     "metadata": {},
     "output_type": "execute_result"
    }
   ],
   "source": [
    "h"
   ]
  },
  {
   "cell_type": "code",
   "execution_count": null,
   "metadata": {
    "colab": {
     "base_uri": "https://localhost:8080/",
     "height": 36
    },
    "executionInfo": {
     "elapsed": 12,
     "status": "ok",
     "timestamp": 1653296115360,
     "user": {
      "displayName": "Neuro Labs",
      "userId": "15488119700446268077"
     },
     "user_tz": -330
    },
    "id": "h4J_HKC7IH0-",
    "outputId": "a59c8faf-8676-4021-cdaf-06459e2a1da9"
   },
   "outputs": [
    {
     "data": {
      "application/vnd.google.colaboratory.intrinsic+json": {
       "type": "string"
      },
      "text/plain": [
       "'g'"
      ]
     },
     "execution_count": 11,
     "metadata": {},
     "output_type": "execute_result"
    }
   ],
   "source": [
    "h[0]"
   ]
  },
  {
   "cell_type": "code",
   "execution_count": null,
   "metadata": {
    "colab": {
     "base_uri": "https://localhost:8080/",
     "height": 36
    },
    "executionInfo": {
     "elapsed": 16,
     "status": "ok",
     "timestamp": 1653296122394,
     "user": {
      "displayName": "Neuro Labs",
      "userId": "15488119700446268077"
     },
     "user_tz": -330
    },
    "id": "gnzWKBh7IKn4",
    "outputId": "e4053294-1ed7-41c7-886e-829ae9e0dd33"
   },
   "outputs": [
    {
     "data": {
      "application/vnd.google.colaboratory.intrinsic+json": {
       "type": "string"
      },
      "text/plain": [
       "'u'"
      ]
     },
     "execution_count": 12,
     "metadata": {},
     "output_type": "execute_result"
    }
   ],
   "source": [
    "h[1]"
   ]
  },
  {
   "cell_type": "code",
   "execution_count": null,
   "metadata": {
    "colab": {
     "base_uri": "https://localhost:8080/",
     "height": 36
    },
    "executionInfo": {
     "elapsed": 7,
     "status": "ok",
     "timestamp": 1653296127471,
     "user": {
      "displayName": "Neuro Labs",
      "userId": "15488119700446268077"
     },
     "user_tz": -330
    },
    "id": "BNwSViTKIMJt",
    "outputId": "ab0317a6-4c41-4d9f-e2d3-1c8c4e734d7a"
   },
   "outputs": [
    {
     "data": {
      "application/vnd.google.colaboratory.intrinsic+json": {
       "type": "string"
      },
      "text/plain": [
       "'r'"
      ]
     },
     "execution_count": 13,
     "metadata": {},
     "output_type": "execute_result"
    }
   ],
   "source": [
    "h[2]"
   ]
  },
  {
   "cell_type": "code",
   "execution_count": null,
   "metadata": {
    "colab": {
     "base_uri": "https://localhost:8080/",
     "height": 36
    },
    "executionInfo": {
     "elapsed": 11,
     "status": "ok",
     "timestamp": 1653296133440,
     "user": {
      "displayName": "Neuro Labs",
      "userId": "15488119700446268077"
     },
     "user_tz": -330
    },
    "id": "9V1--JaXINgy",
    "outputId": "651f23f0-9e36-4446-8ce0-b6cbf7507a63"
   },
   "outputs": [
    {
     "data": {
      "application/vnd.google.colaboratory.intrinsic+json": {
       "type": "string"
      },
      "text/plain": [
       "'u'"
      ]
     },
     "execution_count": 14,
     "metadata": {},
     "output_type": "execute_result"
    }
   ],
   "source": [
    "h[3]"
   ]
  },
  {
   "cell_type": "code",
   "execution_count": null,
   "metadata": {
    "id": "vzTHvsZWIO6d"
   },
   "outputs": [],
   "source": [
    "\"Hey i've been w@iting there!.\""
   ]
  },
  {
   "cell_type": "code",
   "execution_count": null,
   "metadata": {
    "id": "BPxqXvWSI2WR"
   },
   "outputs": [],
   "source": [
    "e  (after b)\n",
    "i  (i've)\n",
    "@\n",
    "!\n",
    ".\n",
    "'\n",
    "n  (been)\n",
    "t   (waiting)\n",
    "H "
   ]
  },
  {
   "cell_type": "code",
   "execution_count": null,
   "metadata": {
    "id": "APr3liCMeWda"
   },
   "outputs": [],
   "source": [
    "# string slicing  (formulae: start_index:stop_index)"
   ]
  },
  {
   "cell_type": "code",
   "execution_count": null,
   "metadata": {
    "id": "9KLryzCyeaOu"
   },
   "outputs": [],
   "source": [
    "'guru@'\n",
    "\n",
    "g: 0  -5\n",
    "u: 1  -4\n",
    "r: 2  -3\n",
    "u: 3  -2\n",
    "@: 4  -1\n",
    "\n",
    "\n",
    "positive indexing:  0  1  2  3  4 (left to right)\n",
    "negative indexing: -5 -4 -3 -2 -1 (right to left)"
   ]
  },
  {
   "cell_type": "code",
   "execution_count": null,
   "metadata": {
    "id": "X0RZBmpwecJB"
   },
   "outputs": [],
   "source": [
    "text = 'guru@'"
   ]
  },
  {
   "cell_type": "code",
   "execution_count": null,
   "metadata": {
    "id": "eV72T6SYefuw"
   },
   "outputs": [],
   "source": [
    "'ru@'"
   ]
  },
  {
   "cell_type": "code",
   "execution_count": null,
   "metadata": {
    "colab": {
     "base_uri": "https://localhost:8080/",
     "height": 36
    },
    "executionInfo": {
     "elapsed": 355,
     "status": "ok",
     "timestamp": 1653302113471,
     "user": {
      "displayName": "Neuro Labs",
      "userId": "15488119700446268077"
     },
     "user_tz": -330
    },
    "id": "aDT3dwHieqCE",
    "outputId": "7a0d7841-9373-426a-9b34-e811bad5500a"
   },
   "outputs": [
    {
     "data": {
      "application/vnd.google.colaboratory.intrinsic+json": {
       "type": "string"
      },
      "text/plain": [
       "'ru'"
      ]
     },
     "execution_count": 18,
     "metadata": {},
     "output_type": "execute_result"
    }
   ],
   "source": [
    "text[2:4]   # stop index isnt considered in slicing, it will consider only till the value before it"
   ]
  },
  {
   "cell_type": "code",
   "execution_count": null,
   "metadata": {
    "colab": {
     "base_uri": "https://localhost:8080/",
     "height": 36
    },
    "executionInfo": {
     "elapsed": 319,
     "status": "ok",
     "timestamp": 1653302139666,
     "user": {
      "displayName": "Neuro Labs",
      "userId": "15488119700446268077"
     },
     "user_tz": -330
    },
    "id": "Q3hsFC2dfDEL",
    "outputId": "3aed6b13-e08a-4378-deb0-88f560dc8606"
   },
   "outputs": [
    {
     "data": {
      "application/vnd.google.colaboratory.intrinsic+json": {
       "type": "string"
      },
      "text/plain": [
       "'ru@'"
      ]
     },
     "execution_count": 19,
     "metadata": {},
     "output_type": "execute_result"
    }
   ],
   "source": [
    "text[2:5]"
   ]
  },
  {
   "cell_type": "code",
   "execution_count": null,
   "metadata": {
    "colab": {
     "base_uri": "https://localhost:8080/",
     "height": 36
    },
    "executionInfo": {
     "elapsed": 359,
     "status": "ok",
     "timestamp": 1653302266506,
     "user": {
      "displayName": "Neuro Labs",
      "userId": "15488119700446268077"
     },
     "user_tz": -330
    },
    "id": "M4XRWKkpfnoS",
    "outputId": "97a95f81-22cf-4d86-f526-27071e33cefe"
   },
   "outputs": [
    {
     "data": {
      "application/vnd.google.colaboratory.intrinsic+json": {
       "type": "string"
      },
      "text/plain": [
       "'ru@'"
      ]
     },
     "execution_count": 23,
     "metadata": {},
     "output_type": "execute_result"
    }
   ],
   "source": [
    "text[2:]"
   ]
  },
  {
   "cell_type": "code",
   "execution_count": null,
   "metadata": {
    "id": "ApB9vVFVfJYi"
   },
   "outputs": [],
   "source": [
    "new = 'hello mr. hw r u'\n",
    "\n",
    "# 'o mr.'"
   ]
  },
  {
   "cell_type": "code",
   "execution_count": null,
   "metadata": {
    "colab": {
     "base_uri": "https://localhost:8080/",
     "height": 36
    },
    "executionInfo": {
     "elapsed": 325,
     "status": "ok",
     "timestamp": 1653304330638,
     "user": {
      "displayName": "Neuro Labs",
      "userId": "15488119700446268077"
     },
     "user_tz": -330
    },
    "id": "DL44AQfVmZp8",
    "outputId": "a3b9d772-9fb8-463d-8671-be410da5731f"
   },
   "outputs": [
    {
     "data": {
      "application/vnd.google.colaboratory.intrinsic+json": {
       "type": "string"
      },
      "text/plain": [
       "'o mr.'"
      ]
     },
     "execution_count": 27,
     "metadata": {},
     "output_type": "execute_result"
    }
   ],
   "source": [
    "# .    -8\n",
    "# o    -12\n",
    "\n",
    "new[-12:-7]"
   ]
  },
  {
   "cell_type": "code",
   "execution_count": null,
   "metadata": {
    "colab": {
     "base_uri": "https://localhost:8080/",
     "height": 36
    },
    "executionInfo": {
     "elapsed": 347,
     "status": "ok",
     "timestamp": 1653302222385,
     "user": {
      "displayName": "Neuro Labs",
      "userId": "15488119700446268077"
     },
     "user_tz": -330
    },
    "id": "xKXba6qyfS5I",
    "outputId": "aebecc4a-9349-4297-971f-dfca8d56eccb"
   },
   "outputs": [
    {
     "data": {
      "application/vnd.google.colaboratory.intrinsic+json": {
       "type": "string"
      },
      "text/plain": [
       "'o mr'"
      ]
     },
     "execution_count": 21,
     "metadata": {},
     "output_type": "execute_result"
    }
   ],
   "source": [
    "new[4:8] # 8th is not considered"
   ]
  },
  {
   "cell_type": "code",
   "execution_count": null,
   "metadata": {
    "colab": {
     "base_uri": "https://localhost:8080/",
     "height": 36
    },
    "executionInfo": {
     "elapsed": 350,
     "status": "ok",
     "timestamp": 1653302228655,
     "user": {
      "displayName": "Neuro Labs",
      "userId": "15488119700446268077"
     },
     "user_tz": -330
    },
    "id": "qGeT_fQBfdp_",
    "outputId": "5b290860-3d85-4bf7-8fe4-d40dc1c715ce"
   },
   "outputs": [
    {
     "data": {
      "application/vnd.google.colaboratory.intrinsic+json": {
       "type": "string"
      },
      "text/plain": [
       "'o mr.'"
      ]
     },
     "execution_count": 22,
     "metadata": {},
     "output_type": "execute_result"
    }
   ],
   "source": [
    "new[4:9] # 9th is not considered"
   ]
  },
  {
   "cell_type": "code",
   "execution_count": null,
   "metadata": {
    "colab": {
     "base_uri": "https://localhost:8080/",
     "height": 36
    },
    "executionInfo": {
     "elapsed": 8,
     "status": "ok",
     "timestamp": 1653302286031,
     "user": {
      "displayName": "Neuro Labs",
      "userId": "15488119700446268077"
     },
     "user_tz": -330
    },
    "id": "2gxG--ZWffMa",
    "outputId": "41155b5e-5eed-40bb-c701-3d032f448213"
   },
   "outputs": [
    {
     "data": {
      "application/vnd.google.colaboratory.intrinsic+json": {
       "type": "string"
      },
      "text/plain": [
       "'o mr. hw r u'"
      ]
     },
     "execution_count": 24,
     "metadata": {},
     "output_type": "execute_result"
    }
   ],
   "source": [
    "new[4:]"
   ]
  },
  {
   "cell_type": "code",
   "execution_count": null,
   "metadata": {
    "id": "mfbnp3VEmYWs"
   },
   "outputs": [],
   "source": []
  },
  {
   "cell_type": "code",
   "execution_count": null,
   "metadata": {
    "id": "leQvR_QJftBF"
   },
   "outputs": [],
   "source": [
    "\"i have been working as @ dat@scientist, fr9m p@st fur ears!\""
   ]
  },
  {
   "cell_type": "code",
   "execution_count": null,
   "metadata": {
    "id": "a2d0qQgPh5BP"
   },
   "outputs": [],
   "source": [
    "as @\n",
    "dat@\n",
    "p@st \n",
    "ears! \n",
    " @ d\n",
    "been w \n",
    "fr9m p\n",
    "@scientist, fr\n",
    "m p @st "
   ]
  },
  {
   "cell_type": "code",
   "execution_count": null,
   "metadata": {
    "id": "G_8hm9GyubgH"
   },
   "outputs": [],
   "source": [
    "# string methods"
   ]
  },
  {
   "cell_type": "code",
   "execution_count": null,
   "metadata": {
    "id": "KEhrtQVque4w"
   },
   "outputs": [],
   "source": [
    "d = \"please take me there\""
   ]
  },
  {
   "cell_type": "code",
   "execution_count": null,
   "metadata": {
    "colab": {
     "base_uri": "https://localhost:8080/",
     "height": 36
    },
    "executionInfo": {
     "elapsed": 6,
     "status": "ok",
     "timestamp": 1653356983034,
     "user": {
      "displayName": "Neuro Labs",
      "userId": "15488119700446268077"
     },
     "user_tz": -330
    },
    "id": "Y-FV7PUWutY6",
    "outputId": "339610ad-0b09-4fc7-da64-b998dc6e85b6"
   },
   "outputs": [
    {
     "data": {
      "application/vnd.google.colaboratory.intrinsic+json": {
       "type": "string"
      },
      "text/plain": [
       "'please take me there'"
      ]
     },
     "execution_count": 8,
     "metadata": {},
     "output_type": "execute_result"
    }
   ],
   "source": [
    "d"
   ]
  },
  {
   "cell_type": "code",
   "execution_count": null,
   "metadata": {
    "colab": {
     "base_uri": "https://localhost:8080/"
    },
    "executionInfo": {
     "elapsed": 13,
     "status": "ok",
     "timestamp": 1653356984011,
     "user": {
      "displayName": "Neuro Labs",
      "userId": "15488119700446268077"
     },
     "user_tz": -330
    },
    "id": "cOias0oPuuWY",
    "outputId": "5d489ceb-2083-43fc-e512-b11295c5743e"
   },
   "outputs": [
    {
     "data": {
      "text/plain": [
       "str"
      ]
     },
     "execution_count": 9,
     "metadata": {},
     "output_type": "execute_result"
    }
   ],
   "source": [
    "type(d)"
   ]
  },
  {
   "cell_type": "code",
   "execution_count": null,
   "metadata": {
    "colab": {
     "base_uri": "https://localhost:8080/",
     "height": 36
    },
    "executionInfo": {
     "elapsed": 6,
     "status": "ok",
     "timestamp": 1653357030441,
     "user": {
      "displayName": "Neuro Labs",
      "userId": "15488119700446268077"
     },
     "user_tz": -330
    },
    "id": "eYmPYukbwUtE",
    "outputId": "8cd35ad0-1c9d-4c96-a17b-0fffc8a203fa"
   },
   "outputs": [
    {
     "data": {
      "application/vnd.google.colaboratory.intrinsic+json": {
       "type": "string"
      },
      "text/plain": [
       "' \\nThere can be any possibility\\nin the ongoing ipl matches\\nwe cant predict the winner\\ntoo early\\n'"
      ]
     },
     "execution_count": 10,
     "metadata": {},
     "output_type": "execute_result"
    }
   ],
   "source": [
    "\"\"\" \n",
    "There can be any possibility\n",
    "in the ongoing ipl matches\n",
    "we cant predict the winner\n",
    "too early\n",
    "\"\"\""
   ]
  },
  {
   "cell_type": "code",
   "execution_count": null,
   "metadata": {
    "colab": {
     "base_uri": "https://localhost:8080/"
    },
    "executionInfo": {
     "elapsed": 369,
     "status": "ok",
     "timestamp": 1653357187814,
     "user": {
      "displayName": "Neuro Labs",
      "userId": "15488119700446268077"
     },
     "user_tz": -330
    },
    "id": "2PWxvKS-wiiS",
    "outputId": "f875f995-a7f1-4037-8dba-9292c578ce9d"
   },
   "outputs": [
    {
     "data": {
      "text/plain": [
       "20"
      ]
     },
     "execution_count": 12,
     "metadata": {},
     "output_type": "execute_result"
    }
   ],
   "source": [
    "len(d)"
   ]
  },
  {
   "cell_type": "code",
   "execution_count": null,
   "metadata": {
    "id": "oip2QPdbwu3Q"
   },
   "outputs": [],
   "source": [
    "# if length is 20, what is the range of index?\n",
    "# 0 to 19"
   ]
  },
  {
   "cell_type": "code",
   "execution_count": null,
   "metadata": {
    "colab": {
     "base_uri": "https://localhost:8080/"
    },
    "executionInfo": {
     "elapsed": 3,
     "status": "ok",
     "timestamp": 1653357268454,
     "user": {
      "displayName": "Neuro Labs",
      "userId": "15488119700446268077"
     },
     "user_tz": -330
    },
    "id": "jZ-w2qiJw6Vx",
    "outputId": "03cbbfdd-2a44-42e1-8288-fad77d0ea75c"
   },
   "outputs": [
    {
     "data": {
      "text/plain": [
       "False"
      ]
     },
     "execution_count": 13,
     "metadata": {},
     "output_type": "execute_result"
    }
   ],
   "source": [
    "\"hari\" in \"ramu is going to school\""
   ]
  },
  {
   "cell_type": "code",
   "execution_count": null,
   "metadata": {
    "colab": {
     "base_uri": "https://localhost:8080/"
    },
    "executionInfo": {
     "elapsed": 2,
     "status": "ok",
     "timestamp": 1653357308323,
     "user": {
      "displayName": "Neuro Labs",
      "userId": "15488119700446268077"
     },
     "user_tz": -330
    },
    "id": "eS7I7o58xcj0",
    "outputId": "2a7c37ee-9373-48c2-d158-a154cb65c9c2"
   },
   "outputs": [
    {
     "data": {
      "text/plain": [
       "False"
      ]
     },
     "execution_count": 14,
     "metadata": {},
     "output_type": "execute_result"
    }
   ],
   "source": [
    "\"Ramu\" in \"ramu is going to school\""
   ]
  },
  {
   "cell_type": "code",
   "execution_count": null,
   "metadata": {
    "colab": {
     "base_uri": "https://localhost:8080/"
    },
    "executionInfo": {
     "elapsed": 610,
     "status": "ok",
     "timestamp": 1653357335640,
     "user": {
      "displayName": "Neuro Labs",
      "userId": "15488119700446268077"
     },
     "user_tz": -330
    },
    "id": "aMQfH-pYxmSo",
    "outputId": "bc852a13-4764-48c5-ae0c-df7a983d1ce2"
   },
   "outputs": [
    {
     "data": {
      "text/plain": [
       "True"
      ]
     },
     "execution_count": 16,
     "metadata": {},
     "output_type": "execute_result"
    }
   ],
   "source": [
    "\"Ramu\".lower() in \"ramu is going to school\""
   ]
  },
  {
   "cell_type": "code",
   "execution_count": null,
   "metadata": {
    "colab": {
     "base_uri": "https://localhost:8080/",
     "height": 36
    },
    "executionInfo": {
     "elapsed": 4,
     "status": "ok",
     "timestamp": 1653357349777,
     "user": {
      "displayName": "Neuro Labs",
      "userId": "15488119700446268077"
     },
     "user_tz": -330
    },
    "id": "RuDKv7lcxqvu",
    "outputId": "c9543c42-8211-4598-a59a-1963816a3d9f"
   },
   "outputs": [
    {
     "data": {
      "application/vnd.google.colaboratory.intrinsic+json": {
       "type": "string"
      },
      "text/plain": [
       "'ramu'"
      ]
     },
     "execution_count": 17,
     "metadata": {},
     "output_type": "execute_result"
    }
   ],
   "source": [
    "\"Ramu\".lower()"
   ]
  },
  {
   "cell_type": "code",
   "execution_count": null,
   "metadata": {
    "colab": {
     "base_uri": "https://localhost:8080/"
    },
    "executionInfo": {
     "elapsed": 3,
     "status": "ok",
     "timestamp": 1653357365420,
     "user": {
      "displayName": "Neuro Labs",
      "userId": "15488119700446268077"
     },
     "user_tz": -330
    },
    "id": "Y8sC1OeCxwjk",
    "outputId": "bb2deb7c-f81b-4801-fd31-6df55e2122e9"
   },
   "outputs": [
    {
     "data": {
      "text/plain": [
       "True"
      ]
     },
     "execution_count": 18,
     "metadata": {},
     "output_type": "execute_result"
    }
   ],
   "source": [
    "'ramu' in \"ramu is going to school\""
   ]
  },
  {
   "cell_type": "code",
   "execution_count": null,
   "metadata": {
    "colab": {
     "base_uri": "https://localhost:8080/"
    },
    "executionInfo": {
     "elapsed": 2,
     "status": "ok",
     "timestamp": 1653357387452,
     "user": {
      "displayName": "Neuro Labs",
      "userId": "15488119700446268077"
     },
     "user_tz": -330
    },
    "id": "DpLZ3tINx0WS",
    "outputId": "8661fc84-7f96-4e02-a952-9ca82641aced"
   },
   "outputs": [
    {
     "data": {
      "text/plain": [
       "True"
      ]
     },
     "execution_count": 19,
     "metadata": {},
     "output_type": "execute_result"
    }
   ],
   "source": [
    "\"hari\" not in \"ramu is going to school\""
   ]
  },
  {
   "cell_type": "code",
   "execution_count": null,
   "metadata": {
    "id": "g_aR-ZERx5mQ"
   },
   "outputs": [],
   "source": [
    "new_f = \"ramu is there\""
   ]
  },
  {
   "cell_type": "code",
   "execution_count": null,
   "metadata": {
    "id": "BcXShQKfyCuK"
   },
   "outputs": [],
   "source": [
    "'ramu '"
   ]
  },
  {
   "cell_type": "code",
   "execution_count": null,
   "metadata": {
    "colab": {
     "base_uri": "https://localhost:8080/",
     "height": 36
    },
    "executionInfo": {
     "elapsed": 4,
     "status": "ok",
     "timestamp": 1653357729392,
     "user": {
      "displayName": "Neuro Labs",
      "userId": "15488119700446268077"
     },
     "user_tz": -330
    },
    "id": "4urWQ6IZzLVQ",
    "outputId": "84a86e58-5416-43f8-bccc-44b6f343c3a6"
   },
   "outputs": [
    {
     "data": {
      "application/vnd.google.colaboratory.intrinsic+json": {
       "type": "string"
      },
      "text/plain": [
       "'ramu '"
      ]
     },
     "execution_count": 21,
     "metadata": {},
     "output_type": "execute_result"
    }
   ],
   "source": [
    "new_f[0:5]"
   ]
  },
  {
   "cell_type": "code",
   "execution_count": null,
   "metadata": {
    "colab": {
     "base_uri": "https://localhost:8080/",
     "height": 36
    },
    "executionInfo": {
     "elapsed": 4,
     "status": "ok",
     "timestamp": 1653357735311,
     "user": {
      "displayName": "Neuro Labs",
      "userId": "15488119700446268077"
     },
     "user_tz": -330
    },
    "id": "oZ5HH4HZzNJq",
    "outputId": "e8f7b7b1-d61b-49c3-de45-7f79455c892e"
   },
   "outputs": [
    {
     "data": {
      "application/vnd.google.colaboratory.intrinsic+json": {
       "type": "string"
      },
      "text/plain": [
       "'ramu '"
      ]
     },
     "execution_count": 22,
     "metadata": {},
     "output_type": "execute_result"
    }
   ],
   "source": [
    "new_f[:5]"
   ]
  },
  {
   "cell_type": "code",
   "execution_count": null,
   "metadata": {
    "id": "ONXwADGuzOgz"
   },
   "outputs": [],
   "source": [
    "' there' #Do Slicing"
   ]
  },
  {
   "cell_type": "code",
   "execution_count": null,
   "metadata": {
    "id": "JhdYOcy-0XTj"
   },
   "outputs": [],
   "source": [
    "' is '   #Do Slicing"
   ]
  },
  {
   "cell_type": "code",
   "execution_count": null,
   "metadata": {
    "id": "xA-M3Dw_0_QK"
   },
   "outputs": [],
   "source": [
    "\"ramu is there\""
   ]
  },
  {
   "cell_type": "code",
   "execution_count": null,
   "metadata": {
    "id": "JVsdaUhj1Uh1"
   },
   "outputs": [],
   "source": [
    "# non continuous data   start_index : stop_index : step_size"
   ]
  },
  {
   "cell_type": "code",
   "execution_count": null,
   "metadata": {
    "id": "VQ9OTJE11AHq"
   },
   "outputs": [],
   "source": [
    "'rm '  0 2 4"
   ]
  },
  {
   "cell_type": "code",
   "execution_count": null,
   "metadata": {
    "colab": {
     "base_uri": "https://localhost:8080/",
     "height": 36
    },
    "executionInfo": {
     "elapsed": 377,
     "status": "ok",
     "timestamp": 1653358394404,
     "user": {
      "displayName": "Neuro Labs",
      "userId": "15488119700446268077"
     },
     "user_tz": -330
    },
    "id": "GhEGl-jI1ASM",
    "outputId": "548eca5e-1f4d-4d62-d052-5fc1b55c50dd"
   },
   "outputs": [
    {
     "data": {
      "application/vnd.google.colaboratory.intrinsic+json": {
       "type": "string"
      },
      "text/plain": [
       "'rm '"
      ]
     },
     "execution_count": 25,
     "metadata": {},
     "output_type": "execute_result"
    }
   ],
   "source": [
    "new_f[:5:2]"
   ]
  },
  {
   "cell_type": "code",
   "execution_count": null,
   "metadata": {
    "id": "qEKsOguz1AVZ"
   },
   "outputs": [],
   "source": [
    "new_txt_data = \"HI i am not responsible for the augmentation of im@ges in the dataset yesterday!\""
   ]
  },
  {
   "cell_type": "code",
   "execution_count": null,
   "metadata": {
    "id": "yg58gjt61AYz"
   },
   "outputs": [],
   "source": [
    "'@snhd'\n",
    "'i  @'\n",
    "'agetto '\n",
    "'H sltm'\n",
    "'Iaoen'\n",
    "'eytd!'\n",
    "'dsyey'\n",
    "'rpslf '\n",
    "\n",
    "# positive and negative slicing with stepsize bcz these r not continuous   (Deadline: 8:15 AM)"
   ]
  },
  {
   "cell_type": "code",
   "execution_count": null,
   "metadata": {
    "colab": {
     "base_uri": "https://localhost:8080/"
    },
    "executionInfo": {
     "elapsed": 349,
     "status": "ok",
     "timestamp": 1653362237408,
     "user": {
      "displayName": "Neuro Labs",
      "userId": "15488119700446268077"
     },
     "user_tz": -330
    },
    "id": "Tsr4F-r1DVhf",
    "outputId": "c481d21a-ead5-4e50-bb2a-8456f8f4ac36"
   },
   "outputs": [
    {
     "name": "stdout",
     "output_type": "stream",
     "text": [
      "True\n"
     ]
    }
   ],
   "source": [
    "a= True\n",
    "b= False\n",
    "print(a and b or a)  # and 1st,  nxt or"
   ]
  },
  {
   "cell_type": "code",
   "execution_count": null,
   "metadata": {
    "colab": {
     "base_uri": "https://localhost:8080/",
     "height": 36
    },
    "executionInfo": {
     "elapsed": 521,
     "status": "ok",
     "timestamp": 1653362496543,
     "user": {
      "displayName": "Neuro Labs",
      "userId": "15488119700446268077"
     },
     "user_tz": -330
    },
    "id": "M3vetrLYEX9x",
    "outputId": "99766218-f444-4de8-fb72-cb0c096661e3"
   },
   "outputs": [
    {
     "data": {
      "application/vnd.google.colaboratory.intrinsic+json": {
       "type": "string"
      },
      "text/plain": [
       "'Hi i am not responsible for the augmentation of im@ges in the dataset yesterday!'"
      ]
     },
     "execution_count": 30,
     "metadata": {},
     "output_type": "execute_result"
    }
   ],
   "source": [
    "new_txt_data.capitalize()"
   ]
  },
  {
   "cell_type": "code",
   "execution_count": null,
   "metadata": {
    "colab": {
     "base_uri": "https://localhost:8080/",
     "height": 36
    },
    "executionInfo": {
     "elapsed": 453,
     "status": "ok",
     "timestamp": 1653362521276,
     "user": {
      "displayName": "Neuro Labs",
      "userId": "15488119700446268077"
     },
     "user_tz": -330
    },
    "id": "sBgz1rr_FWNe",
    "outputId": "454ea03a-510a-41f4-eeb2-3f6f65037450"
   },
   "outputs": [
    {
     "data": {
      "application/vnd.google.colaboratory.intrinsic+json": {
       "type": "string"
      },
      "text/plain": [
       "'Hi I Am Not Responsible For The Augmentation Of Im@Ges In The Dataset Yesterday!'"
      ]
     },
     "execution_count": 31,
     "metadata": {},
     "output_type": "execute_result"
    }
   ],
   "source": [
    "new_txt_data.title()"
   ]
  },
  {
   "cell_type": "code",
   "execution_count": null,
   "metadata": {
    "colab": {
     "base_uri": "https://localhost:8080/",
     "height": 36
    },
    "executionInfo": {
     "elapsed": 479,
     "status": "ok",
     "timestamp": 1653362555044,
     "user": {
      "displayName": "Neuro Labs",
      "userId": "15488119700446268077"
     },
     "user_tz": -330
    },
    "id": "mNetiTMsFe5D",
    "outputId": "28a04ffe-a1c7-4e74-b3d2-ca6cdc70034e"
   },
   "outputs": [
    {
     "data": {
      "application/vnd.google.colaboratory.intrinsic+json": {
       "type": "string"
      },
      "text/plain": [
       "'hi i am not responsible for the augmentation of im@ges in the dataset yesterday!'"
      ]
     },
     "execution_count": 32,
     "metadata": {},
     "output_type": "execute_result"
    }
   ],
   "source": [
    "new_txt_data.lower()"
   ]
  },
  {
   "cell_type": "code",
   "execution_count": null,
   "metadata": {
    "colab": {
     "base_uri": "https://localhost:8080/",
     "height": 36
    },
    "executionInfo": {
     "elapsed": 404,
     "status": "ok",
     "timestamp": 1653362565026,
     "user": {
      "displayName": "Neuro Labs",
      "userId": "15488119700446268077"
     },
     "user_tz": -330
    },
    "id": "ZHAy-W6hFnSD",
    "outputId": "523031f9-f746-4c54-f93a-1866f3aa98c6"
   },
   "outputs": [
    {
     "data": {
      "application/vnd.google.colaboratory.intrinsic+json": {
       "type": "string"
      },
      "text/plain": [
       "'HI I AM NOT RESPONSIBLE FOR THE AUGMENTATION OF IM@GES IN THE DATASET YESTERDAY!'"
      ]
     },
     "execution_count": 33,
     "metadata": {},
     "output_type": "execute_result"
    }
   ],
   "source": [
    "new_txt_data.upper()"
   ]
  },
  {
   "cell_type": "code",
   "execution_count": null,
   "metadata": {
    "colab": {
     "base_uri": "https://localhost:8080/",
     "height": 169
    },
    "executionInfo": {
     "elapsed": 406,
     "status": "error",
     "timestamp": 1653362606500,
     "user": {
      "displayName": "Neuro Labs",
      "userId": "15488119700446268077"
     },
     "user_tz": -330
    },
    "id": "u6IPTyR0FptX",
    "outputId": "2094ac42-89c9-470f-e78e-40fa95a0cfd8"
   },
   "outputs": [
    {
     "ename": "AttributeError",
     "evalue": "ignored",
     "output_type": "error",
     "traceback": [
      "\u001b[0;31m---------------------------------------------------------------------------\u001b[0m",
      "\u001b[0;31mAttributeError\u001b[0m                            Traceback (most recent call last)",
      "\u001b[0;32m<ipython-input-34-619ec1989d37>\u001b[0m in \u001b[0;36m<module>\u001b[0;34m()\u001b[0m\n\u001b[0;32m----> 1\u001b[0;31m \u001b[0mnew_txt_data\u001b[0m\u001b[0;34m.\u001b[0m\u001b[0mreverse\u001b[0m\u001b[0;34m(\u001b[0m\u001b[0;34m)\u001b[0m\u001b[0;34m\u001b[0m\u001b[0;34m\u001b[0m\u001b[0m\n\u001b[0m",
      "\u001b[0;31mAttributeError\u001b[0m: 'str' object has no attribute 'reverse'"
     ]
    }
   ],
   "source": [
    "new_txt_data.reverse()"
   ]
  },
  {
   "cell_type": "code",
   "execution_count": null,
   "metadata": {
    "colab": {
     "base_uri": "https://localhost:8080/",
     "height": 36
    },
    "executionInfo": {
     "elapsed": 601,
     "status": "ok",
     "timestamp": 1653362629383,
     "user": {
      "displayName": "Neuro Labs",
      "userId": "15488119700446268077"
     },
     "user_tz": -330
    },
    "id": "N6GwqE57FztR",
    "outputId": "8977b424-c30d-4cbd-b495-f45820c86c69"
   },
   "outputs": [
    {
     "data": {
      "application/vnd.google.colaboratory.intrinsic+json": {
       "type": "string"
      },
      "text/plain": [
       "'!yadretsey tesatad eht ni seg@mi fo noitatnemgua eht rof elbisnopser ton ma i IH'"
      ]
     },
     "execution_count": 35,
     "metadata": {},
     "output_type": "execute_result"
    }
   ],
   "source": [
    "new_txt_data[::-1]"
   ]
  },
  {
   "cell_type": "code",
   "execution_count": null,
   "metadata": {
    "colab": {
     "base_uri": "https://localhost:8080/",
     "height": 36
    },
    "executionInfo": {
     "elapsed": 381,
     "status": "ok",
     "timestamp": 1653362695420,
     "user": {
      "displayName": "Neuro Labs",
      "userId": "15488119700446268077"
     },
     "user_tz": -330
    },
    "id": "2p6SIKX1F5Zk",
    "outputId": "69c54010-c983-40c9-8c2d-e2110a1d22fc"
   },
   "outputs": [
    {
     "data": {
      "application/vnd.google.colaboratory.intrinsic+json": {
       "type": "string"
      },
      "text/plain": [
       "'hey  bruh !'"
      ]
     },
     "execution_count": 36,
     "metadata": {},
     "output_type": "execute_result"
    }
   ],
   "source": [
    "\"hey  \" + \"bruh !\""
   ]
  },
  {
   "cell_type": "code",
   "execution_count": null,
   "metadata": {
    "id": "IRZvOn4sGJki"
   },
   "outputs": [],
   "source": [
    "cf = \"resting on tree\""
   ]
  },
  {
   "cell_type": "code",
   "execution_count": null,
   "metadata": {
    "colab": {
     "base_uri": "https://localhost:8080/",
     "height": 36
    },
    "executionInfo": {
     "elapsed": 510,
     "status": "ok",
     "timestamp": 1653362726170,
     "user": {
      "displayName": "Neuro Labs",
      "userId": "15488119700446268077"
     },
     "user_tz": -330
    },
    "id": "NNdGYdFGGP4e",
    "outputId": "d45731c7-8a45-4d42-b8c0-87a1679d84f3"
   },
   "outputs": [
    {
     "data": {
      "application/vnd.google.colaboratory.intrinsic+json": {
       "type": "string"
      },
      "text/plain": [
       "'n'"
      ]
     },
     "execution_count": 38,
     "metadata": {},
     "output_type": "execute_result"
    }
   ],
   "source": [
    "cf[5]"
   ]
  },
  {
   "cell_type": "code",
   "execution_count": null,
   "metadata": {
    "colab": {
     "base_uri": "https://localhost:8080/",
     "height": 169
    },
    "executionInfo": {
     "elapsed": 381,
     "status": "error",
     "timestamp": 1653362736707,
     "user": {
      "displayName": "Neuro Labs",
      "userId": "15488119700446268077"
     },
     "user_tz": -330
    },
    "id": "s8Tc3FbEGQ87",
    "outputId": "85f74674-f4e7-4b67-edbc-303fb48c05d0"
   },
   "outputs": [
    {
     "ename": "TypeError",
     "evalue": "ignored",
     "output_type": "error",
     "traceback": [
      "\u001b[0;31m---------------------------------------------------------------------------\u001b[0m",
      "\u001b[0;31mTypeError\u001b[0m                                 Traceback (most recent call last)",
      "\u001b[0;32m<ipython-input-39-1f88b76bbb5c>\u001b[0m in \u001b[0;36m<module>\u001b[0;34m()\u001b[0m\n\u001b[0;32m----> 1\u001b[0;31m \u001b[0mcf\u001b[0m\u001b[0;34m[\u001b[0m\u001b[0;36m5\u001b[0m\u001b[0;34m]\u001b[0m \u001b[0;34m=\u001b[0m \u001b[0;34m'p'\u001b[0m\u001b[0;34m\u001b[0m\u001b[0;34m\u001b[0m\u001b[0m\n\u001b[0m",
      "\u001b[0;31mTypeError\u001b[0m: 'str' object does not support item assignment"
     ]
    }
   ],
   "source": [
    "cf[5] = 'p'"
   ]
  },
  {
   "cell_type": "code",
   "execution_count": null,
   "metadata": {
    "id": "FOSVKzlVGTpd"
   },
   "outputs": [],
   "source": [
    "# str is immutable"
   ]
  },
  {
   "cell_type": "code",
   "execution_count": null,
   "metadata": {
    "id": "LQx4E-FcGbrz"
   },
   "outputs": [],
   "source": [
    "ng = \"  hey whatsup!  \""
   ]
  },
  {
   "cell_type": "code",
   "execution_count": null,
   "metadata": {
    "colab": {
     "base_uri": "https://localhost:8080/",
     "height": 36
    },
    "executionInfo": {
     "elapsed": 380,
     "status": "ok",
     "timestamp": 1653362873207,
     "user": {
      "displayName": "Neuro Labs",
      "userId": "15488119700446268077"
     },
     "user_tz": -330
    },
    "id": "wrbLhsWhGtvg",
    "outputId": "731a4038-17be-4e99-9aca-b3410b518613"
   },
   "outputs": [
    {
     "data": {
      "application/vnd.google.colaboratory.intrinsic+json": {
       "type": "string"
      },
      "text/plain": [
       "'hey whatsup!'"
      ]
     },
     "execution_count": 43,
     "metadata": {},
     "output_type": "execute_result"
    }
   ],
   "source": [
    "ng.strip()"
   ]
  },
  {
   "cell_type": "code",
   "execution_count": null,
   "metadata": {
    "colab": {
     "base_uri": "https://localhost:8080/",
     "height": 36
    },
    "executionInfo": {
     "elapsed": 386,
     "status": "ok",
     "timestamp": 1653362895891,
     "user": {
      "displayName": "Neuro Labs",
      "userId": "15488119700446268077"
     },
     "user_tz": -330
    },
    "id": "nuFCWW7uG04y",
    "outputId": "b5d33c66-4445-4184-dc98-08a60437f5a5"
   },
   "outputs": [
    {
     "data": {
      "application/vnd.google.colaboratory.intrinsic+json": {
       "type": "string"
      },
      "text/plain": [
       "'hey whatsup!  '"
      ]
     },
     "execution_count": 44,
     "metadata": {},
     "output_type": "execute_result"
    }
   ],
   "source": [
    "ng.lstrip()"
   ]
  },
  {
   "cell_type": "code",
   "execution_count": null,
   "metadata": {
    "colab": {
     "base_uri": "https://localhost:8080/",
     "height": 36
    },
    "executionInfo": {
     "elapsed": 400,
     "status": "ok",
     "timestamp": 1653362907848,
     "user": {
      "displayName": "Neuro Labs",
      "userId": "15488119700446268077"
     },
     "user_tz": -330
    },
    "id": "69si6CekG6Vf",
    "outputId": "4b20ddf7-4f2b-4be0-9919-68ed8dd75909"
   },
   "outputs": [
    {
     "data": {
      "application/vnd.google.colaboratory.intrinsic+json": {
       "type": "string"
      },
      "text/plain": [
       "'  hey whatsup!'"
      ]
     },
     "execution_count": 45,
     "metadata": {},
     "output_type": "execute_result"
    }
   ],
   "source": [
    "ng.rstrip()"
   ]
  },
  {
   "cell_type": "code",
   "execution_count": null,
   "metadata": {
    "colab": {
     "base_uri": "https://localhost:8080/"
    },
    "executionInfo": {
     "elapsed": 383,
     "status": "ok",
     "timestamp": 1653362928804,
     "user": {
      "displayName": "Neuro Labs",
      "userId": "15488119700446268077"
     },
     "user_tz": -330
    },
    "id": "F8eSVNlMG9bp",
    "outputId": "9a81ac75-4976-492d-a38c-420d76ecd5da"
   },
   "outputs": [
    {
     "data": {
      "text/plain": [
       "['hey', 'whatsup!']"
      ]
     },
     "execution_count": 46,
     "metadata": {},
     "output_type": "execute_result"
    }
   ],
   "source": [
    "ng.split()"
   ]
  },
  {
   "cell_type": "code",
   "execution_count": null,
   "metadata": {
    "colab": {
     "base_uri": "https://localhost:8080/"
    },
    "executionInfo": {
     "elapsed": 385,
     "status": "ok",
     "timestamp": 1653362956906,
     "user": {
      "displayName": "Neuro Labs",
      "userId": "15488119700446268077"
     },
     "user_tz": -330
    },
    "id": "1W5LrgjZHCYw",
    "outputId": "ccdc42ed-0d0a-48d1-a30b-edb711188aee"
   },
   "outputs": [
    {
     "data": {
      "text/plain": [
       "['resting', 'on', 'tree']"
      ]
     },
     "execution_count": 47,
     "metadata": {},
     "output_type": "execute_result"
    }
   ],
   "source": [
    "cf.split()"
   ]
  },
  {
   "cell_type": "code",
   "execution_count": null,
   "metadata": {
    "colab": {
     "base_uri": "https://localhost:8080/",
     "height": 36
    },
    "executionInfo": {
     "elapsed": 382,
     "status": "ok",
     "timestamp": 1653362981958,
     "user": {
      "displayName": "Neuro Labs",
      "userId": "15488119700446268077"
     },
     "user_tz": -330
    },
    "id": "Eg4ub4n3HJZ8",
    "outputId": "a84ca1b5-1cd8-4eab-eff4-8dee7744372d"
   },
   "outputs": [
    {
     "data": {
      "application/vnd.google.colaboratory.intrinsic+json": {
       "type": "string"
      },
      "text/plain": [
       "'  hey whatsup!  '"
      ]
     },
     "execution_count": 48,
     "metadata": {},
     "output_type": "execute_result"
    }
   ],
   "source": [
    "ng"
   ]
  },
  {
   "cell_type": "code",
   "execution_count": null,
   "metadata": {
    "colab": {
     "base_uri": "https://localhost:8080/"
    },
    "executionInfo": {
     "elapsed": 356,
     "status": "ok",
     "timestamp": 1653362994376,
     "user": {
      "displayName": "Neuro Labs",
      "userId": "15488119700446268077"
     },
     "user_tz": -330
    },
    "id": "Ulm9RoEAHPhn",
    "outputId": "8f4b9601-79e5-4fe2-b86e-bcea9365e06b"
   },
   "outputs": [
    {
     "data": {
      "text/plain": [
       "['  hey wh', 'tsup!  ']"
      ]
     },
     "execution_count": 49,
     "metadata": {},
     "output_type": "execute_result"
    }
   ],
   "source": [
    "ng.split(\"a\")"
   ]
  },
  {
   "cell_type": "code",
   "execution_count": null,
   "metadata": {
    "id": "ajwgeXRFHSkW"
   },
   "outputs": [],
   "source": [
    "ng = ng.replace(\"!\", \"@\")"
   ]
  },
  {
   "cell_type": "code",
   "execution_count": null,
   "metadata": {
    "colab": {
     "base_uri": "https://localhost:8080/",
     "height": 36
    },
    "executionInfo": {
     "elapsed": 4,
     "status": "ok",
     "timestamp": 1653363099125,
     "user": {
      "displayName": "Neuro Labs",
      "userId": "15488119700446268077"
     },
     "user_tz": -330
    },
    "id": "mam5SciYHjdr",
    "outputId": "0df4ddde-a012-4f42-da63-3e27df3c3498"
   },
   "outputs": [
    {
     "data": {
      "application/vnd.google.colaboratory.intrinsic+json": {
       "type": "string"
      },
      "text/plain": [
       "'  hey whatsup@  '"
      ]
     },
     "execution_count": 53,
     "metadata": {},
     "output_type": "execute_result"
    }
   ],
   "source": [
    "ng"
   ]
  },
  {
   "cell_type": "code",
   "execution_count": null,
   "metadata": {
    "colab": {
     "base_uri": "https://localhost:8080/"
    },
    "executionInfo": {
     "elapsed": 405,
     "status": "ok",
     "timestamp": 1653363139755,
     "user": {
      "displayName": "Neuro Labs",
      "userId": "15488119700446268077"
     },
     "user_tz": -330
    },
    "id": "CrWIbvOyHm3U",
    "outputId": "182834fc-1f86-4ede-aad3-6cd25b3e035f"
   },
   "outputs": [
    {
     "data": {
      "text/plain": [
       "3"
      ]
     },
     "execution_count": 54,
     "metadata": {},
     "output_type": "execute_result"
    }
   ],
   "source": [
    "cf.count(\"e\")"
   ]
  },
  {
   "cell_type": "code",
   "execution_count": null,
   "metadata": {
    "colab": {
     "base_uri": "https://localhost:8080/",
     "height": 36
    },
    "executionInfo": {
     "elapsed": 15,
     "status": "ok",
     "timestamp": 1653363146724,
     "user": {
      "displayName": "Neuro Labs",
      "userId": "15488119700446268077"
     },
     "user_tz": -330
    },
    "id": "Upl4_PKdH2DC",
    "outputId": "8f463588-e142-44c7-9ca6-cf0e5b9a3304"
   },
   "outputs": [
    {
     "data": {
      "application/vnd.google.colaboratory.intrinsic+json": {
       "type": "string"
      },
      "text/plain": [
       "'resting on tree'"
      ]
     },
     "execution_count": 55,
     "metadata": {},
     "output_type": "execute_result"
    }
   ],
   "source": [
    "cf"
   ]
  },
  {
   "cell_type": "code",
   "execution_count": null,
   "metadata": {
    "colab": {
     "base_uri": "https://localhost:8080/"
    },
    "executionInfo": {
     "elapsed": 470,
     "status": "ok",
     "timestamp": 1653363160820,
     "user": {
      "displayName": "Neuro Labs",
      "userId": "15488119700446268077"
     },
     "user_tz": -330
    },
    "id": "rLrzpYgRH3h4",
    "outputId": "1d5f1f7d-8f2d-4680-faa6-5966423ef789"
   },
   "outputs": [
    {
     "data": {
      "text/plain": [
       "1"
      ]
     },
     "execution_count": 56,
     "metadata": {},
     "output_type": "execute_result"
    }
   ],
   "source": [
    "cf.count(\"tree\")"
   ]
  },
  {
   "cell_type": "code",
   "execution_count": null,
   "metadata": {
    "id": "sTFh82CEH7LQ"
   },
   "outputs": [],
   "source": [
    "new = \"tree is tree\""
   ]
  },
  {
   "cell_type": "code",
   "execution_count": null,
   "metadata": {
    "colab": {
     "base_uri": "https://localhost:8080/"
    },
    "executionInfo": {
     "elapsed": 361,
     "status": "ok",
     "timestamp": 1653363184954,
     "user": {
      "displayName": "Neuro Labs",
      "userId": "15488119700446268077"
     },
     "user_tz": -330
    },
    "id": "DDje79qbH_SW",
    "outputId": "28ff7c4a-26dd-43c7-8fb0-b5b453a8e900"
   },
   "outputs": [
    {
     "data": {
      "text/plain": [
       "2"
      ]
     },
     "execution_count": 58,
     "metadata": {},
     "output_type": "execute_result"
    }
   ],
   "source": [
    "new.count(\"tree\")"
   ]
  },
  {
   "cell_type": "code",
   "execution_count": null,
   "metadata": {
    "colab": {
     "base_uri": "https://localhost:8080/"
    },
    "executionInfo": {
     "elapsed": 377,
     "status": "ok",
     "timestamp": 1653363214829,
     "user": {
      "displayName": "Neuro Labs",
      "userId": "15488119700446268077"
     },
     "user_tz": -330
    },
    "id": "bqCanaAVIBF4",
    "outputId": "875dc77d-d29c-4ce0-8cd3-8a23b58b9bc0"
   },
   "outputs": [
    {
     "data": {
      "text/plain": [
       "False"
      ]
     },
     "execution_count": 59,
     "metadata": {},
     "output_type": "execute_result"
    }
   ],
   "source": [
    "new.startswith(\"ti\")"
   ]
  },
  {
   "cell_type": "code",
   "execution_count": null,
   "metadata": {
    "colab": {
     "base_uri": "https://localhost:8080/"
    },
    "executionInfo": {
     "elapsed": 370,
     "status": "ok",
     "timestamp": 1653363230282,
     "user": {
      "displayName": "Neuro Labs",
      "userId": "15488119700446268077"
     },
     "user_tz": -330
    },
    "id": "l-sR4fjgIIYX",
    "outputId": "4af06955-2e2a-486e-df1c-e7ea55fe177f"
   },
   "outputs": [
    {
     "data": {
      "text/plain": [
       "True"
      ]
     },
     "execution_count": 60,
     "metadata": {},
     "output_type": "execute_result"
    }
   ],
   "source": [
    "new.startswith(\"tr\")"
   ]
  },
  {
   "cell_type": "code",
   "execution_count": null,
   "metadata": {
    "colab": {
     "base_uri": "https://localhost:8080/"
    },
    "executionInfo": {
     "elapsed": 480,
     "status": "ok",
     "timestamp": 1653363246132,
     "user": {
      "displayName": "Neuro Labs",
      "userId": "15488119700446268077"
     },
     "user_tz": -330
    },
    "id": "LAWG9HPUIMKP",
    "outputId": "62cacf8c-a6aa-4f25-cb0f-4ec42737d2d2"
   },
   "outputs": [
    {
     "data": {
      "text/plain": [
       "False"
      ]
     },
     "execution_count": 61,
     "metadata": {},
     "output_type": "execute_result"
    }
   ],
   "source": [
    "new.endswith(\"ti\")"
   ]
  },
  {
   "cell_type": "code",
   "execution_count": null,
   "metadata": {
    "colab": {
     "base_uri": "https://localhost:8080/"
    },
    "executionInfo": {
     "elapsed": 360,
     "status": "ok",
     "timestamp": 1653363261760,
     "user": {
      "displayName": "Neuro Labs",
      "userId": "15488119700446268077"
     },
     "user_tz": -330
    },
    "id": "LeAGrmYaIP-p",
    "outputId": "8b77f0cd-bbc8-40c5-e9d8-2bc472824882"
   },
   "outputs": [
    {
     "data": {
      "text/plain": [
       "True"
      ]
     },
     "execution_count": 62,
     "metadata": {},
     "output_type": "execute_result"
    }
   ],
   "source": [
    "new.endswith(\"ee\")"
   ]
  },
  {
   "cell_type": "code",
   "execution_count": null,
   "metadata": {
    "colab": {
     "base_uri": "https://localhost:8080/"
    },
    "executionInfo": {
     "elapsed": 354,
     "status": "ok",
     "timestamp": 1653363292927,
     "user": {
      "displayName": "Neuro Labs",
      "userId": "15488119700446268077"
     },
     "user_tz": -330
    },
    "id": "VzhS8a9mIT19",
    "outputId": "a1bcac26-80ab-41f7-8510-2f6e3cac6935"
   },
   "outputs": [
    {
     "data": {
      "text/plain": [
       "0"
      ]
     },
     "execution_count": 63,
     "metadata": {},
     "output_type": "execute_result"
    }
   ],
   "source": [
    "new.find(\"tr\")"
   ]
  },
  {
   "cell_type": "code",
   "execution_count": null,
   "metadata": {
    "colab": {
     "base_uri": "https://localhost:8080/"
    },
    "executionInfo": {
     "elapsed": 488,
     "status": "ok",
     "timestamp": 1653363341174,
     "user": {
      "displayName": "Neuro Labs",
      "userId": "15488119700446268077"
     },
     "user_tz": -330
    },
    "id": "3W2AwbBSIbdY",
    "outputId": "31e68f36-8705-4c39-c6df-dd0a0d037e40"
   },
   "outputs": [
    {
     "data": {
      "text/plain": [
       "0"
      ]
     },
     "execution_count": 64,
     "metadata": {},
     "output_type": "execute_result"
    }
   ],
   "source": [
    "new.index(\"tr\")"
   ]
  },
  {
   "cell_type": "code",
   "execution_count": null,
   "metadata": {
    "id": "bzsulx5JInM5"
   },
   "outputs": [],
   "source": [
    "# 17 concepts -> create 5 examples\n",
    "\n",
    "# 9:40 deadline"
   ]
  },
  {
   "cell_type": "code",
   "execution_count": null,
   "metadata": {
    "id": "_r8YQ_GHQr_l"
   },
   "outputs": [],
   "source": [
    "# doubt session: till 9:46 am "
   ]
  },
  {
   "cell_type": "code",
   "execution_count": null,
   "metadata": {
    "id": "KV4-J82fQvLD"
   },
   "outputs": [],
   "source": [
    "# list: 10am"
   ]
  },
  {
   "cell_type": "code",
   "execution_count": null,
   "metadata": {
    "id": "i6YRYM7bViJd"
   },
   "outputs": [],
   "source": [
    "h = [12, 23, 34, 56]"
   ]
  },
  {
   "cell_type": "code",
   "execution_count": null,
   "metadata": {
    "colab": {
     "base_uri": "https://localhost:8080/"
    },
    "executionInfo": {
     "elapsed": 487,
     "status": "ok",
     "timestamp": 1653366819463,
     "user": {
      "displayName": "Neuro Labs",
      "userId": "15488119700446268077"
     },
     "user_tz": -330
    },
    "id": "SGCYmDwhVn6G",
    "outputId": "8ebc6c70-947b-4e9b-8adf-f456152b1262"
   },
   "outputs": [
    {
     "data": {
      "text/plain": [
       "[1, 1.1, 'hi', (12, 3), [7, 8], {12, 3, 'k'}, {'A': 34, 'B': 'g'}]"
      ]
     },
     "execution_count": 66,
     "metadata": {},
     "output_type": "execute_result"
    }
   ],
   "source": [
    "[1, 1.1, 'hi', (12, 3), [7, 8], {12, 3, 'k'}, {\"A\":34, \"B\": \"g\"}]"
   ]
  },
  {
   "cell_type": "code",
   "execution_count": null,
   "metadata": {
    "id": "tPOXSdCWV4S7"
   },
   "outputs": [],
   "source": [
    "# any type of data type in list"
   ]
  },
  {
   "cell_type": "code",
   "execution_count": null,
   "metadata": {
    "id": "Eo096d2fV8gh"
   },
   "outputs": [],
   "source": [
    "# indexing and slicing"
   ]
  },
  {
   "cell_type": "code",
   "execution_count": null,
   "metadata": {
    "id": "x15T_9mNV-jG"
   },
   "outputs": [],
   "source": [
    "m = [1, 'first', 55.5, 22, 132, 6.7, 90]"
   ]
  },
  {
   "cell_type": "code",
   "execution_count": null,
   "metadata": {
    "id": "-HrDyjvfWDXY"
   },
   "outputs": [],
   "source": [
    "1          index 0     index -7\n",
    "'first'    index 1     index -6\n",
    "55.5       index 2     index -5\n",
    "22         index 3     index -4\n",
    "132        index 4     index -3\n",
    "6.7        index 5     index -2\n",
    "90         index 6     index -1"
   ]
  },
  {
   "cell_type": "code",
   "execution_count": null,
   "metadata": {
    "colab": {
     "base_uri": "https://localhost:8080/"
    },
    "executionInfo": {
     "elapsed": 488,
     "status": "ok",
     "timestamp": 1653366971029,
     "user": {
      "displayName": "Neuro Labs",
      "userId": "15488119700446268077"
     },
     "user_tz": -330
    },
    "id": "to4_67O8Wca7",
    "outputId": "077bd400-3ce6-43be-ac9a-22218f4ce4f7"
   },
   "outputs": [
    {
     "data": {
      "text/plain": [
       "6.7"
      ]
     },
     "execution_count": 70,
     "metadata": {},
     "output_type": "execute_result"
    }
   ],
   "source": [
    "m[5]"
   ]
  },
  {
   "cell_type": "code",
   "execution_count": null,
   "metadata": {
    "colab": {
     "base_uri": "https://localhost:8080/"
    },
    "executionInfo": {
     "elapsed": 595,
     "status": "ok",
     "timestamp": 1653366976950,
     "user": {
      "displayName": "Neuro Labs",
      "userId": "15488119700446268077"
     },
     "user_tz": -330
    },
    "id": "KW3774fRWdOt",
    "outputId": "4ed7c741-2c5e-4087-82b5-c44f161dd500"
   },
   "outputs": [
    {
     "data": {
      "text/plain": [
       "6.7"
      ]
     },
     "execution_count": 71,
     "metadata": {},
     "output_type": "execute_result"
    }
   ],
   "source": [
    "m[-2]"
   ]
  },
  {
   "cell_type": "code",
   "execution_count": null,
   "metadata": {
    "colab": {
     "base_uri": "https://localhost:8080/"
    },
    "executionInfo": {
     "elapsed": 441,
     "status": "ok",
     "timestamp": 1653366991530,
     "user": {
      "displayName": "Neuro Labs",
      "userId": "15488119700446268077"
     },
     "user_tz": -330
    },
    "id": "-I4dPA95Weul",
    "outputId": "646adfdb-0b85-4c77-a9c0-fd4b65ab37ea"
   },
   "outputs": [
    {
     "data": {
      "text/plain": [
       "[132, 6.7, 90]"
      ]
     },
     "execution_count": 72,
     "metadata": {},
     "output_type": "execute_result"
    }
   ],
   "source": [
    "m[4:7]"
   ]
  },
  {
   "cell_type": "code",
   "execution_count": null,
   "metadata": {
    "colab": {
     "base_uri": "https://localhost:8080/"
    },
    "executionInfo": {
     "elapsed": 364,
     "status": "ok",
     "timestamp": 1653366998844,
     "user": {
      "displayName": "Neuro Labs",
      "userId": "15488119700446268077"
     },
     "user_tz": -330
    },
    "id": "6iLFpyN_Wiae",
    "outputId": "17689965-d926-4584-e429-3097e73f7e74"
   },
   "outputs": [
    {
     "data": {
      "text/plain": [
       "['first', 22]"
      ]
     },
     "execution_count": 73,
     "metadata": {},
     "output_type": "execute_result"
    }
   ],
   "source": [
    "m[1:5:2]"
   ]
  },
  {
   "cell_type": "code",
   "execution_count": null,
   "metadata": {
    "id": "hcVgfiu3WkOa"
   },
   "outputs": [],
   "source": [
    "dt = [12, [12, 13, [1, 23, [34, 3]]], (2,'tree',('three',5)), 55.67]"
   ]
  },
  {
   "cell_type": "code",
   "execution_count": null,
   "metadata": {
    "colab": {
     "base_uri": "https://localhost:8080/"
    },
    "executionInfo": {
     "elapsed": 415,
     "status": "ok",
     "timestamp": 1653367822304,
     "user": {
      "displayName": "Neuro Labs",
      "userId": "15488119700446268077"
     },
     "user_tz": -330
    },
    "id": "mnKhylcAZsNK",
    "outputId": "53aaea95-6229-4901-af98-e0faf2b0d5be"
   },
   "outputs": [
    {
     "data": {
      "text/plain": [
       "[12, [12, 13, [1, 23, [34, 3]]], (2, 'tree', ('three', 5)), 55.67]"
      ]
     },
     "execution_count": 75,
     "metadata": {},
     "output_type": "execute_result"
    }
   ],
   "source": [
    "dt"
   ]
  },
  {
   "cell_type": "code",
   "execution_count": null,
   "metadata": {
    "id": "VQrlWAlrZtEi"
   },
   "outputs": [],
   "source": [
    "12                               index 0       index -4\n",
    "[12, 13, [1, 23, [34, 3]]]       index 1       index -3\n",
    "(2, 'tree', ('three', 5))        index 2       index -2\n",
    "55.67                            index 3       index -1"
   ]
  },
  {
   "cell_type": "code",
   "execution_count": null,
   "metadata": {
    "colab": {
     "base_uri": "https://localhost:8080/"
    },
    "executionInfo": {
     "elapsed": 400,
     "status": "ok",
     "timestamp": 1653367914254,
     "user": {
      "displayName": "Neuro Labs",
      "userId": "15488119700446268077"
     },
     "user_tz": -330
    },
    "id": "gpDIHmrtaAxy",
    "outputId": "0a67ac31-0f1a-41c4-e0cd-a95c20c81189"
   },
   "outputs": [
    {
     "data": {
      "text/plain": [
       "[12, 13, [1, 23, [34, 3]]]"
      ]
     },
     "execution_count": 76,
     "metadata": {},
     "output_type": "execute_result"
    }
   ],
   "source": [
    "dt[1]"
   ]
  },
  {
   "cell_type": "code",
   "execution_count": null,
   "metadata": {
    "id": "m7kHt9NraDsu"
   },
   "outputs": [],
   "source": [
    "12                 index0  index -3\n",
    "13                 index1  index -2\n",
    "[1, 23, [34, 3]]   index2  index -1"
   ]
  },
  {
   "cell_type": "code",
   "execution_count": null,
   "metadata": {
    "colab": {
     "base_uri": "https://localhost:8080/"
    },
    "executionInfo": {
     "elapsed": 554,
     "status": "ok",
     "timestamp": 1653367961504,
     "user": {
      "displayName": "Neuro Labs",
      "userId": "15488119700446268077"
     },
     "user_tz": -330
    },
    "id": "sJAvUEQdaMzD",
    "outputId": "d882986c-3b8b-4dda-fef7-33e4c901f4a3"
   },
   "outputs": [
    {
     "data": {
      "text/plain": [
       "12"
      ]
     },
     "execution_count": 77,
     "metadata": {},
     "output_type": "execute_result"
    }
   ],
   "source": [
    "dt[1][0]"
   ]
  },
  {
   "cell_type": "code",
   "execution_count": null,
   "metadata": {
    "colab": {
     "base_uri": "https://localhost:8080/"
    },
    "executionInfo": {
     "elapsed": 403,
     "status": "ok",
     "timestamp": 1653367978027,
     "user": {
      "displayName": "Neuro Labs",
      "userId": "15488119700446268077"
     },
     "user_tz": -330
    },
    "id": "8P1wW0cFaO-f",
    "outputId": "c2b6488b-0929-483a-ff84-ae20c064b0c9"
   },
   "outputs": [
    {
     "data": {
      "text/plain": [
       "[1, 23, [34, 3]]"
      ]
     },
     "execution_count": 78,
     "metadata": {},
     "output_type": "execute_result"
    }
   ],
   "source": [
    "dt[1][2]"
   ]
  },
  {
   "cell_type": "code",
   "execution_count": null,
   "metadata": {
    "id": "VhZpw5x8aTN-"
   },
   "outputs": [],
   "source": [
    "1         index0  index -3\n",
    "23        index1  index -2\n",
    "[34,3]    index2  index -1"
   ]
  },
  {
   "cell_type": "code",
   "execution_count": null,
   "metadata": {
    "colab": {
     "base_uri": "https://localhost:8080/"
    },
    "executionInfo": {
     "elapsed": 530,
     "status": "ok",
     "timestamp": 1653368018428,
     "user": {
      "displayName": "Neuro Labs",
      "userId": "15488119700446268077"
     },
     "user_tz": -330
    },
    "id": "cMpg4Ck4aa2D",
    "outputId": "1b1f0aab-ce65-44ed-bfc0-1daa1e467f25"
   },
   "outputs": [
    {
     "data": {
      "text/plain": [
       "[34, 3]"
      ]
     },
     "execution_count": 79,
     "metadata": {},
     "output_type": "execute_result"
    }
   ],
   "source": [
    "dt[1][2][2]"
   ]
  },
  {
   "cell_type": "code",
   "execution_count": null,
   "metadata": {
    "id": "JcjwdYKFadC0"
   },
   "outputs": [],
   "source": [
    "34  index 0\n",
    "3   index 1"
   ]
  },
  {
   "cell_type": "code",
   "execution_count": null,
   "metadata": {
    "colab": {
     "base_uri": "https://localhost:8080/"
    },
    "executionInfo": {
     "elapsed": 382,
     "status": "ok",
     "timestamp": 1653368038707,
     "user": {
      "displayName": "Neuro Labs",
      "userId": "15488119700446268077"
     },
     "user_tz": -330
    },
    "id": "LH6WD2YTagkY",
    "outputId": "d51e597b-b83c-4143-cd9a-ff8c7784e238"
   },
   "outputs": [
    {
     "data": {
      "text/plain": [
       "34"
      ]
     },
     "execution_count": 80,
     "metadata": {},
     "output_type": "execute_result"
    }
   ],
   "source": [
    "dt[1][2][2][0]"
   ]
  },
  {
   "cell_type": "code",
   "execution_count": null,
   "metadata": {
    "colab": {
     "base_uri": "https://localhost:8080/"
    },
    "executionInfo": {
     "elapsed": 414,
     "status": "ok",
     "timestamp": 1653368150525,
     "user": {
      "displayName": "Neuro Labs",
      "userId": "15488119700446268077"
     },
     "user_tz": -330
    },
    "id": "LCACIjHhaiDu",
    "outputId": "eb941a3c-62f9-431b-d15f-aa89448e7bd8"
   },
   "outputs": [
    {
     "data": {
      "text/plain": [
       "(2, 'tree', ('three', 5))"
      ]
     },
     "execution_count": 81,
     "metadata": {},
     "output_type": "execute_result"
    }
   ],
   "source": [
    "dt[2]"
   ]
  },
  {
   "cell_type": "code",
   "execution_count": null,
   "metadata": {
    "colab": {
     "base_uri": "https://localhost:8080/"
    },
    "executionInfo": {
     "elapsed": 384,
     "status": "ok",
     "timestamp": 1653368165846,
     "user": {
      "displayName": "Neuro Labs",
      "userId": "15488119700446268077"
     },
     "user_tz": -330
    },
    "id": "baT8nslHa9JO",
    "outputId": "5caa00ea-1652-48b1-80c1-66bc49953cbc"
   },
   "outputs": [
    {
     "data": {
      "text/plain": [
       "('three', 5)"
      ]
     },
     "execution_count": 82,
     "metadata": {},
     "output_type": "execute_result"
    }
   ],
   "source": [
    "dt[2][2]"
   ]
  },
  {
   "cell_type": "code",
   "execution_count": null,
   "metadata": {
    "colab": {
     "base_uri": "https://localhost:8080/"
    },
    "executionInfo": {
     "elapsed": 486,
     "status": "ok",
     "timestamp": 1653368172794,
     "user": {
      "displayName": "Neuro Labs",
      "userId": "15488119700446268077"
     },
     "user_tz": -330
    },
    "id": "BqY4bZ12bBHq",
    "outputId": "9cc66970-dc53-473f-a1cb-4a2223f90a4f"
   },
   "outputs": [
    {
     "data": {
      "text/plain": [
       "5"
      ]
     },
     "execution_count": 83,
     "metadata": {},
     "output_type": "execute_result"
    }
   ],
   "source": [
    "dt[2][2][1]"
   ]
  },
  {
   "cell_type": "code",
   "execution_count": null,
   "metadata": {
    "id": "n9xZI7EdbCtJ"
   },
   "outputs": [],
   "source": [
    "[[12, 23, (1, 'hi', [3, 5, [4, {45, 67}, 7.7]]), 2], [23, [45, [67, [89, (5, 'tree')]]]]]"
   ]
  },
  {
   "cell_type": "code",
   "execution_count": null,
   "metadata": {
    "id": "T1fWiT1wf-jX"
   },
   "outputs": [],
   "source": [
    "# list methods "
   ]
  },
  {
   "cell_type": "code",
   "execution_count": null,
   "metadata": {
    "colab": {
     "base_uri": "https://localhost:8080/"
    },
    "executionInfo": {
     "elapsed": 417,
     "status": "ok",
     "timestamp": 1653369512970,
     "user": {
      "displayName": "Neuro Labs",
      "userId": "15488119700446268077"
     },
     "user_tz": -330
    },
    "id": "aeA_qcy4f_0i",
    "outputId": "2a252bb1-d214-4a01-f7cb-9583855259b4"
   },
   "outputs": [
    {
     "data": {
      "text/plain": [
       "[1, 'first', 55.5, 22, 132, 6.7, 90]"
      ]
     },
     "execution_count": 85,
     "metadata": {},
     "output_type": "execute_result"
    }
   ],
   "source": [
    "m"
   ]
  },
  {
   "cell_type": "code",
   "execution_count": null,
   "metadata": {
    "colab": {
     "base_uri": "https://localhost:8080/"
    },
    "executionInfo": {
     "elapsed": 5,
     "status": "ok",
     "timestamp": 1653369515237,
     "user": {
      "displayName": "Neuro Labs",
      "userId": "15488119700446268077"
     },
     "user_tz": -330
    },
    "id": "v76_s0ZWgJz_",
    "outputId": "52ce632a-77d4-489a-972a-35d493b2bb4d"
   },
   "outputs": [
    {
     "data": {
      "text/plain": [
       "7"
      ]
     },
     "execution_count": 86,
     "metadata": {},
     "output_type": "execute_result"
    }
   ],
   "source": [
    "len(m)"
   ]
  },
  {
   "cell_type": "code",
   "execution_count": null,
   "metadata": {
    "colab": {
     "base_uri": "https://localhost:8080/"
    },
    "executionInfo": {
     "elapsed": 420,
     "status": "ok",
     "timestamp": 1653369527888,
     "user": {
      "displayName": "Neuro Labs",
      "userId": "15488119700446268077"
     },
     "user_tz": -330
    },
    "id": "xGA8Yzp0gKdT",
    "outputId": "3a5773ac-e087-4be1-ea9b-6bb0ca1272ad"
   },
   "outputs": [
    {
     "data": {
      "text/plain": [
       "[1, 2, 23, 4]"
      ]
     },
     "execution_count": 87,
     "metadata": {},
     "output_type": "execute_result"
    }
   ],
   "source": [
    "[1, 2] + [23, 4]"
   ]
  },
  {
   "cell_type": "code",
   "execution_count": null,
   "metadata": {
    "colab": {
     "base_uri": "https://localhost:8080/"
    },
    "executionInfo": {
     "elapsed": 577,
     "status": "ok",
     "timestamp": 1653369533801,
     "user": {
      "displayName": "Neuro Labs",
      "userId": "15488119700446268077"
     },
     "user_tz": -330
    },
    "id": "tUsykHEngNpO",
    "outputId": "512ee618-8efc-4e9c-fde5-8bbafac4ecfc"
   },
   "outputs": [
    {
     "data": {
      "text/plain": [
       "22"
      ]
     },
     "execution_count": 88,
     "metadata": {},
     "output_type": "execute_result"
    }
   ],
   "source": [
    "m[3]"
   ]
  },
  {
   "cell_type": "code",
   "execution_count": null,
   "metadata": {
    "id": "GG-vbthVgPBj"
   },
   "outputs": [],
   "source": [
    "m[3] = 22.22 #lists r mutable"
   ]
  },
  {
   "cell_type": "code",
   "execution_count": null,
   "metadata": {
    "colab": {
     "base_uri": "https://localhost:8080/"
    },
    "executionInfo": {
     "elapsed": 7,
     "status": "ok",
     "timestamp": 1653369543653,
     "user": {
      "displayName": "Neuro Labs",
      "userId": "15488119700446268077"
     },
     "user_tz": -330
    },
    "id": "HJ1leo_8gRDv",
    "outputId": "584e5bd0-81c6-4356-fb02-25ee5d971cbc"
   },
   "outputs": [
    {
     "data": {
      "text/plain": [
       "[1, 'first', 55.5, 22.22, 132, 6.7, 90]"
      ]
     },
     "execution_count": 90,
     "metadata": {},
     "output_type": "execute_result"
    }
   ],
   "source": [
    "m"
   ]
  },
  {
   "cell_type": "code",
   "execution_count": null,
   "metadata": {
    "colab": {
     "base_uri": "https://localhost:8080/"
    },
    "executionInfo": {
     "elapsed": 409,
     "status": "ok",
     "timestamp": 1653369571904,
     "user": {
      "displayName": "Neuro Labs",
      "userId": "15488119700446268077"
     },
     "user_tz": -330
    },
    "id": "oInabwUWgRce",
    "outputId": "153a63eb-b9c1-4f9e-8a9d-40acb009f1b0"
   },
   "outputs": [
    {
     "data": {
      "text/plain": [
       "list"
      ]
     },
     "execution_count": 91,
     "metadata": {},
     "output_type": "execute_result"
    }
   ],
   "source": [
    "type(m)"
   ]
  },
  {
   "cell_type": "code",
   "execution_count": null,
   "metadata": {
    "colab": {
     "base_uri": "https://localhost:8080/"
    },
    "executionInfo": {
     "elapsed": 374,
     "status": "ok",
     "timestamp": 1653369590574,
     "user": {
      "displayName": "Neuro Labs",
      "userId": "15488119700446268077"
     },
     "user_tz": -330
    },
    "id": "fe7-d0tDgYLc",
    "outputId": "568aec21-9ab9-48da-d0c6-873477efe0c0"
   },
   "outputs": [
    {
     "data": {
      "text/plain": [
       "[12, 34]"
      ]
     },
     "execution_count": 92,
     "metadata": {},
     "output_type": "execute_result"
    }
   ],
   "source": [
    "list((12, 34))"
   ]
  },
  {
   "cell_type": "code",
   "execution_count": null,
   "metadata": {
    "colab": {
     "base_uri": "https://localhost:8080/"
    },
    "executionInfo": {
     "elapsed": 393,
     "status": "ok",
     "timestamp": 1653369630806,
     "user": {
      "displayName": "Neuro Labs",
      "userId": "15488119700446268077"
     },
     "user_tz": -330
    },
    "id": "lC-PiNHSgc9Z",
    "outputId": "d64a33ec-45c6-468c-b32e-84646d774215"
   },
   "outputs": [
    {
     "data": {
      "text/plain": [
       "[1, 'first', 55.5, 22.22, 132, 6.7, 90]"
      ]
     },
     "execution_count": 93,
     "metadata": {},
     "output_type": "execute_result"
    }
   ],
   "source": [
    "m"
   ]
  },
  {
   "cell_type": "code",
   "execution_count": null,
   "metadata": {
    "colab": {
     "base_uri": "https://localhost:8080/"
    },
    "executionInfo": {
     "elapsed": 377,
     "status": "ok",
     "timestamp": 1653369651448,
     "user": {
      "displayName": "Neuro Labs",
      "userId": "15488119700446268077"
     },
     "user_tz": -330
    },
    "id": "ulHpPJqBgrCD",
    "outputId": "b92f157d-ae60-4504-e0ce-d0d8e9acb150"
   },
   "outputs": [
    {
     "data": {
      "text/plain": [
       "132"
      ]
     },
     "execution_count": 94,
     "metadata": {},
     "output_type": "execute_result"
    }
   ],
   "source": [
    "m[4]"
   ]
  },
  {
   "cell_type": "code",
   "execution_count": null,
   "metadata": {
    "id": "T5OauANTgmn-"
   },
   "outputs": [],
   "source": [
    "m.insert(4, \"hey\")"
   ]
  },
  {
   "cell_type": "code",
   "execution_count": null,
   "metadata": {
    "colab": {
     "base_uri": "https://localhost:8080/"
    },
    "executionInfo": {
     "elapsed": 7,
     "status": "ok",
     "timestamp": 1653369666170,
     "user": {
      "displayName": "Neuro Labs",
      "userId": "15488119700446268077"
     },
     "user_tz": -330
    },
    "id": "VElNe4G1gvBj",
    "outputId": "95ac5dcf-d9fc-4bbe-91b0-c33588b2382c"
   },
   "outputs": [
    {
     "data": {
      "text/plain": [
       "[1, 'first', 55.5, 22.22, 'hey', 132, 6.7, 90]"
      ]
     },
     "execution_count": 96,
     "metadata": {},
     "output_type": "execute_result"
    }
   ],
   "source": [
    "m"
   ]
  },
  {
   "cell_type": "code",
   "execution_count": null,
   "metadata": {
    "colab": {
     "base_uri": "https://localhost:8080/"
    },
    "executionInfo": {
     "elapsed": 630,
     "status": "ok",
     "timestamp": 1653369677425,
     "user": {
      "displayName": "Neuro Labs",
      "userId": "15488119700446268077"
     },
     "user_tz": -330
    },
    "id": "thHTPIqrgvQi",
    "outputId": "941a7c47-40d6-4963-ed5f-eb97b9bb78c0"
   },
   "outputs": [
    {
     "data": {
      "text/plain": [
       "('hey', 132)"
      ]
     },
     "execution_count": 97,
     "metadata": {},
     "output_type": "execute_result"
    }
   ],
   "source": [
    "m[4], m[5]"
   ]
  },
  {
   "cell_type": "code",
   "execution_count": null,
   "metadata": {
    "id": "miWoubcrgx5N"
   },
   "outputs": [],
   "source": [
    "m.append(89)"
   ]
  },
  {
   "cell_type": "code",
   "execution_count": null,
   "metadata": {
    "colab": {
     "base_uri": "https://localhost:8080/"
    },
    "executionInfo": {
     "elapsed": 424,
     "status": "ok",
     "timestamp": 1653369706385,
     "user": {
      "displayName": "Neuro Labs",
      "userId": "15488119700446268077"
     },
     "user_tz": -330
    },
    "id": "kXk3AUNyg4qJ",
    "outputId": "33e86cf7-7c55-4795-e0b8-5b2e1c174295"
   },
   "outputs": [
    {
     "data": {
      "text/plain": [
       "[1, 'first', 55.5, 22.22, 'hey', 132, 6.7, 90, 89]"
      ]
     },
     "execution_count": 99,
     "metadata": {},
     "output_type": "execute_result"
    }
   ],
   "source": [
    "m"
   ]
  },
  {
   "cell_type": "code",
   "execution_count": null,
   "metadata": {
    "id": "QZl4lK-Gg43Z"
   },
   "outputs": [],
   "source": [
    "m.append([12, 34])"
   ]
  },
  {
   "cell_type": "code",
   "execution_count": null,
   "metadata": {
    "colab": {
     "base_uri": "https://localhost:8080/"
    },
    "executionInfo": {
     "elapsed": 572,
     "status": "ok",
     "timestamp": 1653369725846,
     "user": {
      "displayName": "Neuro Labs",
      "userId": "15488119700446268077"
     },
     "user_tz": -330
    },
    "id": "CyzHDkIbg9PO",
    "outputId": "0e006327-ab22-488e-ecb6-199d8a12af47"
   },
   "outputs": [
    {
     "data": {
      "text/plain": [
       "[1, 'first', 55.5, 22.22, 'hey', 132, 6.7, 90, 89, [12, 34]]"
      ]
     },
     "execution_count": 101,
     "metadata": {},
     "output_type": "execute_result"
    }
   ],
   "source": [
    "m"
   ]
  },
  {
   "cell_type": "code",
   "execution_count": null,
   "metadata": {
    "id": "KiCJW9vBg9i6"
   },
   "outputs": [],
   "source": [
    "m.extend([12, 34])"
   ]
  },
  {
   "cell_type": "code",
   "execution_count": null,
   "metadata": {
    "colab": {
     "base_uri": "https://localhost:8080/"
    },
    "executionInfo": {
     "elapsed": 610,
     "status": "ok",
     "timestamp": 1653369742430,
     "user": {
      "displayName": "Neuro Labs",
      "userId": "15488119700446268077"
     },
     "user_tz": -330
    },
    "id": "UQJMiAAchBFj",
    "outputId": "16d64582-c444-4b8f-b6f2-315dc2011df5"
   },
   "outputs": [
    {
     "data": {
      "text/plain": [
       "[1, 'first', 55.5, 22.22, 'hey', 132, 6.7, 90, 89, [12, 34], 12, 34]"
      ]
     },
     "execution_count": 103,
     "metadata": {},
     "output_type": "execute_result"
    }
   ],
   "source": [
    "m"
   ]
  },
  {
   "cell_type": "code",
   "execution_count": null,
   "metadata": {
    "id": "qc06w8q7hBya"
   },
   "outputs": [],
   "source": [
    "a = [1,2,3]\n",
    "b = [4,5,6]\n",
    "d = [7,8,9]"
   ]
  },
  {
   "cell_type": "code",
   "execution_count": null,
   "metadata": {
    "id": "HhFueotdhI5T"
   },
   "outputs": [],
   "source": [
    "a.append(d)"
   ]
  },
  {
   "cell_type": "code",
   "execution_count": null,
   "metadata": {
    "colab": {
     "base_uri": "https://localhost:8080/"
    },
    "executionInfo": {
     "elapsed": 8,
     "status": "ok",
     "timestamp": 1653369782077,
     "user": {
      "displayName": "Neuro Labs",
      "userId": "15488119700446268077"
     },
     "user_tz": -330
    },
    "id": "7uUsEzLGhKFv",
    "outputId": "47e5fefc-0f7d-4c2b-baf7-5b2f545a4fa5"
   },
   "outputs": [
    {
     "data": {
      "text/plain": [
       "[1, 2, 3, [7, 8, 9]]"
      ]
     },
     "execution_count": 107,
     "metadata": {},
     "output_type": "execute_result"
    }
   ],
   "source": [
    "a"
   ]
  },
  {
   "cell_type": "code",
   "execution_count": null,
   "metadata": {
    "id": "ozfJtprRhKak"
   },
   "outputs": [],
   "source": [
    "b.extend(d)"
   ]
  },
  {
   "cell_type": "code",
   "execution_count": null,
   "metadata": {
    "colab": {
     "base_uri": "https://localhost:8080/"
    },
    "executionInfo": {
     "elapsed": 3,
     "status": "ok",
     "timestamp": 1653369796703,
     "user": {
      "displayName": "Neuro Labs",
      "userId": "15488119700446268077"
     },
     "user_tz": -330
    },
    "id": "OI_2RnG4hPF1",
    "outputId": "f59e2a86-67e5-42e9-9f40-bcd1cfffa440"
   },
   "outputs": [
    {
     "data": {
      "text/plain": [
       "[4, 5, 6, 7, 8, 9]"
      ]
     },
     "execution_count": 109,
     "metadata": {},
     "output_type": "execute_result"
    }
   ],
   "source": [
    "b"
   ]
  },
  {
   "cell_type": "code",
   "execution_count": null,
   "metadata": {
    "id": "x2ouX8-jhPPo"
   },
   "outputs": [],
   "source": [
    "b.remove(9)"
   ]
  },
  {
   "cell_type": "code",
   "execution_count": null,
   "metadata": {
    "colab": {
     "base_uri": "https://localhost:8080/"
    },
    "executionInfo": {
     "elapsed": 6,
     "status": "ok",
     "timestamp": 1653369819547,
     "user": {
      "displayName": "Neuro Labs",
      "userId": "15488119700446268077"
     },
     "user_tz": -330
    },
    "id": "iuIF-QLjhUeA",
    "outputId": "c2c5cda8-ce4b-4f21-c75a-c9f9d6b1efaf"
   },
   "outputs": [
    {
     "data": {
      "text/plain": [
       "[4, 5, 6, 7, 8]"
      ]
     },
     "execution_count": 111,
     "metadata": {},
     "output_type": "execute_result"
    }
   ],
   "source": [
    "b"
   ]
  },
  {
   "cell_type": "code",
   "execution_count": null,
   "metadata": {
    "colab": {
     "base_uri": "https://localhost:8080/"
    },
    "executionInfo": {
     "elapsed": 402,
     "status": "ok",
     "timestamp": 1653369841842,
     "user": {
      "displayName": "Neuro Labs",
      "userId": "15488119700446268077"
     },
     "user_tz": -330
    },
    "id": "_fn4GTy5hUqN",
    "outputId": "171f8c92-1c3c-4e48-81c7-f1232c71bdd7"
   },
   "outputs": [
    {
     "data": {
      "text/plain": [
       "8"
      ]
     },
     "execution_count": 113,
     "metadata": {},
     "output_type": "execute_result"
    }
   ],
   "source": [
    "b.pop()"
   ]
  },
  {
   "cell_type": "code",
   "execution_count": null,
   "metadata": {
    "colab": {
     "base_uri": "https://localhost:8080/"
    },
    "executionInfo": {
     "elapsed": 638,
     "status": "ok",
     "timestamp": 1653369848582,
     "user": {
      "displayName": "Neuro Labs",
      "userId": "15488119700446268077"
     },
     "user_tz": -330
    },
    "id": "CM59n5zFhWNB",
    "outputId": "d5d0d4bf-e10f-40cd-c474-a45418449cb7"
   },
   "outputs": [
    {
     "data": {
      "text/plain": [
       "[4, 5, 6, 7]"
      ]
     },
     "execution_count": 114,
     "metadata": {},
     "output_type": "execute_result"
    }
   ],
   "source": [
    "b"
   ]
  },
  {
   "cell_type": "code",
   "execution_count": null,
   "metadata": {
    "colab": {
     "base_uri": "https://localhost:8080/"
    },
    "executionInfo": {
     "elapsed": 395,
     "status": "ok",
     "timestamp": 1653369864365,
     "user": {
      "displayName": "Neuro Labs",
      "userId": "15488119700446268077"
     },
     "user_tz": -330
    },
    "id": "zkz3zsOchbmP",
    "outputId": "fbb67dc9-d7f8-4a32-9997-ad702cec7cae"
   },
   "outputs": [
    {
     "data": {
      "text/plain": [
       "6"
      ]
     },
     "execution_count": 115,
     "metadata": {},
     "output_type": "execute_result"
    }
   ],
   "source": [
    "b.pop(2)"
   ]
  },
  {
   "cell_type": "code",
   "execution_count": null,
   "metadata": {
    "colab": {
     "base_uri": "https://localhost:8080/"
    },
    "executionInfo": {
     "elapsed": 4,
     "status": "ok",
     "timestamp": 1653369866301,
     "user": {
      "displayName": "Neuro Labs",
      "userId": "15488119700446268077"
     },
     "user_tz": -330
    },
    "id": "CHoiL50DhfyY",
    "outputId": "52cc068e-019b-4dd6-f1e9-df7fe608815f"
   },
   "outputs": [
    {
     "data": {
      "text/plain": [
       "[4, 5, 7]"
      ]
     },
     "execution_count": 116,
     "metadata": {},
     "output_type": "execute_result"
    }
   ],
   "source": [
    "b"
   ]
  },
  {
   "cell_type": "code",
   "execution_count": null,
   "metadata": {
    "colab": {
     "base_uri": "https://localhost:8080/"
    },
    "executionInfo": {
     "elapsed": 377,
     "status": "ok",
     "timestamp": 1653369898536,
     "user": {
      "displayName": "Neuro Labs",
      "userId": "15488119700446268077"
     },
     "user_tz": -330
    },
    "id": "kcPa7nkYhgCw",
    "outputId": "19c5d4b7-f3be-4f57-bfe1-89993a454ae1"
   },
   "outputs": [
    {
     "data": {
      "text/plain": [
       "[12, 34]"
      ]
     },
     "execution_count": 117,
     "metadata": {},
     "output_type": "execute_result"
    }
   ],
   "source": [
    "h = [12, 34]\n",
    "h"
   ]
  },
  {
   "cell_type": "code",
   "execution_count": null,
   "metadata": {
    "id": "JQdhNt0ihnxr"
   },
   "outputs": [],
   "source": [
    "del h"
   ]
  },
  {
   "cell_type": "code",
   "execution_count": null,
   "metadata": {
    "colab": {
     "base_uri": "https://localhost:8080/",
     "height": 169
    },
    "executionInfo": {
     "elapsed": 398,
     "status": "error",
     "timestamp": 1653369907668,
     "user": {
      "displayName": "Neuro Labs",
      "userId": "15488119700446268077"
     },
     "user_tz": -330
    },
    "id": "tfbvAM47hpbI",
    "outputId": "76f471a5-6821-4b72-fe83-ba34c23d611d"
   },
   "outputs": [
    {
     "ename": "NameError",
     "evalue": "ignored",
     "output_type": "error",
     "traceback": [
      "\u001b[0;31m---------------------------------------------------------------------------\u001b[0m",
      "\u001b[0;31mNameError\u001b[0m                                 Traceback (most recent call last)",
      "\u001b[0;32m<ipython-input-119-244aa7266b3f>\u001b[0m in \u001b[0;36m<module>\u001b[0;34m()\u001b[0m\n\u001b[0;32m----> 1\u001b[0;31m \u001b[0mh\u001b[0m\u001b[0;34m\u001b[0m\u001b[0;34m\u001b[0m\u001b[0m\n\u001b[0m",
      "\u001b[0;31mNameError\u001b[0m: name 'h' is not defined"
     ]
    }
   ],
   "source": [
    "h"
   ]
  },
  {
   "cell_type": "code",
   "execution_count": null,
   "metadata": {
    "id": "xOOKatTdhqTR"
   },
   "outputs": [],
   "source": [
    "v = [12, 34, 56]"
   ]
  },
  {
   "cell_type": "code",
   "execution_count": null,
   "metadata": {
    "id": "bKl704sRhsrz"
   },
   "outputs": [],
   "source": [
    "v.clear()"
   ]
  },
  {
   "cell_type": "code",
   "execution_count": null,
   "metadata": {
    "colab": {
     "base_uri": "https://localhost:8080/"
    },
    "executionInfo": {
     "elapsed": 613,
     "status": "ok",
     "timestamp": 1653369926449,
     "user": {
      "displayName": "Neuro Labs",
      "userId": "15488119700446268077"
     },
     "user_tz": -330
    },
    "id": "dDisKS6-htXV",
    "outputId": "98b3a75d-2457-497a-d345-fbeb22925f0a"
   },
   "outputs": [
    {
     "data": {
      "text/plain": [
       "[]"
      ]
     },
     "execution_count": 123,
     "metadata": {},
     "output_type": "execute_result"
    }
   ],
   "source": [
    "v"
   ]
  },
  {
   "cell_type": "code",
   "execution_count": null,
   "metadata": {
    "colab": {
     "base_uri": "https://localhost:8080/"
    },
    "executionInfo": {
     "elapsed": 462,
     "status": "ok",
     "timestamp": 1653369953686,
     "user": {
      "displayName": "Neuro Labs",
      "userId": "15488119700446268077"
     },
     "user_tz": -330
    },
    "id": "LVXCElpVhtq_",
    "outputId": "d3c3faad-a49a-4ee6-b76f-dfce08943d09"
   },
   "outputs": [
    {
     "data": {
      "text/plain": [
       "True"
      ]
     },
     "execution_count": 124,
     "metadata": {},
     "output_type": "execute_result"
    }
   ],
   "source": [
    "12 in [12,34,56]"
   ]
  },
  {
   "cell_type": "code",
   "execution_count": null,
   "metadata": {
    "colab": {
     "base_uri": "https://localhost:8080/"
    },
    "executionInfo": {
     "elapsed": 371,
     "status": "ok",
     "timestamp": 1653369961812,
     "user": {
      "displayName": "Neuro Labs",
      "userId": "15488119700446268077"
     },
     "user_tz": -330
    },
    "id": "Nw1ogz1Eh1Yt",
    "outputId": "dc33b765-415a-4ed8-915d-a1530b27c590"
   },
   "outputs": [
    {
     "data": {
      "text/plain": [
       "False"
      ]
     },
     "execution_count": 125,
     "metadata": {},
     "output_type": "execute_result"
    }
   ],
   "source": [
    "13 in [12, 45]"
   ]
  },
  {
   "cell_type": "code",
   "execution_count": null,
   "metadata": {
    "id": "10xKSUljh3lk"
   },
   "outputs": [],
   "source": [
    "thislist = [\"Yuvraj\",\"Dhoni\", \"jadeja\",\"irfan\"]"
   ]
  },
  {
   "cell_type": "code",
   "execution_count": null,
   "metadata": {
    "id": "5WL9beqIiGPr"
   },
   "outputs": [],
   "source": [
    "thislist.sort()"
   ]
  },
  {
   "cell_type": "code",
   "execution_count": null,
   "metadata": {
    "colab": {
     "base_uri": "https://localhost:8080/"
    },
    "executionInfo": {
     "elapsed": 7,
     "status": "ok",
     "timestamp": 1653370057361,
     "user": {
      "displayName": "Neuro Labs",
      "userId": "15488119700446268077"
     },
     "user_tz": -330
    },
    "id": "TMaMsffFiHq4",
    "outputId": "caabec33-34a9-4154-954f-bda8aa3093fc"
   },
   "outputs": [
    {
     "data": {
      "text/plain": [
       "['Dhoni', 'Yuvraj', 'irfan', 'jadeja']"
      ]
     },
     "execution_count": 131,
     "metadata": {},
     "output_type": "execute_result"
    }
   ],
   "source": [
    "thislist"
   ]
  },
  {
   "cell_type": "code",
   "execution_count": null,
   "metadata": {
    "id": "MCJUhZvEiJTZ"
   },
   "outputs": [],
   "source": [
    "thislist.sort(reverse = True)"
   ]
  },
  {
   "cell_type": "code",
   "execution_count": null,
   "metadata": {
    "colab": {
     "base_uri": "https://localhost:8080/"
    },
    "executionInfo": {
     "elapsed": 632,
     "status": "ok",
     "timestamp": 1653370087183,
     "user": {
      "displayName": "Neuro Labs",
      "userId": "15488119700446268077"
     },
     "user_tz": -330
    },
    "id": "3aBzYNaHiUgq",
    "outputId": "7c46551e-1c26-43e1-f0fc-7ad441274f61"
   },
   "outputs": [
    {
     "data": {
      "text/plain": [
       "['jadeja', 'irfan', 'Yuvraj', 'Dhoni']"
      ]
     },
     "execution_count": 133,
     "metadata": {},
     "output_type": "execute_result"
    }
   ],
   "source": [
    "thislist"
   ]
  },
  {
   "cell_type": "code",
   "execution_count": null,
   "metadata": {
    "id": "O9glflTfiWI1"
   },
   "outputs": [],
   "source": [
    "thislist_new = [\"Yuvraj\",\"Dhoni\", \"jadeja\",\"irfan\"]"
   ]
  },
  {
   "cell_type": "code",
   "execution_count": null,
   "metadata": {
    "id": "o6S2HyQ8ie__"
   },
   "outputs": [],
   "source": [
    "thislist_new.reverse()"
   ]
  },
  {
   "cell_type": "code",
   "execution_count": null,
   "metadata": {
    "colab": {
     "base_uri": "https://localhost:8080/"
    },
    "executionInfo": {
     "elapsed": 449,
     "status": "ok",
     "timestamp": 1653370138620,
     "user": {
      "displayName": "Neuro Labs",
      "userId": "15488119700446268077"
     },
     "user_tz": -330
    },
    "id": "aZPJ0gbGigmA",
    "outputId": "e921e579-e337-485e-f0de-9c295e79d53c"
   },
   "outputs": [
    {
     "data": {
      "text/plain": [
       "['irfan', 'jadeja', 'Dhoni', 'Yuvraj']"
      ]
     },
     "execution_count": 136,
     "metadata": {},
     "output_type": "execute_result"
    }
   ],
   "source": [
    "thislist_new"
   ]
  },
  {
   "cell_type": "code",
   "execution_count": null,
   "metadata": {
    "colab": {
     "base_uri": "https://localhost:8080/"
    },
    "executionInfo": {
     "elapsed": 418,
     "status": "ok",
     "timestamp": 1653370557198,
     "user": {
      "displayName": "Neuro Labs",
      "userId": "15488119700446268077"
     },
     "user_tz": -330
    },
    "id": "VLAStRzAkHCS",
    "outputId": "299b490a-02a4-4e3d-d9fe-b6f629143bfd"
   },
   "outputs": [
    {
     "data": {
      "text/plain": [
       "2"
      ]
     },
     "execution_count": 149,
     "metadata": {},
     "output_type": "execute_result"
    }
   ],
   "source": [
    "thislist_new.index('Dhoni')"
   ]
  },
  {
   "cell_type": "code",
   "execution_count": null,
   "metadata": {
    "id": "TpbYN2sciiux"
   },
   "outputs": [],
   "source": [
    "df = [12,34,5]"
   ]
  },
  {
   "cell_type": "code",
   "execution_count": null,
   "metadata": {
    "id": "Eq2VcrP1ioov"
   },
   "outputs": [],
   "source": [
    "df1 = df.copy()"
   ]
  },
  {
   "cell_type": "code",
   "execution_count": null,
   "metadata": {
    "colab": {
     "base_uri": "https://localhost:8080/"
    },
    "executionInfo": {
     "elapsed": 5,
     "status": "ok",
     "timestamp": 1653370512175,
     "user": {
      "displayName": "Neuro Labs",
      "userId": "15488119700446268077"
     },
     "user_tz": -330
    },
    "id": "MCBaI1pUis7x",
    "outputId": "956e28f6-f755-4421-a380-ff8cff0b7835"
   },
   "outputs": [
    {
     "data": {
      "text/plain": [
       "[12, 34, 5]"
      ]
     },
     "execution_count": 145,
     "metadata": {},
     "output_type": "execute_result"
    }
   ],
   "source": [
    "df1"
   ]
  },
  {
   "cell_type": "code",
   "execution_count": null,
   "metadata": {
    "id": "ghurhgj_ituP"
   },
   "outputs": [],
   "source": [
    "df1.append(9)"
   ]
  },
  {
   "cell_type": "code",
   "execution_count": null,
   "metadata": {
    "colab": {
     "base_uri": "https://localhost:8080/"
    },
    "executionInfo": {
     "elapsed": 6,
     "status": "ok",
     "timestamp": 1653370513358,
     "user": {
      "displayName": "Neuro Labs",
      "userId": "15488119700446268077"
     },
     "user_tz": -330
    },
    "id": "9keDiVgrivL6",
    "outputId": "df1ef53d-46dc-4f5c-a822-14656e6b2244"
   },
   "outputs": [
    {
     "data": {
      "text/plain": [
       "[12, 34, 5, 9]"
      ]
     },
     "execution_count": 147,
     "metadata": {},
     "output_type": "execute_result"
    }
   ],
   "source": [
    "df1"
   ]
  },
  {
   "cell_type": "code",
   "execution_count": null,
   "metadata": {
    "colab": {
     "base_uri": "https://localhost:8080/"
    },
    "executionInfo": {
     "elapsed": 9,
     "status": "ok",
     "timestamp": 1653370513789,
     "user": {
      "displayName": "Neuro Labs",
      "userId": "15488119700446268077"
     },
     "user_tz": -330
    },
    "id": "bplYd-ZVivlg",
    "outputId": "25afd017-d679-45b6-be04-97dfdc197f0a"
   },
   "outputs": [
    {
     "data": {
      "text/plain": [
       "[12, 34, 5]"
      ]
     },
     "execution_count": 148,
     "metadata": {},
     "output_type": "execute_result"
    }
   ],
   "source": [
    "df"
   ]
  },
  {
   "cell_type": "code",
   "execution_count": null,
   "metadata": {
    "id": "trCBJ8bNiwv2"
   },
   "outputs": [],
   "source": [
    "#  atleast 5 examples for all the 15 methods in list\n",
    "\n",
    "type\n",
    "len\n",
    "replace values with index position\n",
    "append\n",
    "extend\n",
    "sort\n",
    "index\n",
    "copy\n",
    "pop\n",
    "remove\n",
    "reverse\n",
    "clear \n",
    "in \n",
    "del\n",
    "insert\n",
    "list\n",
    "\n",
    "# Till 11:40 (Deadline)"
   ]
  },
  {
   "cell_type": "code",
   "execution_count": null,
   "metadata": {
    "colab": {
     "base_uri": "https://localhost:8080/"
    },
    "executionInfo": {
     "elapsed": 616,
     "status": "ok",
     "timestamp": 1653372644603,
     "user": {
      "displayName": "Neuro Labs",
      "userId": "15488119700446268077"
     },
     "user_tz": -330
    },
    "id": "i1sBUcsqr9_k",
    "outputId": "505b6dee-72bb-4a51-d9ca-cde2425e3b9c"
   },
   "outputs": [
    {
     "data": {
      "text/plain": [
       "[10, 20, 30]"
      ]
     },
     "execution_count": 151,
     "metadata": {},
     "output_type": "execute_result"
    }
   ],
   "source": [
    "list((10,20,30))"
   ]
  },
  {
   "cell_type": "code",
   "execution_count": null,
   "metadata": {
    "id": "xtomQ_ODsAMG"
   },
   "outputs": [],
   "source": []
  },
  {
   "cell_type": "code",
   "execution_count": null,
   "metadata": {
    "id": "tC4ybYj5sgIt"
   },
   "outputs": [],
   "source": []
  },
  {
   "cell_type": "markdown",
   "metadata": {
    "id": "LhXvttxmtxgY"
   },
   "source": [
    "**Assignment**"
   ]
  },
  {
   "cell_type": "code",
   "execution_count": null,
   "metadata": {
    "id": "bSZGStW7tzQ4"
   },
   "outputs": [],
   "source": []
  },
  {
   "cell_type": "markdown",
   "metadata": {
    "id": "MbU25sTz9_11"
   },
   "source": [
    "1.Write a Python program to \n",
    "\n",
    "      i)calculate the length of a string.\n",
    "      ii)find 3rd letter of the string from the front and from the end\n",
    "      iii)count of number of characters in a string.\n",
    "      iv)find the part of the string from 4th postion till last but one position\n",
    "\n",
    "Input String: \"Lets practice hard and learn python\""
   ]
  },
  {
   "cell_type": "markdown",
   "metadata": {
    "id": "Plu3GV5ouIuf"
   },
   "source": [
    "2.Write a program to find the length of the string \"Neuro Labs python\" without using len function.\n",
    "\n",
    "3.Write a program to check if the word 'orange' is present in the \"This is orange juice\".\n",
    "\n",
    "4.Write a program that takes your full name as input and displays the abbreviations of the first and middle names except the last name which is displayed as it is. For example, if your name is Robert Brett Roser, then the output should be R.B.Roser.\n",
    "\n",
    "5.Write a Python program to get a string made of the first 2 and the last 2 chars from a given a string. If the string length is less than 2, return instead of the empty string. Go to the editor\n",
    "\n",
    "6.Write a Python program to remove the nth index character from a nonempty string.\n",
    "\n",
    "7.Write a Python program to remove the characters which have even index values of a given string.\n",
    "\n"
   ]
  },
  {
   "cell_type": "code",
   "execution_count": null,
   "metadata": {
    "id": "pGS5d_4uuJdI"
   },
   "outputs": [],
   "source": []
  },
  {
   "cell_type": "markdown",
   "metadata": {
    "id": "Ef5OFMdUuWyU"
   },
   "source": []
  },
  {
   "cell_type": "markdown",
   "metadata": {
    "id": "uafhQt9UuW2E"
   },
   "source": [
    "8.Write a Python program\n",
    "\n",
    "i)to find the sum of all the items in a list.(list contains integer values)\n",
    "ii)to multiply all the items in a list.\n",
    "iii)to find the largest number in the list.\n",
    "iv)to find the smallest number in the list."
   ]
  },
  {
   "cell_type": "code",
   "execution_count": null,
   "metadata": {
    "id": "x6It67wAuXrM"
   },
   "outputs": [],
   "source": []
  },
  {
   "cell_type": "markdown",
   "metadata": {
    "id": "bblziz8uucTV"
   },
   "source": [
    "9.write a program to swap the elements in a list. Swap the first and last elements in a list ."
   ]
  },
  {
   "cell_type": "code",
   "execution_count": null,
   "metadata": {
    "id": "G9ebuHNLue6G"
   },
   "outputs": [],
   "source": []
  },
  {
   "cell_type": "markdown",
   "metadata": {
    "id": "kwjRbaWOufoW"
   },
   "source": [
    "10.Write a Python program to convert a sentence into list of words and find the list of words that are longer than n from the given list of words.\n",
    "\n",
    "string = \"Neuro Labs teaches all sorts of courses related to data science\" n =4\n",
    "\n",
    "11.Write a program to reverse a list with and without using reverse() method Input: [12, 45, 67, 34, 56,34] Output: [34, 56, 34, 67, 45, 12]\n",
    "\n",
    "12.Write a python program to convert list of lists into Dictionary.\n",
    "\n",
    "Take the first 2 elements of the list as key and the remaining elements as value\n",
    "\n",
    "Example:\n",
    "\n",
    "Input: [['a', 'b', 1, 2], ['c', 'd', 3, 4], ['e', 'f', 5, 6]]\n",
    "\n",
    "Output: {('a', 'b'): (1, 2), ('c', 'd'): (3, 4), ('e', 'f'): (5, 6)}\n",
    "\n",
    "13.Given a list of N positive integers.find the maximum for every adjecent pair in the list.\n",
    "\n",
    "Example:\n",
    "\n",
    "Input: [1 2 2 3 4 5]\n",
    "\n",
    "Output: 2 2 3 4 5\n",
    "\n",
    "Input: [5 5]\n",
    "\n",
    "Output: 5\n",
    "\n"
   ]
  },
  {
   "cell_type": "code",
   "execution_count": null,
   "metadata": {
    "id": "4kXsKtcHuviL"
   },
   "outputs": [],
   "source": []
  },
  {
   "cell_type": "markdown",
   "metadata": {
    "id": "JlEo6zNUu1Jb"
   },
   "source": [
    "14.Given 3 numbers a,b and c. find all the combinations formed by combining these numbers.\n",
    "\n",
    "Example:\n",
    "\n",
    "Input: [1, 2, 3]\n",
    "\n",
    "Output:\n",
    "\n",
    "1 2 3\n",
    "\n",
    "1 3 2\n",
    "\n",
    "2 1 3\n",
    "\n",
    "2 3 1\n",
    "\n",
    "3 1 2\n",
    "\n",
    "3 2 1\n",
    "\n",
    "\n",
    "Input: [0, 9, 5]\n",
    "\n",
    "Output:\n",
    "\n",
    "0 9 5\n",
    "\n",
    "0 5 9\n",
    "\n",
    "9 0 5\n",
    "\n",
    "9 5 0\n",
    "\n",
    "5 0 9\n",
    "\n",
    "5 9 0"
   ]
  },
  {
   "cell_type": "code",
   "execution_count": null,
   "metadata": {
    "id": "tPshXwnju16t"
   },
   "outputs": [],
   "source": []
  },
  {
   "cell_type": "markdown",
   "metadata": {
    "id": "2nXHqZdBu29r"
   },
   "source": [
    "15.given 2 lists with index elements in 1 list ,replace the index elements with the elements in the other list.\n",
    "\n",
    "Example:\n",
    "\n",
    "Input:\n",
    "\n",
    "list1 = ['Gfg', 'is', 'best']\n",
    "\n",
    "list2 = [0, 1, 2, 1, 0, 0, 0, 2, 1, 1, 2, 0]\n",
    "\n",
    "Output:\n",
    "\n",
    "[‘Gfg’, ‘is’, ‘best’, ‘is’, ‘Gfg’, ‘Gfg’, ‘Gfg’, ‘best’, ‘is’, ‘is’, ‘best’, ‘Gfg’]"
   ]
  },
  {
   "cell_type": "code",
   "execution_count": null,
   "metadata": {
    "id": "L5By_XE0u5B5"
   },
   "outputs": [],
   "source": []
  },
  {
   "cell_type": "markdown",
   "metadata": {
    "id": "ClmBWer8u5vf"
   },
   "source": [
    "17.Write a Python program to remove consecutive duplicates of a given list.\n",
    "\n",
    "Example:\n",
    "\n",
    "Input:\n",
    "\n",
    "[0, 0, 1, 2, 3, 4, 4, 5, 6, 6, 6, 7, 8, 9, 4, 4]\n",
    "\n",
    "Output:\n",
    "\n",
    "[0, 1, 2, 3, 4, 5, 6, 7, 8, 9, 4]"
   ]
  },
  {
   "cell_type": "code",
   "execution_count": null,
   "metadata": {
    "id": "zecPGsgtu9Sh"
   },
   "outputs": [],
   "source": []
  },
  {
   "cell_type": "code",
   "execution_count": null,
   "metadata": {
    "id": "C8phWq1ykKOR"
   },
   "outputs": [],
   "source": []
  },
  {
   "cell_type": "code",
   "execution_count": null,
   "metadata": {
    "id": "yarncyGbkKQ6"
   },
   "outputs": [],
   "source": []
  },
  {
   "cell_type": "code",
   "execution_count": null,
   "metadata": {
    "colab": {
     "base_uri": "https://localhost:8080/"
    },
    "executionInfo": {
     "elapsed": 4,
     "status": "ok",
     "timestamp": 1653538350418,
     "user": {
      "displayName": "Neuro Labs",
      "userId": "15488119700446268077"
     },
     "user_tz": -330
    },
    "id": "jhGfu3BxkKTt",
    "outputId": "52fd90f6-297f-4b99-9289-cabade3f5a60"
   },
   "outputs": [
    {
     "data": {
      "text/plain": [
       "(1, 2, 'hu')"
      ]
     },
     "execution_count": 1,
     "metadata": {},
     "output_type": "execute_result"
    }
   ],
   "source": [
    "(1, 2, \"hu\")"
   ]
  },
  {
   "cell_type": "code",
   "execution_count": null,
   "metadata": {
    "colab": {
     "base_uri": "https://localhost:8080/"
    },
    "executionInfo": {
     "elapsed": 2,
     "status": "ok",
     "timestamp": 1653538389953,
     "user": {
      "displayName": "Neuro Labs",
      "userId": "15488119700446268077"
     },
     "user_tz": -330
    },
    "id": "tliG7tZXkMR6",
    "outputId": "b0717950-da73-4d6b-d196-1a6a70a825a4"
   },
   "outputs": [
    {
     "data": {
      "text/plain": [
       "(12, 2.3, 'pod', {12, 3, '4.5'}, {'A': 23})"
      ]
     },
     "execution_count": 2,
     "metadata": {},
     "output_type": "execute_result"
    }
   ],
   "source": [
    "(12, 2.3, 'pod', {12, 3, '4.5'}, {\"A\":23})"
   ]
  },
  {
   "cell_type": "code",
   "execution_count": null,
   "metadata": {
    "id": "W0VhisbpkXtj"
   },
   "outputs": [],
   "source": [
    "x = (12, 2.3, 'pod', {12, 3, '4.5'}, {\"A\":23})"
   ]
  },
  {
   "cell_type": "code",
   "execution_count": null,
   "metadata": {
    "colab": {
     "base_uri": "https://localhost:8080/"
    },
    "executionInfo": {
     "elapsed": 4,
     "status": "ok",
     "timestamp": 1653538438298,
     "user": {
      "displayName": "Neuro Labs",
      "userId": "15488119700446268077"
     },
     "user_tz": -330
    },
    "id": "XkHCVTs5ki0C",
    "outputId": "1dc8b9b3-58ea-41b2-de2a-e871eb80e57f"
   },
   "outputs": [
    {
     "data": {
      "text/plain": [
       "12"
      ]
     },
     "execution_count": 4,
     "metadata": {},
     "output_type": "execute_result"
    }
   ],
   "source": [
    "x[0]"
   ]
  },
  {
   "cell_type": "code",
   "execution_count": null,
   "metadata": {
    "colab": {
     "base_uri": "https://localhost:8080/",
     "height": 36
    },
    "executionInfo": {
     "elapsed": 379,
     "status": "ok",
     "timestamp": 1653538451258,
     "user": {
      "displayName": "Neuro Labs",
      "userId": "15488119700446268077"
     },
     "user_tz": -330
    },
    "id": "wRcG8lt2kjf7",
    "outputId": "e3b5fb6c-126d-46d8-df0b-744fe7906002"
   },
   "outputs": [
    {
     "data": {
      "application/vnd.google.colaboratory.intrinsic+json": {
       "type": "string"
      },
      "text/plain": [
       "'pod'"
      ]
     },
     "execution_count": 5,
     "metadata": {},
     "output_type": "execute_result"
    }
   ],
   "source": [
    "x[2]"
   ]
  },
  {
   "cell_type": "code",
   "execution_count": null,
   "metadata": {
    "colab": {
     "base_uri": "https://localhost:8080/"
    },
    "executionInfo": {
     "elapsed": 3,
     "status": "ok",
     "timestamp": 1653538460117,
     "user": {
      "displayName": "Neuro Labs",
      "userId": "15488119700446268077"
     },
     "user_tz": -330
    },
    "id": "T5Hlk3UZkmVg",
    "outputId": "1b143fef-72c7-4b50-b71e-00881adb42a6"
   },
   "outputs": [
    {
     "data": {
      "text/plain": [
       "({12, 3, '4.5'}, {'A': 23})"
      ]
     },
     "execution_count": 6,
     "metadata": {},
     "output_type": "execute_result"
    }
   ],
   "source": [
    "x[3:5]"
   ]
  },
  {
   "cell_type": "code",
   "execution_count": null,
   "metadata": {
    "colab": {
     "base_uri": "https://localhost:8080/"
    },
    "executionInfo": {
     "elapsed": 365,
     "status": "ok",
     "timestamp": 1653538475126,
     "user": {
      "displayName": "Neuro Labs",
      "userId": "15488119700446268077"
     },
     "user_tz": -330
    },
    "id": "mVRwcwRkkots",
    "outputId": "bbe67643-2141-4230-f9cb-bbda7ccde23c"
   },
   "outputs": [
    {
     "data": {
      "text/plain": [
       "({'A': 23},)"
      ]
     },
     "execution_count": 8,
     "metadata": {},
     "output_type": "execute_result"
    }
   ],
   "source": [
    "x[4:50]"
   ]
  },
  {
   "cell_type": "code",
   "execution_count": null,
   "metadata": {
    "colab": {
     "base_uri": "https://localhost:8080/"
    },
    "executionInfo": {
     "elapsed": 2,
     "status": "ok",
     "timestamp": 1653538500482,
     "user": {
      "displayName": "Neuro Labs",
      "userId": "15488119700446268077"
     },
     "user_tz": -330
    },
    "id": "SSt9P85ekq0k",
    "outputId": "6792ae76-2682-4f5a-8353-ac266491ec29"
   },
   "outputs": [
    {
     "data": {
      "text/plain": [
       "({'A': 23},)"
      ]
     },
     "execution_count": 12,
     "metadata": {},
     "output_type": "execute_result"
    }
   ],
   "source": [
    "x[4:50]"
   ]
  },
  {
   "cell_type": "code",
   "execution_count": null,
   "metadata": {
    "colab": {
     "base_uri": "https://localhost:8080/"
    },
    "executionInfo": {
     "elapsed": 2,
     "status": "ok",
     "timestamp": 1653538516977,
     "user": {
      "displayName": "Neuro Labs",
      "userId": "15488119700446268077"
     },
     "user_tz": -330
    },
    "id": "wsmfF6-rkvYb",
    "outputId": "386eb289-2d80-4721-d5d1-92832e625036"
   },
   "outputs": [
    {
     "data": {
      "text/plain": [
       "(1, 2)"
      ]
     },
     "execution_count": 14,
     "metadata": {},
     "output_type": "execute_result"
    }
   ],
   "source": [
    "(1, )+(2,)"
   ]
  },
  {
   "cell_type": "code",
   "execution_count": null,
   "metadata": {
    "colab": {
     "base_uri": "https://localhost:8080/"
    },
    "executionInfo": {
     "elapsed": 5,
     "status": "ok",
     "timestamp": 1653538527218,
     "user": {
      "displayName": "Neuro Labs",
      "userId": "15488119700446268077"
     },
     "user_tz": -330
    },
    "id": "9IkRRQbPk1Ng",
    "outputId": "2049599f-630f-44f2-ae1a-988e07e6e623"
   },
   "outputs": [
    {
     "data": {
      "text/plain": [
       "(23, 5, 4, 40)"
      ]
     },
     "execution_count": 15,
     "metadata": {},
     "output_type": "execute_result"
    }
   ],
   "source": [
    "(23, 5) + (4, 40)"
   ]
  },
  {
   "cell_type": "code",
   "execution_count": null,
   "metadata": {
    "colab": {
     "base_uri": "https://localhost:8080/"
    },
    "executionInfo": {
     "elapsed": 5,
     "status": "ok",
     "timestamp": 1653538579156,
     "user": {
      "displayName": "Neuro Labs",
      "userId": "15488119700446268077"
     },
     "user_tz": -330
    },
    "id": "6VaNYZwxk5S_",
    "outputId": "981121be-ae9a-43da-8d0c-9dd91c9e2b02"
   },
   "outputs": [
    {
     "data": {
      "text/plain": [
       "{12, 3, '4.5'}"
      ]
     },
     "execution_count": 16,
     "metadata": {},
     "output_type": "execute_result"
    }
   ],
   "source": [
    "x[3]"
   ]
  },
  {
   "cell_type": "code",
   "execution_count": null,
   "metadata": {
    "colab": {
     "base_uri": "https://localhost:8080/",
     "height": 169
    },
    "executionInfo": {
     "elapsed": 5,
     "status": "error",
     "timestamp": 1653538607052,
     "user": {
      "displayName": "Neuro Labs",
      "userId": "15488119700446268077"
     },
     "user_tz": -330
    },
    "id": "ecF_JTFKlF4k",
    "outputId": "4748314e-910b-40fb-bc2c-3aed7a217009"
   },
   "outputs": [
    {
     "ename": "TypeError",
     "evalue": "ignored",
     "output_type": "error",
     "traceback": [
      "\u001b[0;31m---------------------------------------------------------------------------\u001b[0m",
      "\u001b[0;31mTypeError\u001b[0m                                 Traceback (most recent call last)",
      "\u001b[0;32m<ipython-input-17-c5e9503d3ee5>\u001b[0m in \u001b[0;36m<module>\u001b[0;34m()\u001b[0m\n\u001b[0;32m----> 1\u001b[0;31m \u001b[0mx\u001b[0m\u001b[0;34m[\u001b[0m\u001b[0;36m3\u001b[0m\u001b[0;34m]\u001b[0m \u001b[0;34m=\u001b[0m \u001b[0;34m'6'\u001b[0m\u001b[0;34m\u001b[0m\u001b[0;34m\u001b[0m\u001b[0m\n\u001b[0m",
      "\u001b[0;31mTypeError\u001b[0m: 'tuple' object does not support item assignment"
     ]
    }
   ],
   "source": [
    "x[3] = '6'"
   ]
  },
  {
   "cell_type": "code",
   "execution_count": null,
   "metadata": {
    "colab": {
     "base_uri": "https://localhost:8080/"
    },
    "executionInfo": {
     "elapsed": 11,
     "status": "ok",
     "timestamp": 1653538677861,
     "user": {
      "displayName": "Neuro Labs",
      "userId": "15488119700446268077"
     },
     "user_tz": -330
    },
    "id": "9pPSE1l5lMrr",
    "outputId": "084ece0f-54e8-4564-9cdd-a4244fe59046"
   },
   "outputs": [
    {
     "data": {
      "text/plain": [
       "(12, 12)"
      ]
     },
     "execution_count": 18,
     "metadata": {},
     "output_type": "execute_result"
    }
   ],
   "source": [
    "(12,12)"
   ]
  },
  {
   "cell_type": "code",
   "execution_count": null,
   "metadata": {
    "colab": {
     "base_uri": "https://localhost:8080/"
    },
    "executionInfo": {
     "elapsed": 5,
     "status": "ok",
     "timestamp": 1653538684184,
     "user": {
      "displayName": "Neuro Labs",
      "userId": "15488119700446268077"
     },
     "user_tz": -330
    },
    "id": "IOOw1nWAld-E",
    "outputId": "b73bf59e-03cf-40a5-eaf5-17ae4e9ff190"
   },
   "outputs": [
    {
     "data": {
      "text/plain": [
       "tuple"
      ]
     },
     "execution_count": 19,
     "metadata": {},
     "output_type": "execute_result"
    }
   ],
   "source": [
    "type((12,12))"
   ]
  },
  {
   "cell_type": "code",
   "execution_count": null,
   "metadata": {
    "colab": {
     "base_uri": "https://localhost:8080/"
    },
    "executionInfo": {
     "elapsed": 3,
     "status": "ok",
     "timestamp": 1653538716944,
     "user": {
      "displayName": "Neuro Labs",
      "userId": "15488119700446268077"
     },
     "user_tz": -330
    },
    "id": "J9oIdurBlfid",
    "outputId": "1c6e2f28-3ebe-4da9-b112-0b6b901607c2"
   },
   "outputs": [
    {
     "data": {
      "text/plain": [
       "4"
      ]
     },
     "execution_count": 20,
     "metadata": {},
     "output_type": "execute_result"
    }
   ],
   "source": [
    "len((23, '6', (9,90.5), {23, '23', '5.6'}))"
   ]
  },
  {
   "cell_type": "code",
   "execution_count": null,
   "metadata": {
    "colab": {
     "base_uri": "https://localhost:8080/"
    },
    "executionInfo": {
     "elapsed": 3,
     "status": "ok",
     "timestamp": 1653538739641,
     "user": {
      "displayName": "Neuro Labs",
      "userId": "15488119700446268077"
     },
     "user_tz": -330
    },
    "id": "GPRK6rwHlng1",
    "outputId": "a45ad98b-57e7-48da-db01-d66d6e49f8d1"
   },
   "outputs": [
    {
     "data": {
      "text/plain": [
       "int"
      ]
     },
     "execution_count": 21,
     "metadata": {},
     "output_type": "execute_result"
    }
   ],
   "source": [
    "type((89))"
   ]
  },
  {
   "cell_type": "code",
   "execution_count": null,
   "metadata": {
    "colab": {
     "base_uri": "https://localhost:8080/"
    },
    "executionInfo": {
     "elapsed": 4,
     "status": "ok",
     "timestamp": 1653538746199,
     "user": {
      "displayName": "Neuro Labs",
      "userId": "15488119700446268077"
     },
     "user_tz": -330
    },
    "id": "RQdUu0E1ltFz",
    "outputId": "95825f7b-a272-4dc7-d150-1d4d86becef0"
   },
   "outputs": [
    {
     "data": {
      "text/plain": [
       "tuple"
      ]
     },
     "execution_count": 22,
     "metadata": {},
     "output_type": "execute_result"
    }
   ],
   "source": [
    "type((67,))"
   ]
  },
  {
   "cell_type": "code",
   "execution_count": null,
   "metadata": {
    "colab": {
     "base_uri": "https://localhost:8080/"
    },
    "executionInfo": {
     "elapsed": 2,
     "status": "ok",
     "timestamp": 1653538758079,
     "user": {
      "displayName": "Neuro Labs",
      "userId": "15488119700446268077"
     },
     "user_tz": -330
    },
    "id": "k65HlGDEluwT",
    "outputId": "33850814-4c1f-4b36-a3ee-e082ef9d3ff3"
   },
   "outputs": [
    {
     "data": {
      "text/plain": [
       "()"
      ]
     },
     "execution_count": 23,
     "metadata": {},
     "output_type": "execute_result"
    }
   ],
   "source": [
    "tuple()"
   ]
  },
  {
   "cell_type": "code",
   "execution_count": null,
   "metadata": {
    "colab": {
     "base_uri": "https://localhost:8080/"
    },
    "executionInfo": {
     "elapsed": 2,
     "status": "ok",
     "timestamp": 1653538764669,
     "user": {
      "displayName": "Neuro Labs",
      "userId": "15488119700446268077"
     },
     "user_tz": -330
    },
    "id": "CQrW5YGQlxad",
    "outputId": "3a397eca-6787-4032-9950-a8348f75c601"
   },
   "outputs": [
    {
     "data": {
      "text/plain": [
       "(1, 2, 3)"
      ]
     },
     "execution_count": 24,
     "metadata": {},
     "output_type": "execute_result"
    }
   ],
   "source": [
    "tuple([1,2,3])"
   ]
  },
  {
   "cell_type": "code",
   "execution_count": null,
   "metadata": {
    "colab": {
     "base_uri": "https://localhost:8080/"
    },
    "executionInfo": {
     "elapsed": 5,
     "status": "ok",
     "timestamp": 1653538792981,
     "user": {
      "displayName": "Neuro Labs",
      "userId": "15488119700446268077"
     },
     "user_tz": -330
    },
    "id": "L-W8I0YilzSA",
    "outputId": "c0183efe-725d-4c10-d903-727a0201a884"
   },
   "outputs": [
    {
     "data": {
      "text/plain": [
       "True"
      ]
     },
     "execution_count": 25,
     "metadata": {},
     "output_type": "execute_result"
    }
   ],
   "source": [
    "3 in (1,2,3,4,5,6)"
   ]
  },
  {
   "cell_type": "code",
   "execution_count": null,
   "metadata": {
    "colab": {
     "base_uri": "https://localhost:8080/"
    },
    "executionInfo": {
     "elapsed": 2,
     "status": "ok",
     "timestamp": 1653538834852,
     "user": {
      "displayName": "Neuro Labs",
      "userId": "15488119700446268077"
     },
     "user_tz": -330
    },
    "id": "KL3y-4Gtl6Hg",
    "outputId": "a31c8bb4-1a24-402b-fd05-e054f986368e"
   },
   "outputs": [
    {
     "data": {
      "text/plain": [
       "(12, 2.3, 'pod', {12, 3, '4.5'}, {'A': 23})"
      ]
     },
     "execution_count": 26,
     "metadata": {},
     "output_type": "execute_result"
    }
   ],
   "source": [
    "x"
   ]
  },
  {
   "cell_type": "code",
   "execution_count": null,
   "metadata": {
    "colab": {
     "base_uri": "https://localhost:8080/",
     "height": 169
    },
    "executionInfo": {
     "elapsed": 6,
     "status": "error",
     "timestamp": 1653538844917,
     "user": {
      "displayName": "Neuro Labs",
      "userId": "15488119700446268077"
     },
     "user_tz": -330
    },
    "id": "ARtoiMavmERe",
    "outputId": "576cb84b-4098-4715-c1da-4cdc5d8c5d6b"
   },
   "outputs": [
    {
     "ename": "AttributeError",
     "evalue": "ignored",
     "output_type": "error",
     "traceback": [
      "\u001b[0;31m---------------------------------------------------------------------------\u001b[0m",
      "\u001b[0;31mAttributeError\u001b[0m                            Traceback (most recent call last)",
      "\u001b[0;32m<ipython-input-27-0616da930f96>\u001b[0m in \u001b[0;36m<module>\u001b[0;34m()\u001b[0m\n\u001b[0;32m----> 1\u001b[0;31m \u001b[0mx\u001b[0m\u001b[0;34m.\u001b[0m\u001b[0mremove\u001b[0m\u001b[0;34m(\u001b[0m\u001b[0;36m2.3\u001b[0m\u001b[0;34m)\u001b[0m\u001b[0;34m\u001b[0m\u001b[0;34m\u001b[0m\u001b[0m\n\u001b[0m",
      "\u001b[0;31mAttributeError\u001b[0m: 'tuple' object has no attribute 'remove'"
     ]
    }
   ],
   "source": [
    "x.remove(2.3)"
   ]
  },
  {
   "cell_type": "code",
   "execution_count": null,
   "metadata": {
    "id": "-7hjl43TmGk_"
   },
   "outputs": [],
   "source": [
    "tuple -> list -> tuple"
   ]
  },
  {
   "cell_type": "code",
   "execution_count": null,
   "metadata": {
    "colab": {
     "base_uri": "https://localhost:8080/"
    },
    "executionInfo": {
     "elapsed": 5,
     "status": "ok",
     "timestamp": 1653538907000,
     "user": {
      "displayName": "Neuro Labs",
      "userId": "15488119700446268077"
     },
     "user_tz": -330
    },
    "id": "L2QLjag4mG4k",
    "outputId": "c9ee79f5-0151-4aff-897a-98b722307d43"
   },
   "outputs": [
    {
     "data": {
      "text/plain": [
       "('pod', {12, 3, '4.5'}, {'A': 23})"
      ]
     },
     "execution_count": 28,
     "metadata": {},
     "output_type": "execute_result"
    }
   ],
   "source": [
    "x[2:5]"
   ]
  },
  {
   "cell_type": "code",
   "execution_count": null,
   "metadata": {
    "colab": {
     "base_uri": "https://localhost:8080/",
     "height": 169
    },
    "executionInfo": {
     "elapsed": 4,
     "status": "error",
     "timestamp": 1653539045754,
     "user": {
      "displayName": "Neuro Labs",
      "userId": "15488119700446268077"
     },
     "user_tz": -330
    },
    "id": "DNUtiohfmV6t",
    "outputId": "76ab9d09-5fd8-4ebc-ad1e-5bcc9c4ea774"
   },
   "outputs": [
    {
     "ename": "AttributeError",
     "evalue": "ignored",
     "output_type": "error",
     "traceback": [
      "\u001b[0;31m---------------------------------------------------------------------------\u001b[0m",
      "\u001b[0;31mAttributeError\u001b[0m                            Traceback (most recent call last)",
      "\u001b[0;32m<ipython-input-29-c275681cbf1f>\u001b[0m in \u001b[0;36m<module>\u001b[0;34m()\u001b[0m\n\u001b[0;32m----> 1\u001b[0;31m \u001b[0mx\u001b[0m\u001b[0;34m.\u001b[0m\u001b[0mreplace\u001b[0m\u001b[0;34m(\u001b[0m\u001b[0;34m'pod'\u001b[0m\u001b[0;34m,\u001b[0m \u001b[0;34m'dop'\u001b[0m\u001b[0;34m)\u001b[0m\u001b[0;34m\u001b[0m\u001b[0;34m\u001b[0m\u001b[0m\n\u001b[0m",
      "\u001b[0;31mAttributeError\u001b[0m: 'tuple' object has no attribute 'replace'"
     ]
    }
   ],
   "source": [
    "x.replace('pod', 'dop')"
   ]
  },
  {
   "cell_type": "code",
   "execution_count": null,
   "metadata": {
    "id": "W254J42fm344"
   },
   "outputs": [],
   "source": [
    "y = (8, 9)"
   ]
  },
  {
   "cell_type": "code",
   "execution_count": null,
   "metadata": {
    "id": "rLKX1ZzVnFyc"
   },
   "outputs": [],
   "source": [
    "del y"
   ]
  },
  {
   "cell_type": "code",
   "execution_count": null,
   "metadata": {
    "colab": {
     "base_uri": "https://localhost:8080/"
    },
    "executionInfo": {
     "elapsed": 3,
     "status": "ok",
     "timestamp": 1653539118093,
     "user": {
      "displayName": "Neuro Labs",
      "userId": "15488119700446268077"
     },
     "user_tz": -330
    },
    "id": "J_J59PuonGbf",
    "outputId": "7763abd7-bf62-4e4d-cc45-e9f0c87a34a7"
   },
   "outputs": [
    {
     "data": {
      "text/plain": [
       "(12, 2.3, 'pod', {12, 3, '4.5'}, {'A': 23})"
      ]
     },
     "execution_count": 32,
     "metadata": {},
     "output_type": "execute_result"
    }
   ],
   "source": [
    "x"
   ]
  },
  {
   "cell_type": "code",
   "execution_count": null,
   "metadata": {
    "id": "fqFYBayLnJXz"
   },
   "outputs": [],
   "source": [
    "# unpacking\n",
    "a,b,c,d,e = x"
   ]
  },
  {
   "cell_type": "code",
   "execution_count": null,
   "metadata": {
    "colab": {
     "base_uri": "https://localhost:8080/"
    },
    "executionInfo": {
     "elapsed": 3,
     "status": "ok",
     "timestamp": 1653539131573,
     "user": {
      "displayName": "Neuro Labs",
      "userId": "15488119700446268077"
     },
     "user_tz": -330
    },
    "id": "UIUAeKNpnLyB",
    "outputId": "6c9b2891-1c62-4baf-9a2c-53aea2f9e44e"
   },
   "outputs": [
    {
     "data": {
      "text/plain": [
       "12"
      ]
     },
     "execution_count": 34,
     "metadata": {},
     "output_type": "execute_result"
    }
   ],
   "source": [
    "a"
   ]
  },
  {
   "cell_type": "code",
   "execution_count": null,
   "metadata": {
    "colab": {
     "base_uri": "https://localhost:8080/"
    },
    "executionInfo": {
     "elapsed": 3,
     "status": "ok",
     "timestamp": 1653539136046,
     "user": {
      "displayName": "Neuro Labs",
      "userId": "15488119700446268077"
     },
     "user_tz": -330
    },
    "id": "eXKpvZlUnMl6",
    "outputId": "6459895c-7f38-456d-87b0-08e78d61c294"
   },
   "outputs": [
    {
     "data": {
      "text/plain": [
       "2.3"
      ]
     },
     "execution_count": 35,
     "metadata": {},
     "output_type": "execute_result"
    }
   ],
   "source": [
    "b"
   ]
  },
  {
   "cell_type": "code",
   "execution_count": null,
   "metadata": {
    "colab": {
     "base_uri": "https://localhost:8080/",
     "height": 36
    },
    "executionInfo": {
     "elapsed": 2,
     "status": "ok",
     "timestamp": 1653539137186,
     "user": {
      "displayName": "Neuro Labs",
      "userId": "15488119700446268077"
     },
     "user_tz": -330
    },
    "id": "ibbH21DenNr-",
    "outputId": "ab985dda-52af-4ca6-c1d7-b0c86e82b522"
   },
   "outputs": [
    {
     "data": {
      "application/vnd.google.colaboratory.intrinsic+json": {
       "type": "string"
      },
      "text/plain": [
       "'pod'"
      ]
     },
     "execution_count": 36,
     "metadata": {},
     "output_type": "execute_result"
    }
   ],
   "source": [
    "c"
   ]
  },
  {
   "cell_type": "code",
   "execution_count": null,
   "metadata": {
    "colab": {
     "base_uri": "https://localhost:8080/"
    },
    "executionInfo": {
     "elapsed": 7,
     "status": "ok",
     "timestamp": 1653539138061,
     "user": {
      "displayName": "Neuro Labs",
      "userId": "15488119700446268077"
     },
     "user_tz": -330
    },
    "id": "lQuG9e7mnN9a",
    "outputId": "649c6a22-0c97-45dd-dce6-5c794d5fe988"
   },
   "outputs": [
    {
     "data": {
      "text/plain": [
       "{12, 3, '4.5'}"
      ]
     },
     "execution_count": 37,
     "metadata": {},
     "output_type": "execute_result"
    }
   ],
   "source": [
    "d"
   ]
  },
  {
   "cell_type": "code",
   "execution_count": null,
   "metadata": {
    "colab": {
     "base_uri": "https://localhost:8080/"
    },
    "executionInfo": {
     "elapsed": 3,
     "status": "ok",
     "timestamp": 1653539139523,
     "user": {
      "displayName": "Neuro Labs",
      "userId": "15488119700446268077"
     },
     "user_tz": -330
    },
    "id": "ss0iMxx-nOOB",
    "outputId": "4fbb7b17-387a-45a0-8989-91cb515492b8"
   },
   "outputs": [
    {
     "data": {
      "text/plain": [
       "{'A': 23}"
      ]
     },
     "execution_count": 38,
     "metadata": {},
     "output_type": "execute_result"
    }
   ],
   "source": [
    "e"
   ]
  },
  {
   "cell_type": "code",
   "execution_count": null,
   "metadata": {
    "id": "WesQWrpynOdK"
   },
   "outputs": [],
   "source": [
    "m = 4\n",
    "n = 'hey'"
   ]
  },
  {
   "cell_type": "code",
   "execution_count": null,
   "metadata": {
    "colab": {
     "base_uri": "https://localhost:8080/"
    },
    "executionInfo": {
     "elapsed": 5,
     "status": "ok",
     "timestamp": 1653539286805,
     "user": {
      "displayName": "Neuro Labs",
      "userId": "15488119700446268077"
     },
     "user_tz": -330
    },
    "id": "6X_jIy9MnuRs",
    "outputId": "92c1dda5-c6b7-43e9-b618-607aee6ca737"
   },
   "outputs": [
    {
     "data": {
      "text/plain": [
       "4"
      ]
     },
     "execution_count": 40,
     "metadata": {},
     "output_type": "execute_result"
    }
   ],
   "source": [
    "m"
   ]
  },
  {
   "cell_type": "code",
   "execution_count": null,
   "metadata": {
    "colab": {
     "base_uri": "https://localhost:8080/",
     "height": 36
    },
    "executionInfo": {
     "elapsed": 3,
     "status": "ok",
     "timestamp": 1653539286805,
     "user": {
      "displayName": "Neuro Labs",
      "userId": "15488119700446268077"
     },
     "user_tz": -330
    },
    "id": "E_iJHh7XnulD",
    "outputId": "613ba68a-8f42-4ac1-b103-3ba0a1c13a43"
   },
   "outputs": [
    {
     "data": {
      "application/vnd.google.colaboratory.intrinsic+json": {
       "type": "string"
      },
      "text/plain": [
       "'hey'"
      ]
     },
     "execution_count": 41,
     "metadata": {},
     "output_type": "execute_result"
    }
   ],
   "source": [
    "n"
   ]
  },
  {
   "cell_type": "code",
   "execution_count": null,
   "metadata": {
    "id": "puxgDVe_nuuA"
   },
   "outputs": [],
   "source": [
    "m, n = 5, 'prove'"
   ]
  },
  {
   "cell_type": "code",
   "execution_count": null,
   "metadata": {
    "colab": {
     "base_uri": "https://localhost:8080/"
    },
    "executionInfo": {
     "elapsed": 361,
     "status": "ok",
     "timestamp": 1653539321034,
     "user": {
      "displayName": "Neuro Labs",
      "userId": "15488119700446268077"
     },
     "user_tz": -330
    },
    "id": "wEpLtirJn6cb",
    "outputId": "194b13f6-b6b1-40c4-b4d9-41c0a1aa784e"
   },
   "outputs": [
    {
     "data": {
      "text/plain": [
       "5"
      ]
     },
     "execution_count": 43,
     "metadata": {},
     "output_type": "execute_result"
    }
   ],
   "source": [
    "m"
   ]
  },
  {
   "cell_type": "code",
   "execution_count": null,
   "metadata": {
    "colab": {
     "base_uri": "https://localhost:8080/",
     "height": 36
    },
    "executionInfo": {
     "elapsed": 380,
     "status": "ok",
     "timestamp": 1653539326889,
     "user": {
      "displayName": "Neuro Labs",
      "userId": "15488119700446268077"
     },
     "user_tz": -330
    },
    "id": "aOsexTvmn6wU",
    "outputId": "9c0bb0e3-d95d-4220-f4e5-143c72fb6698"
   },
   "outputs": [
    {
     "data": {
      "application/vnd.google.colaboratory.intrinsic+json": {
       "type": "string"
      },
      "text/plain": [
       "'prove'"
      ]
     },
     "execution_count": 45,
     "metadata": {},
     "output_type": "execute_result"
    }
   ],
   "source": [
    "n"
   ]
  },
  {
   "cell_type": "code",
   "execution_count": null,
   "metadata": {
    "id": "bswNQ2Qqn642"
   },
   "outputs": [],
   "source": [
    "o,p = (23, 34)"
   ]
  },
  {
   "cell_type": "code",
   "execution_count": null,
   "metadata": {
    "colab": {
     "base_uri": "https://localhost:8080/"
    },
    "executionInfo": {
     "elapsed": 2,
     "status": "ok",
     "timestamp": 1653539336240,
     "user": {
      "displayName": "Neuro Labs",
      "userId": "15488119700446268077"
     },
     "user_tz": -330
    },
    "id": "Pml_5JHMn-ZD",
    "outputId": "41c5c85e-2e54-409d-baab-e7ab9c86e3d4"
   },
   "outputs": [
    {
     "data": {
      "text/plain": [
       "23"
      ]
     },
     "execution_count": 47,
     "metadata": {},
     "output_type": "execute_result"
    }
   ],
   "source": [
    "o"
   ]
  },
  {
   "cell_type": "code",
   "execution_count": null,
   "metadata": {
    "colab": {
     "base_uri": "https://localhost:8080/"
    },
    "executionInfo": {
     "elapsed": 4,
     "status": "ok",
     "timestamp": 1653539337996,
     "user": {
      "displayName": "Neuro Labs",
      "userId": "15488119700446268077"
     },
     "user_tz": -330
    },
    "id": "ug16QGw3n-oj",
    "outputId": "858486e8-3da2-47ef-9493-c4cd4e399443"
   },
   "outputs": [
    {
     "data": {
      "text/plain": [
       "34"
      ]
     },
     "execution_count": 48,
     "metadata": {},
     "output_type": "execute_result"
    }
   ],
   "source": [
    "p"
   ]
  },
  {
   "cell_type": "code",
   "execution_count": null,
   "metadata": {
    "id": "NoVyMyhmn-9L"
   },
   "outputs": [],
   "source": [
    "x,y,*z,p = 12,13,14,15,16,17,18"
   ]
  },
  {
   "cell_type": "code",
   "execution_count": null,
   "metadata": {
    "colab": {
     "base_uri": "https://localhost:8080/"
    },
    "executionInfo": {
     "elapsed": 7,
     "status": "ok",
     "timestamp": 1653539837011,
     "user": {
      "displayName": "Neuro Labs",
      "userId": "15488119700446268077"
     },
     "user_tz": -330
    },
    "id": "hlaVt1UgomF7",
    "outputId": "6db6e1c7-86a1-4775-ea4d-d2abfee029c1"
   },
   "outputs": [
    {
     "data": {
      "text/plain": [
       "18"
      ]
     },
     "execution_count": 64,
     "metadata": {},
     "output_type": "execute_result"
    }
   ],
   "source": [
    "p"
   ]
  },
  {
   "cell_type": "code",
   "execution_count": null,
   "metadata": {
    "colab": {
     "base_uri": "https://localhost:8080/"
    },
    "executionInfo": {
     "elapsed": 7,
     "status": "ok",
     "timestamp": 1653539837012,
     "user": {
      "displayName": "Neuro Labs",
      "userId": "15488119700446268077"
     },
     "user_tz": -330
    },
    "id": "zH3wexDGoprs",
    "outputId": "f0853a01-521b-4aed-9be2-e29005955502"
   },
   "outputs": [
    {
     "data": {
      "text/plain": [
       "12"
      ]
     },
     "execution_count": 65,
     "metadata": {},
     "output_type": "execute_result"
    }
   ],
   "source": [
    "x"
   ]
  },
  {
   "cell_type": "code",
   "execution_count": null,
   "metadata": {
    "colab": {
     "base_uri": "https://localhost:8080/"
    },
    "executionInfo": {
     "elapsed": 8,
     "status": "ok",
     "timestamp": 1653539837608,
     "user": {
      "displayName": "Neuro Labs",
      "userId": "15488119700446268077"
     },
     "user_tz": -330
    },
    "id": "MRkSeYfeoqBU",
    "outputId": "51eac219-f9ba-4900-82d5-f94bca10bd05"
   },
   "outputs": [
    {
     "data": {
      "text/plain": [
       "13"
      ]
     },
     "execution_count": 66,
     "metadata": {},
     "output_type": "execute_result"
    }
   ],
   "source": [
    "y"
   ]
  },
  {
   "cell_type": "code",
   "execution_count": null,
   "metadata": {
    "colab": {
     "base_uri": "https://localhost:8080/"
    },
    "executionInfo": {
     "elapsed": 8,
     "status": "ok",
     "timestamp": 1653539837609,
     "user": {
      "displayName": "Neuro Labs",
      "userId": "15488119700446268077"
     },
     "user_tz": -330
    },
    "id": "t97qJJ47oqkz",
    "outputId": "e8edbcde-0f5d-4542-af17-a8051e599c37"
   },
   "outputs": [
    {
     "data": {
      "text/plain": [
       "[14, 15, 16, 17]"
      ]
     },
     "execution_count": 67,
     "metadata": {},
     "output_type": "execute_result"
    }
   ],
   "source": [
    "z"
   ]
  },
  {
   "cell_type": "code",
   "execution_count": null,
   "metadata": {
    "colab": {
     "base_uri": "https://localhost:8080/"
    },
    "executionInfo": {
     "elapsed": 392,
     "status": "ok",
     "timestamp": 1653540188614,
     "user": {
      "displayName": "Neuro Labs",
      "userId": "15488119700446268077"
     },
     "user_tz": -330
    },
    "id": "B41yxkLAoq6n",
    "outputId": "7832e95c-aa1c-49bc-de0f-1629ed900597"
   },
   "outputs": [
    {
     "data": {
      "text/plain": [
       "12"
      ]
     },
     "execution_count": 68,
     "metadata": {},
     "output_type": "execute_result"
    }
   ],
   "source": [
    "x"
   ]
  },
  {
   "cell_type": "code",
   "execution_count": null,
   "metadata": {
    "id": "dAJOo5WfrOuq"
   },
   "outputs": [],
   "source": [
    "new_data = (12, 2.3, 'pod', {12, 3, '4.5'}, {\"A\":23}, 12)"
   ]
  },
  {
   "cell_type": "code",
   "execution_count": null,
   "metadata": {
    "colab": {
     "base_uri": "https://localhost:8080/"
    },
    "executionInfo": {
     "elapsed": 381,
     "status": "ok",
     "timestamp": 1653540251272,
     "user": {
      "displayName": "Neuro Labs",
      "userId": "15488119700446268077"
     },
     "user_tz": -330
    },
    "id": "z7wSacuurXKL",
    "outputId": "e6bbfee5-f026-4ee1-b2be-da7ef1444719"
   },
   "outputs": [
    {
     "data": {
      "text/plain": [
       "1"
      ]
     },
     "execution_count": 70,
     "metadata": {},
     "output_type": "execute_result"
    }
   ],
   "source": [
    "new_data.index(2.3)"
   ]
  },
  {
   "cell_type": "code",
   "execution_count": null,
   "metadata": {
    "colab": {
     "base_uri": "https://localhost:8080/"
    },
    "executionInfo": {
     "elapsed": 348,
     "status": "ok",
     "timestamp": 1653540282444,
     "user": {
      "displayName": "Neuro Labs",
      "userId": "15488119700446268077"
     },
     "user_tz": -330
    },
    "id": "c8PMQE0wreFW",
    "outputId": "5412155b-cfab-41b2-c0f7-df5ab96ff976"
   },
   "outputs": [
    {
     "data": {
      "text/plain": [
       "2"
      ]
     },
     "execution_count": 72,
     "metadata": {},
     "output_type": "execute_result"
    }
   ],
   "source": [
    "new_data.count(12)"
   ]
  },
  {
   "cell_type": "code",
   "execution_count": null,
   "metadata": {
    "id": "vUh4kESGrlyz"
   },
   "outputs": [],
   "source": []
  },
  {
   "cell_type": "code",
   "execution_count": null,
   "metadata": {
    "id": "-5rk8HtEruv3"
   },
   "outputs": [],
   "source": [
    "# set"
   ]
  },
  {
   "cell_type": "code",
   "execution_count": null,
   "metadata": {
    "id": "fw8o3xdPrvxt"
   },
   "outputs": [],
   "source": [
    "student = {6,6,7,7,7}"
   ]
  },
  {
   "cell_type": "code",
   "execution_count": null,
   "metadata": {
    "colab": {
     "base_uri": "https://localhost:8080/"
    },
    "executionInfo": {
     "elapsed": 4,
     "status": "ok",
     "timestamp": 1653540374346,
     "user": {
      "displayName": "Neuro Labs",
      "userId": "15488119700446268077"
     },
     "user_tz": -330
    },
    "id": "TX2E6nghrz7u",
    "outputId": "b73623be-0c87-43e9-c2e1-3423f58deaea"
   },
   "outputs": [
    {
     "data": {
      "text/plain": [
       "{6, 7}"
      ]
     },
     "execution_count": 79,
     "metadata": {},
     "output_type": "execute_result"
    }
   ],
   "source": [
    "student"
   ]
  },
  {
   "cell_type": "code",
   "execution_count": null,
   "metadata": {
    "colab": {
     "base_uri": "https://localhost:8080/",
     "height": 169
    },
    "executionInfo": {
     "elapsed": 336,
     "status": "error",
     "timestamp": 1653540398829,
     "user": {
      "displayName": "Neuro Labs",
      "userId": "15488119700446268077"
     },
     "user_tz": -330
    },
    "id": "ZB-2THrIr0Wl",
    "outputId": "3bfe5077-b920-43f1-fa39-23e8a67ade2a"
   },
   "outputs": [
    {
     "ename": "TypeError",
     "evalue": "ignored",
     "output_type": "error",
     "traceback": [
      "\u001b[0;31m---------------------------------------------------------------------------\u001b[0m",
      "\u001b[0;31mTypeError\u001b[0m                                 Traceback (most recent call last)",
      "\u001b[0;32m<ipython-input-80-94fdcbd3b4be>\u001b[0m in \u001b[0;36m<module>\u001b[0;34m()\u001b[0m\n\u001b[0;32m----> 1\u001b[0;31m \u001b[0mstudent\u001b[0m\u001b[0;34m[\u001b[0m\u001b[0;36m0\u001b[0m\u001b[0;34m]\u001b[0m\u001b[0;34m\u001b[0m\u001b[0;34m\u001b[0m\u001b[0m\n\u001b[0m",
      "\u001b[0;31mTypeError\u001b[0m: 'set' object is not subscriptable"
     ]
    }
   ],
   "source": [
    "student[0]"
   ]
  },
  {
   "cell_type": "code",
   "execution_count": null,
   "metadata": {
    "colab": {
     "base_uri": "https://localhost:8080/"
    },
    "executionInfo": {
     "elapsed": 355,
     "status": "ok",
     "timestamp": 1653540428800,
     "user": {
      "displayName": "Neuro Labs",
      "userId": "15488119700446268077"
     },
     "user_tz": -330
    },
    "id": "5Ekm8CMbsCL_",
    "outputId": "9c4ede5a-21ce-43a3-8109-6f1a63080659"
   },
   "outputs": [
    {
     "data": {
      "text/plain": [
       "2"
      ]
     },
     "execution_count": 82,
     "metadata": {},
     "output_type": "execute_result"
    }
   ],
   "source": [
    "len(student)"
   ]
  },
  {
   "cell_type": "code",
   "execution_count": null,
   "metadata": {
    "colab": {
     "base_uri": "https://localhost:8080/"
    },
    "executionInfo": {
     "elapsed": 405,
     "status": "ok",
     "timestamp": 1653540458269,
     "user": {
      "displayName": "Neuro Labs",
      "userId": "15488119700446268077"
     },
     "user_tz": -330
    },
    "id": "RTas9-BJsHAh",
    "outputId": "2d0cd898-a90d-4a1f-c5ff-cfa834bcdcf0"
   },
   "outputs": [
    {
     "data": {
      "text/plain": [
       "2"
      ]
     },
     "execution_count": 84,
     "metadata": {},
     "output_type": "execute_result"
    }
   ],
   "source": [
    "len(set([12,12,7]))"
   ]
  },
  {
   "cell_type": "code",
   "execution_count": null,
   "metadata": {
    "colab": {
     "base_uri": "https://localhost:8080/"
    },
    "executionInfo": {
     "elapsed": 589,
     "status": "ok",
     "timestamp": 1653540493143,
     "user": {
      "displayName": "Neuro Labs",
      "userId": "15488119700446268077"
     },
     "user_tz": -330
    },
    "id": "TfBfF3EysNt4",
    "outputId": "842e97cf-f2ac-4812-ca7b-5d9a7b79b399"
   },
   "outputs": [
    {
     "data": {
      "text/plain": [
       "True"
      ]
     },
     "execution_count": 85,
     "metadata": {},
     "output_type": "execute_result"
    }
   ],
   "source": [
    "12 in {5, 12}"
   ]
  },
  {
   "cell_type": "code",
   "execution_count": null,
   "metadata": {
    "id": "c2ZH3DuWsZLI"
   },
   "outputs": [],
   "source": [
    "student.add(\"urs\")"
   ]
  },
  {
   "cell_type": "code",
   "execution_count": null,
   "metadata": {
    "colab": {
     "base_uri": "https://localhost:8080/"
    },
    "executionInfo": {
     "elapsed": 493,
     "status": "ok",
     "timestamp": 1653540521753,
     "user": {
      "displayName": "Neuro Labs",
      "userId": "15488119700446268077"
     },
     "user_tz": -330
    },
    "id": "wvLTWTU9sfVL",
    "outputId": "9deb7cf8-af85-4225-a01d-9779b5d7c31e"
   },
   "outputs": [
    {
     "data": {
      "text/plain": [
       "{6, 7, 'urs'}"
      ]
     },
     "execution_count": 87,
     "metadata": {},
     "output_type": "execute_result"
    }
   ],
   "source": [
    "student"
   ]
  },
  {
   "cell_type": "code",
   "execution_count": null,
   "metadata": {
    "colab": {
     "base_uri": "https://localhost:8080/",
     "height": 169
    },
    "executionInfo": {
     "elapsed": 435,
     "status": "error",
     "timestamp": 1653540553682,
     "user": {
      "displayName": "Neuro Labs",
      "userId": "15488119700446268077"
     },
     "user_tz": -330
    },
    "id": "mN_V7Me1sgFk",
    "outputId": "1bf48c6c-5aee-405d-bd9c-d3fce4add839"
   },
   "outputs": [
    {
     "ename": "TypeError",
     "evalue": "ignored",
     "output_type": "error",
     "traceback": [
      "\u001b[0;31m---------------------------------------------------------------------------\u001b[0m",
      "\u001b[0;31mTypeError\u001b[0m                                 Traceback (most recent call last)",
      "\u001b[0;32m<ipython-input-89-374a6c702084>\u001b[0m in \u001b[0;36m<module>\u001b[0;34m()\u001b[0m\n\u001b[0;32m----> 1\u001b[0;31m \u001b[0mstudent\u001b[0m\u001b[0;34m.\u001b[0m\u001b[0madd\u001b[0m\u001b[0;34m(\u001b[0m\u001b[0;34m{\u001b[0m\u001b[0;34m\"urs\"\u001b[0m\u001b[0;34m,\u001b[0m \u001b[0;36m5\u001b[0m\u001b[0;34m}\u001b[0m\u001b[0;34m)\u001b[0m\u001b[0;34m\u001b[0m\u001b[0;34m\u001b[0m\u001b[0m\n\u001b[0m",
      "\u001b[0;31mTypeError\u001b[0m: unhashable type: 'set'"
     ]
    }
   ],
   "source": [
    "student.add({\"urs\", 5})"
   ]
  },
  {
   "cell_type": "code",
   "execution_count": null,
   "metadata": {
    "id": "y2unMGWesmSj"
   },
   "outputs": [],
   "source": [
    "student.update({\"urs\", 5})"
   ]
  },
  {
   "cell_type": "code",
   "execution_count": null,
   "metadata": {
    "colab": {
     "base_uri": "https://localhost:8080/"
    },
    "executionInfo": {
     "elapsed": 371,
     "status": "ok",
     "timestamp": 1653540574486,
     "user": {
      "displayName": "Neuro Labs",
      "userId": "15488119700446268077"
     },
     "user_tz": -330
    },
    "id": "gp-j78R7srmR",
    "outputId": "0ae66331-0644-4c21-c6e5-cf6a51a37dea"
   },
   "outputs": [
    {
     "data": {
      "text/plain": [
       "{5, 6, 7, 'urs'}"
      ]
     },
     "execution_count": 91,
     "metadata": {},
     "output_type": "execute_result"
    }
   ],
   "source": [
    "student"
   ]
  },
  {
   "cell_type": "code",
   "execution_count": null,
   "metadata": {
    "id": "K8nzKZYGss42"
   },
   "outputs": [],
   "source": [
    "student.remove(6)"
   ]
  },
  {
   "cell_type": "code",
   "execution_count": null,
   "metadata": {
    "colab": {
     "base_uri": "https://localhost:8080/"
    },
    "executionInfo": {
     "elapsed": 486,
     "status": "ok",
     "timestamp": 1653540610288,
     "user": {
      "displayName": "Neuro Labs",
      "userId": "15488119700446268077"
     },
     "user_tz": -330
    },
    "id": "up2fRzgVs0u9",
    "outputId": "f116cb69-6d34-4264-e51f-bb4ff119eb33"
   },
   "outputs": [
    {
     "data": {
      "text/plain": [
       "{5, 7, 'urs'}"
      ]
     },
     "execution_count": 93,
     "metadata": {},
     "output_type": "execute_result"
    }
   ],
   "source": [
    "student"
   ]
  },
  {
   "cell_type": "code",
   "execution_count": null,
   "metadata": {
    "colab": {
     "base_uri": "https://localhost:8080/"
    },
    "executionInfo": {
     "elapsed": 352,
     "status": "ok",
     "timestamp": 1653540645187,
     "user": {
      "displayName": "Neuro Labs",
      "userId": "15488119700446268077"
     },
     "user_tz": -330
    },
    "id": "1D0IGLIXs1lL",
    "outputId": "7b562adb-7f26-4659-ee65-7dbcc6d3439c"
   },
   "outputs": [
    {
     "data": {
      "text/plain": [
       "5"
      ]
     },
     "execution_count": 94,
     "metadata": {},
     "output_type": "execute_result"
    }
   ],
   "source": [
    "student.pop()"
   ]
  },
  {
   "cell_type": "code",
   "execution_count": null,
   "metadata": {
    "colab": {
     "base_uri": "https://localhost:8080/"
    },
    "executionInfo": {
     "elapsed": 370,
     "status": "ok",
     "timestamp": 1653540650569,
     "user": {
      "displayName": "Neuro Labs",
      "userId": "15488119700446268077"
     },
     "user_tz": -330
    },
    "id": "riJ8L5lXs-Po",
    "outputId": "00b0231b-40fa-42d3-cbd2-059572d89f20"
   },
   "outputs": [
    {
     "data": {
      "text/plain": [
       "{7, 'urs'}"
      ]
     },
     "execution_count": 95,
     "metadata": {},
     "output_type": "execute_result"
    }
   ],
   "source": [
    "student"
   ]
  },
  {
   "cell_type": "code",
   "execution_count": null,
   "metadata": {
    "colab": {
     "base_uri": "https://localhost:8080/"
    },
    "executionInfo": {
     "elapsed": 361,
     "status": "ok",
     "timestamp": 1653540703110,
     "user": {
      "displayName": "Neuro Labs",
      "userId": "15488119700446268077"
     },
     "user_tz": -330
    },
    "id": "gFYN3akhtMJm",
    "outputId": "77a7a443-df33-494e-d19d-16a6a9772b5d"
   },
   "outputs": [
    {
     "data": {
      "text/plain": [
       "{5, 6, 7, 'urs'}"
      ]
     },
     "execution_count": 100,
     "metadata": {},
     "output_type": "execute_result"
    }
   ],
   "source": [
    "student"
   ]
  },
  {
   "cell_type": "code",
   "execution_count": null,
   "metadata": {
    "colab": {
     "base_uri": "https://localhost:8080/",
     "height": 36
    },
    "executionInfo": {
     "elapsed": 482,
     "status": "ok",
     "timestamp": 1653540709585,
     "user": {
      "displayName": "Neuro Labs",
      "userId": "15488119700446268077"
     },
     "user_tz": -330
    },
    "id": "LxVoVas7s_ce",
    "outputId": "d68bc11d-39b6-4264-cdcb-b36c028e330a"
   },
   "outputs": [
    {
     "data": {
      "application/vnd.google.colaboratory.intrinsic+json": {
       "type": "string"
      },
      "text/plain": [
       "'urs'"
      ]
     },
     "execution_count": 101,
     "metadata": {},
     "output_type": "execute_result"
    }
   ],
   "source": [
    "student.pop()"
   ]
  },
  {
   "cell_type": "code",
   "execution_count": null,
   "metadata": {
    "colab": {
     "base_uri": "https://localhost:8080/"
    },
    "executionInfo": {
     "elapsed": 3,
     "status": "ok",
     "timestamp": 1653540710881,
     "user": {
      "displayName": "Neuro Labs",
      "userId": "15488119700446268077"
     },
     "user_tz": -330
    },
    "id": "HYzoiMBrtCO8",
    "outputId": "883ad119-3b21-4b51-f33d-b4f0a4670f35"
   },
   "outputs": [
    {
     "data": {
      "text/plain": [
       "{5, 6, 7}"
      ]
     },
     "execution_count": 102,
     "metadata": {},
     "output_type": "execute_result"
    }
   ],
   "source": [
    "student"
   ]
  },
  {
   "cell_type": "code",
   "execution_count": null,
   "metadata": {
    "id": "3HTFtFKqtOTr"
   },
   "outputs": [],
   "source": [
    "student.discard(7)"
   ]
  },
  {
   "cell_type": "code",
   "execution_count": null,
   "metadata": {
    "colab": {
     "base_uri": "https://localhost:8080/"
    },
    "executionInfo": {
     "elapsed": 365,
     "status": "ok",
     "timestamp": 1653540737683,
     "user": {
      "displayName": "Neuro Labs",
      "userId": "15488119700446268077"
     },
     "user_tz": -330
    },
    "id": "mOp2SdM6tT_8",
    "outputId": "b44181ae-bc6c-4c53-efea-0f22808415eb"
   },
   "outputs": [
    {
     "data": {
      "text/plain": [
       "{5, 6}"
      ]
     },
     "execution_count": 104,
     "metadata": {},
     "output_type": "execute_result"
    }
   ],
   "source": [
    "student"
   ]
  },
  {
   "cell_type": "code",
   "execution_count": null,
   "metadata": {
    "id": "J4j8LiFgtUx1"
   },
   "outputs": [],
   "source": [
    "x1 = {33,44,33,21}\n",
    "x2 = {55,77,55,21,33}"
   ]
  },
  {
   "cell_type": "code",
   "execution_count": null,
   "metadata": {
    "colab": {
     "base_uri": "https://localhost:8080/"
    },
    "executionInfo": {
     "elapsed": 594,
     "status": "ok",
     "timestamp": 1653540994351,
     "user": {
      "displayName": "Neuro Labs",
      "userId": "15488119700446268077"
     },
     "user_tz": -330
    },
    "id": "o0U802j1uOOD",
    "outputId": "05ce42b7-db77-4e7a-f9e4-7815286e349c"
   },
   "outputs": [
    {
     "data": {
      "text/plain": [
       "{21, 33, 44, 55, 77}"
      ]
     },
     "execution_count": 108,
     "metadata": {},
     "output_type": "execute_result"
    }
   ],
   "source": [
    "x1.union(x2)"
   ]
  },
  {
   "cell_type": "code",
   "execution_count": null,
   "metadata": {
    "id": "iJ7ob4n9uQj4"
   },
   "outputs": [],
   "source": [
    "x1.intersection_update(x2)"
   ]
  },
  {
   "cell_type": "code",
   "execution_count": null,
   "metadata": {
    "colab": {
     "base_uri": "https://localhost:8080/"
    },
    "executionInfo": {
     "elapsed": 366,
     "status": "ok",
     "timestamp": 1653541058889,
     "user": {
      "displayName": "Neuro Labs",
      "userId": "15488119700446268077"
     },
     "user_tz": -330
    },
    "id": "_xOGhT-yughD",
    "outputId": "3ea82dae-80ea-4d37-98c9-2c2c60351b7a"
   },
   "outputs": [
    {
     "data": {
      "text/plain": [
       "{21, 33}"
      ]
     },
     "execution_count": 111,
     "metadata": {},
     "output_type": "execute_result"
    }
   ],
   "source": [
    "x1"
   ]
  },
  {
   "cell_type": "code",
   "execution_count": null,
   "metadata": {
    "id": "IfdxVCFvujUX"
   },
   "outputs": [],
   "source": [
    "x1.symmetric_difference_update(x2) #non duplicate values"
   ]
  },
  {
   "cell_type": "code",
   "execution_count": null,
   "metadata": {
    "colab": {
     "base_uri": "https://localhost:8080/"
    },
    "executionInfo": {
     "elapsed": 362,
     "status": "ok",
     "timestamp": 1653541131879,
     "user": {
      "displayName": "Neuro Labs",
      "userId": "15488119700446268077"
     },
     "user_tz": -330
    },
    "id": "Wz_YFRHfu0KI",
    "outputId": "5748dc1a-8ca8-45d1-ef05-3a6ae0b51f5f"
   },
   "outputs": [
    {
     "data": {
      "text/plain": [
       "{44, 55, 77}"
      ]
     },
     "execution_count": 114,
     "metadata": {},
     "output_type": "execute_result"
    }
   ],
   "source": [
    "x1"
   ]
  },
  {
   "cell_type": "code",
   "execution_count": null,
   "metadata": {
    "colab": {
     "base_uri": "https://localhost:8080/"
    },
    "executionInfo": {
     "elapsed": 9,
     "status": "ok",
     "timestamp": 1653541175339,
     "user": {
      "displayName": "Neuro Labs",
      "userId": "15488119700446268077"
     },
     "user_tz": -330
    },
    "id": "QUpuRIJNu1LH",
    "outputId": "a8d65587-ab30-4665-8f75-825be5f03816"
   },
   "outputs": [
    {
     "data": {
      "text/plain": [
       "{44, 55, 77}"
      ]
     },
     "execution_count": 116,
     "metadata": {},
     "output_type": "execute_result"
    }
   ],
   "source": [
    "x1.symmetric_difference(x2)"
   ]
  },
  {
   "cell_type": "code",
   "execution_count": null,
   "metadata": {
    "colab": {
     "base_uri": "https://localhost:8080/"
    },
    "executionInfo": {
     "elapsed": 373,
     "status": "ok",
     "timestamp": 1653541188178,
     "user": {
      "displayName": "Neuro Labs",
      "userId": "15488119700446268077"
     },
     "user_tz": -330
    },
    "id": "ec9aPnDru_er",
    "outputId": "77b234cf-e1d0-4e35-f3a9-977d2c05bc08"
   },
   "outputs": [
    {
     "data": {
      "text/plain": [
       "{21, 33, 44}"
      ]
     },
     "execution_count": 117,
     "metadata": {},
     "output_type": "execute_result"
    }
   ],
   "source": [
    "x1"
   ]
  },
  {
   "cell_type": "code",
   "execution_count": null,
   "metadata": {
    "id": "T5gV8PHnvC6Y"
   },
   "outputs": [],
   "source": [
    "# tuple + sets practice:   10:45 to 11:45 "
   ]
  },
  {
   "cell_type": "code",
   "execution_count": null,
   "metadata": {
    "id": "9yGnSEniT3OL"
   },
   "outputs": [],
   "source": []
  },
  {
   "cell_type": "code",
   "execution_count": null,
   "metadata": {
    "id": "Y2P6kDcHT1oc"
   },
   "outputs": [],
   "source": [
    "# dictionary "
   ]
  },
  {
   "cell_type": "code",
   "execution_count": null,
   "metadata": {
    "colab": {
     "base_uri": "https://localhost:8080/"
    },
    "executionInfo": {
     "elapsed": 3,
     "status": "ok",
     "timestamp": 1653550861747,
     "user": {
      "displayName": "Neuro Labs",
      "userId": "15488119700446268077"
     },
     "user_tz": -330
    },
    "id": "gHykJ9fGT5sN",
    "outputId": "ce8b602c-d8f0-4346-a304-5297823e408e"
   },
   "outputs": [
    {
     "data": {
      "text/plain": [
       "{}"
      ]
     },
     "execution_count": 2,
     "metadata": {},
     "output_type": "execute_result"
    }
   ],
   "source": [
    "dict()"
   ]
  },
  {
   "cell_type": "code",
   "execution_count": null,
   "metadata": {
    "colab": {
     "base_uri": "https://localhost:8080/"
    },
    "executionInfo": {
     "elapsed": 4,
     "status": "ok",
     "timestamp": 1653550884210,
     "user": {
      "displayName": "Neuro Labs",
      "userId": "15488119700446268077"
     },
     "user_tz": -330
    },
    "id": "CY-AQJfvT8pU",
    "outputId": "479e371f-3e2c-4781-e7ed-973400179d7f"
   },
   "outputs": [
    {
     "data": {
      "text/plain": [
       "{'a': 5, 'b': 'hey'}"
      ]
     },
     "execution_count": 3,
     "metadata": {},
     "output_type": "execute_result"
    }
   ],
   "source": [
    "dict(a=5, b='hey')"
   ]
  },
  {
   "cell_type": "code",
   "execution_count": null,
   "metadata": {
    "id": "f8FbRx6VUCBe"
   },
   "outputs": [],
   "source": [
    "p = {\"A\":35, 'L':\"yep\"}"
   ]
  },
  {
   "cell_type": "code",
   "execution_count": null,
   "metadata": {
    "colab": {
     "base_uri": "https://localhost:8080/"
    },
    "executionInfo": {
     "elapsed": 3,
     "status": "ok",
     "timestamp": 1653550909899,
     "user": {
      "displayName": "Neuro Labs",
      "userId": "15488119700446268077"
     },
     "user_tz": -330
    },
    "id": "1Dm_cRnbUH26",
    "outputId": "ffb885b6-0ca9-4f49-8f86-5d9b2ef46844"
   },
   "outputs": [
    {
     "data": {
      "text/plain": [
       "{'A': 35, 'L': 'yep'}"
      ]
     },
     "execution_count": 5,
     "metadata": {},
     "output_type": "execute_result"
    }
   ],
   "source": [
    "p"
   ]
  },
  {
   "cell_type": "code",
   "execution_count": null,
   "metadata": {
    "id": "EAMJT4OKUISH"
   },
   "outputs": [],
   "source": [
    "data types \n",
    "methods"
   ]
  },
  {
   "cell_type": "code",
   "execution_count": null,
   "metadata": {
    "id": "FNmi-LZ8VZFY"
   },
   "outputs": [],
   "source": [
    "p.update(h = 45)"
   ]
  },
  {
   "cell_type": "code",
   "execution_count": null,
   "metadata": {
    "colab": {
     "base_uri": "https://localhost:8080/"
    },
    "executionInfo": {
     "elapsed": 380,
     "status": "ok",
     "timestamp": 1653551286504,
     "user": {
      "displayName": "Neuro Labs",
      "userId": "15488119700446268077"
     },
     "user_tz": -330
    },
    "id": "NF1lya69Vja1",
    "outputId": "87610a7b-cf15-4e26-c1c1-a34c453604f2"
   },
   "outputs": [
    {
     "data": {
      "text/plain": [
       "{'A': 35, 'L': 'yep', 'h': 45}"
      ]
     },
     "execution_count": 7,
     "metadata": {},
     "output_type": "execute_result"
    }
   ],
   "source": [
    "p"
   ]
  },
  {
   "cell_type": "code",
   "execution_count": null,
   "metadata": {
    "id": "_4UVaD9GVkB7"
   },
   "outputs": [],
   "source": [
    "p.update(L = 45)"
   ]
  },
  {
   "cell_type": "code",
   "execution_count": null,
   "metadata": {
    "colab": {
     "base_uri": "https://localhost:8080/"
    },
    "executionInfo": {
     "elapsed": 375,
     "status": "ok",
     "timestamp": 1653551388351,
     "user": {
      "displayName": "Neuro Labs",
      "userId": "15488119700446268077"
     },
     "user_tz": -330
    },
    "id": "aRQ9u457V8ec",
    "outputId": "ccba50bc-3515-4bfd-9390-552a2f15b11d"
   },
   "outputs": [
    {
     "data": {
      "text/plain": [
       "{'A': 35, 'L': 45, 'h': 45}"
      ]
     },
     "execution_count": 9,
     "metadata": {},
     "output_type": "execute_result"
    }
   ],
   "source": [
    "p  #duplicate keys aren't allowed"
   ]
  },
  {
   "cell_type": "code",
   "execution_count": null,
   "metadata": {
    "id": "ZYkt4n6YV832"
   },
   "outputs": [],
   "source": [
    "dict_data = {'A':45, \"B\": 'pet', 'c':55.5, 'd':[34,56], 'A':\"pop\"}"
   ]
  },
  {
   "cell_type": "code",
   "execution_count": null,
   "metadata": {
    "colab": {
     "base_uri": "https://localhost:8080/"
    },
    "executionInfo": {
     "elapsed": 8,
     "status": "ok",
     "timestamp": 1654788607005,
     "user": {
      "displayName": "Neuro Labs",
      "userId": "15488119700446268077"
     },
     "user_tz": -330
    },
    "id": "dw2PXjJVFKv8",
    "outputId": "5fe03148-1a79-4b6d-d80f-601c8be835f9"
   },
   "outputs": [
    {
     "data": {
      "text/plain": [
       "{'1101': {'age': 23, 'firstname': 'senthil', 'lastname': 'ramajayam'},\n",
       " '1102': {'age': 23, 'firstname': 'senthil', 'lastname': 'singh'}}"
      ]
     },
     "execution_count": 2,
     "metadata": {},
     "output_type": "execute_result"
    }
   ],
   "source": [
    "{\n",
    "    \"1101\" : {\"firstname\":\"senthil\", \"lastname\":\"ramajayam\", \"age\":23},\n",
    "    \"1102\" : {\"firstname\":\"senthil\", \"lastname\":\"singh\", \"age\":23}\n",
    "}"
   ]
  },
  {
   "cell_type": "code",
   "execution_count": null,
   "metadata": {
    "colab": {
     "base_uri": "https://localhost:8080/"
    },
    "executionInfo": {
     "elapsed": 3,
     "status": "ok",
     "timestamp": 1653551502005,
     "user": {
      "displayName": "Neuro Labs",
      "userId": "15488119700446268077"
     },
     "user_tz": -330
    },
    "id": "nJrtln34WQ-7",
    "outputId": "4c709f0d-85dc-4162-98cb-9386a996f188"
   },
   "outputs": [
    {
     "data": {
      "text/plain": [
       "{'A', 'B', 'c', 'd'}"
      ]
     },
     "execution_count": 11,
     "metadata": {},
     "output_type": "execute_result"
    }
   ],
   "source": [
    "{'A',\"B\",'c','d','A'}"
   ]
  },
  {
   "cell_type": "code",
   "execution_count": null,
   "metadata": {
    "colab": {
     "base_uri": "https://localhost:8080/"
    },
    "executionInfo": {
     "elapsed": 3,
     "status": "ok",
     "timestamp": 1653551536063,
     "user": {
      "displayName": "Neuro Labs",
      "userId": "15488119700446268077"
     },
     "user_tz": -330
    },
    "id": "X9m9Kr3KWY3C",
    "outputId": "0838cb77-42d8-4d9e-8e6d-46f766e6f7ec"
   },
   "outputs": [
    {
     "data": {
      "text/plain": [
       "{'A': 'pop', 'B': 'pet', 'c': 55.5, 'd': [34, 56]}"
      ]
     },
     "execution_count": 13,
     "metadata": {},
     "output_type": "execute_result"
    }
   ],
   "source": [
    "dict_data"
   ]
  },
  {
   "cell_type": "code",
   "execution_count": null,
   "metadata": {
    "colab": {
     "base_uri": "https://localhost:8080/"
    },
    "executionInfo": {
     "elapsed": 3,
     "status": "ok",
     "timestamp": 1653551546931,
     "user": {
      "displayName": "Neuro Labs",
      "userId": "15488119700446268077"
     },
     "user_tz": -330
    },
    "id": "_yG3kHvhWhO0",
    "outputId": "6e2fa931-3636-402b-f02d-4c6dd5b347dd"
   },
   "outputs": [
    {
     "data": {
      "text/plain": [
       "55.5"
      ]
     },
     "execution_count": 14,
     "metadata": {},
     "output_type": "execute_result"
    }
   ],
   "source": [
    "dict_data['c']"
   ]
  },
  {
   "cell_type": "code",
   "execution_count": null,
   "metadata": {
    "colab": {
     "base_uri": "https://localhost:8080/"
    },
    "executionInfo": {
     "elapsed": 5,
     "status": "ok",
     "timestamp": 1653551554646,
     "user": {
      "displayName": "Neuro Labs",
      "userId": "15488119700446268077"
     },
     "user_tz": -330
    },
    "id": "c5PAB9iXWjyI",
    "outputId": "db6bd760-7477-4410-f697-a6b2354537df"
   },
   "outputs": [
    {
     "data": {
      "text/plain": [
       "[34, 56]"
      ]
     },
     "execution_count": 15,
     "metadata": {},
     "output_type": "execute_result"
    }
   ],
   "source": [
    "dict_data['d']"
   ]
  },
  {
   "cell_type": "code",
   "execution_count": null,
   "metadata": {
    "colab": {
     "base_uri": "https://localhost:8080/"
    },
    "executionInfo": {
     "elapsed": 2,
     "status": "ok",
     "timestamp": 1653551565968,
     "user": {
      "displayName": "Neuro Labs",
      "userId": "15488119700446268077"
     },
     "user_tz": -330
    },
    "id": "v3P3-niNWlnT",
    "outputId": "a43da70b-5c60-4c25-8626-d931cff07a40"
   },
   "outputs": [
    {
     "data": {
      "text/plain": [
       "34"
      ]
     },
     "execution_count": 16,
     "metadata": {},
     "output_type": "execute_result"
    }
   ],
   "source": [
    "dict_data['d'][0]"
   ]
  },
  {
   "cell_type": "code",
   "execution_count": null,
   "metadata": {
    "colab": {
     "base_uri": "https://localhost:8080/"
    },
    "executionInfo": {
     "elapsed": 2,
     "status": "ok",
     "timestamp": 1653551568577,
     "user": {
      "displayName": "Neuro Labs",
      "userId": "15488119700446268077"
     },
     "user_tz": -330
    },
    "id": "GFxEKd7JWoZ_",
    "outputId": "5079ab3f-3748-4fcb-aea2-21d74b25b761"
   },
   "outputs": [
    {
     "data": {
      "text/plain": [
       "56"
      ]
     },
     "execution_count": 17,
     "metadata": {},
     "output_type": "execute_result"
    }
   ],
   "source": [
    "dict_data['d'][1]"
   ]
  },
  {
   "cell_type": "code",
   "execution_count": null,
   "metadata": {
    "colab": {
     "base_uri": "https://localhost:8080/"
    },
    "executionInfo": {
     "elapsed": 3,
     "status": "ok",
     "timestamp": 1653551590253,
     "user": {
      "displayName": "Neuro Labs",
      "userId": "15488119700446268077"
     },
     "user_tz": -330
    },
    "id": "OAqbmfORWpCu",
    "outputId": "96b9718d-7002-4cb8-a8ef-a29532b68539"
   },
   "outputs": [
    {
     "data": {
      "text/plain": [
       "4"
      ]
     },
     "execution_count": 18,
     "metadata": {},
     "output_type": "execute_result"
    }
   ],
   "source": [
    "len(dict_data)"
   ]
  },
  {
   "cell_type": "code",
   "execution_count": null,
   "metadata": {
    "colab": {
     "base_uri": "https://localhost:8080/"
    },
    "executionInfo": {
     "elapsed": 436,
     "status": "ok",
     "timestamp": 1653551604457,
     "user": {
      "displayName": "Neuro Labs",
      "userId": "15488119700446268077"
     },
     "user_tz": -330
    },
    "id": "grOa_q8LWugw",
    "outputId": "62d57cd9-e823-4af5-ce5d-71266b279233"
   },
   "outputs": [
    {
     "data": {
      "text/plain": [
       "dict_keys(['A', 'B', 'c', 'd'])"
      ]
     },
     "execution_count": 20,
     "metadata": {},
     "output_type": "execute_result"
    }
   ],
   "source": [
    "dict_data.keys()"
   ]
  },
  {
   "cell_type": "code",
   "execution_count": null,
   "metadata": {
    "colab": {
     "base_uri": "https://localhost:8080/"
    },
    "executionInfo": {
     "elapsed": 14,
     "status": "ok",
     "timestamp": 1653551612608,
     "user": {
      "displayName": "Neuro Labs",
      "userId": "15488119700446268077"
     },
     "user_tz": -330
    },
    "id": "zuNvTqS8WwFN",
    "outputId": "5331a4d4-0556-4af8-eca8-a3e167f62a68"
   },
   "outputs": [
    {
     "data": {
      "text/plain": [
       "dict_values(['pop', 'pet', 55.5, [34, 56]])"
      ]
     },
     "execution_count": 21,
     "metadata": {},
     "output_type": "execute_result"
    }
   ],
   "source": [
    "dict_data.values()"
   ]
  },
  {
   "cell_type": "code",
   "execution_count": null,
   "metadata": {
    "colab": {
     "base_uri": "https://localhost:8080/"
    },
    "executionInfo": {
     "elapsed": 5,
     "status": "ok",
     "timestamp": 1653551657989,
     "user": {
      "displayName": "Neuro Labs",
      "userId": "15488119700446268077"
     },
     "user_tz": -330
    },
    "id": "QQJycw3eWz0S",
    "outputId": "04bdeb8b-fd75-403e-9f72-0a5c4376595e"
   },
   "outputs": [
    {
     "data": {
      "text/plain": [
       "dict_items([('A', 'pop'), ('B', 'pet'), ('c', 55.5), ('d', [34, 56])])"
      ]
     },
     "execution_count": 22,
     "metadata": {},
     "output_type": "execute_result"
    }
   ],
   "source": [
    "dict_data.items()"
   ]
  },
  {
   "cell_type": "code",
   "execution_count": null,
   "metadata": {
    "colab": {
     "base_uri": "https://localhost:8080/"
    },
    "executionInfo": {
     "elapsed": 6,
     "status": "ok",
     "timestamp": 1653551714932,
     "user": {
      "displayName": "Neuro Labs",
      "userId": "15488119700446268077"
     },
     "user_tz": -330
    },
    "id": "NghKNpuyW--H",
    "outputId": "42057bdf-bb54-407f-9db9-9a7edf87416d"
   },
   "outputs": [
    {
     "data": {
      "text/plain": [
       "dict"
      ]
     },
     "execution_count": 23,
     "metadata": {},
     "output_type": "execute_result"
    }
   ],
   "source": [
    "type(dict_data)"
   ]
  },
  {
   "cell_type": "code",
   "execution_count": null,
   "metadata": {
    "colab": {
     "base_uri": "https://localhost:8080/"
    },
    "executionInfo": {
     "elapsed": 3,
     "status": "ok",
     "timestamp": 1653551726777,
     "user": {
      "displayName": "Neuro Labs",
      "userId": "15488119700446268077"
     },
     "user_tz": -330
    },
    "id": "2l3fUVghXM75",
    "outputId": "5e08d891-3cbf-4274-bdf6-2f9d0e14a823"
   },
   "outputs": [
    {
     "data": {
      "text/plain": [
       "[34, 56]"
      ]
     },
     "execution_count": 24,
     "metadata": {},
     "output_type": "execute_result"
    }
   ],
   "source": [
    "dict_data['d']"
   ]
  },
  {
   "cell_type": "code",
   "execution_count": null,
   "metadata": {
    "colab": {
     "base_uri": "https://localhost:8080/"
    },
    "executionInfo": {
     "elapsed": 7,
     "status": "ok",
     "timestamp": 1653551736263,
     "user": {
      "displayName": "Neuro Labs",
      "userId": "15488119700446268077"
     },
     "user_tz": -330
    },
    "id": "gRk4WAr5XPui",
    "outputId": "15024ef3-0bcd-4993-f55d-7e3a2fb19307"
   },
   "outputs": [
    {
     "data": {
      "text/plain": [
       "[34, 56]"
      ]
     },
     "execution_count": 25,
     "metadata": {},
     "output_type": "execute_result"
    }
   ],
   "source": [
    "dict_data.get('d')"
   ]
  },
  {
   "cell_type": "code",
   "execution_count": null,
   "metadata": {
    "colab": {
     "base_uri": "https://localhost:8080/"
    },
    "executionInfo": {
     "elapsed": 3,
     "status": "ok",
     "timestamp": 1653551763520,
     "user": {
      "displayName": "Neuro Labs",
      "userId": "15488119700446268077"
     },
     "user_tz": -330
    },
    "id": "P8o_tXERXSCh",
    "outputId": "7270a419-3796-4362-d008-e3bc3c3beded"
   },
   "outputs": [
    {
     "data": {
      "text/plain": [
       "[34, 56]"
      ]
     },
     "execution_count": 26,
     "metadata": {},
     "output_type": "execute_result"
    }
   ],
   "source": [
    "dict_data['d']"
   ]
  },
  {
   "cell_type": "code",
   "execution_count": null,
   "metadata": {
    "id": "LLMWtGnwXYsq"
   },
   "outputs": [],
   "source": [
    "dict_data['d'] = \"hero honda\""
   ]
  },
  {
   "cell_type": "code",
   "execution_count": null,
   "metadata": {
    "colab": {
     "base_uri": "https://localhost:8080/"
    },
    "executionInfo": {
     "elapsed": 3,
     "status": "ok",
     "timestamp": 1653551775420,
     "user": {
      "displayName": "Neuro Labs",
      "userId": "15488119700446268077"
     },
     "user_tz": -330
    },
    "id": "sONrp3fMXakY",
    "outputId": "97d88f38-4555-4e2e-fa0d-de7680925a09"
   },
   "outputs": [
    {
     "data": {
      "text/plain": [
       "{'A': 'pop', 'B': 'pet', 'c': 55.5, 'd': 'hero honda'}"
      ]
     },
     "execution_count": 28,
     "metadata": {},
     "output_type": "execute_result"
    }
   ],
   "source": [
    "dict_data"
   ]
  },
  {
   "cell_type": "code",
   "execution_count": null,
   "metadata": {
    "id": "d4aqm5RPXbiE"
   },
   "outputs": [],
   "source": [
    "dict_data.update(j='India', l=87.1)"
   ]
  },
  {
   "cell_type": "code",
   "execution_count": null,
   "metadata": {
    "colab": {
     "base_uri": "https://localhost:8080/"
    },
    "executionInfo": {
     "elapsed": 4,
     "status": "ok",
     "timestamp": 1653551807685,
     "user": {
      "displayName": "Neuro Labs",
      "userId": "15488119700446268077"
     },
     "user_tz": -330
    },
    "id": "jpcBGrOsXirf",
    "outputId": "f1765a60-4b9c-45c2-b347-799ffd943275"
   },
   "outputs": [
    {
     "data": {
      "text/plain": [
       "{'A': 'pop', 'B': 'pet', 'c': 55.5, 'd': 'hero honda', 'j': 'India', 'l': 87.1}"
      ]
     },
     "execution_count": 30,
     "metadata": {},
     "output_type": "execute_result"
    }
   ],
   "source": [
    "dict_data"
   ]
  },
  {
   "cell_type": "code",
   "execution_count": null,
   "metadata": {
    "id": "5iICyWWwXjga"
   },
   "outputs": [],
   "source": [
    "dict_data.update({\"june\":'India', \"leave\":\"Cool\"})"
   ]
  },
  {
   "cell_type": "code",
   "execution_count": null,
   "metadata": {
    "colab": {
     "base_uri": "https://localhost:8080/"
    },
    "executionInfo": {
     "elapsed": 5,
     "status": "ok",
     "timestamp": 1653551856087,
     "user": {
      "displayName": "Neuro Labs",
      "userId": "15488119700446268077"
     },
     "user_tz": -330
    },
    "id": "K2cSRDxpXuZQ",
    "outputId": "34fe754c-8358-471c-fd71-6fb6c88b984e"
   },
   "outputs": [
    {
     "data": {
      "text/plain": [
       "{'A': 'pop',\n",
       " 'B': 'pet',\n",
       " 'c': 55.5,\n",
       " 'd': 'hero honda',\n",
       " 'j': 'India',\n",
       " 'june': 'India',\n",
       " 'l': 87.1,\n",
       " 'leave': 'Cool'}"
      ]
     },
     "execution_count": 32,
     "metadata": {},
     "output_type": "execute_result"
    }
   ],
   "source": [
    "dict_data"
   ]
  },
  {
   "cell_type": "code",
   "execution_count": null,
   "metadata": {
    "colab": {
     "base_uri": "https://localhost:8080/"
    },
    "executionInfo": {
     "elapsed": 2,
     "status": "ok",
     "timestamp": 1653551901646,
     "user": {
      "displayName": "Neuro Labs",
      "userId": "15488119700446268077"
     },
     "user_tz": -330
    },
    "id": "I0Cx0TVFXvNw",
    "outputId": "b7360f12-5349-40f7-839a-3999fb17470b"
   },
   "outputs": [
    {
     "data": {
      "text/plain": [
       "87.1"
      ]
     },
     "execution_count": 33,
     "metadata": {},
     "output_type": "execute_result"
    }
   ],
   "source": [
    "dict_data.pop('l')"
   ]
  },
  {
   "cell_type": "code",
   "execution_count": null,
   "metadata": {
    "colab": {
     "base_uri": "https://localhost:8080/"
    },
    "executionInfo": {
     "elapsed": 5,
     "status": "ok",
     "timestamp": 1653551909226,
     "user": {
      "displayName": "Neuro Labs",
      "userId": "15488119700446268077"
     },
     "user_tz": -330
    },
    "id": "mQ-gj2PiX6ad",
    "outputId": "55e171f1-8bd0-4023-ff78-a5495857e5ce"
   },
   "outputs": [
    {
     "data": {
      "text/plain": [
       "{'A': 'pop',\n",
       " 'B': 'pet',\n",
       " 'c': 55.5,\n",
       " 'd': 'hero honda',\n",
       " 'j': 'India',\n",
       " 'june': 'India',\n",
       " 'leave': 'Cool'}"
      ]
     },
     "execution_count": 34,
     "metadata": {},
     "output_type": "execute_result"
    }
   ],
   "source": [
    "dict_data"
   ]
  },
  {
   "cell_type": "code",
   "execution_count": null,
   "metadata": {
    "colab": {
     "base_uri": "https://localhost:8080/"
    },
    "executionInfo": {
     "elapsed": 3,
     "status": "ok",
     "timestamp": 1653551939460,
     "user": {
      "displayName": "Neuro Labs",
      "userId": "15488119700446268077"
     },
     "user_tz": -330
    },
    "id": "CZJ_SSmhX8SQ",
    "outputId": "0c2b55ee-8c0f-4d75-8fbe-80358bf4d8d5"
   },
   "outputs": [
    {
     "data": {
      "text/plain": [
       "('leave', 'Cool')"
      ]
     },
     "execution_count": 35,
     "metadata": {},
     "output_type": "execute_result"
    }
   ],
   "source": [
    "dict_data.popitem()"
   ]
  },
  {
   "cell_type": "code",
   "execution_count": null,
   "metadata": {
    "colab": {
     "base_uri": "https://localhost:8080/"
    },
    "executionInfo": {
     "elapsed": 3,
     "status": "ok",
     "timestamp": 1653551940816,
     "user": {
      "displayName": "Neuro Labs",
      "userId": "15488119700446268077"
     },
     "user_tz": -330
    },
    "id": "54wd_CcxYDrr",
    "outputId": "46b6b2a4-7eaf-4ad9-f029-ffab29ee03d7"
   },
   "outputs": [
    {
     "data": {
      "text/plain": [
       "{'A': 'pop',\n",
       " 'B': 'pet',\n",
       " 'c': 55.5,\n",
       " 'd': 'hero honda',\n",
       " 'j': 'India',\n",
       " 'june': 'India'}"
      ]
     },
     "execution_count": 36,
     "metadata": {},
     "output_type": "execute_result"
    }
   ],
   "source": [
    "dict_data"
   ]
  },
  {
   "cell_type": "code",
   "execution_count": null,
   "metadata": {
    "id": "VBfLC4HsYEG2"
   },
   "outputs": [],
   "source": [
    "clear()"
   ]
  },
  {
   "cell_type": "code",
   "execution_count": null,
   "metadata": {
    "id": "DUScB_mMYLyF"
   },
   "outputs": [],
   "source": [
    "dict2 = dict_data.copy()"
   ]
  },
  {
   "cell_type": "code",
   "execution_count": null,
   "metadata": {
    "colab": {
     "base_uri": "https://localhost:8080/"
    },
    "executionInfo": {
     "elapsed": 4,
     "status": "ok",
     "timestamp": 1653552003996,
     "user": {
      "displayName": "Neuro Labs",
      "userId": "15488119700446268077"
     },
     "user_tz": -330
    },
    "id": "_Gos1w4fYSvQ",
    "outputId": "14e7569c-a306-42f5-d04c-07ec827b6a56"
   },
   "outputs": [
    {
     "data": {
      "text/plain": [
       "{'A': 'pop',\n",
       " 'B': 'pet',\n",
       " 'c': 55.5,\n",
       " 'd': 'hero honda',\n",
       " 'j': 'India',\n",
       " 'june': 'India'}"
      ]
     },
     "execution_count": 38,
     "metadata": {},
     "output_type": "execute_result"
    }
   ],
   "source": [
    "dict2"
   ]
  },
  {
   "cell_type": "code",
   "execution_count": null,
   "metadata": {
    "colab": {
     "base_uri": "https://localhost:8080/"
    },
    "executionInfo": {
     "elapsed": 375,
     "status": "ok",
     "timestamp": 1653552263491,
     "user": {
      "displayName": "Neuro Labs",
      "userId": "15488119700446268077"
     },
     "user_tz": -330
    },
    "id": "zekmhmDSYTUq",
    "outputId": "944ca4c5-1756-4953-c6b3-94bf7c71a8fb"
   },
   "outputs": [
    {
     "data": {
      "text/plain": [
       "{'A': 'pop',\n",
       " 'B': 'pet',\n",
       " 'c': 55.5,\n",
       " 'd': 'hero honda',\n",
       " 'j': 'India',\n",
       " 'june': {'J': 'India', 'K': 20}}"
      ]
     },
     "execution_count": 45,
     "metadata": {},
     "output_type": "execute_result"
    }
   ],
   "source": [
    "{'A': 'pop',\n",
    " 'B': 'pet',\n",
    " 'c': 55.5,\n",
    " 'd': 'hero honda',\n",
    " 'j': 'India',\n",
    " 'june': {\"J\":'India', \"K\":20}\n",
    " }"
   ]
  },
  {
   "cell_type": "code",
   "execution_count": null,
   "metadata": {
    "id": "-NSsR54dYdIK"
   },
   "outputs": [],
   "source": [
    "[12, 3, [\"present\"]]"
   ]
  },
  {
   "cell_type": "code",
   "execution_count": null,
   "metadata": {
    "id": "T6KixTF5ZbZS"
   },
   "outputs": [],
   "source": [
    "int\n",
    "float\n",
    "string\n",
    "list\n",
    "tuple\n",
    "dictionary\n",
    "set"
   ]
  },
  {
   "cell_type": "code",
   "execution_count": null,
   "metadata": {
    "id": "9IyRZt-jZigR"
   },
   "outputs": [],
   "source": [
    "10/18"
   ]
  },
  {
   "cell_type": "code",
   "execution_count": null,
   "metadata": {
    "id": "tOUQabfnZxCt"
   },
   "outputs": [],
   "source": [
    "1:30 - 4: revise concepts & do assignment (10/18)   [Break: 10 mins after every hour]\n",
    "\n",
    "4 - 5: Assignment Correction"
   ]
  },
  {
   "cell_type": "code",
   "execution_count": null,
   "metadata": {
    "id": "PVdV4vcUnTO9"
   },
   "outputs": [],
   "source": [
    "# loops"
   ]
  },
  {
   "cell_type": "code",
   "execution_count": null,
   "metadata": {
    "id": "bodUq7DSnVHu"
   },
   "outputs": [],
   "source": [
    "if\n",
    "elif\n",
    "else\n",
    "\n",
    "while\n",
    "\n",
    "for \n",
    "\n"
   ]
  },
  {
   "cell_type": "code",
   "execution_count": null,
   "metadata": {
    "id": "e2pf8F4anzqW"
   },
   "outputs": [],
   "source": [
    "# when u hv only 1 condition\n",
    "if condition:\n",
    "  #code\n",
    "\n",
    "# when u hv 2 conditions\n",
    "if condition:\n",
    "  #code\n",
    "else:\n",
    "  #code\n",
    "\n",
    "# when u hv 3 conditions\n",
    "if condition:\n",
    "  #code\n",
    "elif condition:\n",
    "  #code\n",
    "else:\n",
    "  #code\n",
    "\n",
    "# when u hv 20 conditions\n",
    "\n",
    "if\n",
    "18 elif statements\n",
    "else"
   ]
  },
  {
   "cell_type": "code",
   "execution_count": null,
   "metadata": {
    "id": "QRZAYTOKpUNV"
   },
   "outputs": [],
   "source": [
    "data = \"banana is not so tasty. Its the talk of the town\"\n",
    "\n",
    "# Q) Print Tasty when its apple and sugary when its banana?"
   ]
  },
  {
   "cell_type": "code",
   "execution_count": null,
   "metadata": {
    "colab": {
     "base_uri": "https://localhost:8080/"
    },
    "executionInfo": {
     "elapsed": 11,
     "status": "ok",
     "timestamp": 1653624606584,
     "user": {
      "displayName": "Neuro Labs",
      "userId": "15488119700446268077"
     },
     "user_tz": -330
    },
    "id": "E3mNyqXzsZng",
    "outputId": "a8a433b8-7beb-44d9-b489-a62859fa9f69"
   },
   "outputs": [
    {
     "name": "stdout",
     "output_type": "stream",
     "text": [
      "Nothing\n"
     ]
    }
   ],
   "source": [
    "if \"apple\" in data:\n",
    "  print(\"Tasty\")\n",
    "else:\n",
    "  print(\"Nothing\")"
   ]
  },
  {
   "cell_type": "code",
   "execution_count": null,
   "metadata": {
    "colab": {
     "base_uri": "https://localhost:8080/"
    },
    "executionInfo": {
     "elapsed": 11,
     "status": "ok",
     "timestamp": 1653624606585,
     "user": {
      "displayName": "Neuro Labs",
      "userId": "15488119700446268077"
     },
     "user_tz": -330
    },
    "id": "UCxEooPGtCvI",
    "outputId": "9c653734-ef81-48ae-bd3e-fac57bfaff25"
   },
   "outputs": [
    {
     "data": {
      "text/plain": [
       "False"
      ]
     },
     "execution_count": 9,
     "metadata": {},
     "output_type": "execute_result"
    }
   ],
   "source": [
    "\"apple\" in data"
   ]
  },
  {
   "cell_type": "code",
   "execution_count": null,
   "metadata": {
    "id": "Nhyfq9zTtFT4"
   },
   "outputs": [],
   "source": [
    "mrng = \" is good but  is so tasty\""
   ]
  },
  {
   "cell_type": "code",
   "execution_count": null,
   "metadata": {
    "colab": {
     "base_uri": "https://localhost:8080/"
    },
    "executionInfo": {
     "elapsed": 3,
     "status": "ok",
     "timestamp": 1653624877366,
     "user": {
      "displayName": "Neuro Labs",
      "userId": "15488119700446268077"
     },
     "user_tz": -330
    },
    "id": "27rXRJIqt-zY",
    "outputId": "7e7ee08a-c35a-4c73-a056-d9504603cb6e"
   },
   "outputs": [
    {
     "name": "stdout",
     "output_type": "stream",
     "text": [
      "Both are not present\n"
     ]
    }
   ],
   "source": [
    "if \"apple\" in mrng:\n",
    "  print(\"Apple is present\")\n",
    "elif \"banana\" in mrng:\n",
    "  print(\"Banana is also present\")\n",
    "else:\n",
    "  print(\"Both are not present\")"
   ]
  },
  {
   "cell_type": "code",
   "execution_count": null,
   "metadata": {
    "id": "reui5X7juJW2"
   },
   "outputs": [],
   "source": [
    "while condition:\n",
    "  #code"
   ]
  },
  {
   "cell_type": "code",
   "execution_count": null,
   "metadata": {
    "id": "8aOL9XO-28lf"
   },
   "outputs": [],
   "source": []
  },
  {
   "cell_type": "code",
   "execution_count": null,
   "metadata": {
    "colab": {
     "base_uri": "https://localhost:8080/"
    },
    "executionInfo": {
     "elapsed": 376,
     "status": "ok",
     "timestamp": 1653627175567,
     "user": {
      "displayName": "Neuro Labs",
      "userId": "15488119700446268077"
     },
     "user_tz": -330
    },
    "id": "Mic1z0RE28tb",
    "outputId": "92a97004-9349-44b9-f2fb-4e91efb87079"
   },
   "outputs": [
    {
     "name": "stdout",
     "output_type": "stream",
     "text": [
      "value of x is 10\n",
      "value of x is 11\n",
      "value of x is 12\n",
      "value of x is 13\n",
      "value of x is 14\n",
      "value of x is 15\n",
      "value of x is 16\n",
      "value of x is 17\n",
      "value of x is 18\n",
      "value of x is 19\n"
     ]
    }
   ],
   "source": [
    "x = 10\n",
    "while x<20:\n",
    "  print(\"value of x is {}\".format(x))\n",
    "  x+=1"
   ]
  },
  {
   "cell_type": "code",
   "execution_count": null,
   "metadata": {
    "id": "NmNXSbmU3D64"
   },
   "outputs": [],
   "source": [
    "for tmp_var in data:\n",
    "  #code"
   ]
  },
  {
   "cell_type": "code",
   "execution_count": null,
   "metadata": {
    "colab": {
     "base_uri": "https://localhost:8080/"
    },
    "executionInfo": {
     "elapsed": 354,
     "status": "ok",
     "timestamp": 1653627241311,
     "user": {
      "displayName": "Neuro Labs",
      "userId": "15488119700446268077"
     },
     "user_tz": -330
    },
    "id": "JdYEfC5y3O4i",
    "outputId": "2bd1e1f7-3e16-430c-b98c-51b1a313aef2"
   },
   "outputs": [
    {
     "name": "stdout",
     "output_type": "stream",
     "text": [
      "12\n",
      "13\n",
      "14\n",
      "15\n"
     ]
    }
   ],
   "source": [
    "for sg_a in [12, 13, 14, 15]:\n",
    "  print(sg_a) "
   ]
  },
  {
   "cell_type": "code",
   "execution_count": null,
   "metadata": {
    "id": "1ZZII9hT3Tzm"
   },
   "outputs": [],
   "source": [
    "12 gets stored in sg_a\n",
    "print 12\n",
    "\n",
    "13 gets stored in sg_a\n",
    "print 13\n",
    "\n",
    "14 gets stored in sg_a\n",
    "print 14\n",
    "\n",
    "15 gets stored in sg_a\n",
    "print 15"
   ]
  },
  {
   "cell_type": "code",
   "execution_count": null,
   "metadata": {
    "colab": {
     "base_uri": "https://localhost:8080/"
    },
    "executionInfo": {
     "elapsed": 369,
     "status": "ok",
     "timestamp": 1653627432225,
     "user": {
      "displayName": "Neuro Labs",
      "userId": "15488119700446268077"
     },
     "user_tz": -330
    },
    "id": "rdSPFllR3yGD",
    "outputId": "06d180db-5743-4475-ae00-f417c5dfd161"
   },
   "outputs": [
    {
     "name": "stdout",
     "output_type": "stream",
     "text": [
      "12 is an even number\n",
      "13 is an odd number\n",
      "14 is an even number\n",
      "15 is an odd number\n"
     ]
    }
   ],
   "source": [
    "for sg_a in [12, 13, 14, 15]:\n",
    "  if  sg_a % 2 == 0:\n",
    "    print(\"{} is an even number\".format(sg_a))\n",
    "  else:\n",
    "    print(\"{} is an odd number\".format(sg_a))"
   ]
  },
  {
   "cell_type": "code",
   "execution_count": null,
   "metadata": {
    "id": "NoRblZVC4Clq"
   },
   "outputs": [],
   "source": [
    "1\n",
    "1 2\n",
    "1 2 3\n",
    "1 2 3 4\n",
    "1 2 3 4 5"
   ]
  },
  {
   "cell_type": "code",
   "execution_count": null,
   "metadata": {
    "id": "XqN9uOfmnsOq"
   },
   "outputs": [],
   "source": [
    "1 2 3 4 5\n",
    "1 2 3 4 \n",
    "1 2 3 \n",
    "1 2 \n",
    "1"
   ]
  },
  {
   "cell_type": "code",
   "execution_count": null,
   "metadata": {
    "id": "1ho7ZktFtETg"
   },
   "outputs": [],
   "source": [
    "1 2 3 4 5\n",
    "1 2 3 4 \n",
    "1 2 3 \n",
    "1 2 \n",
    "1\n",
    "1 2\n",
    "1 2 3\n",
    "1 2 3 4\n",
    "1 2 3 4 5"
   ]
  },
  {
   "cell_type": "code",
   "execution_count": null,
   "metadata": {
    "id": "7VVGQ8C8yBvo"
   },
   "outputs": [],
   "source": [
    "# functions"
   ]
  },
  {
   "cell_type": "code",
   "execution_count": null,
   "metadata": {
    "id": "zXt0zfiopuuF"
   },
   "outputs": [],
   "source": [
    "solve the assignment till 3pm\n",
    "\n",
    "3pm to 5pm?"
   ]
  },
  {
   "cell_type": "code",
   "execution_count": null,
   "metadata": {
    "id": "g7hCS2c8p0TA"
   },
   "outputs": [],
   "source": [
    "def indians():\n",
    "  print(\"haridas\")"
   ]
  },
  {
   "cell_type": "code",
   "execution_count": null,
   "metadata": {
    "colab": {
     "base_uri": "https://localhost:8080/"
    },
    "executionInfo": {
     "elapsed": 359,
     "status": "ok",
     "timestamp": 1653976102600,
     "user": {
      "displayName": "Neuro Labs",
      "userId": "15488119700446268077"
     },
     "user_tz": -330
    },
    "id": "ECDZWJs5p97G",
    "outputId": "4ffae5fc-88f0-45e0-ea52-044d45162c6e"
   },
   "outputs": [
    {
     "name": "stdout",
     "output_type": "stream",
     "text": [
      "haridas\n"
     ]
    }
   ],
   "source": [
    "indians()"
   ]
  },
  {
   "cell_type": "code",
   "execution_count": null,
   "metadata": {
    "id": "CCkj0TEeqHFu"
   },
   "outputs": [],
   "source": [
    "g = 20"
   ]
  },
  {
   "cell_type": "code",
   "execution_count": null,
   "metadata": {
    "colab": {
     "base_uri": "https://localhost:8080/"
    },
    "executionInfo": {
     "elapsed": 8,
     "status": "ok",
     "timestamp": 1653976122061,
     "user": {
      "displayName": "Neuro Labs",
      "userId": "15488119700446268077"
     },
     "user_tz": -330
    },
    "id": "joL84GESqJNQ",
    "outputId": "57bce375-2734-4813-eadc-b1688ee3995b"
   },
   "outputs": [
    {
     "data": {
      "text/plain": [
       "20"
      ]
     },
     "execution_count": 4,
     "metadata": {},
     "output_type": "execute_result"
    }
   ],
   "source": [
    "g"
   ]
  },
  {
   "cell_type": "code",
   "execution_count": null,
   "metadata": {
    "id": "4wllp97TqLV5"
   },
   "outputs": [],
   "source": [
    "def indians(a):\n",
    "  b = a*2\n",
    "  return b\n",
    "  "
   ]
  },
  {
   "cell_type": "code",
   "execution_count": null,
   "metadata": {
    "colab": {
     "base_uri": "https://localhost:8080/"
    },
    "executionInfo": {
     "elapsed": 348,
     "status": "ok",
     "timestamp": 1653976220438,
     "user": {
      "displayName": "Neuro Labs",
      "userId": "15488119700446268077"
     },
     "user_tz": -330
    },
    "id": "KWSIRFNTqe1n",
    "outputId": "370040f4-dc58-42b8-e1c0-c010f0c8bb7c"
   },
   "outputs": [
    {
     "data": {
      "text/plain": [
       "44"
      ]
     },
     "execution_count": 6,
     "metadata": {},
     "output_type": "execute_result"
    }
   ],
   "source": [
    "indians(22)"
   ]
  },
  {
   "cell_type": "code",
   "execution_count": null,
   "metadata": {
    "id": "0k4zaA-HqjwE"
   },
   "outputs": [],
   "source": [
    "def exec(a):\n",
    "  \n",
    "  b = a*2\n",
    "  c = b**2\n",
    "  return c"
   ]
  },
  {
   "cell_type": "code",
   "execution_count": null,
   "metadata": {
    "id": "3vtudT7EqzxM"
   },
   "outputs": [],
   "source": [
    "op = exec(20)"
   ]
  },
  {
   "cell_type": "code",
   "execution_count": null,
   "metadata": {
    "colab": {
     "base_uri": "https://localhost:8080/"
    },
    "executionInfo": {
     "elapsed": 7,
     "status": "ok",
     "timestamp": 1653976515781,
     "user": {
      "displayName": "Neuro Labs",
      "userId": "15488119700446268077"
     },
     "user_tz": -330
    },
    "id": "xO7Yi0GXq-At",
    "outputId": "3aa49ca7-6d10-4c0c-8a79-b4a01021b361"
   },
   "outputs": [
    {
     "data": {
      "text/plain": [
       "1600"
      ]
     },
     "execution_count": 17,
     "metadata": {},
     "output_type": "execute_result"
    }
   ],
   "source": [
    "op"
   ]
  },
  {
   "cell_type": "code",
   "execution_count": null,
   "metadata": {
    "id": "Kw4W46VTrr-e"
   },
   "outputs": [],
   "source": [
    "def exec_2(a):\n",
    "  \n",
    "  b = a*2\n",
    "  c = b**2\n",
    "  print(c)"
   ]
  },
  {
   "cell_type": "code",
   "execution_count": null,
   "metadata": {
    "colab": {
     "base_uri": "https://localhost:8080/"
    },
    "executionInfo": {
     "elapsed": 8,
     "status": "ok",
     "timestamp": 1653976538326,
     "user": {
      "displayName": "Neuro Labs",
      "userId": "15488119700446268077"
     },
     "user_tz": -330
    },
    "id": "OvOGob11rvkP",
    "outputId": "9397d762-a977-457e-fdb3-03a741bea077"
   },
   "outputs": [
    {
     "name": "stdout",
     "output_type": "stream",
     "text": [
      "8100\n"
     ]
    }
   ],
   "source": [
    "k = exec_2(45)"
   ]
  },
  {
   "cell_type": "code",
   "execution_count": null,
   "metadata": {
    "id": "I658Bzd4rxbo"
   },
   "outputs": [],
   "source": [
    "k"
   ]
  },
  {
   "cell_type": "code",
   "execution_count": null,
   "metadata": {
    "id": "UgrWzXgQry18"
   },
   "outputs": [],
   "source": [
    "def grrp(a=23):\n",
    "  b = a*2\n",
    "  return b//2"
   ]
  },
  {
   "cell_type": "code",
   "execution_count": null,
   "metadata": {
    "colab": {
     "base_uri": "https://localhost:8080/"
    },
    "executionInfo": {
     "elapsed": 11,
     "status": "ok",
     "timestamp": 1653976794199,
     "user": {
      "displayName": "Neuro Labs",
      "userId": "15488119700446268077"
     },
     "user_tz": -330
    },
    "id": "vvBpdMTDst9a",
    "outputId": "38ff48ac-2741-4010-e536-a450b11e1987"
   },
   "outputs": [
    {
     "data": {
      "text/plain": [
       "23"
      ]
     },
     "execution_count": 22,
     "metadata": {},
     "output_type": "execute_result"
    }
   ],
   "source": [
    "grrp()"
   ]
  },
  {
   "cell_type": "code",
   "execution_count": null,
   "metadata": {
    "colab": {
     "base_uri": "https://localhost:8080/"
    },
    "executionInfo": {
     "elapsed": 415,
     "status": "ok",
     "timestamp": 1653976825705,
     "user": {
      "displayName": "Neuro Labs",
      "userId": "15488119700446268077"
     },
     "user_tz": -330
    },
    "id": "q_X_llP_sv_y",
    "outputId": "6890593a-b926-4728-e4e1-04f93010c3ab"
   },
   "outputs": [
    {
     "data": {
      "text/plain": [
       "45"
      ]
     },
     "execution_count": 23,
     "metadata": {},
     "output_type": "execute_result"
    }
   ],
   "source": [
    "grrp(45)"
   ]
  },
  {
   "cell_type": "code",
   "execution_count": null,
   "metadata": {
    "id": "PvsNyx6cs3U2"
   },
   "outputs": [],
   "source": [
    "# find whether a given integer is odd or even? \n",
    "\n",
    "def evenodd(num):\n",
    "  if(num%2==0):\n",
    "    print(num,\" is even\")\n",
    "  else:\n",
    "    print(num,\" is odd\")"
   ]
  },
  {
   "cell_type": "code",
   "execution_count": null,
   "metadata": {
    "colab": {
     "base_uri": "https://localhost:8080/"
    },
    "executionInfo": {
     "elapsed": 19,
     "status": "ok",
     "timestamp": 1653977596409,
     "user": {
      "displayName": "Neuro Labs",
      "userId": "15488119700446268077"
     },
     "user_tz": -330
    },
    "id": "eQunZcshvxl-",
    "outputId": "fea3a8e6-e011-433a-90e7-7691ec1f8f39"
   },
   "outputs": [
    {
     "name": "stdout",
     "output_type": "stream",
     "text": [
      "23  is odd\n"
     ]
    }
   ],
   "source": [
    "evenodd(23)"
   ]
  },
  {
   "cell_type": "code",
   "execution_count": null,
   "metadata": {
    "colab": {
     "base_uri": "https://localhost:8080/"
    },
    "executionInfo": {
     "elapsed": 7,
     "status": "ok",
     "timestamp": 1653977640924,
     "user": {
      "displayName": "Neuro Labs",
      "userId": "15488119700446268077"
     },
     "user_tz": -330
    },
    "id": "2N55-f53vzvP",
    "outputId": "2b276290-c48a-40c3-f9aa-f6279ec245fa"
   },
   "outputs": [
    {
     "name": "stdout",
     "output_type": "stream",
     "text": [
      "43  is odd\n"
     ]
    }
   ],
   "source": [
    "evenodd(43)"
   ]
  },
  {
   "cell_type": "code",
   "execution_count": null,
   "metadata": {
    "id": "yFxAj_4iv-vE"
   },
   "outputs": [],
   "source": [
    "#  List comprehension\n",
    "data_y = [2, 34, 45,6,7.7]\n",
    "\n",
    "newdata = []\n",
    "for a in data_y:\n",
    "  b= str(a)\n",
    "  newdata.append(b)"
   ]
  },
  {
   "cell_type": "code",
   "execution_count": null,
   "metadata": {
    "colab": {
     "base_uri": "https://localhost:8080/"
    },
    "executionInfo": {
     "elapsed": 13,
     "status": "ok",
     "timestamp": 1654055416886,
     "user": {
      "displayName": "Neuro Labs",
      "userId": "15488119700446268077"
     },
     "user_tz": -330
    },
    "id": "_sVDp1yHYoL_",
    "outputId": "30c12b8d-385a-4ab3-d7d9-67428293539a"
   },
   "outputs": [
    {
     "data": {
      "text/plain": [
       "['2', '34', '45', '6', '7.7']"
      ]
     },
     "execution_count": 2,
     "metadata": {},
     "output_type": "execute_result"
    }
   ],
   "source": [
    "newdata"
   ]
  },
  {
   "cell_type": "code",
   "execution_count": null,
   "metadata": {
    "colab": {
     "base_uri": "https://localhost:8080/"
    },
    "executionInfo": {
     "elapsed": 8,
     "status": "ok",
     "timestamp": 1654055479610,
     "user": {
      "displayName": "Neuro Labs",
      "userId": "15488119700446268077"
     },
     "user_tz": -330
    },
    "id": "_vWV54rXYpFA",
    "outputId": "5995c2f8-ce9b-45b1-b860-8882885d7296"
   },
   "outputs": [
    {
     "data": {
      "text/plain": [
       "['2', '34', '45', '6', '7.7']"
      ]
     },
     "execution_count": 3,
     "metadata": {},
     "output_type": "execute_result"
    }
   ],
   "source": [
    "[str(a) for a in data_y]"
   ]
  },
  {
   "cell_type": "code",
   "execution_count": null,
   "metadata": {
    "id": "EDcDTBViY6Ci"
   },
   "outputs": [],
   "source": [
    "def remove(tuples):\n",
    "    tuples = [t for t in tuples if t]\n",
    "    return tuples\n",
    "  \n",
    "tuples = [(), ('ram','15','8'), (), ('laxman', 'sita'), \n",
    "          ('krishna', 'akbar', '45'), ('',''),()]\n",
    "print(Remove(tuples))"
   ]
  },
  {
   "cell_type": "code",
   "execution_count": null,
   "metadata": {
    "id": "WLst78YjaivT"
   },
   "outputs": [],
   "source": [
    "tuples = [(), ('ram','15','8'), (), ('laxman', 'sita'), \n",
    "          ('krishna', 'akbar', '45'), ('',''),()]"
   ]
  },
  {
   "cell_type": "code",
   "execution_count": null,
   "metadata": {
    "id": "BxpHvEEoZ-sM"
   },
   "outputs": [],
   "source": [
    "def remove_tuples(data):\n",
    "  new_t = [t for t in data if len(t) > 0]\n",
    "  return new_t\n"
   ]
  },
  {
   "cell_type": "code",
   "execution_count": null,
   "metadata": {
    "id": "mvjvsjtQcsJm"
   },
   "outputs": [],
   "source": [
    "# lambda data:[t for t in data if len(t) > 0]"
   ]
  },
  {
   "cell_type": "code",
   "execution_count": null,
   "metadata": {
    "colab": {
     "base_uri": "https://localhost:8080/"
    },
    "executionInfo": {
     "elapsed": 1249,
     "status": "ok",
     "timestamp": 1654055915587,
     "user": {
      "displayName": "Neuro Labs",
      "userId": "15488119700446268077"
     },
     "user_tz": -330
    },
    "id": "xrXT_fx9af5e",
    "outputId": "ff3da673-b90e-4d23-c9c9-ff99fb330998"
   },
   "outputs": [
    {
     "data": {
      "text/plain": [
       "[('ram', '15', '8'), ('laxman', 'sita'), ('krishna', 'akbar', '45'), ('', '')]"
      ]
     },
     "execution_count": 6,
     "metadata": {},
     "output_type": "execute_result"
    }
   ],
   "source": [
    "remove_tuples(tuples)"
   ]
  },
  {
   "cell_type": "code",
   "execution_count": null,
   "metadata": {
    "id": "osluZV5-akOi"
   },
   "outputs": [],
   "source": [
    "if ():\n",
    "  print(2)"
   ]
  },
  {
   "cell_type": "code",
   "execution_count": null,
   "metadata": {
    "id": "5fVGbp_2a-9V"
   },
   "outputs": [],
   "source": [
    "if []:\n",
    "  print(20)"
   ]
  },
  {
   "cell_type": "code",
   "execution_count": null,
   "metadata": {
    "id": "LrbPnRLHbn6p"
   },
   "outputs": [],
   "source": [
    "# Find all of the numbers from 1–1000 that have a 6 in them"
   ]
  },
  {
   "cell_type": "code",
   "execution_count": null,
   "metadata": {
    "colab": {
     "base_uri": "https://localhost:8080/"
    },
    "executionInfo": {
     "elapsed": 9,
     "status": "ok",
     "timestamp": 1654057285235,
     "user": {
      "displayName": "Neuro Labs",
      "userId": "15488119700446268077"
     },
     "user_tz": -330
    },
    "id": "vxdnGXsWeMc4",
    "outputId": "a06ce243-aa2e-4f1c-87a5-75eccde26593"
   },
   "outputs": [
    {
     "name": "stdout",
     "output_type": "stream",
     "text": [
      "[6]\n",
      "[16]\n",
      "[26]\n",
      "[36]\n",
      "[46]\n",
      "[56]\n",
      "[60]\n",
      "[61]\n",
      "[62]\n",
      "[63]\n",
      "[64]\n",
      "[65]\n",
      "[66]\n",
      "[67]\n",
      "[68]\n",
      "[69]\n",
      "[76]\n",
      "[86]\n",
      "[96]\n",
      "[106]\n",
      "[116]\n",
      "[126]\n",
      "[136]\n",
      "[146]\n",
      "[156]\n",
      "[160]\n",
      "[161]\n",
      "[162]\n",
      "[163]\n",
      "[164]\n",
      "[165]\n",
      "[166]\n",
      "[167]\n",
      "[168]\n",
      "[169]\n",
      "[176]\n",
      "[186]\n",
      "[196]\n",
      "[206]\n",
      "[216]\n",
      "[226]\n",
      "[236]\n",
      "[246]\n",
      "[256]\n",
      "[260]\n",
      "[261]\n",
      "[262]\n",
      "[263]\n",
      "[264]\n",
      "[265]\n",
      "[266]\n",
      "[267]\n",
      "[268]\n",
      "[269]\n",
      "[276]\n",
      "[286]\n",
      "[296]\n",
      "[306]\n",
      "[316]\n",
      "[326]\n",
      "[336]\n",
      "[346]\n",
      "[356]\n",
      "[360]\n",
      "[361]\n",
      "[362]\n",
      "[363]\n",
      "[364]\n",
      "[365]\n",
      "[366]\n",
      "[367]\n",
      "[368]\n",
      "[369]\n",
      "[376]\n",
      "[386]\n",
      "[396]\n",
      "[406]\n",
      "[416]\n",
      "[426]\n",
      "[436]\n",
      "[446]\n",
      "[456]\n",
      "[460]\n",
      "[461]\n",
      "[462]\n",
      "[463]\n",
      "[464]\n",
      "[465]\n",
      "[466]\n",
      "[467]\n",
      "[468]\n",
      "[469]\n",
      "[476]\n",
      "[486]\n",
      "[496]\n",
      "[506]\n",
      "[516]\n",
      "[526]\n",
      "[536]\n",
      "[546]\n",
      "[556]\n",
      "[560]\n",
      "[561]\n",
      "[562]\n",
      "[563]\n",
      "[564]\n",
      "[565]\n",
      "[566]\n",
      "[567]\n",
      "[568]\n",
      "[569]\n",
      "[576]\n",
      "[586]\n",
      "[596]\n",
      "[600]\n",
      "[601]\n",
      "[602]\n",
      "[603]\n",
      "[604]\n",
      "[605]\n",
      "[606]\n",
      "[607]\n",
      "[608]\n",
      "[609]\n",
      "[610]\n",
      "[611]\n",
      "[612]\n",
      "[613]\n",
      "[614]\n",
      "[615]\n",
      "[616]\n",
      "[617]\n",
      "[618]\n",
      "[619]\n",
      "[620]\n",
      "[621]\n",
      "[622]\n",
      "[623]\n",
      "[624]\n",
      "[625]\n",
      "[626]\n",
      "[627]\n",
      "[628]\n",
      "[629]\n",
      "[630]\n",
      "[631]\n",
      "[632]\n",
      "[633]\n",
      "[634]\n",
      "[635]\n",
      "[636]\n",
      "[637]\n",
      "[638]\n",
      "[639]\n",
      "[640]\n",
      "[641]\n",
      "[642]\n",
      "[643]\n",
      "[644]\n",
      "[645]\n",
      "[646]\n",
      "[647]\n",
      "[648]\n",
      "[649]\n",
      "[650]\n",
      "[651]\n",
      "[652]\n",
      "[653]\n",
      "[654]\n",
      "[655]\n",
      "[656]\n",
      "[657]\n",
      "[658]\n",
      "[659]\n",
      "[660]\n",
      "[661]\n",
      "[662]\n",
      "[663]\n",
      "[664]\n",
      "[665]\n",
      "[666]\n",
      "[667]\n",
      "[668]\n",
      "[669]\n",
      "[670]\n",
      "[671]\n",
      "[672]\n",
      "[673]\n",
      "[674]\n",
      "[675]\n",
      "[676]\n",
      "[677]\n",
      "[678]\n",
      "[679]\n",
      "[680]\n",
      "[681]\n",
      "[682]\n",
      "[683]\n",
      "[684]\n",
      "[685]\n",
      "[686]\n",
      "[687]\n",
      "[688]\n",
      "[689]\n",
      "[690]\n",
      "[691]\n",
      "[692]\n",
      "[693]\n",
      "[694]\n",
      "[695]\n",
      "[696]\n",
      "[697]\n",
      "[698]\n",
      "[699]\n",
      "[706]\n",
      "[716]\n",
      "[726]\n",
      "[736]\n",
      "[746]\n",
      "[756]\n",
      "[760]\n",
      "[761]\n",
      "[762]\n",
      "[763]\n",
      "[764]\n",
      "[765]\n",
      "[766]\n",
      "[767]\n",
      "[768]\n",
      "[769]\n",
      "[776]\n",
      "[786]\n",
      "[796]\n",
      "[806]\n",
      "[816]\n",
      "[826]\n",
      "[836]\n",
      "[846]\n",
      "[856]\n",
      "[860]\n",
      "[861]\n",
      "[862]\n",
      "[863]\n",
      "[864]\n",
      "[865]\n",
      "[866]\n",
      "[867]\n",
      "[868]\n",
      "[869]\n",
      "[876]\n",
      "[886]\n",
      "[896]\n",
      "[906]\n",
      "[916]\n",
      "[926]\n",
      "[936]\n",
      "[946]\n",
      "[956]\n",
      "[960]\n",
      "[961]\n",
      "[962]\n",
      "[963]\n",
      "[964]\n",
      "[965]\n",
      "[966]\n",
      "[967]\n",
      "[968]\n",
      "[969]\n",
      "[976]\n",
      "[986]\n",
      "[996]\n"
     ]
    }
   ],
   "source": [
    "for i in range(1,1001):\n",
    "  l = []\n",
    "  m = []\n",
    "  l.append(i)\n",
    "  for i in l:\n",
    "    if '6' in str(i):\n",
    "      m.append(i)\n",
    "      print(m)"
   ]
  },
  {
   "cell_type": "code",
   "execution_count": null,
   "metadata": {
    "id": "C9eorPN-fy0K"
   },
   "outputs": [],
   "source": [
    "# even or odd using lambda function?"
   ]
  },
  {
   "cell_type": "code",
   "execution_count": null,
   "metadata": {
    "id": "EU7Je-Bp0GMs"
   },
   "outputs": [],
   "source": [
    "map(func, iterables)"
   ]
  },
  {
   "cell_type": "code",
   "execution_count": null,
   "metadata": {
    "id": "9jd_VipU0yHF"
   },
   "outputs": [],
   "source": [
    "map(func , [12,55,66])"
   ]
  },
  {
   "cell_type": "code",
   "execution_count": null,
   "metadata": {
    "colab": {
     "base_uri": "https://localhost:8080/"
    },
    "executionInfo": {
     "elapsed": 660,
     "status": "ok",
     "timestamp": 1654073016221,
     "user": {
      "displayName": "Neuro Labs",
      "userId": "15488119700446268077"
     },
     "user_tz": -330
    },
    "id": "w1d2v7OSbjvB",
    "outputId": "f768638a-342a-427f-aeb6-7a5f1d980e08"
   },
   "outputs": [
    {
     "name": "stdout",
     "output_type": "stream",
     "text": [
      "(1, 4)\n",
      "(2, 5)\n",
      "(3, 6)\n"
     ]
    }
   ],
   "source": [
    "for item in zip([1,2,3],[4,5,6]):\n",
    "  print(item)"
   ]
  },
  {
   "cell_type": "code",
   "execution_count": null,
   "metadata": {
    "id": "OWDtyzoxbo8_"
   },
   "outputs": [],
   "source": [
    "global vs local variable"
   ]
  },
  {
   "cell_type": "code",
   "execution_count": null,
   "metadata": {
    "id": "_VkmmLnrxg03"
   },
   "outputs": [],
   "source": [
    "x  =  4"
   ]
  },
  {
   "cell_type": "code",
   "execution_count": null,
   "metadata": {
    "id": "3VQI3lWWxir0"
   },
   "outputs": [],
   "source": [
    "def river(ip):\n",
    "  g = x*2\n",
    "  return g"
   ]
  },
  {
   "cell_type": "code",
   "execution_count": null,
   "metadata": {
    "colab": {
     "base_uri": "https://localhost:8080/"
    },
    "executionInfo": {
     "elapsed": 1164,
     "status": "ok",
     "timestamp": 1654145931262,
     "user": {
      "displayName": "Neuro Labs",
      "userId": "15488119700446268077"
     },
     "user_tz": -330
    },
    "id": "XpR4wA0rxo6t",
    "outputId": "65212435-5f41-40ce-d8ec-32ca2f43183b"
   },
   "outputs": [
    {
     "data": {
      "text/plain": [
       "8"
      ]
     },
     "execution_count": 5,
     "metadata": {},
     "output_type": "execute_result"
    }
   ],
   "source": [
    "river(2)"
   ]
  },
  {
   "cell_type": "code",
   "execution_count": null,
   "metadata": {
    "id": "aNq2R5Jpxq_c"
   },
   "outputs": [],
   "source": [
    "def river(ip):\n",
    "  global g\n",
    "  g = x*2\n",
    "  return g"
   ]
  },
  {
   "cell_type": "code",
   "execution_count": null,
   "metadata": {
    "colab": {
     "base_uri": "https://localhost:8080/"
    },
    "executionInfo": {
     "elapsed": 7,
     "status": "ok",
     "timestamp": 1654145993945,
     "user": {
      "displayName": "Neuro Labs",
      "userId": "15488119700446268077"
     },
     "user_tz": -330
    },
    "id": "C7K-qt9zyK9_",
    "outputId": "5f880420-1679-4645-adf6-55ae699f0f18"
   },
   "outputs": [
    {
     "data": {
      "text/plain": [
       "8"
      ]
     },
     "execution_count": 7,
     "metadata": {},
     "output_type": "execute_result"
    }
   ],
   "source": [
    "river(40)"
   ]
  },
  {
   "cell_type": "code",
   "execution_count": null,
   "metadata": {
    "colab": {
     "base_uri": "https://localhost:8080/"
    },
    "executionInfo": {
     "elapsed": 384,
     "status": "ok",
     "timestamp": 1654145998477,
     "user": {
      "displayName": "Neuro Labs",
      "userId": "15488119700446268077"
     },
     "user_tz": -330
    },
    "id": "nrtV5frRyMd8",
    "outputId": "03bfa26d-3cd1-4237-e503-3a5eb19f3e7b"
   },
   "outputs": [
    {
     "data": {
      "text/plain": [
       "8"
      ]
     },
     "execution_count": 8,
     "metadata": {},
     "output_type": "execute_result"
    }
   ],
   "source": [
    "g"
   ]
  },
  {
   "cell_type": "code",
   "execution_count": null,
   "metadata": {
    "id": "LhRzxp_CyNQ5"
   },
   "outputs": [],
   "source": []
  },
  {
   "cell_type": "code",
   "execution_count": null,
   "metadata": {
    "id": "yUs093Zn4vQ2"
   },
   "outputs": [],
   "source": [
    "def my_func(a, b, c):\n",
    "  h = a+b+c\n",
    "  return h"
   ]
  },
  {
   "cell_type": "code",
   "execution_count": null,
   "metadata": {
    "colab": {
     "base_uri": "https://localhost:8080/"
    },
    "executionInfo": {
     "elapsed": 8,
     "status": "ok",
     "timestamp": 1654147734594,
     "user": {
      "displayName": "Neuro Labs",
      "userId": "15488119700446268077"
     },
     "user_tz": -330
    },
    "id": "hF5nBAX14zos",
    "outputId": "d0d2a5d4-f9ed-4a19-a71d-fed4b49e040b"
   },
   "outputs": [
    {
     "data": {
      "text/plain": [
       "69"
      ]
     },
     "execution_count": 10,
     "metadata": {},
     "output_type": "execute_result"
    }
   ],
   "source": [
    "my_func(12, 23, 34)"
   ]
  },
  {
   "cell_type": "code",
   "execution_count": null,
   "metadata": {
    "id": "1OyjrEiL41Ql"
   },
   "outputs": [],
   "source": [
    "def my_func1(a, b, c=4):\n",
    "  j = a*b*c\n",
    "  return j"
   ]
  },
  {
   "cell_type": "code",
   "execution_count": null,
   "metadata": {
    "colab": {
     "base_uri": "https://localhost:8080/"
    },
    "executionInfo": {
     "elapsed": 4,
     "status": "ok",
     "timestamp": 1654147794512,
     "user": {
      "displayName": "Neuro Labs",
      "userId": "15488119700446268077"
     },
     "user_tz": -330
    },
    "id": "E2ovONQZ5AYf",
    "outputId": "ade40902-1c24-4331-d8eb-082d507a25b7"
   },
   "outputs": [
    {
     "data": {
      "text/plain": [
       "144"
      ]
     },
     "execution_count": 14,
     "metadata": {},
     "output_type": "execute_result"
    }
   ],
   "source": [
    "my_func1(12, 3)"
   ]
  },
  {
   "cell_type": "code",
   "execution_count": null,
   "metadata": {
    "colab": {
     "base_uri": "https://localhost:8080/",
     "height": 133
    },
    "executionInfo": {
     "elapsed": 1217,
     "status": "error",
     "timestamp": 1654149007516,
     "user": {
      "displayName": "Neuro Labs",
      "userId": "15488119700446268077"
     },
     "user_tz": -330
    },
    "id": "VfadKruf9o6b",
    "outputId": "d288af09-7d33-44ca-daa2-c232200ae972"
   },
   "outputs": [
    {
     "ename": "SyntaxError",
     "evalue": "ignored",
     "output_type": "error",
     "traceback": [
      "\u001b[0;36m  File \u001b[0;32m\"<ipython-input-19-f9d30035dbd9>\"\u001b[0;36m, line \u001b[0;32m1\u001b[0m\n\u001b[0;31m    def my_func1(a, c=4, b):\u001b[0m\n\u001b[0m                ^\u001b[0m\n\u001b[0;31mSyntaxError\u001b[0m\u001b[0;31m:\u001b[0m non-default argument follows default argument\n"
     ]
    }
   ],
   "source": [
    "def my_func1(a, c=4, b):\n",
    "  j = a*b*c\n",
    "  return j"
   ]
  },
  {
   "cell_type": "code",
   "execution_count": null,
   "metadata": {
    "id": "tsAEiakb9pwC"
   },
   "outputs": [],
   "source": []
  },
  {
   "cell_type": "code",
   "execution_count": null,
   "metadata": {
    "id": "Ye1H8Cn29p09"
   },
   "outputs": [],
   "source": []
  },
  {
   "cell_type": "code",
   "execution_count": null,
   "metadata": {
    "colab": {
     "base_uri": "https://localhost:8080/"
    },
    "executionInfo": {
     "elapsed": 11,
     "status": "ok",
     "timestamp": 1654147952348,
     "user": {
      "displayName": "Neuro Labs",
      "userId": "15488119700446268077"
     },
     "user_tz": -330
    },
    "id": "yPjJxPyX5CH9",
    "outputId": "6234ea7c-fc53-49a5-c3a6-8c11059d2586"
   },
   "outputs": [
    {
     "data": {
      "text/plain": [
       "360"
      ]
     },
     "execution_count": 15,
     "metadata": {},
     "output_type": "execute_result"
    }
   ],
   "source": [
    "my_func1(12, 3, 10)"
   ]
  },
  {
   "cell_type": "code",
   "execution_count": null,
   "metadata": {
    "id": "3CGUkOcV5qlE"
   },
   "outputs": [],
   "source": [
    "def my_func2(a, b, *c):\n",
    "  print(\"c is: \", c)\n",
    "  n = sum(c)\n",
    "  j = a+b+n\n",
    "  return j"
   ]
  },
  {
   "cell_type": "code",
   "execution_count": null,
   "metadata": {
    "colab": {
     "base_uri": "https://localhost:8080/"
    },
    "executionInfo": {
     "elapsed": 12,
     "status": "ok",
     "timestamp": 1654148071656,
     "user": {
      "displayName": "Neuro Labs",
      "userId": "15488119700446268077"
     },
     "user_tz": -330
    },
    "id": "a9zPSzSC6BaI",
    "outputId": "c4ba6ef5-074c-4d05-878b-b04ac2c5f1c9"
   },
   "outputs": [
    {
     "name": "stdout",
     "output_type": "stream",
     "text": [
      "c is:  (23, 24, 25, 26, 27, 28)\n"
     ]
    },
    {
     "data": {
      "text/plain": [
       "187"
      ]
     },
     "execution_count": 18,
     "metadata": {},
     "output_type": "execute_result"
    }
   ],
   "source": [
    "my_func2(12, 22, 23, 24, 25, 26, 27, 28)"
   ]
  },
  {
   "cell_type": "code",
   "execution_count": null,
   "metadata": {
    "id": "d0EU_rFR6Hx7"
   },
   "outputs": [],
   "source": [
    "def my_func3(a, *c, b):\n",
    "  print(\"c is: \", c)\n",
    "  n = sum(c)\n",
    "  j = a+b+n\n",
    "  return j"
   ]
  },
  {
   "cell_type": "code",
   "execution_count": null,
   "metadata": {
    "colab": {
     "base_uri": "https://localhost:8080/",
     "height": 169
    },
    "executionInfo": {
     "elapsed": 5,
     "status": "error",
     "timestamp": 1654149418884,
     "user": {
      "displayName": "Neuro Labs",
      "userId": "15488119700446268077"
     },
     "user_tz": -330
    },
    "id": "oS6IL-VA_PcG",
    "outputId": "dbb35b08-5a4d-4c56-c498-fbf356b3a091"
   },
   "outputs": [
    {
     "ename": "TypeError",
     "evalue": "ignored",
     "output_type": "error",
     "traceback": [
      "\u001b[0;31m---------------------------------------------------------------------------\u001b[0m",
      "\u001b[0;31mTypeError\u001b[0m                                 Traceback (most recent call last)",
      "\u001b[0;32m<ipython-input-23-738a054a976d>\u001b[0m in \u001b[0;36m<module>\u001b[0;34m()\u001b[0m\n\u001b[0;32m----> 1\u001b[0;31m \u001b[0mmy_func3\u001b[0m\u001b[0;34m(\u001b[0m\u001b[0;36m1\u001b[0m\u001b[0;34m,\u001b[0m\u001b[0;36m2\u001b[0m\u001b[0;34m,\u001b[0m\u001b[0;36m3\u001b[0m\u001b[0;34m,\u001b[0m\u001b[0;36m4\u001b[0m\u001b[0;34m,\u001b[0m\u001b[0;36m5\u001b[0m\u001b[0;34m,\u001b[0m\u001b[0;36m6\u001b[0m\u001b[0;34m,\u001b[0m\u001b[0;36m7\u001b[0m\u001b[0;34m,\u001b[0m\u001b[0;36m7\u001b[0m\u001b[0;34m,\u001b[0m\u001b[0;36m8\u001b[0m\u001b[0;34m,\u001b[0m\u001b[0;36m78\u001b[0m\u001b[0;34m)\u001b[0m\u001b[0;34m\u001b[0m\u001b[0;34m\u001b[0m\u001b[0m\n\u001b[0m",
      "\u001b[0;31mTypeError\u001b[0m: my_func3() missing 1 required keyword-only argument: 'b'"
     ]
    }
   ],
   "source": [
    "my_func3(1,2,3,4,5,6,7,7,8,78)"
   ]
  },
  {
   "cell_type": "code",
   "execution_count": null,
   "metadata": {
    "colab": {
     "base_uri": "https://localhost:8080/"
    },
    "executionInfo": {
     "elapsed": 3,
     "status": "ok",
     "timestamp": 1654149195345,
     "user": {
      "displayName": "Neuro Labs",
      "userId": "15488119700446268077"
     },
     "user_tz": -330
    },
    "id": "RLuTuJFD-SLA",
    "outputId": "4ddb1fda-e5ab-48bd-e057-d3a8f05e7312"
   },
   "outputs": [
    {
     "name": "stdout",
     "output_type": "stream",
     "text": [
      "c is:  (2, 3, 4, 5, 6, 7, 7, 8)\n"
     ]
    },
    {
     "data": {
      "text/plain": [
       "121"
      ]
     },
     "execution_count": 22,
     "metadata": {},
     "output_type": "execute_result"
    }
   ],
   "source": [
    "my_func3(1,2,3,4,5,6,7,7,8,b=78)"
   ]
  },
  {
   "cell_type": "code",
   "execution_count": null,
   "metadata": {
    "id": "SrUcwRde-WiT"
   },
   "outputs": [],
   "source": [
    "def my_func4(a, c, **b):\n",
    "  print(\"b is: \", b)\n",
    "  n = b.values()\n",
    "  print(n)\n",
    "  j = a+c+b['z']\n",
    "  return j"
   ]
  },
  {
   "cell_type": "code",
   "execution_count": null,
   "metadata": {
    "colab": {
     "base_uri": "https://localhost:8080/"
    },
    "executionInfo": {
     "elapsed": 4,
     "status": "ok",
     "timestamp": 1654150209804,
     "user": {
      "displayName": "Neuro Labs",
      "userId": "15488119700446268077"
     },
     "user_tz": -330
    },
    "id": "lvefLytABakG",
    "outputId": "477d9097-239c-4ae1-dc0b-57989e9200bb"
   },
   "outputs": [
    {
     "name": "stdout",
     "output_type": "stream",
     "text": [
      "b is:  {'x': 2, 'y': 3, 'z': 5, 'n': 30, 'k': 90}\n",
      "dict_values([2, 3, 5, 30, 90])\n"
     ]
    },
    {
     "data": {
      "text/plain": [
       "8"
      ]
     },
     "execution_count": 35,
     "metadata": {},
     "output_type": "execute_result"
    }
   ],
   "source": [
    "my_func4(1,2, x=2, y=3, z=5, n=30,k=90)"
   ]
  },
  {
   "cell_type": "code",
   "execution_count": null,
   "metadata": {
    "id": "IdOT8Rp3BeOx"
   },
   "outputs": [],
   "source": [
    "*args\n",
    "**kwargs"
   ]
  },
  {
   "cell_type": "code",
   "execution_count": null,
   "metadata": {
    "colab": {
     "base_uri": "https://localhost:8080/"
    },
    "executionInfo": {
     "elapsed": 405,
     "status": "ok",
     "timestamp": 1654159758355,
     "user": {
      "displayName": "Neuro Labs",
      "userId": "15488119700446268077"
     },
     "user_tz": -330
    },
    "id": "x-oJBqd1mT1m",
    "outputId": "912790fd-1fd3-4352-8deb-d1965c15dd55"
   },
   "outputs": [
    {
     "name": "stdout",
     "output_type": "stream",
     "text": [
      "no\n",
      "2\n"
     ]
    }
   ],
   "source": [
    "for j in [1,2,3,4,5]:\n",
    "  if j%2 == 0:\n",
    "    print(j)\n",
    "    break\n",
    "  else:\n",
    "    print(\"no\")"
   ]
  },
  {
   "cell_type": "code",
   "execution_count": null,
   "metadata": {
    "colab": {
     "base_uri": "https://localhost:8080/"
    },
    "executionInfo": {
     "elapsed": 7,
     "status": "ok",
     "timestamp": 1654159796847,
     "user": {
      "displayName": "Neuro Labs",
      "userId": "15488119700446268077"
     },
     "user_tz": -330
    },
    "id": "u6KNryYqmpPi",
    "outputId": "30928ac2-461e-4f4c-ef45-fa2894c0d3e5"
   },
   "outputs": [
    {
     "name": "stdout",
     "output_type": "stream",
     "text": [
      "no\n",
      "2\n",
      "no\n",
      "4\n",
      "no\n"
     ]
    }
   ],
   "source": [
    "for j in [1,2,3,4,5]:\n",
    "  if j%2 == 0:\n",
    "    print(j)\n",
    "    continue\n",
    "    print(\"key\")\n",
    "  else:\n",
    "    print(\"no\")"
   ]
  },
  {
   "cell_type": "code",
   "execution_count": null,
   "metadata": {
    "colab": {
     "base_uri": "https://localhost:8080/"
    },
    "executionInfo": {
     "elapsed": 10,
     "status": "ok",
     "timestamp": 1654159836548,
     "user": {
      "displayName": "Neuro Labs",
      "userId": "15488119700446268077"
     },
     "user_tz": -330
    },
    "id": "H895n9hOm2Vh",
    "outputId": "41868682-bdc5-4018-8f99-48f17ac0de3b"
   },
   "outputs": [
    {
     "name": "stdout",
     "output_type": "stream",
     "text": [
      "no\n",
      "no\n",
      "no\n"
     ]
    }
   ],
   "source": [
    "for j in [1,2,3,4,5]:\n",
    "  if j%2 == 0:\n",
    "    pass\n",
    "  else:\n",
    "    print(\"no\")"
   ]
  },
  {
   "cell_type": "code",
   "execution_count": null,
   "metadata": {
    "id": "G8rG_umenABh"
   },
   "outputs": [],
   "source": [
    "# break, continue and pass \n",
    "# Till 3pm, try using different for lopps and assignments, "
   ]
  },
  {
   "cell_type": "code",
   "execution_count": null,
   "metadata": {
    "id": "iFua0TdSxAm9"
   },
   "outputs": [],
   "source": [
    "# try and except"
   ]
  },
  {
   "cell_type": "code",
   "execution_count": null,
   "metadata": {
    "colab": {
     "base_uri": "https://localhost:8080/",
     "height": 294
    },
    "executionInfo": {
     "elapsed": 633,
     "status": "error",
     "timestamp": 1654162769864,
     "user": {
      "displayName": "Neuro Labs",
      "userId": "15488119700446268077"
     },
     "user_tz": -330
    },
    "id": "mThxXlCbxCZu",
    "outputId": "84bfd210-7eba-45ef-a4f7-c273ba08d224"
   },
   "outputs": [
    {
     "name": "stdout",
     "output_type": "stream",
     "text": [
      "yes\n",
      "yes\n",
      "yes\n"
     ]
    },
    {
     "ename": "ZeroDivisionError",
     "evalue": "ignored",
     "output_type": "error",
     "traceback": [
      "\u001b[0;31m---------------------------------------------------------------------------\u001b[0m",
      "\u001b[0;31mZeroDivisionError\u001b[0m                         Traceback (most recent call last)",
      "\u001b[0;32m<ipython-input-5-1094e7667a01>\u001b[0m in \u001b[0;36m<module>\u001b[0;34m()\u001b[0m\n\u001b[1;32m      1\u001b[0m \u001b[0;32mfor\u001b[0m \u001b[0mval\u001b[0m \u001b[0;32min\u001b[0m \u001b[0;34m[\u001b[0m\u001b[0;36m12\u001b[0m\u001b[0;34m,\u001b[0m\u001b[0;36m3\u001b[0m\u001b[0;34m,\u001b[0m\u001b[0;36m4\u001b[0m\u001b[0;34m,\u001b[0m\u001b[0;36m0\u001b[0m\u001b[0;34m,\u001b[0m\u001b[0;36m6\u001b[0m\u001b[0;34m,\u001b[0m\u001b[0;36m7\u001b[0m\u001b[0;34m,\u001b[0m\u001b[0;36m8\u001b[0m\u001b[0;34m]\u001b[0m\u001b[0;34m:\u001b[0m\u001b[0;34m\u001b[0m\u001b[0;34m\u001b[0m\u001b[0m\n\u001b[0;32m----> 2\u001b[0;31m   \u001b[0;32mif\u001b[0m \u001b[0;36m20\u001b[0m\u001b[0;34m/\u001b[0m\u001b[0mval\u001b[0m \u001b[0;34m>\u001b[0m \u001b[0;36m0.3\u001b[0m\u001b[0;34m:\u001b[0m\u001b[0;34m\u001b[0m\u001b[0;34m\u001b[0m\u001b[0m\n\u001b[0m\u001b[1;32m      3\u001b[0m     \u001b[0mprint\u001b[0m\u001b[0;34m(\u001b[0m\u001b[0;34m\"yes\"\u001b[0m\u001b[0;34m)\u001b[0m\u001b[0;34m\u001b[0m\u001b[0;34m\u001b[0m\u001b[0m\n\u001b[1;32m      4\u001b[0m   \u001b[0;32melse\u001b[0m\u001b[0;34m:\u001b[0m\u001b[0;34m\u001b[0m\u001b[0;34m\u001b[0m\u001b[0m\n\u001b[1;32m      5\u001b[0m     \u001b[0mprint\u001b[0m\u001b[0;34m(\u001b[0m\u001b[0;34m\"false\"\u001b[0m\u001b[0;34m)\u001b[0m\u001b[0;34m\u001b[0m\u001b[0;34m\u001b[0m\u001b[0m\n",
      "\u001b[0;31mZeroDivisionError\u001b[0m: division by zero"
     ]
    }
   ],
   "source": [
    "for val in [12,3,4,0,6,7,8]:\n",
    "  if 20/val > 0.3:\n",
    "    print(\"yes\")\n",
    "  else:\n",
    "    print(\"false\")\n"
   ]
  },
  {
   "cell_type": "code",
   "execution_count": null,
   "metadata": {
    "colab": {
     "base_uri": "https://localhost:8080/"
    },
    "executionInfo": {
     "elapsed": 1021,
     "status": "ok",
     "timestamp": 1654162984322,
     "user": {
      "displayName": "Neuro Labs",
      "userId": "15488119700446268077"
     },
     "user_tz": -330
    },
    "id": "wHqCcsHoyJQR",
    "outputId": "94af3b87-1396-4fa6-9bb6-e75d8c9a62c0"
   },
   "outputs": [
    {
     "name": "stdout",
     "output_type": "stream",
     "text": [
      "yes\n",
      "yes\n",
      "yes\n",
      " Error at 0\n",
      "yes\n",
      "yes\n",
      "yes\n"
     ]
    }
   ],
   "source": [
    "for val in [12,3,4,0,6,7,8]:\n",
    "  try:\n",
    "    if 20/val > 0.3:\n",
    "      print(\"yes\")\n",
    "    else:\n",
    "      print(\"false\")\n",
    "\n",
    "  except:\n",
    "    print(\" Error at {}\".format(val))\n"
   ]
  },
  {
   "cell_type": "code",
   "execution_count": null,
   "metadata": {
    "colab": {
     "base_uri": "https://localhost:8080/"
    },
    "executionInfo": {
     "elapsed": 4,
     "status": "ok",
     "timestamp": 1654163155620,
     "user": {
      "displayName": "Neuro Labs",
      "userId": "15488119700446268077"
     },
     "user_tz": -330
    },
    "id": "OPwbeFlRzARE",
    "outputId": "83b3abed-316f-4126-fb61-6d919b8df2ed"
   },
   "outputs": [
    {
     "name": "stdout",
     "output_type": "stream",
     "text": [
      "yes\n",
      "false\n",
      "false\n",
      " Error at 0\n",
      "yes\n",
      "yes\n",
      "yes\n"
     ]
    }
   ],
   "source": [
    "for val in [12,3,4,0,6,7,8]:\n",
    "  try:\n",
    "    if 20/val < 3.8:\n",
    "      print(\"yes\")\n",
    "    else:\n",
    "      print(\"false\")\n",
    "\n",
    "  except:\n",
    "    print(\" Error at {}\".format(val))\n"
   ]
  },
  {
   "cell_type": "code",
   "execution_count": null,
   "metadata": {
    "id": "oIeMN6i-zaoN"
   },
   "outputs": [],
   "source": [
    "map\n",
    "filter\n",
    "reduce\n",
    "sorted"
   ]
  },
  {
   "cell_type": "code",
   "execution_count": null,
   "metadata": {
    "id": "mZh9WDtT2n6-"
   },
   "outputs": [],
   "source": [
    "# map(function, iterables)"
   ]
  },
  {
   "cell_type": "code",
   "execution_count": null,
   "metadata": {
    "id": "Ar9TcCDi20zD"
   },
   "outputs": [],
   "source": [
    "def new(data):\n",
    "  return str(data)"
   ]
  },
  {
   "cell_type": "code",
   "execution_count": null,
   "metadata": {
    "id": "jruV2ZBR3ZM7"
   },
   "outputs": [],
   "source": [
    "points = [113, 34, 55.5, 80, 22]"
   ]
  },
  {
   "cell_type": "code",
   "execution_count": null,
   "metadata": {
    "colab": {
     "base_uri": "https://localhost:8080/"
    },
    "executionInfo": {
     "elapsed": 1614,
     "status": "ok",
     "timestamp": 1654164566081,
     "user": {
      "displayName": "Neuro Labs",
      "userId": "15488119700446268077"
     },
     "user_tz": -330
    },
    "id": "EMavFnPb23yU",
    "outputId": "31764e86-f733-41b2-b70f-48758fa1df02"
   },
   "outputs": [
    {
     "data": {
      "text/plain": [
       "['113', '34', '55.5', '80', '22']"
      ]
     },
     "execution_count": 23,
     "metadata": {},
     "output_type": "execute_result"
    }
   ],
   "source": [
    "list(map(new, points))"
   ]
  },
  {
   "cell_type": "code",
   "execution_count": null,
   "metadata": {
    "id": "90K9FFcZ29Bt"
   },
   "outputs": [],
   "source": []
  },
  {
   "cell_type": "code",
   "execution_count": null,
   "metadata": {
    "id": "P3IXDKxz4fMd"
   },
   "outputs": [],
   "source": [
    "def even_odd(number):\n",
    "  if number%2 == 0:\n",
    "    return \"even\"\n",
    "  else:\n",
    "    return \"odd\""
   ]
  },
  {
   "cell_type": "code",
   "execution_count": null,
   "metadata": {
    "colab": {
     "base_uri": "https://localhost:8080/"
    },
    "executionInfo": {
     "elapsed": 668,
     "status": "ok",
     "timestamp": 1654164485521,
     "user": {
      "displayName": "Neuro Labs",
      "userId": "15488119700446268077"
     },
     "user_tz": -330
    },
    "id": "8mXrhh4X4l_t",
    "outputId": "8ef06978-00f1-48aa-be2b-721052908026"
   },
   "outputs": [
    {
     "data": {
      "text/plain": [
       "['odd', 'even', 'odd', 'even', 'even']"
      ]
     },
     "execution_count": 20,
     "metadata": {},
     "output_type": "execute_result"
    }
   ],
   "source": [
    "list(map(even_odd, points))"
   ]
  },
  {
   "cell_type": "code",
   "execution_count": null,
   "metadata": {
    "id": "upiWis9t4u63"
   },
   "outputs": [],
   "source": []
  },
  {
   "cell_type": "code",
   "execution_count": null,
   "metadata": {
    "id": "Bfv1npp24xNz"
   },
   "outputs": [],
   "source": [
    "def even_numb(number):\n",
    "  if number%2 == 0:\n",
    "    return number"
   ]
  },
  {
   "cell_type": "code",
   "execution_count": null,
   "metadata": {
    "colab": {
     "base_uri": "https://localhost:8080/"
    },
    "executionInfo": {
     "elapsed": 396,
     "status": "ok",
     "timestamp": 1654164524641,
     "user": {
      "displayName": "Neuro Labs",
      "userId": "15488119700446268077"
     },
     "user_tz": -330
    },
    "id": "c06JuYkJ41ro",
    "outputId": "6453c3eb-5316-4a05-8b6c-74c55530ab9e"
   },
   "outputs": [
    {
     "data": {
      "text/plain": [
       "[34, 80, 22]"
      ]
     },
     "execution_count": 22,
     "metadata": {},
     "output_type": "execute_result"
    }
   ],
   "source": [
    "list(filter(even_numb, points))"
   ]
  },
  {
   "cell_type": "code",
   "execution_count": null,
   "metadata": {
    "id": "IWn29XuB44p2"
   },
   "outputs": [],
   "source": [
    " [113, 34, 55.5, 80, 22]"
   ]
  },
  {
   "cell_type": "code",
   "execution_count": null,
   "metadata": {
    "colab": {
     "base_uri": "https://localhost:8080/"
    },
    "executionInfo": {
     "elapsed": 698,
     "status": "ok",
     "timestamp": 1654164920849,
     "user": {
      "displayName": "Neuro Labs",
      "userId": "15488119700446268077"
     },
     "user_tz": -330
    },
    "id": "FF_ehyup6VTK",
    "outputId": "3dc01359-1898-433a-bdde-e20e3d626e8c"
   },
   "outputs": [
    {
     "data": {
      "text/plain": [
       "[3, 4, 10, 11, 13, 20, 24]"
      ]
     },
     "execution_count": 24,
     "metadata": {},
     "output_type": "execute_result"
    }
   ],
   "source": [
    "sorted([11,10,3,4,24,20,13])"
   ]
  },
  {
   "cell_type": "code",
   "execution_count": null,
   "metadata": {
    "id": "-fjM23ru6ZI6"
   },
   "outputs": [],
   "source": [
    "tuple_ponts = [(12,'hai'),(13,'hi'),(11,'no'),(15,'all')]"
   ]
  },
  {
   "cell_type": "code",
   "execution_count": null,
   "metadata": {
    "colab": {
     "base_uri": "https://localhost:8080/"
    },
    "executionInfo": {
     "elapsed": 860,
     "status": "ok",
     "timestamp": 1654165000006,
     "user": {
      "displayName": "Neuro Labs",
      "userId": "15488119700446268077"
     },
     "user_tz": -330
    },
    "id": "3n5srT8l6oN5",
    "outputId": "5e9dedd1-d992-4e57-aec0-f4b1bfd03e2a"
   },
   "outputs": [
    {
     "data": {
      "text/plain": [
       "[(15, 'all'), (12, 'hai'), (13, 'hi'), (11, 'no')]"
      ]
     },
     "execution_count": 26,
     "metadata": {},
     "output_type": "execute_result"
    }
   ],
   "source": [
    "sorted(tuple_ponts, key = lambda x:x[1])"
   ]
  },
  {
   "cell_type": "code",
   "execution_count": null,
   "metadata": {
    "colab": {
     "base_uri": "https://localhost:8080/"
    },
    "executionInfo": {
     "elapsed": 396,
     "status": "ok",
     "timestamp": 1654165047231,
     "user": {
      "displayName": "Neuro Labs",
      "userId": "15488119700446268077"
     },
     "user_tz": -330
    },
    "id": "s3in_whM6sWg",
    "outputId": "5b52ffb0-dfee-45a7-d147-981638850d18"
   },
   "outputs": [
    {
     "data": {
      "text/plain": [
       "[(11, 'no'), (12, 'hai'), (13, 'hi'), (15, 'all')]"
      ]
     },
     "execution_count": 27,
     "metadata": {},
     "output_type": "execute_result"
    }
   ],
   "source": [
    "sorted(tuple_ponts, key = lambda x:x[0])"
   ]
  },
  {
   "cell_type": "code",
   "execution_count": null,
   "metadata": {
    "id": "Y_8gUY5564PC"
   },
   "outputs": [],
   "source": []
  },
  {
   "cell_type": "code",
   "execution_count": null,
   "metadata": {
    "id": "BI-zEYp0vKtf"
   },
   "outputs": [],
   "source": [
    "# class"
   ]
  },
  {
   "cell_type": "code",
   "execution_count": null,
   "metadata": {
    "id": "wMHVQZ7_vLV6"
   },
   "outputs": [],
   "source": [
    "class Solver:\n",
    "\n",
    "  def __init__(self, firstname, lastname, age, gender, city):\n",
    "    self.fn = firstname\n",
    "    self.ln = lastname\n",
    "    self.age = age \n",
    "    self.gender = gender\n",
    "    self.city = city \n",
    "\n",
    "  def fullname(self):\n",
    "    return self.fn + self.ln \n",
    "\n",
    "  def biodata(self):\n",
    "    return \"{} {} is {} years old and currently living in {}\".format(self.fn, self.ln, self.age, self.city)\n",
    "\n",
    "  def demographics(self):\n",
    "    return \"living in {}\".format(self.city)\n"
   ]
  },
  {
   "cell_type": "code",
   "execution_count": null,
   "metadata": {
    "id": "BT_apwAUwORV"
   },
   "outputs": [],
   "source": [
    "m = Solver(\"hari\",\"kumar\",30,\"Male\",\"Hyderabad\")"
   ]
  },
  {
   "cell_type": "code",
   "execution_count": null,
   "metadata": {
    "colab": {
     "base_uri": "https://localhost:8080/"
    },
    "executionInfo": {
     "elapsed": 999,
     "status": "ok",
     "timestamp": 1654229776125,
     "user": {
      "displayName": "Neuro Labs",
      "userId": "15488119700446268077"
     },
     "user_tz": -330
    },
    "id": "il5enr-5wqdh",
    "outputId": "4548257f-6325-417a-8390-5aadae9d9987"
   },
   "outputs": [
    {
     "data": {
      "text/plain": [
       "<__main__.Solver at 0x7f73962be450>"
      ]
     },
     "execution_count": 17,
     "metadata": {},
     "output_type": "execute_result"
    }
   ],
   "source": [
    "m"
   ]
  },
  {
   "cell_type": "code",
   "execution_count": null,
   "metadata": {
    "colab": {
     "base_uri": "https://localhost:8080/",
     "height": 36
    },
    "executionInfo": {
     "elapsed": 12,
     "status": "ok",
     "timestamp": 1654229776127,
     "user": {
      "displayName": "Neuro Labs",
      "userId": "15488119700446268077"
     },
     "user_tz": -330
    },
    "id": "RdlQhwJrwrfm",
    "outputId": "801735e5-9e69-4ef2-f0ac-5c36d63b3fe6"
   },
   "outputs": [
    {
     "data": {
      "application/vnd.google.colaboratory.intrinsic+json": {
       "type": "string"
      },
      "text/plain": [
       "'harikumar'"
      ]
     },
     "execution_count": 18,
     "metadata": {},
     "output_type": "execute_result"
    }
   ],
   "source": [
    "m.fullname()"
   ]
  },
  {
   "cell_type": "code",
   "execution_count": null,
   "metadata": {
    "colab": {
     "base_uri": "https://localhost:8080/",
     "height": 36
    },
    "executionInfo": {
     "elapsed": 11,
     "status": "ok",
     "timestamp": 1654229776128,
     "user": {
      "displayName": "Neuro Labs",
      "userId": "15488119700446268077"
     },
     "user_tz": -330
    },
    "id": "_auGkaZ6w4Yk",
    "outputId": "a0eed4f9-6897-41d2-e1c7-65d8d77eb3d5"
   },
   "outputs": [
    {
     "data": {
      "application/vnd.google.colaboratory.intrinsic+json": {
       "type": "string"
      },
      "text/plain": [
       "'hari kumar is 30 years old and currently living in Hyderabad'"
      ]
     },
     "execution_count": 19,
     "metadata": {},
     "output_type": "execute_result"
    }
   ],
   "source": [
    "m.biodata()"
   ]
  },
  {
   "cell_type": "code",
   "execution_count": null,
   "metadata": {
    "colab": {
     "base_uri": "https://localhost:8080/",
     "height": 36
    },
    "executionInfo": {
     "elapsed": 4,
     "status": "ok",
     "timestamp": 1654229777350,
     "user": {
      "displayName": "Neuro Labs",
      "userId": "15488119700446268077"
     },
     "user_tz": -330
    },
    "id": "FI4CCW0Ww-ZO",
    "outputId": "d338b965-c3ea-4a44-9cc6-db5b28937492"
   },
   "outputs": [
    {
     "data": {
      "application/vnd.google.colaboratory.intrinsic+json": {
       "type": "string"
      },
      "text/plain": [
       "'living in Hyderabad'"
      ]
     },
     "execution_count": 20,
     "metadata": {},
     "output_type": "execute_result"
    }
   ],
   "source": [
    "m.demographics()"
   ]
  },
  {
   "cell_type": "code",
   "execution_count": null,
   "metadata": {
    "id": "2pDmhyPxw_zk"
   },
   "outputs": [],
   "source": []
  },
  {
   "cell_type": "code",
   "execution_count": null,
   "metadata": {
    "id": "hhi1ecjHLywT"
   },
   "outputs": [],
   "source": [
    "class DataConverters:\n",
    "\n",
    "  def __init__(self, list_data):\n",
    "    self.l = list_data #object properties\n",
    "\n",
    "  def int_to_str(self):\n",
    "    return list(map(str, self.l))\n"
   ]
  },
  {
   "cell_type": "code",
   "execution_count": null,
   "metadata": {
    "id": "JrmfUsFbMHfX"
   },
   "outputs": [],
   "source": [
    "g = DataConverters([12, 23, 34, 45])  # g is an object"
   ]
  },
  {
   "cell_type": "code",
   "execution_count": null,
   "metadata": {
    "colab": {
     "base_uri": "https://localhost:8080/"
    },
    "executionInfo": {
     "elapsed": 4,
     "status": "ok",
     "timestamp": 1654236713902,
     "user": {
      "displayName": "Neuro Labs",
      "userId": "15488119700446268077"
     },
     "user_tz": -330
    },
    "id": "DQZr5du4MLlk",
    "outputId": "6d61daf7-647d-4479-f308-c2af58bb3f4b"
   },
   "outputs": [
    {
     "data": {
      "text/plain": [
       "['12', '23', '34', '45']"
      ]
     },
     "execution_count": 24,
     "metadata": {},
     "output_type": "execute_result"
    }
   ],
   "source": [
    "g.int_to_str()"
   ]
  },
  {
   "cell_type": "code",
   "execution_count": null,
   "metadata": {
    "id": "YHfXzKHwMQw1"
   },
   "outputs": [],
   "source": [
    "g.l = [10,100,1000]"
   ]
  },
  {
   "cell_type": "code",
   "execution_count": null,
   "metadata": {
    "colab": {
     "base_uri": "https://localhost:8080/"
    },
    "executionInfo": {
     "elapsed": 1242,
     "status": "ok",
     "timestamp": 1654237024675,
     "user": {
      "displayName": "Neuro Labs",
      "userId": "15488119700446268077"
     },
     "user_tz": -330
    },
    "id": "vvgkkYaWNW2W",
    "outputId": "4acbe802-fd38-45da-9bff-480afc154ed1"
   },
   "outputs": [
    {
     "data": {
      "text/plain": [
       "['10', '100', '1000']"
      ]
     },
     "execution_count": 27,
     "metadata": {},
     "output_type": "execute_result"
    }
   ],
   "source": [
    "g.int_to_str()"
   ]
  },
  {
   "cell_type": "code",
   "execution_count": null,
   "metadata": {
    "id": "kNf4SRWgNcpO"
   },
   "outputs": [],
   "source": [
    "class Fun:\n",
    "  pass"
   ]
  },
  {
   "cell_type": "code",
   "execution_count": null,
   "metadata": {
    "id": "PfAhb9mBNt0_"
   },
   "outputs": [],
   "source": [
    "#  Inheritance "
   ]
  },
  {
   "cell_type": "code",
   "execution_count": null,
   "metadata": {
    "id": "Tbc70Hba2LB6"
   },
   "outputs": [],
   "source": [
    "parent class(   base  class   )\n",
    "\n",
    "child class(   derived class   )"
   ]
  },
  {
   "cell_type": "code",
   "execution_count": null,
   "metadata": {
    "id": "t0z0VgeT3uUy"
   },
   "outputs": [],
   "source": [
    "class GlobalWarming:\n",
    "\n",
    "  def __init__(self, country, city, latitude, longitude):\n",
    "    self.country = country\n",
    "    self.city = city\n",
    "    self.lat = latitude\n",
    "    self.lon = longitude\n",
    "\n",
    "  def statement(self):\n",
    "    self.new = \"{} in {} tops global warming rate\".format(self.city, self.country)\n",
    "    return self.new \n",
    "\n",
    "# properties: self.country, self.city, self.lat, self.lon\n",
    "# methods: statement"
   ]
  },
  {
   "cell_type": "code",
   "execution_count": null,
   "metadata": {
    "id": "WPi2OZS65vZS"
   },
   "outputs": [],
   "source": [
    "gw = GlobalWarming(\"USA\", \"Chicago\", 98.2, 98.1)"
   ]
  },
  {
   "cell_type": "code",
   "execution_count": null,
   "metadata": {
    "colab": {
     "base_uri": "https://localhost:8080/",
     "height": 36
    },
    "executionInfo": {
     "elapsed": 8,
     "status": "ok",
     "timestamp": 1654248683204,
     "user": {
      "displayName": "Neuro Labs",
      "userId": "15488119700446268077"
     },
     "user_tz": -330
    },
    "id": "ZYiMbbLH53xh",
    "outputId": "e874d0c0-e240-4a4e-f1e5-40dfc7a040af"
   },
   "outputs": [
    {
     "data": {
      "application/vnd.google.colaboratory.intrinsic+json": {
       "type": "string"
      },
      "text/plain": [
       "'Chicago in USA tops global warming rate'"
      ]
     },
     "execution_count": 6,
     "metadata": {},
     "output_type": "execute_result"
    }
   ],
   "source": [
    "gw.statement()"
   ]
  },
  {
   "cell_type": "code",
   "execution_count": null,
   "metadata": {
    "id": "QgO3qSii54Vt"
   },
   "outputs": [],
   "source": [
    "class Environment(GlobalWarming):\n",
    "  pass"
   ]
  },
  {
   "cell_type": "code",
   "execution_count": null,
   "metadata": {
    "id": "PnFK3RqY6mQq"
   },
   "outputs": [],
   "source": [
    "ev = Environment(\"India\", \"Newdelhi\", 98.2, 98.1)"
   ]
  },
  {
   "cell_type": "code",
   "execution_count": null,
   "metadata": {
    "colab": {
     "base_uri": "https://localhost:8080/",
     "height": 36
    },
    "executionInfo": {
     "elapsed": 337,
     "status": "ok",
     "timestamp": 1654248899291,
     "user": {
      "displayName": "Neuro Labs",
      "userId": "15488119700446268077"
     },
     "user_tz": -330
    },
    "id": "EErkdr5n6tJc",
    "outputId": "83b168e9-3616-411f-cbfd-55cfd905a0a0"
   },
   "outputs": [
    {
     "data": {
      "application/vnd.google.colaboratory.intrinsic+json": {
       "type": "string"
      },
      "text/plain": [
       "'Newdelhi in India tops global warming rate'"
      ]
     },
     "execution_count": 9,
     "metadata": {},
     "output_type": "execute_result"
    }
   ],
   "source": [
    "ev.statement()"
   ]
  },
  {
   "cell_type": "code",
   "execution_count": null,
   "metadata": {
    "id": "kQYyxM7f6v9P"
   },
   "outputs": [],
   "source": [
    "class Environment2():\n",
    "  pass"
   ]
  },
  {
   "cell_type": "code",
   "execution_count": null,
   "metadata": {
    "colab": {
     "base_uri": "https://localhost:8080/",
     "height": 169
    },
    "executionInfo": {
     "elapsed": 496,
     "status": "error",
     "timestamp": 1654248937262,
     "user": {
      "displayName": "Neuro Labs",
      "userId": "15488119700446268077"
     },
     "user_tz": -330
    },
    "id": "XTe_YU7V60g4",
    "outputId": "645a0c1e-3069-43d6-e53d-5e890a705498"
   },
   "outputs": [
    {
     "ename": "TypeError",
     "evalue": "ignored",
     "output_type": "error",
     "traceback": [
      "\u001b[0;31m---------------------------------------------------------------------------\u001b[0m",
      "\u001b[0;31mTypeError\u001b[0m                                 Traceback (most recent call last)",
      "\u001b[0;32m<ipython-input-13-3b64d7f1a482>\u001b[0m in \u001b[0;36m<module>\u001b[0;34m()\u001b[0m\n\u001b[0;32m----> 1\u001b[0;31m \u001b[0mev1\u001b[0m \u001b[0;34m=\u001b[0m \u001b[0mEnvironment2\u001b[0m\u001b[0;34m(\u001b[0m\u001b[0;34m\"India\"\u001b[0m\u001b[0;34m,\u001b[0m \u001b[0;34m\"Newdelhi\"\u001b[0m\u001b[0;34m,\u001b[0m \u001b[0;36m98.2\u001b[0m\u001b[0;34m,\u001b[0m \u001b[0;36m98.1\u001b[0m\u001b[0;34m)\u001b[0m\u001b[0;34m\u001b[0m\u001b[0;34m\u001b[0m\u001b[0m\n\u001b[0m",
      "\u001b[0;31mTypeError\u001b[0m: Environment2() takes no arguments"
     ]
    }
   ],
   "source": [
    "ev1 = Environment2(\"India\", \"Newdelhi\", 98.2, 98.1)"
   ]
  },
  {
   "cell_type": "code",
   "execution_count": null,
   "metadata": {
    "id": "yI1VEjNh62DJ"
   },
   "outputs": [],
   "source": []
  },
  {
   "cell_type": "code",
   "execution_count": null,
   "metadata": {
    "id": "OrXLhpsy-qL0"
   },
   "outputs": [],
   "source": [
    "class Environment(GlobalWarming):\n",
    "  def __init__(self, country, city, latitude, longitude):\n",
    "    self.m = country\n",
    "    #props"
   ]
  },
  {
   "cell_type": "code",
   "execution_count": null,
   "metadata": {
    "id": "_RNoQUGm-qQj"
   },
   "outputs": [],
   "source": [
    "mn = Environment(\"India\", \"Newdelhi\", 98.2, 98.1)\n",
    "\n",
    "# when  u define a __init__ method in child class, child class is not inheriting __init__ function of parent class."
   ]
  },
  {
   "cell_type": "code",
   "execution_count": null,
   "metadata": {
    "colab": {
     "base_uri": "https://localhost:8080/",
     "height": 277
    },
    "executionInfo": {
     "elapsed": 404,
     "status": "error",
     "timestamp": 1654250236634,
     "user": {
      "displayName": "Neuro Labs",
      "userId": "15488119700446268077"
     },
     "user_tz": -330
    },
    "id": "upR-ByAb_zxo",
    "outputId": "1e8534a5-86fc-4485-bea5-7d790e04fb00"
   },
   "outputs": [
    {
     "ename": "AttributeError",
     "evalue": "ignored",
     "output_type": "error",
     "traceback": [
      "\u001b[0;31m---------------------------------------------------------------------------\u001b[0m",
      "\u001b[0;31mAttributeError\u001b[0m                            Traceback (most recent call last)",
      "\u001b[0;32m<ipython-input-23-960623a25fbc>\u001b[0m in \u001b[0;36m<module>\u001b[0;34m()\u001b[0m\n\u001b[0;32m----> 1\u001b[0;31m \u001b[0mmn\u001b[0m\u001b[0;34m.\u001b[0m\u001b[0mstatement\u001b[0m\u001b[0;34m(\u001b[0m\u001b[0;34m)\u001b[0m\u001b[0;34m\u001b[0m\u001b[0;34m\u001b[0m\u001b[0m\n\u001b[0m",
      "\u001b[0;32m<ipython-input-3-270562f7d336>\u001b[0m in \u001b[0;36mstatement\u001b[0;34m(self)\u001b[0m\n\u001b[1;32m      8\u001b[0m \u001b[0;34m\u001b[0m\u001b[0m\n\u001b[1;32m      9\u001b[0m   \u001b[0;32mdef\u001b[0m \u001b[0mstatement\u001b[0m\u001b[0;34m(\u001b[0m\u001b[0mself\u001b[0m\u001b[0;34m)\u001b[0m\u001b[0;34m:\u001b[0m\u001b[0;34m\u001b[0m\u001b[0;34m\u001b[0m\u001b[0m\n\u001b[0;32m---> 10\u001b[0;31m     \u001b[0mself\u001b[0m\u001b[0;34m.\u001b[0m\u001b[0mnew\u001b[0m \u001b[0;34m=\u001b[0m \u001b[0;34m\"{} in {} tops global warming rate\"\u001b[0m\u001b[0;34m.\u001b[0m\u001b[0mformat\u001b[0m\u001b[0;34m(\u001b[0m\u001b[0mself\u001b[0m\u001b[0;34m.\u001b[0m\u001b[0mcity\u001b[0m\u001b[0;34m,\u001b[0m \u001b[0mself\u001b[0m\u001b[0;34m.\u001b[0m\u001b[0mcountry\u001b[0m\u001b[0;34m)\u001b[0m\u001b[0;34m\u001b[0m\u001b[0;34m\u001b[0m\u001b[0m\n\u001b[0m\u001b[1;32m     11\u001b[0m     \u001b[0;32mreturn\u001b[0m \u001b[0mself\u001b[0m\u001b[0;34m.\u001b[0m\u001b[0mnew\u001b[0m\u001b[0;34m\u001b[0m\u001b[0;34m\u001b[0m\u001b[0m\n",
      "\u001b[0;31mAttributeError\u001b[0m: 'Environment' object has no attribute 'city'"
     ]
    }
   ],
   "source": [
    "mn.statement()"
   ]
  },
  {
   "cell_type": "code",
   "execution_count": null,
   "metadata": {
    "id": "5rLa3afm_0uy"
   },
   "outputs": [],
   "source": []
  },
  {
   "cell_type": "code",
   "execution_count": null,
   "metadata": {
    "id": "nHXiYOVz-qV8"
   },
   "outputs": [],
   "source": [
    "class Environment(GlobalWarming):\n",
    "  def __init__(self,  country, city, latitude, longitude):\n",
    "    GlobalWarming.__init__(self,  country, city, latitude, longitude)"
   ]
  },
  {
   "cell_type": "code",
   "execution_count": null,
   "metadata": {
    "id": "0MMCx5OfBU6A"
   },
   "outputs": [],
   "source": [
    "mvp = Environment(\"India\", \"Newdelhi\", 98.2, 98.1)"
   ]
  },
  {
   "cell_type": "code",
   "execution_count": null,
   "metadata": {
    "colab": {
     "base_uri": "https://localhost:8080/",
     "height": 36
    },
    "executionInfo": {
     "elapsed": 9,
     "status": "ok",
     "timestamp": 1654250641890,
     "user": {
      "displayName": "Neuro Labs",
      "userId": "15488119700446268077"
     },
     "user_tz": -330
    },
    "id": "vDC9O1oYBXxc",
    "outputId": "90ffe326-79ae-4448-b165-9a1a881ff126"
   },
   "outputs": [
    {
     "data": {
      "application/vnd.google.colaboratory.intrinsic+json": {
       "type": "string"
      },
      "text/plain": [
       "'Newdelhi in India tops global warming rate'"
      ]
     },
     "execution_count": 26,
     "metadata": {},
     "output_type": "execute_result"
    }
   ],
   "source": [
    "mvp.statement()"
   ]
  },
  {
   "cell_type": "code",
   "execution_count": null,
   "metadata": {
    "id": "D4-atkDABZFp"
   },
   "outputs": [],
   "source": []
  },
  {
   "cell_type": "code",
   "execution_count": null,
   "metadata": {
    "id": "hvPjffHWBhja"
   },
   "outputs": [],
   "source": [
    "class Environment(GlobalWarming):\n",
    "  def __init__(self,  country, city, latitude, longitude):\n",
    "    super().__init__(country, city, latitude, longitude)\n"
   ]
  },
  {
   "cell_type": "code",
   "execution_count": null,
   "metadata": {
    "id": "ezKsdyDxB0xJ"
   },
   "outputs": [],
   "source": [
    "prototype = Environment(\"India\", \"Newdelhi\", 98.2, 98.1)"
   ]
  },
  {
   "cell_type": "code",
   "execution_count": null,
   "metadata": {
    "colab": {
     "base_uri": "https://localhost:8080/",
     "height": 36
    },
    "executionInfo": {
     "elapsed": 351,
     "status": "ok",
     "timestamp": 1654250773452,
     "user": {
      "displayName": "Neuro Labs",
      "userId": "15488119700446268077"
     },
     "user_tz": -330
    },
    "id": "kCQ3zl9YB3I9",
    "outputId": "2e11d4b8-7245-41b1-cad4-eac8c42e0117"
   },
   "outputs": [
    {
     "data": {
      "application/vnd.google.colaboratory.intrinsic+json": {
       "type": "string"
      },
      "text/plain": [
       "'Newdelhi in India tops global warming rate'"
      ]
     },
     "execution_count": 29,
     "metadata": {},
     "output_type": "execute_result"
    }
   ],
   "source": [
    "prototype.statement()"
   ]
  },
  {
   "cell_type": "code",
   "execution_count": null,
   "metadata": {
    "id": "NtqoBaVdB5c_"
   },
   "outputs": [],
   "source": []
  },
  {
   "cell_type": "code",
   "execution_count": null,
   "metadata": {
    "id": "fs2ya3FUCkFK"
   },
   "outputs": [],
   "source": [
    "class Environment(GlobalWarming):\n",
    "  def __init__(self,  country, city, latitude, longitude):\n",
    "    super().__init__(country, city, latitude, longitude)\n",
    "    self.temp = 80"
   ]
  },
  {
   "cell_type": "code",
   "execution_count": null,
   "metadata": {
    "id": "Uih7LX8sCoXf"
   },
   "outputs": [],
   "source": [
    "min_pro = Environment(\"India\", \"Newdelhi\", 98.2, 98.1)"
   ]
  },
  {
   "cell_type": "code",
   "execution_count": null,
   "metadata": {
    "colab": {
     "base_uri": "https://localhost:8080/"
    },
    "executionInfo": {
     "elapsed": 370,
     "status": "ok",
     "timestamp": 1654250983936,
     "user": {
      "displayName": "Neuro Labs",
      "userId": "15488119700446268077"
     },
     "user_tz": -330
    },
    "id": "c9tmp8kGCrj5",
    "outputId": "f3231fda-b2df-43ba-fe86-c5647352815a"
   },
   "outputs": [
    {
     "data": {
      "text/plain": [
       "80"
      ]
     },
     "execution_count": 32,
     "metadata": {},
     "output_type": "execute_result"
    }
   ],
   "source": [
    "min_pro.temp"
   ]
  },
  {
   "cell_type": "code",
   "execution_count": null,
   "metadata": {
    "id": "5iPhNba6CszQ"
   },
   "outputs": [],
   "source": []
  },
  {
   "cell_type": "code",
   "execution_count": null,
   "metadata": {
    "id": "miwDfVVrCu32"
   },
   "outputs": [],
   "source": [
    "class Environment(GlobalWarming):\n",
    "  def __init__(self,  country, city, latitude, longitude, temperature):\n",
    "    super().__init__(country, city, latitude, longitude)\n",
    "    self.temp = temperature"
   ]
  },
  {
   "cell_type": "code",
   "execution_count": null,
   "metadata": {
    "colab": {
     "base_uri": "https://localhost:8080/",
     "height": 169
    },
    "executionInfo": {
     "elapsed": 400,
     "status": "error",
     "timestamp": 1654251039091,
     "user": {
      "displayName": "Neuro Labs",
      "userId": "15488119700446268077"
     },
     "user_tz": -330
    },
    "id": "01Zb0IbjC3kU",
    "outputId": "eb4e18de-c38a-4003-edd3-14766d93a8c1"
   },
   "outputs": [
    {
     "ename": "TypeError",
     "evalue": "ignored",
     "output_type": "error",
     "traceback": [
      "\u001b[0;31m---------------------------------------------------------------------------\u001b[0m",
      "\u001b[0;31mTypeError\u001b[0m                                 Traceback (most recent call last)",
      "\u001b[0;32m<ipython-input-34-74883a1cac83>\u001b[0m in \u001b[0;36m<module>\u001b[0;34m()\u001b[0m\n\u001b[0;32m----> 1\u001b[0;31m \u001b[0mt\u001b[0m \u001b[0;34m=\u001b[0m \u001b[0mEnvironment\u001b[0m\u001b[0;34m(\u001b[0m\u001b[0;34m\"India\"\u001b[0m\u001b[0;34m,\u001b[0m \u001b[0;34m\"Newdelhi\"\u001b[0m\u001b[0;34m,\u001b[0m \u001b[0;36m98.2\u001b[0m\u001b[0;34m,\u001b[0m \u001b[0;36m98.1\u001b[0m\u001b[0;34m)\u001b[0m\u001b[0;34m\u001b[0m\u001b[0;34m\u001b[0m\u001b[0m\n\u001b[0m",
      "\u001b[0;31mTypeError\u001b[0m: __init__() missing 1 required positional argument: 'temperature'"
     ]
    }
   ],
   "source": [
    "t = Environment(\"India\", \"Newdelhi\", 98.2, 98.1)"
   ]
  },
  {
   "cell_type": "code",
   "execution_count": null,
   "metadata": {
    "id": "enW4lO9WC6UP"
   },
   "outputs": [],
   "source": [
    "t_new = Environment(\"India\", \"Newdelhi\", 98.2, 98.1, 30)"
   ]
  },
  {
   "cell_type": "code",
   "execution_count": null,
   "metadata": {
    "colab": {
     "base_uri": "https://localhost:8080/",
     "height": 36
    },
    "executionInfo": {
     "elapsed": 371,
     "status": "ok",
     "timestamp": 1654251062453,
     "user": {
      "displayName": "Neuro Labs",
      "userId": "15488119700446268077"
     },
     "user_tz": -330
    },
    "id": "RcPIRjKNC-D4",
    "outputId": "f8b57a7b-4ccc-48bb-8d5d-32bf51cf30d9"
   },
   "outputs": [
    {
     "data": {
      "application/vnd.google.colaboratory.intrinsic+json": {
       "type": "string"
      },
      "text/plain": [
       "'Newdelhi in India tops global warming rate'"
      ]
     },
     "execution_count": 36,
     "metadata": {},
     "output_type": "execute_result"
    }
   ],
   "source": [
    "t_new.statement()"
   ]
  },
  {
   "cell_type": "code",
   "execution_count": null,
   "metadata": {
    "id": "SGQOIZTtC_9R"
   },
   "outputs": [],
   "source": []
  },
  {
   "cell_type": "code",
   "execution_count": null,
   "metadata": {
    "id": "uEjxF4bKf70L"
   },
   "outputs": [],
   "source": [
    "class DonMan:   #class\n",
    "  x = 20 #class attribute\n",
    "\n",
    "  def __init__(self, a, b):   # __init__ method\n",
    "    self.akbar = a  #instance attribute\n",
    "    self.birbal = b #instance attribute \n",
    "\n",
    "  def add(self):   # add method\n",
    "    return self.akbar + self.birbal"
   ]
  },
  {
   "cell_type": "code",
   "execution_count": null,
   "metadata": {
    "id": "vAaDZy4yg-iI"
   },
   "outputs": [],
   "source": []
  },
  {
   "cell_type": "code",
   "execution_count": null,
   "metadata": {
    "id": "2DmIwlRAf72_"
   },
   "outputs": [],
   "source": [
    "m = DonMan(12, 23)  # m is class object"
   ]
  },
  {
   "cell_type": "code",
   "execution_count": null,
   "metadata": {
    "colab": {
     "base_uri": "https://localhost:8080/"
    },
    "executionInfo": {
     "elapsed": 5,
     "status": "ok",
     "timestamp": 1654661514577,
     "user": {
      "displayName": "Neuro Labs",
      "userId": "15488119700446268077"
     },
     "user_tz": -330
    },
    "id": "ikNO3ohsf75z",
    "outputId": "9b2aaba4-860c-426c-965d-083c554b8644"
   },
   "outputs": [
    {
     "data": {
      "text/plain": [
       "20"
      ]
     },
     "execution_count": 3,
     "metadata": {},
     "output_type": "execute_result"
    }
   ],
   "source": [
    "m.x"
   ]
  },
  {
   "cell_type": "code",
   "execution_count": null,
   "metadata": {
    "colab": {
     "base_uri": "https://localhost:8080/"
    },
    "executionInfo": {
     "elapsed": 3,
     "status": "ok",
     "timestamp": 1654661523585,
     "user": {
      "displayName": "Neuro Labs",
      "userId": "15488119700446268077"
     },
     "user_tz": -330
    },
    "id": "0Ziy83iQf79H",
    "outputId": "5605ecdd-7154-4c5f-c57b-55bcc88a62e1"
   },
   "outputs": [
    {
     "data": {
      "text/plain": [
       "12"
      ]
     },
     "execution_count": 4,
     "metadata": {},
     "output_type": "execute_result"
    }
   ],
   "source": [
    "m.akbar"
   ]
  },
  {
   "cell_type": "code",
   "execution_count": null,
   "metadata": {
    "colab": {
     "base_uri": "https://localhost:8080/"
    },
    "executionInfo": {
     "elapsed": 4,
     "status": "ok",
     "timestamp": 1654661540350,
     "user": {
      "displayName": "Neuro Labs",
      "userId": "15488119700446268077"
     },
     "user_tz": -330
    },
    "id": "eelJHw0pf8AA",
    "outputId": "46ff18f9-7eff-40ff-856a-52c99a48a61e"
   },
   "outputs": [
    {
     "data": {
      "text/plain": [
       "23"
      ]
     },
     "execution_count": 5,
     "metadata": {},
     "output_type": "execute_result"
    }
   ],
   "source": [
    "m.birbal"
   ]
  },
  {
   "cell_type": "code",
   "execution_count": null,
   "metadata": {
    "id": "yuWDTV3nf8Cw"
   },
   "outputs": [],
   "source": []
  },
  {
   "cell_type": "code",
   "execution_count": null,
   "metadata": {
    "id": "it7xHqsbf8FZ"
   },
   "outputs": [],
   "source": [
    "class Parent:\n",
    "\n",
    "  def __init__(self, firstname, lastname, salary):\n",
    "    self.fn = firstname\n",
    "    self.ln = lastname\n",
    "    self.sal = salary\n",
    "  \n",
    "  def first_month(self):\n",
    "    print(self.fn)\n",
    "    print(self.ln)\n",
    "    print(self.sal) \n",
    "\n",
    "  def info(self):\n",
    "    print(\"My first name is: {}\".format(self.fn))\n",
    "    print(\"My last name is: {}\".format(self.ln))\n",
    "    print(\"My salary is: {}\".format(self.sal))"
   ]
  },
  {
   "cell_type": "code",
   "execution_count": null,
   "metadata": {
    "id": "tDjOe_cmf8IH"
   },
   "outputs": [],
   "source": [
    "class Child(Parent):\n",
    "  def __init__(self, firstname, lastname, salary, city, country):\n",
    "    self.city = city\n",
    "    self.country = country \n",
    "    super().__init__(firstname, lastname, salary)\n",
    "  \n",
    "  def info(self):\n",
    "    print(\"My first name is: {}\".format(self.fn))\n",
    "    print(\"My last name is: {}\".format(self.ln))\n",
    "    print(\"My salary is: {}\".format(self.sal))\n",
    "    print(\"My city is: {}\".format(self.city))\n",
    "    print(\"My country is: {}\".format(self.country))\n"
   ]
  },
  {
   "cell_type": "code",
   "execution_count": null,
   "metadata": {
    "id": "N3_3YqAMjWmk"
   },
   "outputs": [],
   "source": [
    "h = Child('sumanth', 'meenan', 1600000, 'bapatla', 'India')"
   ]
  },
  {
   "cell_type": "code",
   "execution_count": null,
   "metadata": {
    "colab": {
     "base_uri": "https://localhost:8080/"
    },
    "executionInfo": {
     "elapsed": 7,
     "status": "ok",
     "timestamp": 1654662481595,
     "user": {
      "displayName": "Neuro Labs",
      "userId": "15488119700446268077"
     },
     "user_tz": -330
    },
    "id": "86uC7nFNf8LH",
    "outputId": "8a1f39d3-65c0-48e7-b06e-e176b8644471"
   },
   "outputs": [
    {
     "name": "stdout",
     "output_type": "stream",
     "text": [
      "sumanth\n",
      "meenan\n",
      "1600000\n"
     ]
    }
   ],
   "source": [
    "h.first_month()"
   ]
  },
  {
   "cell_type": "code",
   "execution_count": null,
   "metadata": {
    "colab": {
     "base_uri": "https://localhost:8080/"
    },
    "executionInfo": {
     "elapsed": 4,
     "status": "ok",
     "timestamp": 1654662483361,
     "user": {
      "displayName": "Neuro Labs",
      "userId": "15488119700446268077"
     },
     "user_tz": -330
    },
    "id": "VVKLsebFf8OC",
    "outputId": "89c8432e-b1c3-48ab-8beb-51f2c63c781f"
   },
   "outputs": [
    {
     "name": "stdout",
     "output_type": "stream",
     "text": [
      "My first name is: sumanth\n",
      "My last name is: meenan\n",
      "My salary is: 1600000\n",
      "My city is: bapatla\n",
      "My country is: India\n"
     ]
    }
   ],
   "source": [
    "h.info()"
   ]
  },
  {
   "cell_type": "code",
   "execution_count": null,
   "metadata": {
    "id": "GUzTJBMbf8Qs"
   },
   "outputs": [],
   "source": [
    "g = Parent('sumanth', 'meenan', 1600000)"
   ]
  },
  {
   "cell_type": "code",
   "execution_count": null,
   "metadata": {
    "colab": {
     "base_uri": "https://localhost:8080/"
    },
    "executionInfo": {
     "elapsed": 14,
     "status": "ok",
     "timestamp": 1654662484324,
     "user": {
      "displayName": "Neuro Labs",
      "userId": "15488119700446268077"
     },
     "user_tz": -330
    },
    "id": "2fkIKJR3f8UQ",
    "outputId": "c396225a-cd94-4a69-9009-50eb6dcfa5d4"
   },
   "outputs": [
    {
     "name": "stdout",
     "output_type": "stream",
     "text": [
      "My first name is: sumanth\n",
      "My last name is: meenan\n",
      "My salary is: 1600000\n"
     ]
    }
   ],
   "source": [
    "g.info()"
   ]
  },
  {
   "cell_type": "code",
   "execution_count": null,
   "metadata": {
    "colab": {
     "base_uri": "https://localhost:8080/"
    },
    "executionInfo": {
     "elapsed": 11,
     "status": "ok",
     "timestamp": 1654662485231,
     "user": {
      "displayName": "Neuro Labs",
      "userId": "15488119700446268077"
     },
     "user_tz": -330
    },
    "id": "9oQJTzDzkDvD",
    "outputId": "6ac76b25-732e-45c7-c52e-c7912bb4b264"
   },
   "outputs": [
    {
     "name": "stdout",
     "output_type": "stream",
     "text": [
      "sumanth\n",
      "meenan\n",
      "1600000\n"
     ]
    }
   ],
   "source": [
    "g.first_month()"
   ]
  },
  {
   "cell_type": "code",
   "execution_count": null,
   "metadata": {
    "id": "KPk9LDJEkDxx"
   },
   "outputs": [],
   "source": []
  },
  {
   "cell_type": "code",
   "execution_count": null,
   "metadata": {
    "id": "V1jlMr8XyBJo"
   },
   "outputs": [],
   "source": [
    "# Polymorphism (with inheritance)\n",
    "\n",
    "# poly => many \n",
    "# polymorphism => many forms  (using single parent class we create multiple childs)"
   ]
  },
  {
   "cell_type": "code",
   "execution_count": null,
   "metadata": {
    "id": "3obRQoiOyBOo"
   },
   "outputs": [],
   "source": [
    "class Travel:\n",
    "\n",
    "  def introduction(self):\n",
    "    print(\"There are many ways of travel\")\n",
    "\n",
    "  def mode(self):\n",
    "    print(\"Most of them can walk but some cannot\")"
   ]
  },
  {
   "cell_type": "code",
   "execution_count": null,
   "metadata": {
    "id": "7sUWP-Q5yBUF"
   },
   "outputs": [],
   "source": [
    "class Bus(Travel): \n",
    "\n",
    "  def mode(self):\n",
    "    print(\"we can travel through bus\")"
   ]
  },
  {
   "cell_type": "code",
   "execution_count": null,
   "metadata": {
    "id": "i1kBKB5WyBZK"
   },
   "outputs": [],
   "source": [
    "class Boat(Travel):\n",
    "\n",
    "  def mode(self):\n",
    "    print(\"we cannot travel through boat\") "
   ]
  },
  {
   "cell_type": "code",
   "execution_count": null,
   "metadata": {
    "id": "jlYGVXx3yBhE"
   },
   "outputs": [],
   "source": [
    "t = Travel()\n",
    "t_bus = Bus()\n",
    "t_boat = Boat()"
   ]
  },
  {
   "cell_type": "code",
   "execution_count": null,
   "metadata": {
    "colab": {
     "base_uri": "https://localhost:8080/"
    },
    "executionInfo": {
     "elapsed": 8,
     "status": "ok",
     "timestamp": 1654666317900,
     "user": {
      "displayName": "Neuro Labs",
      "userId": "15488119700446268077"
     },
     "user_tz": -330
    },
    "id": "aBQLwXxfy3nU",
    "outputId": "56535abe-c38c-4d22-b438-d13f4c0e89e4"
   },
   "outputs": [
    {
     "name": "stdout",
     "output_type": "stream",
     "text": [
      "There are many ways of travel\n"
     ]
    }
   ],
   "source": [
    "t.introduction()"
   ]
  },
  {
   "cell_type": "code",
   "execution_count": null,
   "metadata": {
    "colab": {
     "base_uri": "https://localhost:8080/"
    },
    "executionInfo": {
     "elapsed": 7,
     "status": "ok",
     "timestamp": 1654666321235,
     "user": {
      "displayName": "Neuro Labs",
      "userId": "15488119700446268077"
     },
     "user_tz": -330
    },
    "id": "M37JkBczzBC6",
    "outputId": "cb580cb6-d0b1-4215-bd2f-9f0668bf2c88"
   },
   "outputs": [
    {
     "name": "stdout",
     "output_type": "stream",
     "text": [
      "Most of them can walk but some cannot\n"
     ]
    }
   ],
   "source": [
    "t.mode()"
   ]
  },
  {
   "cell_type": "code",
   "execution_count": null,
   "metadata": {
    "colab": {
     "base_uri": "https://localhost:8080/"
    },
    "executionInfo": {
     "elapsed": 440,
     "status": "ok",
     "timestamp": 1654666331932,
     "user": {
      "displayName": "Neuro Labs",
      "userId": "15488119700446268077"
     },
     "user_tz": -330
    },
    "id": "pXZDWMg1zBKr",
    "outputId": "78f9e7a0-329b-413d-f700-c7c21e5a9452"
   },
   "outputs": [
    {
     "name": "stdout",
     "output_type": "stream",
     "text": [
      "There are many ways of travel\n"
     ]
    }
   ],
   "source": [
    "t_bus.introduction()"
   ]
  },
  {
   "cell_type": "code",
   "execution_count": null,
   "metadata": {
    "colab": {
     "base_uri": "https://localhost:8080/"
    },
    "executionInfo": {
     "elapsed": 394,
     "status": "ok",
     "timestamp": 1654666342644,
     "user": {
      "displayName": "Neuro Labs",
      "userId": "15488119700446268077"
     },
     "user_tz": -330
    },
    "id": "wna083yWzBPA",
    "outputId": "e497a348-b48b-4f7d-a526-359270fc225f"
   },
   "outputs": [
    {
     "name": "stdout",
     "output_type": "stream",
     "text": [
      "we can travel through bus\n"
     ]
    }
   ],
   "source": [
    "t_bus.mode()"
   ]
  },
  {
   "cell_type": "code",
   "execution_count": null,
   "metadata": {
    "colab": {
     "base_uri": "https://localhost:8080/"
    },
    "executionInfo": {
     "elapsed": 5,
     "status": "ok",
     "timestamp": 1654666360534,
     "user": {
      "displayName": "Neuro Labs",
      "userId": "15488119700446268077"
     },
     "user_tz": -330
    },
    "id": "DML3HCxby3uF",
    "outputId": "77be9956-e574-476b-dcc3-cab3cf8e4d43"
   },
   "outputs": [
    {
     "name": "stdout",
     "output_type": "stream",
     "text": [
      "There are many ways of travel\n"
     ]
    }
   ],
   "source": [
    "t_boat.introduction()"
   ]
  },
  {
   "cell_type": "code",
   "execution_count": null,
   "metadata": {
    "colab": {
     "base_uri": "https://localhost:8080/"
    },
    "executionInfo": {
     "elapsed": 7,
     "status": "ok",
     "timestamp": 1654666364917,
     "user": {
      "displayName": "Neuro Labs",
      "userId": "15488119700446268077"
     },
     "user_tz": -330
    },
    "id": "rQSGZ8VEzMIf",
    "outputId": "b95238cb-8e26-4788-c1d1-32229c10c90e"
   },
   "outputs": [
    {
     "name": "stdout",
     "output_type": "stream",
     "text": [
      "we cannot travel through boat\n"
     ]
    }
   ],
   "source": [
    "t_boat.mode()"
   ]
  },
  {
   "cell_type": "code",
   "execution_count": null,
   "metadata": {
    "id": "fgwICdR9zMPI"
   },
   "outputs": [],
   "source": []
  },
  {
   "cell_type": "code",
   "execution_count": null,
   "metadata": {
    "id": "vzTp1n7Iz7mu"
   },
   "outputs": [],
   "source": [
    "# polymorphism"
   ]
  },
  {
   "cell_type": "code",
   "execution_count": null,
   "metadata": {
    "id": "pkS5coXJzMUX"
   },
   "outputs": [],
   "source": [
    "class Bachelors:\n",
    "\n",
    "  def intro(self):\n",
    "    print(\"after completion of 12th i joined bachelors\")\n",
    "\n",
    "  def span(self):\n",
    "    print(\"Its a span of 4 years\")\n",
    "\n",
    "  def country(self):\n",
    "    print(\"I study in India\")"
   ]
  },
  {
   "cell_type": "code",
   "execution_count": null,
   "metadata": {
    "id": "TCLff44-z9qq"
   },
   "outputs": [],
   "source": [
    "class Masters:\n",
    "\n",
    "  def intro(self):\n",
    "    print(\"after completion of bachelors i joined masters\")\n",
    "\n",
    "  def span(self):\n",
    "    print(\"Its a span of 2 years\")\n",
    "\n",
    "  def country(self):\n",
    "    print(\"I study in America\")"
   ]
  },
  {
   "cell_type": "code",
   "execution_count": null,
   "metadata": {
    "id": "dqT8UtOrz9xq"
   },
   "outputs": [],
   "source": [
    "b = Bachelors()\n",
    "m = Masters()"
   ]
  },
  {
   "cell_type": "code",
   "execution_count": null,
   "metadata": {
    "colab": {
     "base_uri": "https://localhost:8080/"
    },
    "executionInfo": {
     "elapsed": 8,
     "status": "ok",
     "timestamp": 1654666987493,
     "user": {
      "displayName": "Neuro Labs",
      "userId": "15488119700446268077"
     },
     "user_tz": -330
    },
    "id": "DzCjTomiz92I",
    "outputId": "c237c675-7af4-474e-b795-114bc118b6e1"
   },
   "outputs": [
    {
     "name": "stdout",
     "output_type": "stream",
     "text": [
      "after completion of 12th i joined bachelors\n",
      "Its a span of 4 years\n",
      "I study in India\n",
      "after completion of bachelors i joined masters\n",
      "Its a span of 2 years\n",
      "I study in America\n"
     ]
    }
   ],
   "source": [
    "for a in (b,m):\n",
    "  a.intro()\n",
    "  a.span()\n",
    "  a.country()"
   ]
  },
  {
   "cell_type": "code",
   "execution_count": null,
   "metadata": {
    "id": "DEVfbjH7z97D"
   },
   "outputs": [],
   "source": []
  },
  {
   "cell_type": "code",
   "execution_count": null,
   "metadata": {
    "id": "VY9Onhogy3y2"
   },
   "outputs": [],
   "source": [
    "# Encapsulation"
   ]
  },
  {
   "cell_type": "code",
   "execution_count": null,
   "metadata": {
    "id": "_1IbKrxX7zuz"
   },
   "outputs": [],
   "source": [
    "class Cow:\n",
    "  def __init__(self): \n",
    "    self.a = \"Honey\"\n",
    "    self.__b = \"cheetah\" #private member\n",
    "    self._c = \"hey\"  #protected member"
   ]
  },
  {
   "cell_type": "code",
   "execution_count": null,
   "metadata": {
    "id": "NEoEbg7P7zyQ"
   },
   "outputs": [],
   "source": [
    "class Calf(Cow):\n",
    "  def __init__(self):\n",
    "    super().__init__()\n",
    "    print(\"call b from parent class\")\n",
    "    print(self.__b)"
   ]
  },
  {
   "cell_type": "code",
   "execution_count": null,
   "metadata": {
    "id": "rxsctD2U7z2i"
   },
   "outputs": [],
   "source": [
    "obj = Cow()"
   ]
  },
  {
   "cell_type": "code",
   "execution_count": null,
   "metadata": {
    "colab": {
     "base_uri": "https://localhost:8080/"
    },
    "executionInfo": {
     "elapsed": 8,
     "status": "ok",
     "timestamp": 1654668753071,
     "user": {
      "displayName": "Neuro Labs",
      "userId": "15488119700446268077"
     },
     "user_tz": -330
    },
    "id": "Dih3bgXq7z6r",
    "outputId": "3e0d95da-c24e-47c6-e454-ba78ed95e09c"
   },
   "outputs": [
    {
     "name": "stdout",
     "output_type": "stream",
     "text": [
      "Honey\n"
     ]
    }
   ],
   "source": [
    "print(obj.a)"
   ]
  },
  {
   "cell_type": "code",
   "execution_count": null,
   "metadata": {
    "colab": {
     "base_uri": "https://localhost:8080/",
     "height": 169
    },
    "executionInfo": {
     "elapsed": 10,
     "status": "error",
     "timestamp": 1654668766421,
     "user": {
      "displayName": "Neuro Labs",
      "userId": "15488119700446268077"
     },
     "user_tz": -330
    },
    "id": "QpgGeu1g7z-D",
    "outputId": "7494d97d-1876-41a1-cfb0-c99b188f8754"
   },
   "outputs": [
    {
     "ename": "AttributeError",
     "evalue": "ignored",
     "output_type": "error",
     "traceback": [
      "\u001b[0;31m---------------------------------------------------------------------------\u001b[0m",
      "\u001b[0;31mAttributeError\u001b[0m                            Traceback (most recent call last)",
      "\u001b[0;32m<ipython-input-52-55fb9835f275>\u001b[0m in \u001b[0;36m<module>\u001b[0;34m()\u001b[0m\n\u001b[0;32m----> 1\u001b[0;31m \u001b[0mprint\u001b[0m\u001b[0;34m(\u001b[0m\u001b[0mobj\u001b[0m\u001b[0;34m.\u001b[0m\u001b[0m__b\u001b[0m\u001b[0;34m)\u001b[0m\u001b[0;34m\u001b[0m\u001b[0;34m\u001b[0m\u001b[0m\n\u001b[0m",
      "\u001b[0;31mAttributeError\u001b[0m: 'Cow' object has no attribute '__b'"
     ]
    }
   ],
   "source": [
    "print(obj.__b)"
   ]
  },
  {
   "cell_type": "code",
   "execution_count": null,
   "metadata": {
    "colab": {
     "base_uri": "https://localhost:8080/",
     "height": 277
    },
    "executionInfo": {
     "elapsed": 9,
     "status": "error",
     "timestamp": 1654668836153,
     "user": {
      "displayName": "Neuro Labs",
      "userId": "15488119700446268077"
     },
     "user_tz": -330
    },
    "id": "Id0VoSQBkD1u",
    "outputId": "96fa82ee-dc81-41a3-9228-76ae945eb5da"
   },
   "outputs": [
    {
     "name": "stdout",
     "output_type": "stream",
     "text": [
      "call b from parent class\n"
     ]
    },
    {
     "ename": "AttributeError",
     "evalue": "ignored",
     "output_type": "error",
     "traceback": [
      "\u001b[0;31m---------------------------------------------------------------------------\u001b[0m",
      "\u001b[0;31mAttributeError\u001b[0m                            Traceback (most recent call last)",
      "\u001b[0;32m<ipython-input-55-c3792a65de9e>\u001b[0m in \u001b[0;36m<module>\u001b[0;34m()\u001b[0m\n\u001b[0;32m----> 1\u001b[0;31m \u001b[0mnew_obj\u001b[0m \u001b[0;34m=\u001b[0m \u001b[0mCalf\u001b[0m\u001b[0;34m(\u001b[0m\u001b[0;34m)\u001b[0m\u001b[0;34m\u001b[0m\u001b[0;34m\u001b[0m\u001b[0m\n\u001b[0m",
      "\u001b[0;32m<ipython-input-54-685cd76c0741>\u001b[0m in \u001b[0;36m__init__\u001b[0;34m(self)\u001b[0m\n\u001b[1;32m      3\u001b[0m     \u001b[0msuper\u001b[0m\u001b[0;34m(\u001b[0m\u001b[0;34m)\u001b[0m\u001b[0;34m.\u001b[0m\u001b[0m__init__\u001b[0m\u001b[0;34m(\u001b[0m\u001b[0;34m)\u001b[0m\u001b[0;34m\u001b[0m\u001b[0;34m\u001b[0m\u001b[0m\n\u001b[1;32m      4\u001b[0m     \u001b[0mprint\u001b[0m\u001b[0;34m(\u001b[0m\u001b[0;34m\"call b from parent class\"\u001b[0m\u001b[0;34m)\u001b[0m\u001b[0;34m\u001b[0m\u001b[0;34m\u001b[0m\u001b[0m\n\u001b[0;32m----> 5\u001b[0;31m     \u001b[0mprint\u001b[0m\u001b[0;34m(\u001b[0m\u001b[0mself\u001b[0m\u001b[0;34m.\u001b[0m\u001b[0m__b\u001b[0m\u001b[0;34m)\u001b[0m\u001b[0;34m\u001b[0m\u001b[0;34m\u001b[0m\u001b[0m\n\u001b[0m",
      "\u001b[0;31mAttributeError\u001b[0m: 'Calf' object has no attribute '_Calf__b'"
     ]
    }
   ],
   "source": [
    "new_obj = Calf()"
   ]
  },
  {
   "cell_type": "code",
   "execution_count": null,
   "metadata": {
    "id": "ToWYsD7z8hWn"
   },
   "outputs": [],
   "source": []
  },
  {
   "cell_type": "code",
   "execution_count": null,
   "metadata": {
    "id": "WeR-jQlo8hd1"
   },
   "outputs": [],
   "source": []
  },
  {
   "cell_type": "code",
   "execution_count": null,
   "metadata": {
    "id": "deBhbu3Q8hjd"
   },
   "outputs": [],
   "source": []
  },
  {
   "cell_type": "code",
   "execution_count": null,
   "metadata": {
    "id": "QVA_t3ZM8hqD"
   },
   "outputs": [],
   "source": []
  },
  {
   "cell_type": "code",
   "execution_count": null,
   "metadata": {
    "id": "ODTGibrZXg-B"
   },
   "outputs": [],
   "source": [
    "# sorted, lambda, map, filter, reduce, groupby"
   ]
  },
  {
   "cell_type": "code",
   "execution_count": null,
   "metadata": {
    "id": "8GjfQvdtX0Bj"
   },
   "outputs": [],
   "source": [
    "f = [12, 23, 11, 6, 9]"
   ]
  },
  {
   "cell_type": "code",
   "execution_count": null,
   "metadata": {
    "id": "NWXsEhYDX8aA"
   },
   "outputs": [],
   "source": [
    "def derv(val):\n",
    "    if val%2 == 0:\n",
    "      return \"even\""
   ]
  },
  {
   "cell_type": "code",
   "execution_count": null,
   "metadata": {
    "colab": {
     "base_uri": "https://localhost:8080/"
    },
    "executionInfo": {
     "elapsed": 567,
     "status": "ok",
     "timestamp": 1654491524185,
     "user": {
      "displayName": "Neuro Labs",
      "userId": "15488119700446268077"
     },
     "user_tz": -330
    },
    "id": "wvXcq7b7X4z6",
    "outputId": "4826325a-a32f-403e-a6d3-4a00d61b73b0"
   },
   "outputs": [
    {
     "data": {
      "text/plain": [
       "[12, 6]"
      ]
     },
     "execution_count": 3,
     "metadata": {},
     "output_type": "execute_result"
    }
   ],
   "source": [
    "list(filter(derv, f))"
   ]
  },
  {
   "cell_type": "code",
   "execution_count": null,
   "metadata": {
    "id": "lCh9332yYSPc"
   },
   "outputs": [],
   "source": []
  },
  {
   "cell_type": "code",
   "execution_count": null,
   "metadata": {
    "id": "-NtbVajTels1"
   },
   "outputs": [],
   "source": [
    "# reduce"
   ]
  },
  {
   "cell_type": "code",
   "execution_count": null,
   "metadata": {
    "id": "GFdDGQGyemzd"
   },
   "outputs": [],
   "source": [
    "# reduce(func, iterable)"
   ]
  },
  {
   "cell_type": "code",
   "execution_count": null,
   "metadata": {
    "id": "07tK6uISerVx"
   },
   "outputs": [],
   "source": [
    "from functools import reduce"
   ]
  },
  {
   "cell_type": "code",
   "execution_count": null,
   "metadata": {
    "id": "JXPXL52Beyce"
   },
   "outputs": [],
   "source": [
    "def total(a,b):\n",
    "  return a+b"
   ]
  },
  {
   "cell_type": "code",
   "execution_count": null,
   "metadata": {
    "colab": {
     "base_uri": "https://localhost:8080/"
    },
    "executionInfo": {
     "elapsed": 6,
     "status": "ok",
     "timestamp": 1654493284439,
     "user": {
      "displayName": "Neuro Labs",
      "userId": "15488119700446268077"
     },
     "user_tz": -330
    },
    "id": "A7ubrGMYe63Y",
    "outputId": "26f3fa2e-4191-4310-ce7c-676a0247205b"
   },
   "outputs": [
    {
     "data": {
      "text/plain": [
       "156"
      ]
     },
     "execution_count": 9,
     "metadata": {},
     "output_type": "execute_result"
    }
   ],
   "source": [
    "reduce(total, [21, 23, 25, 27, 29, 31])"
   ]
  },
  {
   "cell_type": "code",
   "execution_count": null,
   "metadata": {
    "id": "G-S2Q2yUe_-H"
   },
   "outputs": [],
   "source": [
    "ip = 0\n",
    "for data in [21, 23, 25, 27, 29, 31]:\n",
    "  ip += data\n",
    "    "
   ]
  },
  {
   "cell_type": "code",
   "execution_count": null,
   "metadata": {
    "colab": {
     "base_uri": "https://localhost:8080/"
    },
    "executionInfo": {
     "elapsed": 5,
     "status": "ok",
     "timestamp": 1654493368067,
     "user": {
      "displayName": "Neuro Labs",
      "userId": "15488119700446268077"
     },
     "user_tz": -330
    },
    "id": "uxVuQ-jLfTaK",
    "outputId": "70200988-9b8c-446a-e98b-503b6c083f94"
   },
   "outputs": [
    {
     "data": {
      "text/plain": [
       "156"
      ]
     },
     "execution_count": 11,
     "metadata": {},
     "output_type": "execute_result"
    }
   ],
   "source": [
    "ip"
   ]
  },
  {
   "cell_type": "code",
   "execution_count": null,
   "metadata": {
    "id": "SXFowNUEf7mv"
   },
   "outputs": [],
   "source": [
    "def greater(x,y):\n",
    "  if x>y:\n",
    "    return x\n",
    "  else:\n",
    "    return y "
   ]
  },
  {
   "cell_type": "code",
   "execution_count": null,
   "metadata": {
    "colab": {
     "base_uri": "https://localhost:8080/"
    },
    "executionInfo": {
     "elapsed": 755,
     "status": "ok",
     "timestamp": 1654493777796,
     "user": {
      "displayName": "Neuro Labs",
      "userId": "15488119700446268077"
     },
     "user_tz": -330
    },
    "id": "ZCywGfaKfUR4",
    "outputId": "4745b0a6-ef39-4370-ff0a-67db9ad8ceb0"
   },
   "outputs": [
    {
     "data": {
      "text/plain": [
       "44"
      ]
     },
     "execution_count": 14,
     "metadata": {},
     "output_type": "execute_result"
    }
   ],
   "source": [
    "reduce(greater , [12, 22, 6, 32, 30, 44, 32])"
   ]
  },
  {
   "cell_type": "code",
   "execution_count": null,
   "metadata": {
    "id": "8e2OHdKpg4Vp"
   },
   "outputs": [],
   "source": [
    "# file handling"
   ]
  },
  {
   "cell_type": "code",
   "execution_count": null,
   "metadata": {
    "id": "EaKgfHOmjE-F"
   },
   "outputs": [],
   "source": [
    "txt, json, csv, xlsx"
   ]
  },
  {
   "cell_type": "code",
   "execution_count": null,
   "metadata": {
    "id": "SdRZlUdOjdb6"
   },
   "outputs": [],
   "source": [
    "open()"
   ]
  },
  {
   "cell_type": "code",
   "execution_count": null,
   "metadata": {
    "colab": {
     "base_uri": "https://localhost:8080/",
     "height": 187
    },
    "executionInfo": {
     "elapsed": 5985,
     "status": "error",
     "timestamp": 1654494637774,
     "user": {
      "displayName": "Neuro Labs",
      "userId": "15488119700446268077"
     },
     "user_tz": -330
    },
    "id": "GtNZpbGbj7xw",
    "outputId": "0d83fe8c-e6f9-4e77-f0f3-50149b1dfd42"
   },
   "outputs": [
    {
     "ename": "FileNotFoundError",
     "evalue": "ignored",
     "output_type": "error",
     "traceback": [
      "\u001b[0;31m---------------------------------------------------------------------------\u001b[0m",
      "\u001b[0;31mFileNotFoundError\u001b[0m                         Traceback (most recent call last)",
      "\u001b[0;32m<ipython-input-16-f852e047855e>\u001b[0m in \u001b[0;36m<module>\u001b[0;34m()\u001b[0m\n\u001b[0;32m----> 1\u001b[0;31m \u001b[0;32mwith\u001b[0m \u001b[0mopen\u001b[0m\u001b[0;34m(\u001b[0m\u001b[0;34m'a.txt'\u001b[0m\u001b[0;34m)\u001b[0m \u001b[0;32mas\u001b[0m \u001b[0mf\u001b[0m\u001b[0;34m:\u001b[0m\u001b[0;34m\u001b[0m\u001b[0;34m\u001b[0m\u001b[0m\n\u001b[0m\u001b[1;32m      2\u001b[0m   \u001b[0mf\u001b[0m\u001b[0;34m.\u001b[0m\u001b[0mreadlines\u001b[0m\u001b[0;34m(\u001b[0m\u001b[0;34m)\u001b[0m\u001b[0;34m\u001b[0m\u001b[0;34m\u001b[0m\u001b[0m\n",
      "\u001b[0;31mFileNotFoundError\u001b[0m: [Errno 2] No such file or directory: 'a.txt'"
     ]
    }
   ],
   "source": [
    "with open('a.txt') as f:\n",
    "  f.readlines()"
   ]
  },
  {
   "cell_type": "code",
   "execution_count": null,
   "metadata": {
    "id": "ZgmW_sFrkH1s"
   },
   "outputs": [],
   "source": []
  },
  {
   "cell_type": "code",
   "execution_count": null,
   "metadata": {
    "id": "5VRfq4vhvlc_"
   },
   "outputs": [],
   "source": [
    "python file => main.py   code.py   analysis.py"
   ]
  },
  {
   "cell_type": "code",
   "execution_count": null,
   "metadata": {
    "id": "XXVDpUfRvuG3"
   },
   "outputs": [],
   "source": [
    "math.py "
   ]
  },
  {
   "cell_type": "code",
   "execution_count": null,
   "metadata": {
    "id": "KoaMPT7yvxuw"
   },
   "outputs": [],
   "source": [
    "import math"
   ]
  },
  {
   "cell_type": "code",
   "execution_count": null,
   "metadata": {
    "colab": {
     "base_uri": "https://localhost:8080/"
    },
    "executionInfo": {
     "elapsed": 917,
     "status": "ok",
     "timestamp": 1654497771793,
     "user": {
      "displayName": "Neuro Labs",
      "userId": "15488119700446268077"
     },
     "user_tz": -330
    },
    "id": "t2Tq8Fszvy4p",
    "outputId": "1a73fd32-6bce-4504-c206-f473657b29ec"
   },
   "outputs": [
    {
     "data": {
      "text/plain": [
       "4"
      ]
     },
     "execution_count": 18,
     "metadata": {},
     "output_type": "execute_result"
    }
   ],
   "source": [
    "min(23, 4, 67)"
   ]
  },
  {
   "cell_type": "code",
   "execution_count": null,
   "metadata": {
    "colab": {
     "base_uri": "https://localhost:8080/"
    },
    "executionInfo": {
     "elapsed": 817,
     "status": "ok",
     "timestamp": 1654497779581,
     "user": {
      "displayName": "Neuro Labs",
      "userId": "15488119700446268077"
     },
     "user_tz": -330
    },
    "id": "nv1am8XWwHiN",
    "outputId": "3ea4aa21-99f0-4845-bbaa-bb1e644df3e7"
   },
   "outputs": [
    {
     "data": {
      "text/plain": [
       "32"
      ]
     },
     "execution_count": 19,
     "metadata": {},
     "output_type": "execute_result"
    }
   ],
   "source": [
    "max(12, 32, 10)"
   ]
  },
  {
   "cell_type": "code",
   "execution_count": null,
   "metadata": {
    "colab": {
     "base_uri": "https://localhost:8080/"
    },
    "executionInfo": {
     "elapsed": 712,
     "status": "ok",
     "timestamp": 1654497831799,
     "user": {
      "displayName": "Neuro Labs",
      "userId": "15488119700446268077"
     },
     "user_tz": -330
    },
    "id": "u8JXhK5dwJk7",
    "outputId": "6150f684-48a4-4c67-b829-ae1e79794733"
   },
   "outputs": [
    {
     "data": {
      "text/plain": [
       "5.2"
      ]
     },
     "execution_count": 21,
     "metadata": {},
     "output_type": "execute_result"
    }
   ],
   "source": [
    "abs(-5.2)"
   ]
  },
  {
   "cell_type": "code",
   "execution_count": null,
   "metadata": {
    "colab": {
     "base_uri": "https://localhost:8080/"
    },
    "executionInfo": {
     "elapsed": 5,
     "status": "ok",
     "timestamp": 1654497839871,
     "user": {
      "displayName": "Neuro Labs",
      "userId": "15488119700446268077"
     },
     "user_tz": -330
    },
    "id": "H2zV5enswO_p",
    "outputId": "97d3c3d8-3430-436c-8670-6c67421c0731"
   },
   "outputs": [
    {
     "data": {
      "text/plain": [
       "6.25"
      ]
     },
     "execution_count": 22,
     "metadata": {},
     "output_type": "execute_result"
    }
   ],
   "source": [
    "abs(6.25)"
   ]
  },
  {
   "cell_type": "code",
   "execution_count": null,
   "metadata": {
    "colab": {
     "base_uri": "https://localhost:8080/"
    },
    "executionInfo": {
     "elapsed": 990,
     "status": "ok",
     "timestamp": 1654497852813,
     "user": {
      "displayName": "Neuro Labs",
      "userId": "15488119700446268077"
     },
     "user_tz": -330
    },
    "id": "xon-_2d-wYVt",
    "outputId": "a81d8b52-397e-4e4f-cfbe-b62728135347"
   },
   "outputs": [
    {
     "data": {
      "text/plain": [
       "81"
      ]
     },
     "execution_count": 23,
     "metadata": {},
     "output_type": "execute_result"
    }
   ],
   "source": [
    "pow(3, 4)"
   ]
  },
  {
   "cell_type": "code",
   "execution_count": null,
   "metadata": {
    "colab": {
     "base_uri": "https://localhost:8080/"
    },
    "executionInfo": {
     "elapsed": 746,
     "status": "ok",
     "timestamp": 1654497876630,
     "user": {
      "displayName": "Neuro Labs",
      "userId": "15488119700446268077"
     },
     "user_tz": -330
    },
    "id": "eMlwy1KCwa4n",
    "outputId": "04b918c4-3145-455e-fc8f-1f5c333ecade"
   },
   "outputs": [
    {
     "data": {
      "text/plain": [
       "5.0"
      ]
     },
     "execution_count": 25,
     "metadata": {},
     "output_type": "execute_result"
    }
   ],
   "source": [
    "math.sqrt(25)"
   ]
  },
  {
   "cell_type": "code",
   "execution_count": null,
   "metadata": {
    "colab": {
     "base_uri": "https://localhost:8080/"
    },
    "executionInfo": {
     "elapsed": 9,
     "status": "ok",
     "timestamp": 1654497893511,
     "user": {
      "displayName": "Neuro Labs",
      "userId": "15488119700446268077"
     },
     "user_tz": -330
    },
    "id": "AVhqY0aiweUI",
    "outputId": "b3c3a0b1-6711-44f2-8efd-b45dcb6a8d9c"
   },
   "outputs": [
    {
     "data": {
      "text/plain": [
       "4"
      ]
     },
     "execution_count": 26,
     "metadata": {},
     "output_type": "execute_result"
    }
   ],
   "source": [
    "math.ceil(3.4)"
   ]
  },
  {
   "cell_type": "code",
   "execution_count": null,
   "metadata": {
    "colab": {
     "base_uri": "https://localhost:8080/"
    },
    "executionInfo": {
     "elapsed": 727,
     "status": "ok",
     "timestamp": 1654497904792,
     "user": {
      "displayName": "Neuro Labs",
      "userId": "15488119700446268077"
     },
     "user_tz": -330
    },
    "id": "gAyJ41nBwlOz",
    "outputId": "7d87c53e-8eee-4cf6-f7d4-342bc35c0c94"
   },
   "outputs": [
    {
     "data": {
      "text/plain": [
       "3"
      ]
     },
     "execution_count": 27,
     "metadata": {},
     "output_type": "execute_result"
    }
   ],
   "source": [
    "math.floor(3.4)"
   ]
  },
  {
   "cell_type": "code",
   "execution_count": null,
   "metadata": {
    "colab": {
     "base_uri": "https://localhost:8080/"
    },
    "executionInfo": {
     "elapsed": 13,
     "status": "ok",
     "timestamp": 1654497935882,
     "user": {
      "displayName": "Neuro Labs",
      "userId": "15488119700446268077"
     },
     "user_tz": -330
    },
    "id": "0LzhMADbwoA-",
    "outputId": "77397dcd-816b-47b1-8e50-a108c7fd8589"
   },
   "outputs": [
    {
     "data": {
      "text/plain": [
       "3.141592653589793"
      ]
     },
     "execution_count": 28,
     "metadata": {},
     "output_type": "execute_result"
    }
   ],
   "source": [
    "math.pi"
   ]
  },
  {
   "cell_type": "code",
   "execution_count": null,
   "metadata": {
    "id": "IjB0A79vwvMG"
   },
   "outputs": [],
   "source": [
    "# JSON"
   ]
  },
  {
   "cell_type": "code",
   "execution_count": null,
   "metadata": {
    "id": "y_Rh5Gs5FsyR"
   },
   "outputs": [],
   "source": [
    "import json "
   ]
  },
  {
   "cell_type": "code",
   "execution_count": null,
   "metadata": {
    "id": "Wv8QpahjFt04"
   },
   "outputs": [],
   "source": [
    "d = '{\"format\": \"ipl\",\"overs\": 20,\"matches\": 45,\"captains\": 10}'"
   ]
  },
  {
   "cell_type": "code",
   "execution_count": null,
   "metadata": {
    "id": "5zdrgOL0HNdS"
   },
   "outputs": [],
   "source": []
  },
  {
   "cell_type": "code",
   "execution_count": null,
   "metadata": {
    "colab": {
     "base_uri": "https://localhost:8080/"
    },
    "executionInfo": {
     "elapsed": 629,
     "status": "ok",
     "timestamp": 1654503794444,
     "user": {
      "displayName": "Neuro Labs",
      "userId": "15488119700446268077"
     },
     "user_tz": -330
    },
    "id": "0wkjsEVfHFLE",
    "outputId": "62a22522-7265-4fa4-bbaa-0600beda2af2"
   },
   "outputs": [
    {
     "data": {
      "text/plain": [
       "str"
      ]
     },
     "execution_count": 13,
     "metadata": {},
     "output_type": "execute_result"
    }
   ],
   "source": [
    "type(d)"
   ]
  },
  {
   "cell_type": "code",
   "execution_count": null,
   "metadata": {
    "id": "1Hn7iRVJGOus"
   },
   "outputs": [],
   "source": [
    "data = json.loads(d)"
   ]
  },
  {
   "cell_type": "code",
   "execution_count": null,
   "metadata": {
    "colab": {
     "base_uri": "https://localhost:8080/"
    },
    "executionInfo": {
     "elapsed": 6,
     "status": "ok",
     "timestamp": 1654503664664,
     "user": {
      "displayName": "Neuro Labs",
      "userId": "15488119700446268077"
     },
     "user_tz": -330
    },
    "id": "t_wIr98wGSPQ",
    "outputId": "a4d12dce-8e9b-45be-ec0a-4aad053b6e38"
   },
   "outputs": [
    {
     "data": {
      "text/plain": [
       "{'captains': 10, 'format': 'ipl', 'matches': 45, 'overs': 20}"
      ]
     },
     "execution_count": 11,
     "metadata": {},
     "output_type": "execute_result"
    }
   ],
   "source": [
    "data"
   ]
  },
  {
   "cell_type": "code",
   "execution_count": null,
   "metadata": {
    "colab": {
     "base_uri": "https://localhost:8080/",
     "height": 36
    },
    "executionInfo": {
     "elapsed": 5,
     "status": "ok",
     "timestamp": 1654503678133,
     "user": {
      "displayName": "Neuro Labs",
      "userId": "15488119700446268077"
     },
     "user_tz": -330
    },
    "id": "PxtdxIkfGmUv",
    "outputId": "af4cd960-b1d9-4023-8faf-2b300463d08d"
   },
   "outputs": [
    {
     "data": {
      "application/vnd.google.colaboratory.intrinsic+json": {
       "type": "string"
      },
      "text/plain": [
       "'ipl'"
      ]
     },
     "execution_count": 12,
     "metadata": {},
     "output_type": "execute_result"
    }
   ],
   "source": [
    "data['format']"
   ]
  },
  {
   "cell_type": "code",
   "execution_count": null,
   "metadata": {
    "id": "Nr6WAA1-GpoS"
   },
   "outputs": [],
   "source": [
    "sql     structured      tabular\n",
    "nosql  not-structured   json "
   ]
  },
  {
   "cell_type": "code",
   "execution_count": null,
   "metadata": {
    "id": "--OAwoCeHUxj"
   },
   "outputs": [],
   "source": []
  },
  {
   "cell_type": "code",
   "execution_count": null,
   "metadata": {
    "id": "xkZHbUfCHU0q"
   },
   "outputs": [],
   "source": [
    "d1 = {\"movie\":\"RRR\", \"Date\": \"Tomorrow\", \"collections\":1200, \"budget\":539}"
   ]
  },
  {
   "cell_type": "code",
   "execution_count": null,
   "metadata": {
    "id": "9-mBQ_NtHdsm"
   },
   "outputs": [],
   "source": [
    "f1 = json.dumps(d1)"
   ]
  },
  {
   "cell_type": "code",
   "execution_count": null,
   "metadata": {
    "colab": {
     "base_uri": "https://localhost:8080/"
    },
    "executionInfo": {
     "elapsed": 4,
     "status": "ok",
     "timestamp": 1654503916465,
     "user": {
      "displayName": "Neuro Labs",
      "userId": "15488119700446268077"
     },
     "user_tz": -330
    },
    "id": "hoZxdszMHiiy",
    "outputId": "c4b13da0-c467-4c24-f929-e2b181a6e789"
   },
   "outputs": [
    {
     "name": "stdout",
     "output_type": "stream",
     "text": [
      "{\"movie\": \"RRR\", \"Date\": \"Tomorrow\", \"collections\": 1200, \"budget\": 539}\n"
     ]
    }
   ],
   "source": [
    "print(f1)"
   ]
  },
  {
   "cell_type": "code",
   "execution_count": null,
   "metadata": {
    "colab": {
     "base_uri": "https://localhost:8080/",
     "height": 36
    },
    "executionInfo": {
     "elapsed": 5,
     "status": "ok",
     "timestamp": 1654503924449,
     "user": {
      "displayName": "Neuro Labs",
      "userId": "15488119700446268077"
     },
     "user_tz": -330
    },
    "id": "-wU98U2eHjy9",
    "outputId": "c9126a1e-1b2a-4455-ee76-c5c03b00b000"
   },
   "outputs": [
    {
     "data": {
      "application/vnd.google.colaboratory.intrinsic+json": {
       "type": "string"
      },
      "text/plain": [
       "'{\"movie\": \"RRR\", \"Date\": \"Tomorrow\", \"collections\": 1200, \"budget\": 539}'"
      ]
     },
     "execution_count": 17,
     "metadata": {},
     "output_type": "execute_result"
    }
   ],
   "source": [
    "f1"
   ]
  },
  {
   "cell_type": "code",
   "execution_count": null,
   "metadata": {
    "colab": {
     "base_uri": "https://localhost:8080/"
    },
    "executionInfo": {
     "elapsed": 4,
     "status": "ok",
     "timestamp": 1654503932571,
     "user": {
      "displayName": "Neuro Labs",
      "userId": "15488119700446268077"
     },
     "user_tz": -330
    },
    "id": "UEV50ShPHleC",
    "outputId": "360980a5-121d-46a4-c5fe-ee014c28a2ed"
   },
   "outputs": [
    {
     "data": {
      "text/plain": [
       "str"
      ]
     },
     "execution_count": 18,
     "metadata": {},
     "output_type": "execute_result"
    }
   ],
   "source": [
    "type(f1)"
   ]
  },
  {
   "cell_type": "code",
   "execution_count": null,
   "metadata": {
    "id": "3rQo9bEfHnqC"
   },
   "outputs": [],
   "source": [
    "# Send data to JSON file"
   ]
  },
  {
   "cell_type": "code",
   "execution_count": null,
   "metadata": {
    "id": "_0SVwPl_MbkD"
   },
   "outputs": [],
   "source": [
    "# Method 1\n",
    "\n",
    "dict_obj = {\"q\":1, \"p\":2, \"r\":3}\n",
    "jd = json.dumps(dict_obj)\n",
    "with open(\"ran_file.json\", \"w\") as k:\n",
    "    k.write(jd)"
   ]
  },
  {
   "cell_type": "code",
   "execution_count": null,
   "metadata": {
    "id": "SIFmawaLM4-x"
   },
   "outputs": [],
   "source": [
    "# Method 2\n",
    "\n",
    "dict_obj = {\"q\":1, \"p\":2, \"r\":3}\n",
    "\n",
    "with open(\"new.json\", \"w\") as k:\n",
    "    json.dump(dict_obj, k)"
   ]
  },
  {
   "cell_type": "code",
   "execution_count": null,
   "metadata": {
    "id": "TvuwO_DVN4Oe"
   },
   "outputs": [],
   "source": []
  },
  {
   "cell_type": "code",
   "execution_count": null,
   "metadata": {
    "id": "KPv8FggrN_qc"
   },
   "outputs": [],
   "source": [
    "# Load data from JSON file"
   ]
  },
  {
   "cell_type": "code",
   "execution_count": null,
   "metadata": {
    "colab": {
     "base_uri": "https://localhost:8080/"
    },
    "executionInfo": {
     "elapsed": 791,
     "status": "ok",
     "timestamp": 1654505655055,
     "user": {
      "displayName": "Neuro Labs",
      "userId": "15488119700446268077"
     },
     "user_tz": -330
    },
    "id": "3dkhPvmNOBvw",
    "outputId": "2b665003-d0a4-4f12-f5a2-07502584fc01"
   },
   "outputs": [
    {
     "name": "stdout",
     "output_type": "stream",
     "text": [
      "{'q': 1, 'p': 2, 'r': 3}\n"
     ]
    }
   ],
   "source": [
    "with open(\"new.json\", \"r\") as file:\n",
    "  print(json.load(file))"
   ]
  },
  {
   "cell_type": "code",
   "execution_count": null,
   "metadata": {
    "id": "xdXtOSTrOKAu"
   },
   "outputs": [],
   "source": []
  },
  {
   "cell_type": "code",
   "execution_count": null,
   "metadata": {
    "id": "cnBxSMlPOQRS"
   },
   "outputs": [],
   "source": [
    "import pandas as pd \n",
    "df = pd.read_csv(\"sample_data/california_housing_test.csv\")"
   ]
  },
  {
   "cell_type": "code",
   "execution_count": null,
   "metadata": {
    "colab": {
     "base_uri": "https://localhost:8080/",
     "height": 488
    },
    "executionInfo": {
     "elapsed": 718,
     "status": "ok",
     "timestamp": 1654505737817,
     "user": {
      "displayName": "Neuro Labs",
      "userId": "15488119700446268077"
     },
     "user_tz": -330
    },
    "id": "OSbSLzwGOV0Y",
    "outputId": "4c8e2561-9323-4958-d567-19ff2149d078"
   },
   "outputs": [
    {
     "data": {
      "text/html": [
       "\n",
       "  <div id=\"df-a5b598f1-8c3d-4f2c-a02e-c52bb1a05736\">\n",
       "    <div class=\"colab-df-container\">\n",
       "      <div>\n",
       "<style scoped>\n",
       "    .dataframe tbody tr th:only-of-type {\n",
       "        vertical-align: middle;\n",
       "    }\n",
       "\n",
       "    .dataframe tbody tr th {\n",
       "        vertical-align: top;\n",
       "    }\n",
       "\n",
       "    .dataframe thead th {\n",
       "        text-align: right;\n",
       "    }\n",
       "</style>\n",
       "<table border=\"1\" class=\"dataframe\">\n",
       "  <thead>\n",
       "    <tr style=\"text-align: right;\">\n",
       "      <th></th>\n",
       "      <th>longitude</th>\n",
       "      <th>latitude</th>\n",
       "      <th>housing_median_age</th>\n",
       "      <th>total_rooms</th>\n",
       "      <th>total_bedrooms</th>\n",
       "      <th>population</th>\n",
       "      <th>households</th>\n",
       "      <th>median_income</th>\n",
       "      <th>median_house_value</th>\n",
       "    </tr>\n",
       "  </thead>\n",
       "  <tbody>\n",
       "    <tr>\n",
       "      <th>0</th>\n",
       "      <td>-122.05</td>\n",
       "      <td>37.37</td>\n",
       "      <td>27.0</td>\n",
       "      <td>3885.0</td>\n",
       "      <td>661.0</td>\n",
       "      <td>1537.0</td>\n",
       "      <td>606.0</td>\n",
       "      <td>6.6085</td>\n",
       "      <td>344700.0</td>\n",
       "    </tr>\n",
       "    <tr>\n",
       "      <th>1</th>\n",
       "      <td>-118.30</td>\n",
       "      <td>34.26</td>\n",
       "      <td>43.0</td>\n",
       "      <td>1510.0</td>\n",
       "      <td>310.0</td>\n",
       "      <td>809.0</td>\n",
       "      <td>277.0</td>\n",
       "      <td>3.5990</td>\n",
       "      <td>176500.0</td>\n",
       "    </tr>\n",
       "    <tr>\n",
       "      <th>2</th>\n",
       "      <td>-117.81</td>\n",
       "      <td>33.78</td>\n",
       "      <td>27.0</td>\n",
       "      <td>3589.0</td>\n",
       "      <td>507.0</td>\n",
       "      <td>1484.0</td>\n",
       "      <td>495.0</td>\n",
       "      <td>5.7934</td>\n",
       "      <td>270500.0</td>\n",
       "    </tr>\n",
       "    <tr>\n",
       "      <th>3</th>\n",
       "      <td>-118.36</td>\n",
       "      <td>33.82</td>\n",
       "      <td>28.0</td>\n",
       "      <td>67.0</td>\n",
       "      <td>15.0</td>\n",
       "      <td>49.0</td>\n",
       "      <td>11.0</td>\n",
       "      <td>6.1359</td>\n",
       "      <td>330000.0</td>\n",
       "    </tr>\n",
       "    <tr>\n",
       "      <th>4</th>\n",
       "      <td>-119.67</td>\n",
       "      <td>36.33</td>\n",
       "      <td>19.0</td>\n",
       "      <td>1241.0</td>\n",
       "      <td>244.0</td>\n",
       "      <td>850.0</td>\n",
       "      <td>237.0</td>\n",
       "      <td>2.9375</td>\n",
       "      <td>81700.0</td>\n",
       "    </tr>\n",
       "    <tr>\n",
       "      <th>...</th>\n",
       "      <td>...</td>\n",
       "      <td>...</td>\n",
       "      <td>...</td>\n",
       "      <td>...</td>\n",
       "      <td>...</td>\n",
       "      <td>...</td>\n",
       "      <td>...</td>\n",
       "      <td>...</td>\n",
       "      <td>...</td>\n",
       "    </tr>\n",
       "    <tr>\n",
       "      <th>2995</th>\n",
       "      <td>-119.86</td>\n",
       "      <td>34.42</td>\n",
       "      <td>23.0</td>\n",
       "      <td>1450.0</td>\n",
       "      <td>642.0</td>\n",
       "      <td>1258.0</td>\n",
       "      <td>607.0</td>\n",
       "      <td>1.1790</td>\n",
       "      <td>225000.0</td>\n",
       "    </tr>\n",
       "    <tr>\n",
       "      <th>2996</th>\n",
       "      <td>-118.14</td>\n",
       "      <td>34.06</td>\n",
       "      <td>27.0</td>\n",
       "      <td>5257.0</td>\n",
       "      <td>1082.0</td>\n",
       "      <td>3496.0</td>\n",
       "      <td>1036.0</td>\n",
       "      <td>3.3906</td>\n",
       "      <td>237200.0</td>\n",
       "    </tr>\n",
       "    <tr>\n",
       "      <th>2997</th>\n",
       "      <td>-119.70</td>\n",
       "      <td>36.30</td>\n",
       "      <td>10.0</td>\n",
       "      <td>956.0</td>\n",
       "      <td>201.0</td>\n",
       "      <td>693.0</td>\n",
       "      <td>220.0</td>\n",
       "      <td>2.2895</td>\n",
       "      <td>62000.0</td>\n",
       "    </tr>\n",
       "    <tr>\n",
       "      <th>2998</th>\n",
       "      <td>-117.12</td>\n",
       "      <td>34.10</td>\n",
       "      <td>40.0</td>\n",
       "      <td>96.0</td>\n",
       "      <td>14.0</td>\n",
       "      <td>46.0</td>\n",
       "      <td>14.0</td>\n",
       "      <td>3.2708</td>\n",
       "      <td>162500.0</td>\n",
       "    </tr>\n",
       "    <tr>\n",
       "      <th>2999</th>\n",
       "      <td>-119.63</td>\n",
       "      <td>34.42</td>\n",
       "      <td>42.0</td>\n",
       "      <td>1765.0</td>\n",
       "      <td>263.0</td>\n",
       "      <td>753.0</td>\n",
       "      <td>260.0</td>\n",
       "      <td>8.5608</td>\n",
       "      <td>500001.0</td>\n",
       "    </tr>\n",
       "  </tbody>\n",
       "</table>\n",
       "<p>3000 rows × 9 columns</p>\n",
       "</div>\n",
       "      <button class=\"colab-df-convert\" onclick=\"convertToInteractive('df-a5b598f1-8c3d-4f2c-a02e-c52bb1a05736')\"\n",
       "              title=\"Convert this dataframe to an interactive table.\"\n",
       "              style=\"display:none;\">\n",
       "        \n",
       "  <svg xmlns=\"http://www.w3.org/2000/svg\" height=\"24px\"viewBox=\"0 0 24 24\"\n",
       "       width=\"24px\">\n",
       "    <path d=\"M0 0h24v24H0V0z\" fill=\"none\"/>\n",
       "    <path d=\"M18.56 5.44l.94 2.06.94-2.06 2.06-.94-2.06-.94-.94-2.06-.94 2.06-2.06.94zm-11 1L8.5 8.5l.94-2.06 2.06-.94-2.06-.94L8.5 2.5l-.94 2.06-2.06.94zm10 10l.94 2.06.94-2.06 2.06-.94-2.06-.94-.94-2.06-.94 2.06-2.06.94z\"/><path d=\"M17.41 7.96l-1.37-1.37c-.4-.4-.92-.59-1.43-.59-.52 0-1.04.2-1.43.59L10.3 9.45l-7.72 7.72c-.78.78-.78 2.05 0 2.83L4 21.41c.39.39.9.59 1.41.59.51 0 1.02-.2 1.41-.59l7.78-7.78 2.81-2.81c.8-.78.8-2.07 0-2.86zM5.41 20L4 18.59l7.72-7.72 1.47 1.35L5.41 20z\"/>\n",
       "  </svg>\n",
       "      </button>\n",
       "      \n",
       "  <style>\n",
       "    .colab-df-container {\n",
       "      display:flex;\n",
       "      flex-wrap:wrap;\n",
       "      gap: 12px;\n",
       "    }\n",
       "\n",
       "    .colab-df-convert {\n",
       "      background-color: #E8F0FE;\n",
       "      border: none;\n",
       "      border-radius: 50%;\n",
       "      cursor: pointer;\n",
       "      display: none;\n",
       "      fill: #1967D2;\n",
       "      height: 32px;\n",
       "      padding: 0 0 0 0;\n",
       "      width: 32px;\n",
       "    }\n",
       "\n",
       "    .colab-df-convert:hover {\n",
       "      background-color: #E2EBFA;\n",
       "      box-shadow: 0px 1px 2px rgba(60, 64, 67, 0.3), 0px 1px 3px 1px rgba(60, 64, 67, 0.15);\n",
       "      fill: #174EA6;\n",
       "    }\n",
       "\n",
       "    [theme=dark] .colab-df-convert {\n",
       "      background-color: #3B4455;\n",
       "      fill: #D2E3FC;\n",
       "    }\n",
       "\n",
       "    [theme=dark] .colab-df-convert:hover {\n",
       "      background-color: #434B5C;\n",
       "      box-shadow: 0px 1px 3px 1px rgba(0, 0, 0, 0.15);\n",
       "      filter: drop-shadow(0px 1px 2px rgba(0, 0, 0, 0.3));\n",
       "      fill: #FFFFFF;\n",
       "    }\n",
       "  </style>\n",
       "\n",
       "      <script>\n",
       "        const buttonEl =\n",
       "          document.querySelector('#df-a5b598f1-8c3d-4f2c-a02e-c52bb1a05736 button.colab-df-convert');\n",
       "        buttonEl.style.display =\n",
       "          google.colab.kernel.accessAllowed ? 'block' : 'none';\n",
       "\n",
       "        async function convertToInteractive(key) {\n",
       "          const element = document.querySelector('#df-a5b598f1-8c3d-4f2c-a02e-c52bb1a05736');\n",
       "          const dataTable =\n",
       "            await google.colab.kernel.invokeFunction('convertToInteractive',\n",
       "                                                     [key], {});\n",
       "          if (!dataTable) return;\n",
       "\n",
       "          const docLinkHtml = 'Like what you see? Visit the ' +\n",
       "            '<a target=\"_blank\" href=https://colab.research.google.com/notebooks/data_table.ipynb>data table notebook</a>'\n",
       "            + ' to learn more about interactive tables.';\n",
       "          element.innerHTML = '';\n",
       "          dataTable['output_type'] = 'display_data';\n",
       "          await google.colab.output.renderOutput(dataTable, element);\n",
       "          const docLink = document.createElement('div');\n",
       "          docLink.innerHTML = docLinkHtml;\n",
       "          element.appendChild(docLink);\n",
       "        }\n",
       "      </script>\n",
       "    </div>\n",
       "  </div>\n",
       "  "
      ],
      "text/plain": [
       "      longitude  latitude  housing_median_age  total_rooms  total_bedrooms  \\\n",
       "0       -122.05     37.37                27.0       3885.0           661.0   \n",
       "1       -118.30     34.26                43.0       1510.0           310.0   \n",
       "2       -117.81     33.78                27.0       3589.0           507.0   \n",
       "3       -118.36     33.82                28.0         67.0            15.0   \n",
       "4       -119.67     36.33                19.0       1241.0           244.0   \n",
       "...         ...       ...                 ...          ...             ...   \n",
       "2995    -119.86     34.42                23.0       1450.0           642.0   \n",
       "2996    -118.14     34.06                27.0       5257.0          1082.0   \n",
       "2997    -119.70     36.30                10.0        956.0           201.0   \n",
       "2998    -117.12     34.10                40.0         96.0            14.0   \n",
       "2999    -119.63     34.42                42.0       1765.0           263.0   \n",
       "\n",
       "      population  households  median_income  median_house_value  \n",
       "0         1537.0       606.0         6.6085            344700.0  \n",
       "1          809.0       277.0         3.5990            176500.0  \n",
       "2         1484.0       495.0         5.7934            270500.0  \n",
       "3           49.0        11.0         6.1359            330000.0  \n",
       "4          850.0       237.0         2.9375             81700.0  \n",
       "...          ...         ...            ...                 ...  \n",
       "2995      1258.0       607.0         1.1790            225000.0  \n",
       "2996      3496.0      1036.0         3.3906            237200.0  \n",
       "2997       693.0       220.0         2.2895             62000.0  \n",
       "2998        46.0        14.0         3.2708            162500.0  \n",
       "2999       753.0       260.0         8.5608            500001.0  \n",
       "\n",
       "[3000 rows x 9 columns]"
      ]
     },
     "execution_count": 29,
     "metadata": {},
     "output_type": "execute_result"
    }
   ],
   "source": [
    "df"
   ]
  },
  {
   "cell_type": "code",
   "execution_count": null,
   "metadata": {
    "id": "C4-dihELOgPm"
   },
   "outputs": [],
   "source": []
  },
  {
   "cell_type": "code",
   "execution_count": null,
   "metadata": {
    "id": "JuiqkUGYQ7uR"
   },
   "outputs": [],
   "source": [
    "# regex patterns"
   ]
  },
  {
   "cell_type": "code",
   "execution_count": null,
   "metadata": {
    "id": "22Mp7GwGQ87-"
   },
   "outputs": [],
   "source": [
    "meta chars       .[{()\\^$|?*+"
   ]
  },
  {
   "cell_type": "code",
   "execution_count": null,
   "metadata": {
    "id": "8dV9UoxyRTUu"
   },
   "outputs": [],
   "source": [
    ".  matches every character \n",
    "\\. matches only .\n",
    "\\\\ matches only \\"
   ]
  },
  {
   "cell_type": "code",
   "execution_count": null,
   "metadata": {
    "id": "Kb4a7l-VRddq"
   },
   "outputs": [],
   "source": [
    "import re\n",
    "\n",
    "pattern = '^a...s$'\n",
    "test_string = 'abyss'\n",
    "result = re.match(pattern, test_string)"
   ]
  },
  {
   "cell_type": "code",
   "execution_count": null,
   "metadata": {
    "id": "Mxr6PIvKSXPY"
   },
   "outputs": [],
   "source": [
    ".     means any char except new line \n",
    "\\d    means digit (0-9)\n",
    "\\D    means not a digit (0-9)\n",
    "\\w    means word char (a-z A-Z 0-9 _)\n",
    "\\W    means not a word char\n",
    "\\s    means whitespace(space, tab, newline)\n",
    "\\S    means not a whitespace "
   ]
  },
  {
   "cell_type": "code",
   "execution_count": null,
   "metadata": {
    "id": "5vGGo8MtTOuv"
   },
   "outputs": [],
   "source": [
    "\\b  means word boundary  \n",
    "\\B  means not a word boundary \n",
    "^   means beginning of a string \n",
    "$   means end of a string "
   ]
  },
  {
   "cell_type": "code",
   "execution_count": null,
   "metadata": {
    "id": "P75oHzCDSiU0"
   },
   "outputs": [],
   "source": [
    "[]  means matches chars in brackets \n",
    "[^ ] means matches characters not in brackets \n",
    "|   means either or \n",
    "()  means group"
   ]
  },
  {
   "cell_type": "code",
   "execution_count": null,
   "metadata": {
    "id": "gqXjQq3oTmsH"
   },
   "outputs": [],
   "source": [
    "# quantifiers \n",
    "\n",
    "*         0 or more\n",
    "+         1 or more \n",
    "?         0 or one\n",
    "{3}       exact number \n",
    "{3,4}     range of numbers (min, max)"
   ]
  },
  {
   "cell_type": "code",
   "execution_count": null,
   "metadata": {
    "id": "N2o1RPvjUHG-"
   },
   "outputs": [],
   "source": [
    "111-342-9999 \n",
    "111.342.9028\n",
    "\n",
    "\n",
    "\\d{3}.\\d{3}.\\d{4}"
   ]
  },
  {
   "cell_type": "code",
   "execution_count": null,
   "metadata": {
    "id": "OrAckTUrVQPf"
   },
   "outputs": [],
   "source": [
    "Amritsar \n",
    "Aurangabad \n",
    "Alphonso \n",
    "America \n",
    "Amudalavalsa"
   ]
  },
  {
   "cell_type": "code",
   "execution_count": null,
   "metadata": {
    "id": "1TQwx46TWQG5"
   },
   "outputs": [],
   "source": [
    "import re\n",
    "\n",
    "pattern = '^A\\w+'\n",
    "test_string = 'Amudalavalsa'\n",
    "result = re.match(pattern, test_string)"
   ]
  },
  {
   "cell_type": "code",
   "execution_count": null,
   "metadata": {
    "colab": {
     "base_uri": "https://localhost:8080/"
    },
    "executionInfo": {
     "elapsed": 4,
     "status": "ok",
     "timestamp": 1654575063590,
     "user": {
      "displayName": "Neuro Labs",
      "userId": "15488119700446268077"
     },
     "user_tz": -330
    },
    "id": "h7d4P_UwWVJl",
    "outputId": "e327e871-67b6-4eaf-80fe-65d25c7bad5c"
   },
   "outputs": [
    {
     "data": {
      "text/plain": [
       "<re.Match object; span=(0, 12), match='Amudalavalsa'>"
      ]
     },
     "execution_count": 12,
     "metadata": {},
     "output_type": "execute_result"
    }
   ],
   "source": [
    "result"
   ]
  },
  {
   "cell_type": "code",
   "execution_count": null,
   "metadata": {
    "id": "bg8TvNOsWWm5"
   },
   "outputs": [],
   "source": []
  },
  {
   "cell_type": "code",
   "execution_count": null,
   "metadata": {
    "id": "i0yHlJeibQKh"
   },
   "outputs": [],
   "source": [
    "# re.findall()"
   ]
  },
  {
   "cell_type": "code",
   "execution_count": null,
   "metadata": {
    "colab": {
     "base_uri": "https://localhost:8080/"
    },
    "executionInfo": {
     "elapsed": 4,
     "status": "ok",
     "timestamp": 1654576299975,
     "user": {
      "displayName": "Neuro Labs",
      "userId": "15488119700446268077"
     },
     "user_tz": -330
    },
    "id": "iznlgmqpbY-T",
    "outputId": "83c7d23c-59d8-418b-9759-3ca511bcf7bd"
   },
   "outputs": [
    {
     "name": "stdout",
     "output_type": "stream",
     "text": [
      "['24', '1992', '12']\n"
     ]
    }
   ],
   "source": [
    "import re \n",
    "\n",
    "data = \"hey i'm just 24 years old born in 1992 in the 12th month\"\n",
    "pattern = \"\\d+\"\n",
    "\n",
    "result = re.findall(pattern, data)\n",
    "print(result)"
   ]
  },
  {
   "cell_type": "code",
   "execution_count": null,
   "metadata": {
    "id": "0jw52ms-dA8e"
   },
   "outputs": [],
   "source": [
    "# re.split()"
   ]
  },
  {
   "cell_type": "code",
   "execution_count": null,
   "metadata": {
    "colab": {
     "base_uri": "https://localhost:8080/"
    },
    "executionInfo": {
     "elapsed": 436,
     "status": "ok",
     "timestamp": 1654576635016,
     "user": {
      "displayName": "Neuro Labs",
      "userId": "15488119700446268077"
     },
     "user_tz": -330
    },
    "id": "fIVPV0J3bqaW",
    "outputId": "1e9a55c0-d60c-48d3-d6be-38a7142b60ea"
   },
   "outputs": [
    {
     "name": "stdout",
     "output_type": "stream",
     "text": [
      "[\"hey i've been in America for past \", ' years and recently moved to Amudalavalasa']\n"
     ]
    }
   ],
   "source": [
    "import re \n",
    "\n",
    "data = \"hey i've been in America for past 12 years and recently moved to Amudalavalasa\"\n",
    "pattern = \"\\d+\"\n",
    "\n",
    "result = re.split(pattern, data)\n",
    "print(result)"
   ]
  },
  {
   "cell_type": "code",
   "execution_count": null,
   "metadata": {
    "id": "7z7iuguFdYfu"
   },
   "outputs": [],
   "source": [
    "# re.sub()"
   ]
  },
  {
   "cell_type": "code",
   "execution_count": null,
   "metadata": {
    "colab": {
     "base_uri": "https://localhost:8080/"
    },
    "executionInfo": {
     "elapsed": 3,
     "status": "ok",
     "timestamp": 1654576791561,
     "user": {
      "displayName": "Neuro Labs",
      "userId": "15488119700446268077"
     },
     "user_tz": -330
    },
    "id": "w7Um-9CDb5HL",
    "outputId": "39687a04-5c88-4299-ab30-2f671c30b8e2"
   },
   "outputs": [
    {
     "name": "stdout",
     "output_type": "stream",
     "text": [
      "dbiop32newstrength/45\n"
     ]
    }
   ],
   "source": [
    "import re \n",
    "\n",
    "data32 = \"db i op 32      newstrength /45\"\n",
    "pattern = \"\\s+\"\n",
    "\n",
    "replace = \"\"\n",
    "\n",
    "new_Data = re.sub(pattern, replace, data32)\n",
    "print(new_Data)"
   ]
  },
  {
   "cell_type": "code",
   "execution_count": null,
   "metadata": {
    "id": "sw1tX4Radew9"
   },
   "outputs": [],
   "source": [
    "# re.search()"
   ]
  },
  {
   "cell_type": "code",
   "execution_count": null,
   "metadata": {
    "colab": {
     "base_uri": "https://localhost:8080/"
    },
    "executionInfo": {
     "elapsed": 3,
     "status": "ok",
     "timestamp": 1654577122321,
     "user": {
      "displayName": "Neuro Labs",
      "userId": "15488119700446268077"
     },
     "user_tz": -330
    },
    "id": "70L6RzEkd-V-",
    "outputId": "c4f10873-9b05-47ff-ba79-1ecce3aae9da"
   },
   "outputs": [
    {
     "name": "stdout",
     "output_type": "stream",
     "text": [
      "<re.Match object; span=(0, 6), match='Python'>\n"
     ]
    }
   ],
   "source": [
    "import re \n",
    "data5 = \"Python is easy to learn\"\n",
    "\n",
    "match = re.search('\\APython', data5)\n",
    "\n",
    "print(match)"
   ]
  },
  {
   "cell_type": "code",
   "execution_count": null,
   "metadata": {
    "colab": {
     "base_uri": "https://localhost:8080/"
    },
    "executionInfo": {
     "elapsed": 4,
     "status": "ok",
     "timestamp": 1654577134053,
     "user": {
      "displayName": "Neuro Labs",
      "userId": "15488119700446268077"
     },
     "user_tz": -330
    },
    "id": "uqwB40wXeF0u",
    "outputId": "a8472d9d-a603-41f6-ffed-da6e540a7479"
   },
   "outputs": [
    {
     "data": {
      "text/plain": [
       "0"
      ]
     },
     "execution_count": 41,
     "metadata": {},
     "output_type": "execute_result"
    }
   ],
   "source": [
    "match.start()"
   ]
  },
  {
   "cell_type": "code",
   "execution_count": null,
   "metadata": {
    "colab": {
     "base_uri": "https://localhost:8080/"
    },
    "executionInfo": {
     "elapsed": 4,
     "status": "ok",
     "timestamp": 1654577140189,
     "user": {
      "displayName": "Neuro Labs",
      "userId": "15488119700446268077"
     },
     "user_tz": -330
    },
    "id": "cNYwzJlSe3W3",
    "outputId": "3e189971-7970-4ffa-dec6-1531ec756b2a"
   },
   "outputs": [
    {
     "data": {
      "text/plain": [
       "6"
      ]
     },
     "execution_count": 42,
     "metadata": {},
     "output_type": "execute_result"
    }
   ],
   "source": [
    "match.end()"
   ]
  },
  {
   "cell_type": "code",
   "execution_count": null,
   "metadata": {
    "colab": {
     "base_uri": "https://localhost:8080/"
    },
    "executionInfo": {
     "elapsed": 4,
     "status": "ok",
     "timestamp": 1654577146230,
     "user": {
      "displayName": "Neuro Labs",
      "userId": "15488119700446268077"
     },
     "user_tz": -330
    },
    "id": "X_fptympe42x",
    "outputId": "da851151-fdea-4ab0-969b-2802274302ed"
   },
   "outputs": [
    {
     "data": {
      "text/plain": [
       "(0, 6)"
      ]
     },
     "execution_count": 43,
     "metadata": {},
     "output_type": "execute_result"
    }
   ],
   "source": [
    "match.span()"
   ]
  },
  {
   "cell_type": "code",
   "execution_count": null,
   "metadata": {
    "colab": {
     "base_uri": "https://localhost:8080/"
    },
    "executionInfo": {
     "elapsed": 446,
     "status": "ok",
     "timestamp": 1654577157155,
     "user": {
      "displayName": "Neuro Labs",
      "userId": "15488119700446268077"
     },
     "user_tz": -330
    },
    "id": "SiqvcC_Ke6N1",
    "outputId": "7c07ad94-f6f3-4d74-e12b-8da354f3fadf"
   },
   "outputs": [
    {
     "data": {
      "text/plain": [
       "re.compile(r'\\APython', re.UNICODE)"
      ]
     },
     "execution_count": 44,
     "metadata": {},
     "output_type": "execute_result"
    }
   ],
   "source": [
    "match.re"
   ]
  },
  {
   "cell_type": "code",
   "execution_count": null,
   "metadata": {
    "colab": {
     "base_uri": "https://localhost:8080/",
     "height": 36
    },
    "executionInfo": {
     "elapsed": 6,
     "status": "ok",
     "timestamp": 1654577167179,
     "user": {
      "displayName": "Neuro Labs",
      "userId": "15488119700446268077"
     },
     "user_tz": -330
    },
    "id": "9k2pJuIFe82B",
    "outputId": "e8e29a08-f4b7-4cca-b6e9-6a8755dd2963"
   },
   "outputs": [
    {
     "data": {
      "application/vnd.google.colaboratory.intrinsic+json": {
       "type": "string"
      },
      "text/plain": [
       "'Python is easy to learn'"
      ]
     },
     "execution_count": 45,
     "metadata": {},
     "output_type": "execute_result"
    }
   ],
   "source": [
    "match.string"
   ]
  },
  {
   "cell_type": "code",
   "execution_count": null,
   "metadata": {
    "id": "TRCxJv9pfF_4"
   },
   "outputs": [],
   "source": [
    "1:30 - revise \n",
    "1:00 - regex\n",
    "resume at 2pm"
   ]
  },
  {
   "cell_type": "code",
   "execution_count": null,
   "metadata": {
    "id": "zCYgocx6fF9X"
   },
   "outputs": [],
   "source": []
  },
  {
   "cell_type": "code",
   "execution_count": null,
   "metadata": {
    "id": "LcTaP2xbe_Oq"
   },
   "outputs": [],
   "source": [
    "# os module"
   ]
  },
  {
   "cell_type": "code",
   "execution_count": null,
   "metadata": {
    "id": "63uLcIxylNzc"
   },
   "outputs": [],
   "source": [
    "import os"
   ]
  },
  {
   "cell_type": "code",
   "execution_count": null,
   "metadata": {
    "colab": {
     "base_uri": "https://localhost:8080/",
     "height": 36
    },
    "executionInfo": {
     "elapsed": 10,
     "status": "ok",
     "timestamp": 1654679467284,
     "user": {
      "displayName": "Neuro Labs",
      "userId": "15488119700446268077"
     },
     "user_tz": -330
    },
    "id": "WHwN2TIBlHnP",
    "outputId": "0bdda601-9602-4f9b-c697-5329e825ae45"
   },
   "outputs": [
    {
     "data": {
      "application/vnd.google.colaboratory.intrinsic+json": {
       "type": "string"
      },
      "text/plain": [
       "'/content'"
      ]
     },
     "execution_count": 4,
     "metadata": {},
     "output_type": "execute_result"
    }
   ],
   "source": [
    "os.getcwd()"
   ]
  },
  {
   "cell_type": "code",
   "execution_count": null,
   "metadata": {
    "id": "OVsUPERSlMdw"
   },
   "outputs": [],
   "source": []
  },
  {
   "cell_type": "code",
   "execution_count": null,
   "metadata": {
    "id": "FgJ-ER-501TG"
   },
   "outputs": [],
   "source": [
    "# yield"
   ]
  },
  {
   "cell_type": "code",
   "execution_count": null,
   "metadata": {
    "id": "mALZhtdo02Zr"
   },
   "outputs": [],
   "source": [
    "function returns some value\n",
    "yield is used when we dont want to store any value"
   ]
  },
  {
   "cell_type": "code",
   "execution_count": null,
   "metadata": {
    "id": "LSCf-8F51HpZ"
   },
   "outputs": [],
   "source": [
    "def func_a():\n",
    "  #code\n",
    "  return x"
   ]
  },
  {
   "cell_type": "code",
   "execution_count": null,
   "metadata": {
    "id": "TsJW07Nd1MEK"
   },
   "outputs": [],
   "source": [
    "def generator():\n",
    "  #code\n",
    "  yield x"
   ]
  },
  {
   "cell_type": "code",
   "execution_count": null,
   "metadata": {
    "id": "ElRo4Cuk1SPw"
   },
   "outputs": [],
   "source": [
    "def power_2():\n",
    "  a = 1\n",
    "  while True:\n",
    "    yield a*a\n",
    "    yield 2*a\n",
    "    a+=1"
   ]
  },
  {
   "cell_type": "code",
   "execution_count": null,
   "metadata": {
    "colab": {
     "base_uri": "https://localhost:8080/"
    },
    "executionInfo": {
     "elapsed": 2,
     "status": "ok",
     "timestamp": 1654684237093,
     "user": {
      "displayName": "Neuro Labs",
      "userId": "15488119700446268077"
     },
     "user_tz": -330
    },
    "id": "zG9M84Nf1d9R",
    "outputId": "aa7ceaa9-0ff7-42b6-a565-1c6b0d3e91a3"
   },
   "outputs": [
    {
     "name": "stdout",
     "output_type": "stream",
     "text": [
      "1\n",
      "2\n",
      "4\n",
      "4\n",
      "9\n",
      "6\n",
      "16\n",
      "8\n",
      "25\n",
      "10\n",
      "36\n",
      "12\n",
      "49\n",
      "14\n",
      "64\n",
      "16\n",
      "81\n",
      "18\n",
      "100\n",
      "20\n"
     ]
    }
   ],
   "source": [
    "for val in power_2():\n",
    "  if val > 120:\n",
    "    break\n",
    "  print(val)"
   ]
  },
  {
   "cell_type": "code",
   "execution_count": null,
   "metadata": {
    "id": "CG8cAEzF1jqj"
   },
   "outputs": [],
   "source": [
    "folder (1000 images)\n",
    "batch of 30 images at a Time \n",
    "# yield"
   ]
  },
  {
   "cell_type": "code",
   "execution_count": null,
   "metadata": {
    "id": "n-oRe2kY20Y_"
   },
   "outputs": [],
   "source": [
    "till 100 u want 2 find even numbers"
   ]
  },
  {
   "cell_type": "code",
   "execution_count": null,
   "metadata": {
    "id": "bjRVPfDU3NKX"
   },
   "outputs": [],
   "source": []
  },
  {
   "cell_type": "code",
   "execution_count": null,
   "metadata": {
    "id": "QZPlKUun3NNs"
   },
   "outputs": [],
   "source": [
    "# Decorators"
   ]
  },
  {
   "cell_type": "code",
   "execution_count": null,
   "metadata": {
    "id": "nzrUeraj3lre"
   },
   "outputs": [],
   "source": [
    "def function_decorator(random_func):\n",
    "  def wrapped_func():\n",
    "    print(\"+\"*30)\n",
    "    random_func()\n",
    "    print(\"-\"*30)\n",
    "  return wrapped_func"
   ]
  },
  {
   "cell_type": "code",
   "execution_count": null,
   "metadata": {
    "id": "kOkBxsCb4AtK"
   },
   "outputs": [],
   "source": [
    "@function_decorator\n",
    "def new_func():\n",
    "  print(\"Hey whatsup\")"
   ]
  },
  {
   "cell_type": "code",
   "execution_count": null,
   "metadata": {
    "colab": {
     "base_uri": "https://localhost:8080/"
    },
    "executionInfo": {
     "elapsed": 586,
     "status": "ok",
     "timestamp": 1654684695595,
     "user": {
      "displayName": "Neuro Labs",
      "userId": "15488119700446268077"
     },
     "user_tz": -330
    },
    "id": "tj83yUTL4w6c",
    "outputId": "4a98a1dc-b3d3-4f7c-fb56-b25a9e7bf313"
   },
   "outputs": [
    {
     "name": "stdout",
     "output_type": "stream",
     "text": [
      "++++++++++++++++++++++++++++++\n",
      "Hey whatsup\n",
      "------------------------------\n"
     ]
    },
    {
     "data": {
      "text/plain": [
       "<function __main__.function_decorator.<locals>.wrapped_func>"
      ]
     },
     "execution_count": 18,
     "metadata": {},
     "output_type": "execute_result"
    }
   ],
   "source": [
    "function_decorator(new_func)"
   ]
  },
  {
   "cell_type": "code",
   "execution_count": null,
   "metadata": {
    "colab": {
     "base_uri": "https://localhost:8080/"
    },
    "executionInfo": {
     "elapsed": 437,
     "status": "ok",
     "timestamp": 1654684451820,
     "user": {
      "displayName": "Neuro Labs",
      "userId": "15488119700446268077"
     },
     "user_tz": -330
    },
    "id": "RANZfHB44Npv",
    "outputId": "35f92fd9-ab8c-4a96-e41c-92ca5b97570b"
   },
   "outputs": [
    {
     "name": "stdout",
     "output_type": "stream",
     "text": [
      "++++++++++++++++++++++++++++++\n",
      "Hey whatsup\n",
      "------------------------------\n"
     ]
    }
   ],
   "source": [
    "new_func()"
   ]
  },
  {
   "cell_type": "code",
   "execution_count": null,
   "metadata": {
    "id": "grk4DO8h4P0I"
   },
   "outputs": [],
   "source": []
  }
 ],
 "metadata": {
  "colab": {
   "collapsed_sections": [],
   "name": "Copy of python_sganalytics.ipynb",
   "provenance": [
    {
     "file_id": "1lsl9GNq7DvzfJy_azoF62pDxAlFrp_Xt",
     "timestamp": 1655059634077
    }
   ]
  },
  "kernelspec": {
   "display_name": "Python 3 (ipykernel)",
   "language": "python",
   "name": "python3"
  },
  "language_info": {
   "codemirror_mode": {
    "name": "ipython",
    "version": 3
   },
   "file_extension": ".py",
   "mimetype": "text/x-python",
   "name": "python",
   "nbconvert_exporter": "python",
   "pygments_lexer": "ipython3",
   "version": "3.10.4"
  }
 },
 "nbformat": 4,
 "nbformat_minor": 1
}
