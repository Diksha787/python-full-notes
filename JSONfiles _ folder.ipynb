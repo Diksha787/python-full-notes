{
 "cells": [
  {
   "cell_type": "markdown",
   "metadata": {
    "id": "YiwCoUb07EDh"
   },
   "source": [
    "# **F is a file pointer and open functions are used for return the file pointer**"
   ]
  },
  {
   "cell_type": "code",
   "execution_count": 2,
   "metadata": {
    "colab": {
     "base_uri": "https://localhost:8080/"
    },
    "executionInfo": {
     "elapsed": 8,
     "status": "ok",
     "timestamp": 1654495261859,
     "user": {
      "displayName": "Diksha Soni",
      "userId": "00039680945596626387"
     },
     "user_tz": -330
    },
    "id": "a8BcXWmzj5Vc",
    "outputId": "3a3a085c-ea6a-4473-da1a-48d60b5e4d1a"
   },
   "outputs": [
    {
     "name": "stdout",
     "output_type": "stream",
     "text": [
      "<built-in method read of _io.TextIOWrapper object at 0x000001BC9D98EF60>\n"
     ]
    }
   ],
   "source": [
    "with open(\"abc.txt\") as f:\n",
    "  print(f.read)"
   ]
  },
  {
   "cell_type": "code",
   "execution_count": 3,
   "metadata": {
    "colab": {
     "base_uri": "https://localhost:8080/"
    },
    "executionInfo": {
     "elapsed": 4,
     "status": "ok",
     "timestamp": 1654495270545,
     "user": {
      "displayName": "Diksha Soni",
      "userId": "00039680945596626387"
     },
     "user_tz": -330
    },
    "id": "OJ8RsEA4mFFz",
    "outputId": "6d796096-264c-4bac-fed5-6fa8741cdf07"
   },
   "outputs": [
    {
     "name": "stdout",
     "output_type": "stream",
     "text": [
      "Lorem Ipsum, sometimes referred to as 'lipsum', is the placeholder text used in design when creating content. \n",
      "It helps designers plan out where the content will sit, without needing to wait for the content to be written and approved. \n",
      "It originally comes from a Latin text, but to today's reader, it's seen as gibberish.\n"
     ]
    }
   ],
   "source": [
    "with open(\"abc.txt\") as f:\n",
    "  print(f.read())"
   ]
  },
  {
   "cell_type": "code",
   "execution_count": 4,
   "metadata": {
    "colab": {
     "base_uri": "https://localhost:8080/"
    },
    "executionInfo": {
     "elapsed": 410,
     "status": "ok",
     "timestamp": 1654495409564,
     "user": {
      "displayName": "Diksha Soni",
      "userId": "00039680945596626387"
     },
     "user_tz": -330
    },
    "id": "l_u78Ac3mkzQ",
    "outputId": "ed376100-d777-400b-c9a6-c511c5b754d5"
   },
   "outputs": [
    {
     "name": "stdout",
     "output_type": "stream",
     "text": [
      "Lorem Ipsum, sometim\n"
     ]
    }
   ],
   "source": [
    "with open(\"abc.txt\") as f:\n",
    "   print(f.read(20))\n"
   ]
  },
  {
   "cell_type": "code",
   "execution_count": 5,
   "metadata": {
    "colab": {
     "base_uri": "https://localhost:8080/"
    },
    "executionInfo": {
     "elapsed": 431,
     "status": "ok",
     "timestamp": 1654495512961,
     "user": {
      "displayName": "Diksha Soni",
      "userId": "00039680945596626387"
     },
     "user_tz": -330
    },
    "id": "j8kwYlQinHI3",
    "outputId": "a96ec6a1-39de-4037-af73-63ecf522023c"
   },
   "outputs": [
    {
     "name": "stdout",
     "output_type": "stream",
     "text": [
      "Lorem Ipsum, sometimes referred to as 'lipsum', is the placeholder text used in design when creating content. \n",
      "\n"
     ]
    }
   ],
   "source": [
    "with open(\"abc.txt\") as f:\n",
    "  print(f.readline())"
   ]
  },
  {
   "cell_type": "code",
   "execution_count": 6,
   "metadata": {
    "id": "GmZx1Bv_nNwV"
   },
   "outputs": [],
   "source": [
    "with open(\"abc.txt\",\"w\") as f:\n",
    "  f.write(\"python is a interpreter and programming language\")\n",
    "  "
   ]
  },
  {
   "cell_type": "code",
   "execution_count": 7,
   "metadata": {
    "id": "R56sy8BtpD2I"
   },
   "outputs": [],
   "source": [
    "with open(\"abc.txt\",\"a\") as f:\n",
    "  f.write(\"\\n hello python is a interpreter and programming language \")"
   ]
  },
  {
   "cell_type": "markdown",
   "metadata": {
    "id": "tigyU221Q4_S"
   },
   "source": [
    "**JSON (java script object notation and its a build inbuilt module)**"
   ]
  },
  {
   "cell_type": "code",
   "execution_count": null,
   "metadata": {
    "id": "sOy0mrBUQ69Q"
   },
   "outputs": [],
   "source": [
    "import json "
   ]
  },
  {
   "cell_type": "code",
   "execution_count": null,
   "metadata": {
    "id": "5j0b3po4RFhZ"
   },
   "outputs": [],
   "source": [
    "d = '{\"format\": \"ipl\",\"overs\": 20,\"matches\": 45,\"captains\": 10}'"
   ]
  },
  {
   "cell_type": "code",
   "execution_count": null,
   "metadata": {
    "colab": {
     "base_uri": "https://localhost:8080/"
    },
    "executionInfo": {
     "elapsed": 22,
     "status": "ok",
     "timestamp": 1654506425350,
     "user": {
      "displayName": "Diksha Soni",
      "userId": "00039680945596626387"
     },
     "user_tz": -330
    },
    "id": "-3wSS5ggRF-F",
    "outputId": "34015520-c0c7-4ee3-cda7-b9900675181d"
   },
   "outputs": [
    {
     "data": {
      "text/plain": [
       "str"
      ]
     },
     "execution_count": 3,
     "metadata": {},
     "output_type": "execute_result"
    }
   ],
   "source": [
    "type(d)"
   ]
  },
  {
   "cell_type": "code",
   "execution_count": null,
   "metadata": {
    "id": "D3REhq9jRIJQ"
   },
   "outputs": [],
   "source": [
    "data = json.loads(d)"
   ]
  },
  {
   "cell_type": "code",
   "execution_count": null,
   "metadata": {
    "colab": {
     "base_uri": "https://localhost:8080/"
    },
    "executionInfo": {
     "elapsed": 9,
     "status": "ok",
     "timestamp": 1654506446443,
     "user": {
      "displayName": "Diksha Soni",
      "userId": "00039680945596626387"
     },
     "user_tz": -330
    },
    "id": "4t_BOn4fRKx9",
    "outputId": "9f1c17f5-0392-49c3-859d-2dc9fd511726"
   },
   "outputs": [
    {
     "data": {
      "text/plain": [
       "{'captains': 10, 'format': 'ipl', 'matches': 45, 'overs': 20}"
      ]
     },
     "execution_count": 5,
     "metadata": {},
     "output_type": "execute_result"
    }
   ],
   "source": [
    "data"
   ]
  },
  {
   "cell_type": "code",
   "execution_count": null,
   "metadata": {
    "colab": {
     "base_uri": "https://localhost:8080/",
     "height": 36
    },
    "executionInfo": {
     "elapsed": 14,
     "status": "ok",
     "timestamp": 1654506458694,
     "user": {
      "displayName": "Diksha Soni",
      "userId": "00039680945596626387"
     },
     "user_tz": -330
    },
    "id": "oDHhx2qXRNdc",
    "outputId": "fc899144-c8aa-46f6-fa22-ad1538d1248c"
   },
   "outputs": [
    {
     "data": {
      "application/vnd.google.colaboratory.intrinsic+json": {
       "type": "string"
      },
      "text/plain": [
       "'ipl'"
      ]
     },
     "execution_count": 6,
     "metadata": {},
     "output_type": "execute_result"
    }
   ],
   "source": [
    "data['format']"
   ]
  },
  {
   "cell_type": "code",
   "execution_count": null,
   "metadata": {
    "id": "KDMMepWGRP7V"
   },
   "outputs": [],
   "source": [
    "sql     structured      tabular\n",
    "nosql  not-structured   json "
   ]
  },
  {
   "cell_type": "code",
   "execution_count": null,
   "metadata": {
    "id": "SV8tbSv_RS9u"
   },
   "outputs": [],
   "source": [
    "d1 = {\"movie\":\"RRR\", \"Date\": \"Tomorrow\", \"collections\":1200, \"budget\":539}"
   ]
  },
  {
   "cell_type": "code",
   "execution_count": null,
   "metadata": {
    "id": "xXNPAJgpRVq9"
   },
   "outputs": [],
   "source": [
    "f1 = json.dumps(d1)"
   ]
  },
  {
   "cell_type": "code",
   "execution_count": null,
   "metadata": {
    "colab": {
     "base_uri": "https://localhost:8080/"
    },
    "executionInfo": {
     "elapsed": 10,
     "status": "ok",
     "timestamp": 1654506497280,
     "user": {
      "displayName": "Diksha Soni",
      "userId": "00039680945596626387"
     },
     "user_tz": -330
    },
    "id": "yBiwiB6dRX13",
    "outputId": "a010fd32-8a04-453f-a172-608d6f87d546"
   },
   "outputs": [
    {
     "name": "stdout",
     "output_type": "stream",
     "text": [
      "{\"movie\": \"RRR\", \"Date\": \"Tomorrow\", \"collections\": 1200, \"budget\": 539}\n"
     ]
    }
   ],
   "source": [
    "print(f1)"
   ]
  },
  {
   "cell_type": "code",
   "execution_count": null,
   "metadata": {
    "colab": {
     "base_uri": "https://localhost:8080/",
     "height": 36
    },
    "executionInfo": {
     "elapsed": 1145,
     "status": "ok",
     "timestamp": 1654506504734,
     "user": {
      "displayName": "Diksha Soni",
      "userId": "00039680945596626387"
     },
     "user_tz": -330
    },
    "id": "-7E6mkMDRZsY",
    "outputId": "1f552d84-8b3c-42ca-a183-55fcab429ee3"
   },
   "outputs": [
    {
     "data": {
      "application/vnd.google.colaboratory.intrinsic+json": {
       "type": "string"
      },
      "text/plain": [
       "'{\"movie\": \"RRR\", \"Date\": \"Tomorrow\", \"collections\": 1200, \"budget\": 539}'"
      ]
     },
     "execution_count": 10,
     "metadata": {},
     "output_type": "execute_result"
    }
   ],
   "source": [
    "f1"
   ]
  },
  {
   "cell_type": "code",
   "execution_count": null,
   "metadata": {
    "colab": {
     "base_uri": "https://localhost:8080/"
    },
    "executionInfo": {
     "elapsed": 5,
     "status": "ok",
     "timestamp": 1654506510053,
     "user": {
      "displayName": "Diksha Soni",
      "userId": "00039680945596626387"
     },
     "user_tz": -330
    },
    "id": "3N2rdqGVRbWV",
    "outputId": "c66aba7a-948d-42e1-ac4c-84c89818f5a9"
   },
   "outputs": [
    {
     "data": {
      "text/plain": [
       "str"
      ]
     },
     "execution_count": 11,
     "metadata": {},
     "output_type": "execute_result"
    }
   ],
   "source": [
    "type(f1)"
   ]
  },
  {
   "cell_type": "code",
   "execution_count": null,
   "metadata": {
    "id": "ICzj-DbBRcxC"
   },
   "outputs": [],
   "source": [
    "# Send data to JSON file"
   ]
  },
  {
   "cell_type": "code",
   "execution_count": null,
   "metadata": {
    "id": "KswExaC4RgxB"
   },
   "outputs": [],
   "source": [
    "# Method 1\n",
    "\n",
    "dict_obj = {\"q\":1, \"p\":2, \"r\":3}\n",
    "jd = json.dumps(dict_obj)\n",
    "with open(\"ran_file.json\", \"w\") as k:\n",
    "    k.write(jd)"
   ]
  },
  {
   "cell_type": "code",
   "execution_count": null,
   "metadata": {
    "id": "z7BjCBXORhVq"
   },
   "outputs": [],
   "source": [
    "# Method 2\n",
    "\n",
    "dict_obj = {\"q\":1, \"p\":2, \"r\":3}\n",
    "\n",
    "with open(\"new.json\", \"w\") as k:\n",
    "    json.dump(dict_obj, k)"
   ]
  },
  {
   "cell_type": "code",
   "execution_count": null,
   "metadata": {
    "id": "TU_gJ3C1RpJf"
   },
   "outputs": [],
   "source": [
    "# Load data from JSON file"
   ]
  },
  {
   "cell_type": "code",
   "execution_count": null,
   "metadata": {
    "colab": {
     "base_uri": "https://localhost:8080/"
    },
    "executionInfo": {
     "elapsed": 4,
     "status": "ok",
     "timestamp": 1654506587083,
     "user": {
      "displayName": "Diksha Soni",
      "userId": "00039680945596626387"
     },
     "user_tz": -330
    },
    "id": "cTTbakfJRtvD",
    "outputId": "be061ec7-eee4-4b48-c092-aa8eee8ecc90"
   },
   "outputs": [
    {
     "name": "stdout",
     "output_type": "stream",
     "text": [
      "{'q': 1, 'p': 2, 'r': 3}\n"
     ]
    }
   ],
   "source": [
    "with open(\"new.json\", \"r\") as file:\n",
    "  print(json.load(file))"
   ]
  },
  {
   "cell_type": "code",
   "execution_count": null,
   "metadata": {
    "id": "ocgXm_WcRvPv"
   },
   "outputs": [],
   "source": [
    "import pandas as pd \n",
    "df = pd.read_csv(\"sample_data/california_housing_test.csv\")"
   ]
  },
  {
   "cell_type": "code",
   "execution_count": null,
   "metadata": {
    "colab": {
     "base_uri": "https://localhost:8080/",
     "height": 488
    },
    "executionInfo": {
     "elapsed": 373,
     "status": "ok",
     "timestamp": 1654506616852,
     "user": {
      "displayName": "Diksha Soni",
      "userId": "00039680945596626387"
     },
     "user_tz": -330
    },
    "id": "ZEckUS59RylT",
    "outputId": "09c1c836-c065-4a38-8e1e-97c3e33d5fa4"
   },
   "outputs": [
    {
     "data": {
      "text/html": [
       "\n",
       "  <div id=\"df-5bad2b2c-9bb9-4a2b-a441-d96fbb97c46e\">\n",
       "    <div class=\"colab-df-container\">\n",
       "      <div>\n",
       "<style scoped>\n",
       "    .dataframe tbody tr th:only-of-type {\n",
       "        vertical-align: middle;\n",
       "    }\n",
       "\n",
       "    .dataframe tbody tr th {\n",
       "        vertical-align: top;\n",
       "    }\n",
       "\n",
       "    .dataframe thead th {\n",
       "        text-align: right;\n",
       "    }\n",
       "</style>\n",
       "<table border=\"1\" class=\"dataframe\">\n",
       "  <thead>\n",
       "    <tr style=\"text-align: right;\">\n",
       "      <th></th>\n",
       "      <th>longitude</th>\n",
       "      <th>latitude</th>\n",
       "      <th>housing_median_age</th>\n",
       "      <th>total_rooms</th>\n",
       "      <th>total_bedrooms</th>\n",
       "      <th>population</th>\n",
       "      <th>households</th>\n",
       "      <th>median_income</th>\n",
       "      <th>median_house_value</th>\n",
       "    </tr>\n",
       "  </thead>\n",
       "  <tbody>\n",
       "    <tr>\n",
       "      <th>0</th>\n",
       "      <td>-122.05</td>\n",
       "      <td>37.37</td>\n",
       "      <td>27.0</td>\n",
       "      <td>3885.0</td>\n",
       "      <td>661.0</td>\n",
       "      <td>1537.0</td>\n",
       "      <td>606.0</td>\n",
       "      <td>6.6085</td>\n",
       "      <td>344700.0</td>\n",
       "    </tr>\n",
       "    <tr>\n",
       "      <th>1</th>\n",
       "      <td>-118.30</td>\n",
       "      <td>34.26</td>\n",
       "      <td>43.0</td>\n",
       "      <td>1510.0</td>\n",
       "      <td>310.0</td>\n",
       "      <td>809.0</td>\n",
       "      <td>277.0</td>\n",
       "      <td>3.5990</td>\n",
       "      <td>176500.0</td>\n",
       "    </tr>\n",
       "    <tr>\n",
       "      <th>2</th>\n",
       "      <td>-117.81</td>\n",
       "      <td>33.78</td>\n",
       "      <td>27.0</td>\n",
       "      <td>3589.0</td>\n",
       "      <td>507.0</td>\n",
       "      <td>1484.0</td>\n",
       "      <td>495.0</td>\n",
       "      <td>5.7934</td>\n",
       "      <td>270500.0</td>\n",
       "    </tr>\n",
       "    <tr>\n",
       "      <th>3</th>\n",
       "      <td>-118.36</td>\n",
       "      <td>33.82</td>\n",
       "      <td>28.0</td>\n",
       "      <td>67.0</td>\n",
       "      <td>15.0</td>\n",
       "      <td>49.0</td>\n",
       "      <td>11.0</td>\n",
       "      <td>6.1359</td>\n",
       "      <td>330000.0</td>\n",
       "    </tr>\n",
       "    <tr>\n",
       "      <th>4</th>\n",
       "      <td>-119.67</td>\n",
       "      <td>36.33</td>\n",
       "      <td>19.0</td>\n",
       "      <td>1241.0</td>\n",
       "      <td>244.0</td>\n",
       "      <td>850.0</td>\n",
       "      <td>237.0</td>\n",
       "      <td>2.9375</td>\n",
       "      <td>81700.0</td>\n",
       "    </tr>\n",
       "    <tr>\n",
       "      <th>...</th>\n",
       "      <td>...</td>\n",
       "      <td>...</td>\n",
       "      <td>...</td>\n",
       "      <td>...</td>\n",
       "      <td>...</td>\n",
       "      <td>...</td>\n",
       "      <td>...</td>\n",
       "      <td>...</td>\n",
       "      <td>...</td>\n",
       "    </tr>\n",
       "    <tr>\n",
       "      <th>2995</th>\n",
       "      <td>-119.86</td>\n",
       "      <td>34.42</td>\n",
       "      <td>23.0</td>\n",
       "      <td>1450.0</td>\n",
       "      <td>642.0</td>\n",
       "      <td>1258.0</td>\n",
       "      <td>607.0</td>\n",
       "      <td>1.1790</td>\n",
       "      <td>225000.0</td>\n",
       "    </tr>\n",
       "    <tr>\n",
       "      <th>2996</th>\n",
       "      <td>-118.14</td>\n",
       "      <td>34.06</td>\n",
       "      <td>27.0</td>\n",
       "      <td>5257.0</td>\n",
       "      <td>1082.0</td>\n",
       "      <td>3496.0</td>\n",
       "      <td>1036.0</td>\n",
       "      <td>3.3906</td>\n",
       "      <td>237200.0</td>\n",
       "    </tr>\n",
       "    <tr>\n",
       "      <th>2997</th>\n",
       "      <td>-119.70</td>\n",
       "      <td>36.30</td>\n",
       "      <td>10.0</td>\n",
       "      <td>956.0</td>\n",
       "      <td>201.0</td>\n",
       "      <td>693.0</td>\n",
       "      <td>220.0</td>\n",
       "      <td>2.2895</td>\n",
       "      <td>62000.0</td>\n",
       "    </tr>\n",
       "    <tr>\n",
       "      <th>2998</th>\n",
       "      <td>-117.12</td>\n",
       "      <td>34.10</td>\n",
       "      <td>40.0</td>\n",
       "      <td>96.0</td>\n",
       "      <td>14.0</td>\n",
       "      <td>46.0</td>\n",
       "      <td>14.0</td>\n",
       "      <td>3.2708</td>\n",
       "      <td>162500.0</td>\n",
       "    </tr>\n",
       "    <tr>\n",
       "      <th>2999</th>\n",
       "      <td>-119.63</td>\n",
       "      <td>34.42</td>\n",
       "      <td>42.0</td>\n",
       "      <td>1765.0</td>\n",
       "      <td>263.0</td>\n",
       "      <td>753.0</td>\n",
       "      <td>260.0</td>\n",
       "      <td>8.5608</td>\n",
       "      <td>500001.0</td>\n",
       "    </tr>\n",
       "  </tbody>\n",
       "</table>\n",
       "<p>3000 rows × 9 columns</p>\n",
       "</div>\n",
       "      <button class=\"colab-df-convert\" onclick=\"convertToInteractive('df-5bad2b2c-9bb9-4a2b-a441-d96fbb97c46e')\"\n",
       "              title=\"Convert this dataframe to an interactive table.\"\n",
       "              style=\"display:none;\">\n",
       "        \n",
       "  <svg xmlns=\"http://www.w3.org/2000/svg\" height=\"24px\"viewBox=\"0 0 24 24\"\n",
       "       width=\"24px\">\n",
       "    <path d=\"M0 0h24v24H0V0z\" fill=\"none\"/>\n",
       "    <path d=\"M18.56 5.44l.94 2.06.94-2.06 2.06-.94-2.06-.94-.94-2.06-.94 2.06-2.06.94zm-11 1L8.5 8.5l.94-2.06 2.06-.94-2.06-.94L8.5 2.5l-.94 2.06-2.06.94zm10 10l.94 2.06.94-2.06 2.06-.94-2.06-.94-.94-2.06-.94 2.06-2.06.94z\"/><path d=\"M17.41 7.96l-1.37-1.37c-.4-.4-.92-.59-1.43-.59-.52 0-1.04.2-1.43.59L10.3 9.45l-7.72 7.72c-.78.78-.78 2.05 0 2.83L4 21.41c.39.39.9.59 1.41.59.51 0 1.02-.2 1.41-.59l7.78-7.78 2.81-2.81c.8-.78.8-2.07 0-2.86zM5.41 20L4 18.59l7.72-7.72 1.47 1.35L5.41 20z\"/>\n",
       "  </svg>\n",
       "      </button>\n",
       "      \n",
       "  <style>\n",
       "    .colab-df-container {\n",
       "      display:flex;\n",
       "      flex-wrap:wrap;\n",
       "      gap: 12px;\n",
       "    }\n",
       "\n",
       "    .colab-df-convert {\n",
       "      background-color: #E8F0FE;\n",
       "      border: none;\n",
       "      border-radius: 50%;\n",
       "      cursor: pointer;\n",
       "      display: none;\n",
       "      fill: #1967D2;\n",
       "      height: 32px;\n",
       "      padding: 0 0 0 0;\n",
       "      width: 32px;\n",
       "    }\n",
       "\n",
       "    .colab-df-convert:hover {\n",
       "      background-color: #E2EBFA;\n",
       "      box-shadow: 0px 1px 2px rgba(60, 64, 67, 0.3), 0px 1px 3px 1px rgba(60, 64, 67, 0.15);\n",
       "      fill: #174EA6;\n",
       "    }\n",
       "\n",
       "    [theme=dark] .colab-df-convert {\n",
       "      background-color: #3B4455;\n",
       "      fill: #D2E3FC;\n",
       "    }\n",
       "\n",
       "    [theme=dark] .colab-df-convert:hover {\n",
       "      background-color: #434B5C;\n",
       "      box-shadow: 0px 1px 3px 1px rgba(0, 0, 0, 0.15);\n",
       "      filter: drop-shadow(0px 1px 2px rgba(0, 0, 0, 0.3));\n",
       "      fill: #FFFFFF;\n",
       "    }\n",
       "  </style>\n",
       "\n",
       "      <script>\n",
       "        const buttonEl =\n",
       "          document.querySelector('#df-5bad2b2c-9bb9-4a2b-a441-d96fbb97c46e button.colab-df-convert');\n",
       "        buttonEl.style.display =\n",
       "          google.colab.kernel.accessAllowed ? 'block' : 'none';\n",
       "\n",
       "        async function convertToInteractive(key) {\n",
       "          const element = document.querySelector('#df-5bad2b2c-9bb9-4a2b-a441-d96fbb97c46e');\n",
       "          const dataTable =\n",
       "            await google.colab.kernel.invokeFunction('convertToInteractive',\n",
       "                                                     [key], {});\n",
       "          if (!dataTable) return;\n",
       "\n",
       "          const docLinkHtml = 'Like what you see? Visit the ' +\n",
       "            '<a target=\"_blank\" href=https://colab.research.google.com/notebooks/data_table.ipynb>data table notebook</a>'\n",
       "            + ' to learn more about interactive tables.';\n",
       "          element.innerHTML = '';\n",
       "          dataTable['output_type'] = 'display_data';\n",
       "          await google.colab.output.renderOutput(dataTable, element);\n",
       "          const docLink = document.createElement('div');\n",
       "          docLink.innerHTML = docLinkHtml;\n",
       "          element.appendChild(docLink);\n",
       "        }\n",
       "      </script>\n",
       "    </div>\n",
       "  </div>\n",
       "  "
      ],
      "text/plain": [
       "      longitude  latitude  housing_median_age  total_rooms  total_bedrooms  \\\n",
       "0       -122.05     37.37                27.0       3885.0           661.0   \n",
       "1       -118.30     34.26                43.0       1510.0           310.0   \n",
       "2       -117.81     33.78                27.0       3589.0           507.0   \n",
       "3       -118.36     33.82                28.0         67.0            15.0   \n",
       "4       -119.67     36.33                19.0       1241.0           244.0   \n",
       "...         ...       ...                 ...          ...             ...   \n",
       "2995    -119.86     34.42                23.0       1450.0           642.0   \n",
       "2996    -118.14     34.06                27.0       5257.0          1082.0   \n",
       "2997    -119.70     36.30                10.0        956.0           201.0   \n",
       "2998    -117.12     34.10                40.0         96.0            14.0   \n",
       "2999    -119.63     34.42                42.0       1765.0           263.0   \n",
       "\n",
       "      population  households  median_income  median_house_value  \n",
       "0         1537.0       606.0         6.6085            344700.0  \n",
       "1          809.0       277.0         3.5990            176500.0  \n",
       "2         1484.0       495.0         5.7934            270500.0  \n",
       "3           49.0        11.0         6.1359            330000.0  \n",
       "4          850.0       237.0         2.9375             81700.0  \n",
       "...          ...         ...            ...                 ...  \n",
       "2995      1258.0       607.0         1.1790            225000.0  \n",
       "2996      3496.0      1036.0         3.3906            237200.0  \n",
       "2997       693.0       220.0         2.2895             62000.0  \n",
       "2998        46.0        14.0         3.2708            162500.0  \n",
       "2999       753.0       260.0         8.5608            500001.0  \n",
       "\n",
       "[3000 rows x 9 columns]"
      ]
     },
     "execution_count": 16,
     "metadata": {},
     "output_type": "execute_result"
    }
   ],
   "source": [
    "df"
   ]
  },
  {
   "cell_type": "code",
   "execution_count": null,
   "metadata": {
    "id": "NUg-g1p3R3BF"
   },
   "outputs": [],
   "source": [
    "import json"
   ]
  },
  {
   "cell_type": "code",
   "execution_count": null,
   "metadata": {
    "id": "KSQEavtDXzFz"
   },
   "outputs": [],
   "source": [
    "# load(): This method is used to load data from a JSON file into a python dictionary.\n",
    "# Loads( ): This method is used to load data from a JSON variable into a python dictionary.\n",
    "# dump(): This method is used to load data from the python dictionary to the JSON file.\n",
    "# dumps(): This method is used to load data from the python dictionary to the JSON variable."
   ]
  },
  {
   "cell_type": "code",
   "execution_count": null,
   "metadata": {
    "colab": {
     "base_uri": "https://localhost:8080/"
    },
    "executionInfo": {
     "elapsed": 362,
     "status": "ok",
     "timestamp": 1654507810936,
     "user": {
      "displayName": "Diksha Soni",
      "userId": "00039680945596626387"
     },
     "user_tz": -330
    },
    "id": "Iq4iOD1TVgQD",
    "outputId": "8836525f-0931-4c41-b15d-3588659e1c2c"
   },
   "outputs": [
    {
     "name": "stdout",
     "output_type": "stream",
     "text": [
      "{\"data science\":\"analysis data\",\"python\":\"coding\",\"ML\":\"create Model\",\"DL\":\"object detection\"}\n"
     ]
    }
   ],
   "source": [
    "data ='{\"data science\":\"analysis data\",\"python\":\"coding\",\"ML\":\"create Model\",\"DL\":\"object detection\"}'\n",
    "print(data)"
   ]
  },
  {
   "cell_type": "code",
   "execution_count": null,
   "metadata": {
    "colab": {
     "base_uri": "https://localhost:8080/"
    },
    "executionInfo": {
     "elapsed": 1279,
     "status": "ok",
     "timestamp": 1654508036019,
     "user": {
      "displayName": "Diksha Soni",
      "userId": "00039680945596626387"
     },
     "user_tz": -330
    },
    "id": "2OppgPy3WBBO",
    "outputId": "ff6f6f40-4ecd-4b55-aba5-9b75744c17ea"
   },
   "outputs": [
    {
     "name": "stdout",
     "output_type": "stream",
     "text": [
      "{'data science': 'analysis data', 'python': 'coding', 'ML': 'create Model', 'DL': 'object detection'}\n",
      "analysis data\n",
      "<class 'dict'>\n"
     ]
    }
   ],
   "source": [
    "parsed=json.loads(data)\n",
    "print(parsed)\n",
    "print(parsed['data science'])\n",
    "print(type(parsed))"
   ]
  },
  {
   "cell_type": "code",
   "execution_count": null,
   "metadata": {
    "colab": {
     "base_uri": "https://localhost:8080/"
    },
    "executionInfo": {
     "elapsed": 1125,
     "status": "ok",
     "timestamp": 1654508837130,
     "user": {
      "displayName": "Diksha Soni",
      "userId": "00039680945596626387"
     },
     "user_tz": -330
    },
    "id": "2RZORptEWJhr",
    "outputId": "5e114611-f928-464e-8aba-afc63fafc3bd"
   },
   "outputs": [
    {
     "name": "stdout",
     "output_type": "stream",
     "text": [
      "{\"name\": \"python\", \"cars\": [\"bmw\", \"audi a8\", \"ferrari\"], \"fridge\": [\"roti\", \"fruits\"], \"isbad\": false}\n"
     ]
    }
   ],
   "source": [
    "data2 = {\n",
    "    \"name\": \"python\",\n",
    "    \"cars\": ['bmw', 'audi a8', 'ferrari'],\n",
    "    \"fridge\": ('roti', \"fruits\"),\n",
    "    \"isbad\": False\n",
    "}\n",
    "\n",
    "jscomp = json.dumps(data2)\n",
    "print(jscomp)"
   ]
  },
  {
   "cell_type": "code",
   "execution_count": null,
   "metadata": {
    "colab": {
     "base_uri": "https://localhost:8080/",
     "height": 1000
    },
    "executionInfo": {
     "elapsed": 7,
     "status": "ok",
     "timestamp": 1654509170033,
     "user": {
      "displayName": "Diksha Soni",
      "userId": "00039680945596626387"
     },
     "user_tz": -330
    },
    "id": "2m04AsnCYRqC",
    "outputId": "b7cda21a-1e6b-4d0b-bbc2-9e31e8ac7dbc"
   },
   "outputs": [
    {
     "data": {
      "text/html": [
       "\n",
       "  <div id=\"df-85b7d111-c527-48b9-bd40-10a3c7ebdb83\">\n",
       "    <div class=\"colab-df-container\">\n",
       "      <div>\n",
       "<style scoped>\n",
       "    .dataframe tbody tr th:only-of-type {\n",
       "        vertical-align: middle;\n",
       "    }\n",
       "\n",
       "    .dataframe tbody tr th {\n",
       "        vertical-align: top;\n",
       "    }\n",
       "\n",
       "    .dataframe thead th {\n",
       "        text-align: right;\n",
       "    }\n",
       "</style>\n",
       "<table border=\"1\" class=\"dataframe\">\n",
       "  <thead>\n",
       "    <tr style=\"text-align: right;\">\n",
       "      <th></th>\n",
       "      <th>Name</th>\n",
       "      <th>Country</th>\n",
       "      <th>Reigon</th>\n",
       "      <th>Depth (in meters)</th>\n",
       "      <th>Depth (in feet)</th>\n",
       "      <th>Depth^2/area</th>\n",
       "    </tr>\n",
       "  </thead>\n",
       "  <tbody>\n",
       "    <tr>\n",
       "      <th>0</th>\n",
       "      <td>Baikal</td>\n",
       "      <td>Russia</td>\n",
       "      <td>Siberia</td>\n",
       "      <td>1642</td>\n",
       "      <td>5387</td>\n",
       "      <td>9.22×10−6</td>\n",
       "    </tr>\n",
       "    <tr>\n",
       "      <th>1</th>\n",
       "      <td>Tanganyika</td>\n",
       "      <td>Tanzania, Democratic Republic of the Congo, B...</td>\n",
       "      <td>East Africa</td>\n",
       "      <td>1470</td>\n",
       "      <td>4823</td>\n",
       "      <td>8.1×10−6</td>\n",
       "    </tr>\n",
       "    <tr>\n",
       "      <th>2</th>\n",
       "      <td>Caspian sea</td>\n",
       "      <td>Iran, Russia, Turkmenistan, Kazakhstan, Azerb...</td>\n",
       "      <td>NaN</td>\n",
       "      <td>1025</td>\n",
       "      <td>3363</td>\n",
       "      <td>1.68×10−6</td>\n",
       "    </tr>\n",
       "    <tr>\n",
       "      <th>3</th>\n",
       "      <td>Vostok</td>\n",
       "      <td>Antarctica</td>\n",
       "      <td>NaN</td>\n",
       "      <td>~1000</td>\n",
       "      <td>~3300</td>\n",
       "      <td>8.94×10−6</td>\n",
       "    </tr>\n",
       "    <tr>\n",
       "      <th>4</th>\n",
       "      <td>O'Higgins-San Martín</td>\n",
       "      <td>Chile, Argentina</td>\n",
       "      <td>Aysén (Chile), Santa Cruz (Argentina)</td>\n",
       "      <td>836</td>\n",
       "      <td>2742</td>\n",
       "      <td>2.63×10−5</td>\n",
       "    </tr>\n",
       "    <tr>\n",
       "      <th>5</th>\n",
       "      <td>Malawi/Nyasa/Niassa</td>\n",
       "      <td>Mozambique, Malawi, Tanzania</td>\n",
       "      <td>NaN</td>\n",
       "      <td>706</td>\n",
       "      <td>2316</td>\n",
       "      <td>4.1×10−6</td>\n",
       "    </tr>\n",
       "    <tr>\n",
       "      <th>6</th>\n",
       "      <td>Issyk Kul</td>\n",
       "      <td>Kyrgyzstan</td>\n",
       "      <td>NaN</td>\n",
       "      <td>668</td>\n",
       "      <td>2192</td>\n",
       "      <td>8.46×10−6</td>\n",
       "    </tr>\n",
       "    <tr>\n",
       "      <th>7</th>\n",
       "      <td>Great Slave</td>\n",
       "      <td>Canada</td>\n",
       "      <td>Northwest Territories</td>\n",
       "      <td>614</td>\n",
       "      <td>2015</td>\n",
       "      <td>3.72×10−6</td>\n",
       "    </tr>\n",
       "    <tr>\n",
       "      <th>8</th>\n",
       "      <td>Crater</td>\n",
       "      <td>United States</td>\n",
       "      <td>Oregon</td>\n",
       "      <td>594</td>\n",
       "      <td>1949</td>\n",
       "      <td>8.16×10−5</td>\n",
       "    </tr>\n",
       "    <tr>\n",
       "      <th>9</th>\n",
       "      <td>Matano</td>\n",
       "      <td>Indonesia</td>\n",
       "      <td>South Sulawesi</td>\n",
       "      <td>590</td>\n",
       "      <td>1936</td>\n",
       "      <td>4.61×10−5</td>\n",
       "    </tr>\n",
       "    <tr>\n",
       "      <th>10</th>\n",
       "      <td>General Carrera-Buenos Aires</td>\n",
       "      <td>Chile,  Argentina</td>\n",
       "      <td>NaN</td>\n",
       "      <td>586</td>\n",
       "      <td>1923</td>\n",
       "      <td>1.36×10−5</td>\n",
       "    </tr>\n",
       "    <tr>\n",
       "      <th>11</th>\n",
       "      <td>Hornindalsvatnet</td>\n",
       "      <td>Norway</td>\n",
       "      <td>Vestland</td>\n",
       "      <td>514</td>\n",
       "      <td>1686</td>\n",
       "      <td>7.2×10−5</td>\n",
       "    </tr>\n",
       "    <tr>\n",
       "      <th>12</th>\n",
       "      <td>Quesnel</td>\n",
       "      <td>Canada</td>\n",
       "      <td>British Columbia</td>\n",
       "      <td>511</td>\n",
       "      <td>1677</td>\n",
       "      <td>3.13×10−5</td>\n",
       "    </tr>\n",
       "    <tr>\n",
       "      <th>13</th>\n",
       "      <td>Toba</td>\n",
       "      <td>Indonesia</td>\n",
       "      <td>Sumatra</td>\n",
       "      <td>505</td>\n",
       "      <td>1657</td>\n",
       "      <td>1.5×10−5</td>\n",
       "    </tr>\n",
       "    <tr>\n",
       "      <th>14</th>\n",
       "      <td>Sarez</td>\n",
       "      <td>Tajikistan</td>\n",
       "      <td>NaN</td>\n",
       "      <td>505</td>\n",
       "      <td>1657</td>\n",
       "      <td>5.66×10−5</td>\n",
       "    </tr>\n",
       "    <tr>\n",
       "      <th>15</th>\n",
       "      <td>Tahoe</td>\n",
       "      <td>United States</td>\n",
       "      <td>California, Nevada</td>\n",
       "      <td>501</td>\n",
       "      <td>1645</td>\n",
       "      <td>2.26×10−5</td>\n",
       "    </tr>\n",
       "    <tr>\n",
       "      <th>16</th>\n",
       "      <td>Argentino</td>\n",
       "      <td>Argentina</td>\n",
       "      <td>Santa Cruz (Patagonia)</td>\n",
       "      <td>500</td>\n",
       "      <td>1640</td>\n",
       "      <td>1.33×10−5</td>\n",
       "    </tr>\n",
       "    <tr>\n",
       "      <th>17</th>\n",
       "      <td>Kivu</td>\n",
       "      <td>Democratic Republic of the Congo,  Rwanda</td>\n",
       "      <td>NaN</td>\n",
       "      <td>480</td>\n",
       "      <td>1575</td>\n",
       "      <td>9.24×10−6</td>\n",
       "    </tr>\n",
       "    <tr>\n",
       "      <th>18</th>\n",
       "      <td>Salsvatnet</td>\n",
       "      <td>Norway</td>\n",
       "      <td>Trøndelag</td>\n",
       "      <td>464</td>\n",
       "      <td>1523</td>\n",
       "      <td>6.93×10−5</td>\n",
       "    </tr>\n",
       "    <tr>\n",
       "      <th>19</th>\n",
       "      <td>Nahuel Huapi</td>\n",
       "      <td>Argentina</td>\n",
       "      <td>Rio Negro, Patagonia</td>\n",
       "      <td>464</td>\n",
       "      <td>1523</td>\n",
       "      <td>2.02×10−5</td>\n",
       "    </tr>\n",
       "    <tr>\n",
       "      <th>20</th>\n",
       "      <td>Hauroko</td>\n",
       "      <td>New Zealand</td>\n",
       "      <td>Southland (South Island)</td>\n",
       "      <td>462</td>\n",
       "      <td>1516</td>\n",
       "      <td>5.82×10−5</td>\n",
       "    </tr>\n",
       "    <tr>\n",
       "      <th>21</th>\n",
       "      <td>Cochrane / Pueyrredón[6]</td>\n",
       "      <td>Chile,  Argentina</td>\n",
       "      <td>Aysén (Chile), Santa Cruz (Argentina)</td>\n",
       "      <td>460</td>\n",
       "      <td>1509</td>\n",
       "      <td>2.55×10−5</td>\n",
       "    </tr>\n",
       "    <tr>\n",
       "      <th>22</th>\n",
       "      <td>Lake Tinn</td>\n",
       "      <td>Norway</td>\n",
       "      <td>Vestfold og Telemark</td>\n",
       "      <td>460</td>\n",
       "      <td>1509</td>\n",
       "      <td>6.41×10−5</td>\n",
       "    </tr>\n",
       "    <tr>\n",
       "      <th>23</th>\n",
       "      <td>Adams</td>\n",
       "      <td>Canada</td>\n",
       "      <td>British Columbia</td>\n",
       "      <td>457</td>\n",
       "      <td>1499</td>\n",
       "      <td>3.9×10−5</td>\n",
       "    </tr>\n",
       "    <tr>\n",
       "      <th>24</th>\n",
       "      <td>Chelan</td>\n",
       "      <td>United States</td>\n",
       "      <td>Washington (state)</td>\n",
       "      <td>453</td>\n",
       "      <td>1486</td>\n",
       "      <td>3.9×10−5</td>\n",
       "    </tr>\n",
       "    <tr>\n",
       "      <th>25</th>\n",
       "      <td>Van[7]</td>\n",
       "      <td>Turkey</td>\n",
       "      <td>NaN</td>\n",
       "      <td>451</td>\n",
       "      <td>1480</td>\n",
       "      <td>7.36×10−6</td>\n",
       "    </tr>\n",
       "    <tr>\n",
       "      <th>26</th>\n",
       "      <td>Poso</td>\n",
       "      <td>Indonesia</td>\n",
       "      <td>Sulawesi</td>\n",
       "      <td>450</td>\n",
       "      <td>1476</td>\n",
       "      <td>2.5×10−5</td>\n",
       "    </tr>\n",
       "    <tr>\n",
       "      <th>27</th>\n",
       "      <td>Fagnano</td>\n",
       "      <td>Argentina,  Chile</td>\n",
       "      <td>Tierra del Fuego</td>\n",
       "      <td>449</td>\n",
       "      <td>1473</td>\n",
       "      <td>1.77×10−5</td>\n",
       "    </tr>\n",
       "    <tr>\n",
       "      <th>28</th>\n",
       "      <td>Great Bear</td>\n",
       "      <td>Canada</td>\n",
       "      <td>Northwest Territories</td>\n",
       "      <td>446</td>\n",
       "      <td>1463</td>\n",
       "      <td>2.53×10−6</td>\n",
       "    </tr>\n",
       "    <tr>\n",
       "      <th>29</th>\n",
       "      <td>Manapouri</td>\n",
       "      <td>New Zealand</td>\n",
       "      <td>Southland (South Island)</td>\n",
       "      <td>444</td>\n",
       "      <td>1457</td>\n",
       "      <td>3.73×10−5</td>\n",
       "    </tr>\n",
       "    <tr>\n",
       "      <th>30</th>\n",
       "      <td>Mjøsa</td>\n",
       "      <td>Norway</td>\n",
       "      <td>Hedmark, Oppland and Viken</td>\n",
       "      <td>443.5</td>\n",
       "      <td>1455</td>\n",
       "      <td>2.33×10−5</td>\n",
       "    </tr>\n",
       "    <tr>\n",
       "      <th>31</th>\n",
       "      <td>Como</td>\n",
       "      <td>Italy</td>\n",
       "      <td>Lombardy</td>\n",
       "      <td>425</td>\n",
       "      <td>1394</td>\n",
       "      <td>3.52×10−5</td>\n",
       "    </tr>\n",
       "    <tr>\n",
       "      <th>32</th>\n",
       "      <td>Te Anau</td>\n",
       "      <td>New Zealand</td>\n",
       "      <td>Southland (South Island)</td>\n",
       "      <td>425</td>\n",
       "      <td>1390</td>\n",
       "      <td>2.29×10−5</td>\n",
       "    </tr>\n",
       "    <tr>\n",
       "      <th>33</th>\n",
       "      <td>Tazawa</td>\n",
       "      <td>Japan</td>\n",
       "      <td>Akita Prefecture</td>\n",
       "      <td>423</td>\n",
       "      <td>1387</td>\n",
       "      <td>8.31×10−5</td>\n",
       "    </tr>\n",
       "    <tr>\n",
       "      <th>34</th>\n",
       "      <td>Wakatipu</td>\n",
       "      <td>New Zealand</td>\n",
       "      <td>South Island</td>\n",
       "      <td>420</td>\n",
       "      <td>1378</td>\n",
       "      <td>2.47×10−5</td>\n",
       "    </tr>\n",
       "    <tr>\n",
       "      <th>35</th>\n",
       "      <td>Superior</td>\n",
       "      <td>Canada</td>\n",
       "      <td>Ontario, Michigan, Minnesota, Wisconsin</td>\n",
       "      <td>406</td>\n",
       "      <td>1332</td>\n",
       "      <td>1.42×10−6</td>\n",
       "    </tr>\n",
       "  </tbody>\n",
       "</table>\n",
       "</div>\n",
       "      <button class=\"colab-df-convert\" onclick=\"convertToInteractive('df-85b7d111-c527-48b9-bd40-10a3c7ebdb83')\"\n",
       "              title=\"Convert this dataframe to an interactive table.\"\n",
       "              style=\"display:none;\">\n",
       "        \n",
       "  <svg xmlns=\"http://www.w3.org/2000/svg\" height=\"24px\"viewBox=\"0 0 24 24\"\n",
       "       width=\"24px\">\n",
       "    <path d=\"M0 0h24v24H0V0z\" fill=\"none\"/>\n",
       "    <path d=\"M18.56 5.44l.94 2.06.94-2.06 2.06-.94-2.06-.94-.94-2.06-.94 2.06-2.06.94zm-11 1L8.5 8.5l.94-2.06 2.06-.94-2.06-.94L8.5 2.5l-.94 2.06-2.06.94zm10 10l.94 2.06.94-2.06 2.06-.94-2.06-.94-.94-2.06-.94 2.06-2.06.94z\"/><path d=\"M17.41 7.96l-1.37-1.37c-.4-.4-.92-.59-1.43-.59-.52 0-1.04.2-1.43.59L10.3 9.45l-7.72 7.72c-.78.78-.78 2.05 0 2.83L4 21.41c.39.39.9.59 1.41.59.51 0 1.02-.2 1.41-.59l7.78-7.78 2.81-2.81c.8-.78.8-2.07 0-2.86zM5.41 20L4 18.59l7.72-7.72 1.47 1.35L5.41 20z\"/>\n",
       "  </svg>\n",
       "      </button>\n",
       "      \n",
       "  <style>\n",
       "    .colab-df-container {\n",
       "      display:flex;\n",
       "      flex-wrap:wrap;\n",
       "      gap: 12px;\n",
       "    }\n",
       "\n",
       "    .colab-df-convert {\n",
       "      background-color: #E8F0FE;\n",
       "      border: none;\n",
       "      border-radius: 50%;\n",
       "      cursor: pointer;\n",
       "      display: none;\n",
       "      fill: #1967D2;\n",
       "      height: 32px;\n",
       "      padding: 0 0 0 0;\n",
       "      width: 32px;\n",
       "    }\n",
       "\n",
       "    .colab-df-convert:hover {\n",
       "      background-color: #E2EBFA;\n",
       "      box-shadow: 0px 1px 2px rgba(60, 64, 67, 0.3), 0px 1px 3px 1px rgba(60, 64, 67, 0.15);\n",
       "      fill: #174EA6;\n",
       "    }\n",
       "\n",
       "    [theme=dark] .colab-df-convert {\n",
       "      background-color: #3B4455;\n",
       "      fill: #D2E3FC;\n",
       "    }\n",
       "\n",
       "    [theme=dark] .colab-df-convert:hover {\n",
       "      background-color: #434B5C;\n",
       "      box-shadow: 0px 1px 3px 1px rgba(0, 0, 0, 0.15);\n",
       "      filter: drop-shadow(0px 1px 2px rgba(0, 0, 0, 0.3));\n",
       "      fill: #FFFFFF;\n",
       "    }\n",
       "  </style>\n",
       "\n",
       "      <script>\n",
       "        const buttonEl =\n",
       "          document.querySelector('#df-85b7d111-c527-48b9-bd40-10a3c7ebdb83 button.colab-df-convert');\n",
       "        buttonEl.style.display =\n",
       "          google.colab.kernel.accessAllowed ? 'block' : 'none';\n",
       "\n",
       "        async function convertToInteractive(key) {\n",
       "          const element = document.querySelector('#df-85b7d111-c527-48b9-bd40-10a3c7ebdb83');\n",
       "          const dataTable =\n",
       "            await google.colab.kernel.invokeFunction('convertToInteractive',\n",
       "                                                     [key], {});\n",
       "          if (!dataTable) return;\n",
       "\n",
       "          const docLinkHtml = 'Like what you see? Visit the ' +\n",
       "            '<a target=\"_blank\" href=https://colab.research.google.com/notebooks/data_table.ipynb>data table notebook</a>'\n",
       "            + ' to learn more about interactive tables.';\n",
       "          element.innerHTML = '';\n",
       "          dataTable['output_type'] = 'display_data';\n",
       "          await google.colab.output.renderOutput(dataTable, element);\n",
       "          const docLink = document.createElement('div');\n",
       "          docLink.innerHTML = docLinkHtml;\n",
       "          element.appendChild(docLink);\n",
       "        }\n",
       "      </script>\n",
       "    </div>\n",
       "  </div>\n",
       "  "
      ],
      "text/plain": [
       "                            Name  \\\n",
       "0                         Baikal   \n",
       "1                     Tanganyika   \n",
       "2                    Caspian sea   \n",
       "3                         Vostok   \n",
       "4           O'Higgins-San Martín   \n",
       "5            Malawi/Nyasa/Niassa   \n",
       "6                      Issyk Kul   \n",
       "7                    Great Slave   \n",
       "8                         Crater   \n",
       "9                         Matano   \n",
       "10  General Carrera-Buenos Aires   \n",
       "11              Hornindalsvatnet   \n",
       "12                       Quesnel   \n",
       "13                          Toba   \n",
       "14                         Sarez   \n",
       "15                         Tahoe   \n",
       "16                     Argentino   \n",
       "17                          Kivu   \n",
       "18                    Salsvatnet   \n",
       "19                  Nahuel Huapi   \n",
       "20                       Hauroko   \n",
       "21      Cochrane / Pueyrredón[6]   \n",
       "22                     Lake Tinn   \n",
       "23                         Adams   \n",
       "24                        Chelan   \n",
       "25                        Van[7]   \n",
       "26                          Poso   \n",
       "27                       Fagnano   \n",
       "28                    Great Bear   \n",
       "29                     Manapouri   \n",
       "30                         Mjøsa   \n",
       "31                          Como   \n",
       "32                       Te Anau   \n",
       "33                        Tazawa   \n",
       "34                      Wakatipu   \n",
       "35                      Superior   \n",
       "\n",
       "                                              Country  \\\n",
       "0                                              Russia   \n",
       "1    Tanzania, Democratic Republic of the Congo, B...   \n",
       "2    Iran, Russia, Turkmenistan, Kazakhstan, Azerb...   \n",
       "3                                          Antarctica   \n",
       "4                                    Chile, Argentina   \n",
       "5                        Mozambique, Malawi, Tanzania   \n",
       "6                                          Kyrgyzstan   \n",
       "7                                              Canada   \n",
       "8                                       United States   \n",
       "9                                           Indonesia   \n",
       "10                                  Chile,  Argentina   \n",
       "11                                             Norway   \n",
       "12                                             Canada   \n",
       "13                                          Indonesia   \n",
       "14                                         Tajikistan   \n",
       "15                                      United States   \n",
       "16                                          Argentina   \n",
       "17          Democratic Republic of the Congo,  Rwanda   \n",
       "18                                             Norway   \n",
       "19                                          Argentina   \n",
       "20                                        New Zealand   \n",
       "21                                  Chile,  Argentina   \n",
       "22                                             Norway   \n",
       "23                                             Canada   \n",
       "24                                      United States   \n",
       "25                                             Turkey   \n",
       "26                                          Indonesia   \n",
       "27                                  Argentina,  Chile   \n",
       "28                                             Canada   \n",
       "29                                        New Zealand   \n",
       "30                                             Norway   \n",
       "31                                              Italy   \n",
       "32                                        New Zealand   \n",
       "33                                              Japan   \n",
       "34                                        New Zealand   \n",
       "35                                             Canada   \n",
       "\n",
       "                                     Reigon Depth (in meters) Depth (in feet)  \\\n",
       "0                                   Siberia              1642            5387   \n",
       "1                               East Africa              1470            4823   \n",
       "2                                       NaN              1025            3363   \n",
       "3                                       NaN             ~1000           ~3300   \n",
       "4     Aysén (Chile), Santa Cruz (Argentina)               836            2742   \n",
       "5                                       NaN               706            2316   \n",
       "6                                       NaN               668            2192   \n",
       "7                     Northwest Territories               614            2015   \n",
       "8                                    Oregon               594            1949   \n",
       "9                            South Sulawesi               590            1936   \n",
       "10                                      NaN               586            1923   \n",
       "11                                 Vestland               514            1686   \n",
       "12                         British Columbia               511            1677   \n",
       "13                                  Sumatra               505            1657   \n",
       "14                                      NaN               505            1657   \n",
       "15                       California, Nevada               501            1645   \n",
       "16                   Santa Cruz (Patagonia)               500            1640   \n",
       "17                                      NaN               480            1575   \n",
       "18                                Trøndelag               464            1523   \n",
       "19                     Rio Negro, Patagonia               464            1523   \n",
       "20                 Southland (South Island)               462            1516   \n",
       "21    Aysén (Chile), Santa Cruz (Argentina)               460            1509   \n",
       "22                     Vestfold og Telemark               460            1509   \n",
       "23                         British Columbia               457            1499   \n",
       "24                       Washington (state)               453            1486   \n",
       "25                                      NaN               451            1480   \n",
       "26                                 Sulawesi               450            1476   \n",
       "27                         Tierra del Fuego               449            1473   \n",
       "28                    Northwest Territories               446            1463   \n",
       "29                 Southland (South Island)               444            1457   \n",
       "30               Hedmark, Oppland and Viken             443.5            1455   \n",
       "31                                 Lombardy               425            1394   \n",
       "32                 Southland (South Island)               425            1390   \n",
       "33                         Akita Prefecture               423            1387   \n",
       "34                             South Island               420            1378   \n",
       "35  Ontario, Michigan, Minnesota, Wisconsin               406            1332   \n",
       "\n",
       "   Depth^2/area  \n",
       "0     9.22×10−6  \n",
       "1      8.1×10−6  \n",
       "2     1.68×10−6  \n",
       "3     8.94×10−6  \n",
       "4     2.63×10−5  \n",
       "5      4.1×10−6  \n",
       "6     8.46×10−6  \n",
       "7     3.72×10−6  \n",
       "8     8.16×10−5  \n",
       "9     4.61×10−5  \n",
       "10    1.36×10−5  \n",
       "11     7.2×10−5  \n",
       "12    3.13×10−5  \n",
       "13     1.5×10−5  \n",
       "14    5.66×10−5  \n",
       "15    2.26×10−5  \n",
       "16    1.33×10−5  \n",
       "17    9.24×10−6  \n",
       "18    6.93×10−5  \n",
       "19    2.02×10−5  \n",
       "20    5.82×10−5  \n",
       "21    2.55×10−5  \n",
       "22    6.41×10−5  \n",
       "23     3.9×10−5  \n",
       "24     3.9×10−5  \n",
       "25    7.36×10−6  \n",
       "26     2.5×10−5  \n",
       "27    1.77×10−5  \n",
       "28    2.53×10−6  \n",
       "29    3.73×10−5  \n",
       "30    2.33×10−5  \n",
       "31    3.52×10−5  \n",
       "32    2.29×10−5  \n",
       "33    8.31×10−5  \n",
       "34    2.47×10−5  \n",
       "35    1.42×10−6  "
      ]
     },
     "execution_count": 38,
     "metadata": {},
     "output_type": "execute_result"
    }
   ],
   "source": [
    "import pandas as pd\n",
    "df=pd.read_csv(\"List of lakes.csv\")\n",
    "df"
   ]
  },
  {
   "cell_type": "code",
   "execution_count": null,
   "metadata": {
    "id": "8nbga52wbHB-"
   },
   "outputs": [],
   "source": []
  }
 ],
 "metadata": {
  "colab": {
   "authorship_tag": "ABX9TyPKCzcS1BZc4jLxbNiGEs4q",
   "collapsed_sections": [],
   "name": "JSONfiles & folder.ipynb",
   "provenance": []
  },
  "kernelspec": {
   "display_name": "Python 3 (ipykernel)",
   "language": "python",
   "name": "python3"
  },
  "language_info": {
   "codemirror_mode": {
    "name": "ipython",
    "version": 3
   },
   "file_extension": ".py",
   "mimetype": "text/x-python",
   "name": "python",
   "nbconvert_exporter": "python",
   "pygments_lexer": "ipython3",
   "version": "3.10.4"
  }
 },
 "nbformat": 4,
 "nbformat_minor": 1
}
