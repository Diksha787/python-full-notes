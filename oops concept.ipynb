{
 "cells": [
  {
   "cell_type": "markdown",
   "metadata": {
    "id": "bh7ginRaxisj"
   },
   "source": [
    "**OOP's concept**"
   ]
  },
  {
   "cell_type": "markdown",
   "metadata": {
    "id": "nPw25Ox-x1nY"
   },
   "source": [
    "**03 june,2022**"
   ]
  },
  {
   "cell_type": "markdown",
   "metadata": {
    "id": "6uy_5mWzyEmA"
   },
   "source": [
    "**Class**"
   ]
  },
  {
   "cell_type": "code",
   "execution_count": null,
   "metadata": {
    "id": "JwWc4jWJxnfK"
   },
   "outputs": [],
   "source": [
    "# class\n",
    "class Solver:\n",
    "\n",
    "  def __init__(self, firstname, lastname, age, gender, city): ## instance variable\n",
    "    self.fn = firstname\n",
    "    self.ln = lastname\n",
    "    self.age = age \n",
    "    self.gender = gender\n",
    "    self.city = city \n",
    "\n",
    "  def fullname(self):\n",
    "    return self.fn + self.ln \n",
    "\n",
    "  def biodata(self):\n",
    "    return \"{} {} is {} years old and currently living in {}\".format(self.fn, self.ln, self.age, self.city)\n",
    "\n",
    "  def demographics(self):\n",
    "    return \"living in {}\".format(self.city)\n"
   ]
  },
  {
   "cell_type": "code",
   "execution_count": null,
   "metadata": {
    "id": "ZLg43-v3yK5L"
   },
   "outputs": [],
   "source": [
    "m = Solver(\"Diksha\",\"Soni\",\"Female\",\"26\",\"Una\")"
   ]
  },
  {
   "cell_type": "code",
   "execution_count": null,
   "metadata": {
    "colab": {
     "base_uri": "https://localhost:8080/"
    },
    "executionInfo": {
     "elapsed": 10,
     "status": "ok",
     "timestamp": 1654230087110,
     "user": {
      "displayName": "Diksha Soni",
      "userId": "00039680945596626387"
     },
     "user_tz": -330
    },
    "id": "sDmCZLFRyWjj",
    "outputId": "b9584fa3-0387-4637-ff0f-09000ee1bb4f"
   },
   "outputs": [
    {
     "name": "stdout",
     "output_type": "stream",
     "text": [
      "DikshaSoni\n",
      "Diksha Soni is Female years old and currently living in Una\n",
      "living in Una\n"
     ]
    }
   ],
   "source": [
    "print(m.fullname())\n",
    "print(m.biodata())\n",
    "print(m.demographics())\n"
   ]
  },
  {
   "cell_type": "markdown",
   "metadata": {
    "id": "-xX-l04mFHeH"
   },
   "source": [
    "**instance and class variable**"
   ]
  },
  {
   "cell_type": "code",
   "execution_count": 69,
   "metadata": {
    "executionInfo": {
     "elapsed": 6,
     "status": "ok",
     "timestamp": 1654759090222,
     "user": {
      "displayName": "Diksha Soni",
      "userId": "00039680945596626387"
     },
     "user_tz": -330
    },
    "id": "g6AmCdrzAkcO"
   },
   "outputs": [],
   "source": [
    "class Employee():\n",
    "\n",
    "  increment=1.5  ## class variable \n",
    "\n",
    "  def __init__(self,fname,lname, salary): ##  instance variable\n",
    "    self.fname= fname\n",
    "    self.lname= lname\n",
    "    self.salary= salary\n",
    "\n",
    "  def increment(self):\n",
    "    self.salary=int(self.increment * Employee.increment)  ## firstly function check the instance variable after they check the class variable  \n",
    "\n",
    "E=Employee(\"Diksha\",\"Soni\",44000)"
   ]
  },
  {
   "cell_type": "code",
   "execution_count": 70,
   "metadata": {
    "colab": {
     "base_uri": "https://localhost:8080/"
    },
    "executionInfo": {
     "elapsed": 8,
     "status": "ok",
     "timestamp": 1654759091890,
     "user": {
      "displayName": "Diksha Soni",
      "userId": "00039680945596626387"
     },
     "user_tz": -330
    },
    "id": "KvBErh1vB4CR",
    "outputId": "751eecde-d38f-4c1d-b1da-d32984172abd"
   },
   "outputs": [
    {
     "name": "stdout",
     "output_type": "stream",
     "text": [
      "Diksha\n",
      "{'fname': 'Diksha', 'lname': 'Soni', 'salary': 44000}\n",
      "{'fname': 'Diksha', 'lname': 'Soni', 'salary': 44000, 'increment': 9}\n"
     ]
    }
   ],
   "source": [
    "print(E.fname)\n",
    "print(E.__dict__)\n",
    "E.increment = 9\n",
    "print(E.__dict__)"
   ]
  },
  {
   "cell_type": "code",
   "execution_count": 79,
   "metadata": {
    "executionInfo": {
     "elapsed": 419,
     "status": "ok",
     "timestamp": 1654759272458,
     "user": {
      "displayName": "Diksha Soni",
      "userId": "00039680945596626387"
     },
     "user_tz": -330
    },
    "id": "tkYstYbHDdO6"
   },
   "outputs": [],
   "source": [
    "class Employee():\n",
    "\n",
    "  increment=1.5  ## class variable \n",
    "  no_of_employees = 0\n",
    "  def __init__(self,fname,lname, salary): ##  instance variable\n",
    "    self.fname= fname\n",
    "    self.lname= lname\n",
    "    self.salary= salary\n",
    "    Employee.no_of_employees+=1\n",
    "\n",
    "  def increment(self):\n",
    "     self.salary= int(self.salary * Employee.increment)  ## firstly function check the instance variable after they check the class variable  \n",
    "\n"
   ]
  },
  {
   "cell_type": "code",
   "execution_count": 80,
   "metadata": {
    "colab": {
     "base_uri": "https://localhost:8080/"
    },
    "executionInfo": {
     "elapsed": 412,
     "status": "ok",
     "timestamp": 1654759278033,
     "user": {
      "displayName": "Diksha Soni",
      "userId": "00039680945596626387"
     },
     "user_tz": -330
    },
    "id": "hN1FbL5aEEV0",
    "outputId": "cb34b53c-c8ad-45ae-a307-b8b22b34ce00"
   },
   "outputs": [
    {
     "name": "stdout",
     "output_type": "stream",
     "text": [
      "0\n",
      "1\n"
     ]
    }
   ],
   "source": [
    "print(Employee.no_of_employees)\n",
    "Diksha=Employee(\"Diksha\",\"Soni\",44000)\n",
    "print(Employee.no_of_employees)\n",
    "Soni=Employee(\"Sita\",\"Soni\",124000)"
   ]
  },
  {
   "cell_type": "code",
   "execution_count": 81,
   "metadata": {
    "colab": {
     "base_uri": "https://localhost:8080/"
    },
    "executionInfo": {
     "elapsed": 419,
     "status": "ok",
     "timestamp": 1654759280022,
     "user": {
      "displayName": "Diksha Soni",
      "userId": "00039680945596626387"
     },
     "user_tz": -330
    },
    "id": "qfjDqN6KD66A",
    "outputId": "1ba8f9c1-6a48-4440-8d9e-e1beaed3ec6c"
   },
   "outputs": [
    {
     "name": "stdout",
     "output_type": "stream",
     "text": [
      "2\n",
      "{'fname': 'Diksha', 'lname': 'Soni', 'salary': 44000, 'increment': 9}\n",
      "{'fname': 'Sita', 'lname': 'Soni', 'salary': 124000}\n"
     ]
    }
   ],
   "source": [
    "print(Employee.no_of_employees)\n",
    "Diksha.increment=9\n",
    "print(Diksha.__dict__)\n",
    "print(Soni.__dict__)"
   ]
  },
  {
   "cell_type": "markdown",
   "metadata": {
    "id": "nTgY3CX-FOoW"
   },
   "source": [
    "**Class Methods**"
   ]
  },
  {
   "cell_type": "code",
   "execution_count": 96,
   "metadata": {
    "executionInfo": {
     "elapsed": 471,
     "status": "ok",
     "timestamp": 1654759582598,
     "user": {
      "displayName": "Diksha Soni",
      "userId": "00039680945596626387"
     },
     "user_tz": -330
    },
    "id": "fRXg8UkNFUq2"
   },
   "outputs": [],
   "source": [
    "class Employee():\n",
    "\n",
    "  increment=1.5  ## class variable \n",
    "  no_of_employees = 0\n",
    "  def __init__(self,fname,lname, salary): ##  instance variable ## self use as a instance argument\n",
    "    self.fname= fname\n",
    "    self.lname= lname\n",
    "    self.salary= salary\n",
    "    Employee.no_of_employees+=1\n",
    "\n",
    "  def increase(self):\n",
    "    self.salary=int(self.salary * Employee.increment) \n",
    "\n",
    "  @classmethod\n",
    "  def change_increment(cls,amount): ## class method  as a argument like cls (@classmethod is a decorator) \n",
    "    #increment=9 \n",
    "    cls.increment = amount"
   ]
  },
  {
   "cell_type": "code",
   "execution_count": 97,
   "metadata": {
    "executionInfo": {
     "elapsed": 445,
     "status": "ok",
     "timestamp": 1654759583038,
     "user": {
      "displayName": "Diksha Soni",
      "userId": "00039680945596626387"
     },
     "user_tz": -330
    },
    "id": "lY1OOt8VFUoI"
   },
   "outputs": [],
   "source": [
    "Diksha=Employee(\"Diksha\",\"Soni\",44000)\n",
    "Soni=Employee(\"Sita\",\"Soni\",124000)"
   ]
  },
  {
   "cell_type": "code",
   "execution_count": 98,
   "metadata": {
    "colab": {
     "base_uri": "https://localhost:8080/"
    },
    "executionInfo": {
     "elapsed": 6,
     "status": "ok",
     "timestamp": 1654759584015,
     "user": {
      "displayName": "Diksha Soni",
      "userId": "00039680945596626387"
     },
     "user_tz": -330
    },
    "id": "-aWYHmX-FUlX",
    "outputId": "39cc8397-d197-4b49-ee8e-e1dbc5d58235"
   },
   "outputs": [
    {
     "name": "stdout",
     "output_type": "stream",
     "text": [
      "44000\n",
      "132000\n"
     ]
    }
   ],
   "source": [
    "print(Diksha.salary)\n",
    "Employee.change_increment(3)\n",
    "Diksha.increase()\n",
    "print(Diksha.salary)"
   ]
  },
  {
   "cell_type": "code",
   "execution_count": null,
   "metadata": {
    "id": "kcJVAIdMFUW8"
   },
   "outputs": [],
   "source": []
  },
  {
   "cell_type": "markdown",
   "metadata": {
    "id": "X9feb52GXvAb"
   },
   "source": [
    "**Class Methods As Alternative Constructor**"
   ]
  },
  {
   "cell_type": "code",
   "execution_count": 99,
   "metadata": {
    "executionInfo": {
     "elapsed": 437,
     "status": "ok",
     "timestamp": 1654766505747,
     "user": {
      "displayName": "Diksha Soni",
      "userId": "00039680945596626387"
     },
     "user_tz": -330
    },
    "id": "P2OAw0_xX3wF"
   },
   "outputs": [],
   "source": [
    "class Employee():\n",
    "\n",
    "  increment=1.5  ## class variable \n",
    "  no_of_employees = 0\n",
    "  def __init__(self,fname,lname, salary): ##  instance variable ## self use as a instance argument\n",
    "    self.fname= fname\n",
    "    self.lname= lname\n",
    "    self.salary= salary\n",
    "    Employee.no_of_employees+=1\n",
    "\n",
    "  def increase(self):\n",
    "    self.salary=int(self.salary * Employee.increment) \n",
    "\n",
    "  @classmethod\n",
    "  def change_increment(cls,amount): ## class method  as a argument like cls (@classmethod is a decorator) \n",
    "    #increment=9 \n",
    "    cls.increment = amount\n",
    "\n",
    "  @classmethod\n",
    "  def from_str(cls,emp_string):\n",
    "    fname,lname,salary=emp_string.split(\"-\")\n",
    "    return cls(fname,lname,salary)"
   ]
  },
  {
   "cell_type": "code",
   "execution_count": 100,
   "metadata": {
    "executionInfo": {
     "elapsed": 418,
     "status": "ok",
     "timestamp": 1654766556562,
     "user": {
      "displayName": "Diksha Soni",
      "userId": "00039680945596626387"
     },
     "user_tz": -330
    },
    "id": "b_BZ7AejX3tk"
   },
   "outputs": [],
   "source": [
    "Diksha=Employee(\"Diksha\",\"Soni\",44000)\n",
    "Soni=Employee(\"Sita\",\"Soni\",124000)\n",
    "preet=Employee(\"Preet\",\"puri\",52000)"
   ]
  },
  {
   "cell_type": "code",
   "execution_count": 101,
   "metadata": {
    "colab": {
     "base_uri": "https://localhost:8080/"
    },
    "executionInfo": {
     "elapsed": 415,
     "status": "ok",
     "timestamp": 1654766598716,
     "user": {
      "displayName": "Diksha Soni",
      "userId": "00039680945596626387"
     },
     "user_tz": -330
    },
    "id": "EoMHZGs3X3qg",
    "outputId": "304c7cde-0ffe-4c37-d8f8-a4ad677fe9c4"
   },
   "outputs": [
    {
     "name": "stdout",
     "output_type": "stream",
     "text": [
      "Preet\n"
     ]
    }
   ],
   "source": [
    "print(preet.fname)"
   ]
  },
  {
   "cell_type": "code",
   "execution_count": null,
   "metadata": {
    "id": "TKyiYeCNX3nw"
   },
   "outputs": [],
   "source": []
  },
  {
   "cell_type": "markdown",
   "metadata": {
    "id": "KdMgvDeIxwqR"
   },
   "source": [
    "**Static Method**"
   ]
  },
  {
   "cell_type": "code",
   "execution_count": 128,
   "metadata": {
    "executionInfo": {
     "elapsed": 392,
     "status": "ok",
     "timestamp": 1654768133976,
     "user": {
      "displayName": "Diksha Soni",
      "userId": "00039680945596626387"
     },
     "user_tz": -330
    },
    "id": "M2ntbWO6X3kR"
   },
   "outputs": [],
   "source": [
    "class Employee:\n",
    "  increment=1.5\n",
    "  no_of_employee=0\n",
    "  def __init__(self,fname,lname,salary):\n",
    "    self.fname=fname\n",
    "    self.lname=lname\n",
    "    self.salary=salary\n",
    "\n",
    "  def increase(self):\n",
    "    self.salary= int(self.salary*Employee.increment)\n",
    "\n",
    "  @classmethod\n",
    "  def change_salary(cls,amount):\n",
    "    cls.incrase=  amount\n",
    "\n",
    "  @staticmethod\n",
    "  def isopen(day):\n",
    "    if day==\"sunday\":\n",
    "      return False\n",
    "    else:\n",
    "       return True   \n",
    "\n",
    "a=Employee(\"Diksha\",\"Soni\",52000)\n",
    "b=Employee(\"Nancy\",\"Soni\",41000)    "
   ]
  },
  {
   "cell_type": "code",
   "execution_count": 129,
   "metadata": {
    "colab": {
     "base_uri": "https://localhost:8080/"
    },
    "executionInfo": {
     "elapsed": 6,
     "status": "ok",
     "timestamp": 1654768134358,
     "user": {
      "displayName": "Diksha Soni",
      "userId": "00039680945596626387"
     },
     "user_tz": -330
    },
    "id": "UvSczA-tzqOt",
    "outputId": "0a63590c-061b-41c6-93d1-c2f65012f671"
   },
   "outputs": [
    {
     "name": "stdout",
     "output_type": "stream",
     "text": [
      "False\n",
      "Diksha\n",
      "52000\n",
      "78000\n"
     ]
    }
   ],
   "source": [
    "print(Employee.isopen(\"sunday\"))\n",
    "print(a.fname)\n",
    "print(a.salary)\n",
    "Employee.change_salary(3)\n",
    "a.increase()\n",
    "print(a.salary)\n",
    "\n"
   ]
  },
  {
   "cell_type": "code",
   "execution_count": null,
   "metadata": {
    "colab": {
     "base_uri": "https://localhost:8080/"
    },
    "executionInfo": {
     "elapsed": 426,
     "status": "ok",
     "timestamp": 1654232026929,
     "user": {
      "displayName": "Diksha Soni",
      "userId": "00039680945596626387"
     },
     "user_tz": -330
    },
    "id": "JBNVDm80yvsH",
    "outputId": "7fe3fd29-449f-4e54-8c6c-c34fd93d45a6"
   },
   "outputs": [
    {
     "name": "stdout",
     "output_type": "stream",
     "text": [
      "PreetSoni\n",
      "PreetSoni salary is 56000\n",
      "PreetSoni is developer\n",
      "PreetSoni address is himachal Pradesh\n",
      "PreetSoni working in IT department\n"
     ]
    }
   ],
   "source": [
    "class Employees:\n",
    "\n",
    "  def __init__(self,e_firstname,e_lastname,e_salary,e_designation,e_address,e_department):\n",
    "    self.e_fn = e_firstname\n",
    "    self.e_ln = e_lastname\n",
    "    self.e_salry = e_salary\n",
    "    self.e_desg = e_designation\n",
    "    self.e_add = e_address\n",
    "    self.e_depart = e_department\n",
    "\n",
    "  def fullname(self):\n",
    "    return self.e_fn + self.e_ln\n",
    "\n",
    "  def  salary(self):\n",
    "    return (\"{}{} salary is {}\".format(self.e_fn,self.e_ln,self.e_salry))\n",
    "\n",
    "  def designation(self):\n",
    "      return(\"{}{} is {}\".format(self.e_fn,self.e_ln,self.e_desg)) \n",
    "\n",
    "  def  address(self):\n",
    "    return (\"{}{} address is {}\".format(self.e_fn,self.e_ln, self.e_add))\n",
    "\n",
    "  def department(self):\n",
    "     return (\"{}{} working in {}\".format(self.e_fn,self.e_ln,self.e_depart))   \n"
   ]
  },
  {
   "cell_type": "code",
   "execution_count": null,
   "metadata": {
    "id": "CmlMLoMPza_L"
   },
   "outputs": [],
   "source": [
    "employees_detail=Employees(\"Preet\",\"Soni\",\"56000\",\"developer\",\"himachal Pradesh\",\"IT department\")"
   ]
  },
  {
   "cell_type": "code",
   "execution_count": null,
   "metadata": {
    "colab": {
     "base_uri": "https://localhost:8080/"
    },
    "executionInfo": {
     "elapsed": 12,
     "status": "ok",
     "timestamp": 1654231970709,
     "user": {
      "displayName": "Diksha Soni",
      "userId": "00039680945596626387"
     },
     "user_tz": -330
    },
    "id": "j1ttq08f3CaX",
    "outputId": "51664bd5-bfa1-453e-ef70-98a710d4ce92"
   },
   "outputs": [
    {
     "name": "stdout",
     "output_type": "stream",
     "text": [
      "PreetSoni\n",
      "PreetSoni salary is 56000\n",
      "PreetSoni is developer\n",
      "PreetSoni address is himachal Pradesh\n",
      "PreetSoni working in IT department\n"
     ]
    }
   ],
   "source": [
    "print(employees_detail.fullname())\n",
    "print(employees_detail.salary())\n",
    "print(employees_detail.designation())\n",
    "print(employees_detail.address())\n",
    "print(employees_detail.department())"
   ]
  },
  {
   "cell_type": "code",
   "execution_count": null,
   "metadata": {
    "colab": {
     "base_uri": "https://localhost:8080/",
     "height": 366
    },
    "executionInfo": {
     "elapsed": 882,
     "status": "error",
     "timestamp": 1654661191409,
     "user": {
      "displayName": "Diksha Soni",
      "userId": "00039680945596626387"
     },
     "user_tz": -330
    },
    "id": "-byhEHgH3dwc",
    "outputId": "02e6d7aa-24e3-4dbe-9172-757627d983c5"
   },
   "outputs": [
    {
     "ename": "NameError",
     "evalue": "ignored",
     "output_type": "error",
     "traceback": [
      "\u001b[0;31m---------------------------------------------------------------------------\u001b[0m",
      "\u001b[0;31mNameError\u001b[0m                                 Traceback (most recent call last)",
      "\u001b[0;32m<ipython-input-3-ac477f70e296>\u001b[0m in \u001b[0;36m<module>\u001b[0;34m()\u001b[0m\n\u001b[1;32m     26\u001b[0m \u001b[0;34m\u001b[0m\u001b[0m\n\u001b[1;32m     27\u001b[0m \u001b[0ma\u001b[0m \u001b[0;34m=\u001b[0m \u001b[0mcalculator\u001b[0m\u001b[0;34m(\u001b[0m\u001b[0;36m4\u001b[0m\u001b[0;34m,\u001b[0m\u001b[0;36m5\u001b[0m\u001b[0;34m)\u001b[0m\u001b[0;34m\u001b[0m\u001b[0;34m\u001b[0m\u001b[0m\n\u001b[0;32m---> 28\u001b[0;31m \u001b[0mprint\u001b[0m\u001b[0;34m(\u001b[0m\u001b[0ma\u001b[0m\u001b[0;34m.\u001b[0m\u001b[0maddition\u001b[0m\u001b[0;34m(\u001b[0m\u001b[0;34m)\u001b[0m\u001b[0;34m)\u001b[0m\u001b[0;34m\u001b[0m\u001b[0;34m\u001b[0m\u001b[0m\n\u001b[0m\u001b[1;32m     29\u001b[0m \u001b[0mprint\u001b[0m\u001b[0;34m(\u001b[0m\u001b[0ma\u001b[0m\u001b[0;34m.\u001b[0m\u001b[0msubtraction\u001b[0m\u001b[0;34m(\u001b[0m\u001b[0;34m)\u001b[0m\u001b[0;34m)\u001b[0m\u001b[0;34m\u001b[0m\u001b[0;34m\u001b[0m\u001b[0m\n\u001b[1;32m     30\u001b[0m \u001b[0mprint\u001b[0m\u001b[0;34m(\u001b[0m\u001b[0ma\u001b[0m\u001b[0;34m.\u001b[0m\u001b[0mmultiplication\u001b[0m\u001b[0;34m(\u001b[0m\u001b[0;34m)\u001b[0m\u001b[0;34m)\u001b[0m\u001b[0;34m\u001b[0m\u001b[0;34m\u001b[0m\u001b[0m\n",
      "\u001b[0;32m<ipython-input-3-ac477f70e296>\u001b[0m in \u001b[0;36maddition\u001b[0;34m(self)\u001b[0m\n\u001b[1;32m      7\u001b[0m   \u001b[0;32mdef\u001b[0m \u001b[0maddition\u001b[0m\u001b[0;34m(\u001b[0m\u001b[0mself\u001b[0m\u001b[0;34m)\u001b[0m\u001b[0;34m:\u001b[0m\u001b[0;34m\u001b[0m\u001b[0;34m\u001b[0m\u001b[0m\n\u001b[1;32m      8\u001b[0m     \u001b[0mc\u001b[0m \u001b[0;34m=\u001b[0m \u001b[0mself\u001b[0m\u001b[0;34m.\u001b[0m\u001b[0ma\u001b[0m \u001b[0;34m+\u001b[0m \u001b[0mself\u001b[0m\u001b[0;34m.\u001b[0m \u001b[0mb\u001b[0m\u001b[0;34m\u001b[0m\u001b[0;34m\u001b[0m\u001b[0m\n\u001b[0;32m----> 9\u001b[0;31m     \u001b[0;32mreturn\u001b[0m \u001b[0ml1\u001b[0m\u001b[0;34m.\u001b[0m\u001b[0mappend\u001b[0m\u001b[0;34m(\u001b[0m\u001b[0mc\u001b[0m\u001b[0;34m)\u001b[0m\u001b[0;34m\u001b[0m\u001b[0;34m\u001b[0m\u001b[0m\n\u001b[0m\u001b[1;32m     10\u001b[0m \u001b[0;34m\u001b[0m\u001b[0m\n\u001b[1;32m     11\u001b[0m   \u001b[0;32mdef\u001b[0m \u001b[0msubtraction\u001b[0m\u001b[0;34m(\u001b[0m\u001b[0mself\u001b[0m\u001b[0;34m)\u001b[0m\u001b[0;34m:\u001b[0m\u001b[0;34m\u001b[0m\u001b[0;34m\u001b[0m\u001b[0m\n",
      "\u001b[0;31mNameError\u001b[0m: name 'l1' is not defined"
     ]
    }
   ],
   "source": [
    "class calculator:\n",
    "  l1= []\n",
    "  def __init__(self, a = int, b = int):\n",
    "    self.a = a\n",
    "    self.b = b\n",
    "\n",
    "  def addition(self):\n",
    "    c = self.a + self. b\n",
    "    return l1.append(c)\n",
    "\n",
    "  def subtraction(self):\n",
    "    d = self.a - self.b\n",
    "    return l1.append(d)\n",
    "\n",
    "  def multiplication(self):\n",
    "    e = self.a * self.b\n",
    "    return l1.append(e)\n",
    "\n",
    "  def division(self):\n",
    "    f = self.a / self.b\n",
    "    return l1.append(f)\n",
    "\n",
    "  \n",
    "\n",
    "# calling \n",
    "\n",
    "a = calculator(4,5)\n",
    "print(a.addition())\n",
    "print(a.subtraction())\n",
    "print(a.multiplication())\n",
    "print(a.division())"
   ]
  },
  {
   "cell_type": "code",
   "execution_count": null,
   "metadata": {
    "colab": {
     "base_uri": "https://localhost:8080/"
    },
    "executionInfo": {
     "elapsed": 433,
     "status": "ok",
     "timestamp": 1654233636158,
     "user": {
      "displayName": "Diksha Soni",
      "userId": "00039680945596626387"
     },
     "user_tz": -330
    },
    "id": "jJ1vn5dB7EmU",
    "outputId": "6a25e98f-b3ed-4f21-fec6-a91ec33881a8"
   },
   "outputs": [
    {
     "name": "stdout",
     "output_type": "stream",
     "text": [
      "green parrot singing song abc\n",
      "green parrot is now dancing\n",
      "green parrot is 3 years old\n"
     ]
    }
   ],
   "source": [
    "class Parrot:\n",
    "   \n",
    "    def __init__(self, name,age,song):\n",
    "        self.name = name\n",
    "        self.age = age\n",
    "        self.song = song\n",
    "    \n",
    "    \n",
    "    def sing(self):\n",
    "        return \"{} singing song {}\".format(self.name,self.song)\n",
    "\n",
    "    def dance(self):\n",
    "        return \"{} is now dancing\".format(self.name)\n",
    "\n",
    "    def bio(self):\n",
    "       return \"{} is {} years old\".format(self.name,self.age)    \n",
    "\n",
    "\n",
    "b = Parrot(\"green parrot\", \"3\",\"abc\")\n",
    "\n",
    "\n",
    "print(b.sing())\n",
    "print(b.dance())\n",
    "print(b.bio())\n"
   ]
  },
  {
   "cell_type": "code",
   "execution_count": null,
   "metadata": {
    "colab": {
     "base_uri": "https://localhost:8080/"
    },
    "executionInfo": {
     "elapsed": 897,
     "status": "ok",
     "timestamp": 1654234153142,
     "user": {
      "displayName": "Diksha Soni",
      "userId": "00039680945596626387"
     },
     "user_tz": -330
    },
    "id": "8NLMnK3bBJuc",
    "outputId": "38527917-9f80-46df-ed73-fb2389028e00"
   },
   "outputs": [
    {
     "name": "stdout",
     "output_type": "stream",
     "text": [
      "Area of circle:- 78.5\n",
      "Perimeter of Circle:- 31.400000000000002\n"
     ]
    }
   ],
   "source": [
    "class Circle():\n",
    "\n",
    "    def __init__(self, r):\n",
    "        self.radius = r\n",
    "\n",
    "    def area(self):\n",
    "        return self.radius**2*3.14\n",
    "    \n",
    "    def perimeter(self):\n",
    "        return 2*self.radius*3.14\n",
    "\n",
    "NewCircle = Circle(5)\n",
    "print(\"Area of circle:-\",NewCircle.area())\n",
    "print(\"Perimeter of Circle:-\",NewCircle.perimeter())"
   ]
  },
  {
   "cell_type": "code",
   "execution_count": null,
   "metadata": {
    "colab": {
     "base_uri": "https://localhost:8080/"
    },
    "executionInfo": {
     "elapsed": 400,
     "status": "ok",
     "timestamp": 1654239469882,
     "user": {
      "displayName": "Diksha Soni",
      "userId": "00039680945596626387"
     },
     "user_tz": -330
    },
    "id": "_fAKWP-wByu6",
    "outputId": "8497f0e7-b115-42f6-f236-f43c35816e79"
   },
   "outputs": [
    {
     "name": "stdout",
     "output_type": "stream",
     "text": [
      "Account Number :  2178514584\n",
      "Account Name :  Albert\n",
      "Account Balance :  2600  rs\n"
     ]
    }
   ],
   "source": [
    "#Your code here\n",
    "class BankAccount:\n",
    "    # create the constuctor with parameters: accountNumber, name and balance \n",
    "    def __init__(self,accountNumber, name, balance):\n",
    "        self.accountNumber = accountNumber\n",
    "        self.name = name\n",
    "        self.balance = balance\n",
    "        \n",
    "    # create Deposit() method\n",
    "    def Deposit(self , d ):\n",
    "        self.balance = self.balance + d\n",
    "    \n",
    "    # create Withdrawal method\n",
    "    def Withdrawal(self , w):\n",
    "        if(self.balance < w):\n",
    "            print(\"impossible operation! Insufficient balance !\")\n",
    "        else:\n",
    "            self.balance = self.balance - w\n",
    "    # create bankFees() method\n",
    "    def bankFees(self):\n",
    "        self.balance = (95/100)*self.balance\n",
    "        \n",
    "    # create display() method\n",
    "    def display(self):\n",
    "        print(\"Account Number : \" , self.accountNumber)\n",
    "        print(\"Account Name : \" , self.name)\n",
    "        print(\"Account Balance : \" , self.balance , \" rs\")\n",
    "        \n",
    "# Testing the code :\n",
    "newAccount = BankAccount(2178514584, \"Albert\" , 2700)\n",
    "#Creating Withdrawal Test\n",
    "newAccount.Withdrawal(300)\n",
    "# Create deposit test\n",
    "newAccount.Deposit(200)\n",
    "#Display account informations\n",
    "newAccount.display()"
   ]
  },
  {
   "cell_type": "code",
   "execution_count": 130,
   "metadata": {
    "colab": {
     "base_uri": "https://localhost:8080/"
    },
    "executionInfo": {
     "elapsed": 457,
     "status": "ok",
     "timestamp": 1654768442280,
     "user": {
      "displayName": "Diksha Soni",
      "userId": "00039680945596626387"
     },
     "user_tz": -330
    },
    "id": "soul1jq4Dfi2",
    "outputId": "6efe43e8-eb7c-4880-a2c5-07fd0216d41a"
   },
   "outputs": [
    {
     "name": "stdout",
     "output_type": "stream",
     "text": [
      "preetSoni\n",
      "my name is preetSonimy department is IT\n"
     ]
    }
   ],
   "source": [
    "class Student:\n",
    "    # Constructor\n",
    "    def __init__(self, firstname,lastname, rollno, department,semester,course):\n",
    "        self.fname = firstname\n",
    "        self.lname = lastname\n",
    "        self.rollno = rollno\n",
    "        self.department = department\n",
    "        self.semester = semester\n",
    "        self.course = course\n",
    "\n",
    "    def  fullname(self): \n",
    "      return  self.fname + self.lname\n",
    "\n",
    "    def identity(self):\n",
    "      return \"my name is {}{}my department is {}\".format(self.fname, self.lname, self.department)\n",
    "\n",
    "    def course(self):\n",
    "      return\"{}{} choose {} course and her rollno is{} \".format(self.fname, self.lname, self.course,self.roll)\n",
    "\n",
    "    def semester(self):\n",
    "        return\"{} {}in {}department or her semester is{}\".format(self.fname, self.lname, self.department,self.semester) \n",
    "                  \n",
    "stud_detail=Student(\"preet\",\"Soni\",101,\"IT\",\"4th\",\"Computer science\")\n",
    "print(stud_detail.fullname())\n",
    "print(stud_detail.identity())     \n",
    "  \n",
    "\n"
   ]
  },
  {
   "cell_type": "code",
   "execution_count": null,
   "metadata": {
    "id": "bEMsZUiCJ6io"
   },
   "outputs": [],
   "source": [
    "class DataConverters:\n",
    "\n",
    "  def __init__(self, list_data):\n",
    "    self.l = list_data\n",
    "\n",
    "  def int_to_str(self):\n",
    "    return list(map(str, self.l))"
   ]
  },
  {
   "cell_type": "code",
   "execution_count": null,
   "metadata": {
    "id": "UNFjQwW2Ot1o"
   },
   "outputs": [],
   "source": [
    "g = DataConverters([12, 23, 34, 45])"
   ]
  },
  {
   "cell_type": "code",
   "execution_count": null,
   "metadata": {
    "colab": {
     "base_uri": "https://localhost:8080/"
    },
    "executionInfo": {
     "elapsed": 5,
     "status": "ok",
     "timestamp": 1654237376210,
     "user": {
      "displayName": "Diksha Soni",
      "userId": "00039680945596626387"
     },
     "user_tz": -330
    },
    "id": "Prt4mxAfOujb",
    "outputId": "134b6f6c-8142-4e16-a837-e4333256e62a"
   },
   "outputs": [
    {
     "data": {
      "text/plain": [
       "['12', '23', '34', '45']"
      ]
     },
     "execution_count": 76,
     "metadata": {},
     "output_type": "execute_result"
    }
   ],
   "source": [
    "g.int_to_str()"
   ]
  },
  {
   "cell_type": "code",
   "execution_count": null,
   "metadata": {
    "id": "lPDhs8sTOwS7"
   },
   "outputs": [],
   "source": [
    "class Colleges:\n",
    " \n",
    "    def __init__(self, rank, name, place, tuition_fee, country):\n",
    "        self.rank = rank\n",
    "        self.name = name\n",
    "        self.place = place\n",
    "        self.fee = tuition_fee\n",
    "        self.country = country\n",
    "\n",
    "    def rank_of_college(self):\n",
    "        return self.rank\n",
    "\n",
    "    def name_and_place(self):\n",
    "        return self.name + \", \" + self.place + \", \" + self.country\n",
    "\n",
    "    def tuition_fees(self):\n",
    "        return self.fee"
   ]
  },
  {
   "cell_type": "code",
   "execution_count": null,
   "metadata": {
    "id": "RCe4HzdvXdZ3"
   },
   "outputs": [],
   "source": [
    "c = Colleges(\"A\",\"Himachal Pradesh technical university\",\"HP\",\"5000\",\"india\")"
   ]
  },
  {
   "cell_type": "code",
   "execution_count": null,
   "metadata": {
    "colab": {
     "base_uri": "https://localhost:8080/"
    },
    "executionInfo": {
     "elapsed": 6,
     "status": "ok",
     "timestamp": 1654239911449,
     "user": {
      "displayName": "Diksha Soni",
      "userId": "00039680945596626387"
     },
     "user_tz": -330
    },
    "id": "wOUm0eQ0X3Cu",
    "outputId": "ebaf645f-519a-48eb-a972-06a416cabbaa"
   },
   "outputs": [
    {
     "name": "stdout",
     "output_type": "stream",
     "text": [
      "Rank of college is:- A\n",
      "Name and place of college:- Himachal Pradesh technical university, HP, india\n",
      "College tution fees:- 5000\n"
     ]
    }
   ],
   "source": [
    "print(\"Rank of college is:-\",c.rank_of_college())\n",
    "print(\"Name and place of college:-\",c.name_and_place())\n",
    "print(\"College tution fees:-\",c.tuition_fees())\n"
   ]
  },
  {
   "cell_type": "code",
   "execution_count": null,
   "metadata": {
    "colab": {
     "base_uri": "https://localhost:8080/",
     "height": 36
    },
    "executionInfo": {
     "elapsed": 436,
     "status": "ok",
     "timestamp": 1654240114939,
     "user": {
      "displayName": "Diksha Soni",
      "userId": "00039680945596626387"
     },
     "user_tz": -330
    },
    "id": "I47DxA20YIFB",
    "outputId": "501c6cb9-5291-456a-a3d8-374854d9ba80"
   },
   "outputs": [
    {
     "data": {
      "application/vnd.google.colaboratory.intrinsic+json": {
       "type": "string"
      },
      "text/plain": [
       "'not awesome'"
      ]
     },
     "execution_count": 106,
     "metadata": {},
     "output_type": "execute_result"
    }
   ],
   "source": [
    "class Food:\n",
    "    def __init__(self, food_type):\n",
    "        self.food_type = food_type\n",
    "        \n",
    "        self.set_awesomeness()\n",
    "    \n",
    "    def is_awesome():\n",
    "        return 'is awesome'\n",
    "\n",
    "    def not_awesome():\n",
    "        return 'not awesome'\n",
    "\n",
    "    # Point to the wanted behavior\n",
    "    def set_awesomeness(self):\n",
    "        if self.food_type == 'cookie':\n",
    "            self.awesomeness = Food.is_awesome()\n",
    "        else:\n",
    "            self.awesomeness = Food.not_awesome()\n",
    "\n",
    "    def get_awesomeness(self):\n",
    "        return self.awesomeness\n",
    "    \n",
    "cookie = Food('cookie')\n",
    "cookie.get_awesomeness() # 'is awesome'\n",
    "\n",
    "donut = Food('donut')\n",
    "donut.get_awesomeness() # 'not awesome'"
   ]
  },
  {
   "cell_type": "code",
   "execution_count": null,
   "metadata": {
    "colab": {
     "base_uri": "https://localhost:8080/",
     "height": 36
    },
    "executionInfo": {
     "elapsed": 407,
     "status": "ok",
     "timestamp": 1654240332131,
     "user": {
      "displayName": "Diksha Soni",
      "userId": "00039680945596626387"
     },
     "user_tz": -330
    },
    "id": "nifyGVTNY1pg",
    "outputId": "db466620-f396-435a-8e1e-65e24b41b47e"
   },
   "outputs": [
    {
     "data": {
      "application/vnd.google.colaboratory.intrinsic+json": {
       "type": "string"
      },
      "text/plain": [
       "'is awesome'"
      ]
     },
     "execution_count": 108,
     "metadata": {},
     "output_type": "execute_result"
    }
   ],
   "source": [
    "class Food:\n",
    "    def __init__(self,food_type):\n",
    "        self.food_type = food_type\n",
    "\n",
    "    def is_awesome(self):\n",
    "         if self.food_type == 'cookie':\n",
    "            return \"is awesome\"\n",
    "         else:\n",
    "            return \"not awesome\"\n",
    "\n",
    "\n",
    "Oreo = Food('cookie')\n",
    "Oreo.is_awesome()"
   ]
  },
  {
   "cell_type": "code",
   "execution_count": null,
   "metadata": {
    "colab": {
     "base_uri": "https://localhost:8080/"
    },
    "executionInfo": {
     "elapsed": 475,
     "status": "ok",
     "timestamp": 1654247261604,
     "user": {
      "displayName": "Diksha Soni",
      "userId": "00039680945596626387"
     },
     "user_tz": -330
    },
    "id": "gJLRo4uizozM",
    "outputId": "2cd1174b-5505-4a78-c33a-003a8c95f29b"
   },
   "outputs": [
    {
     "name": "stdout",
     "output_type": "stream",
     "text": [
      "Author Name:  Eyong Kevin\n",
      "Article Title:  Python Classes and Objects\n",
      "Page Count:  3000\n",
      "------------------ \n",
      "\n",
      "Python Classes and Objects\n"
     ]
    }
   ],
   "source": [
    "class Article:\n",
    "    def __init__(self, title, page_count):\n",
    "        # initialize protected attributes\n",
    "        self._title = title\n",
    "        self._page_count = page_count\n",
    "         \n",
    "    # define protected method\n",
    "    def _show(self):\n",
    "        # access protected attributes inside class \n",
    "        print(\"Article Title: \", self._title)\n",
    "        print(\"Page Count: \", self._page_count)\n",
    "         \n",
    "class Author(Article):\n",
    "    def __init__(self, name, title, page_count):\n",
    "        Article.__init__(self, title, page_count)\n",
    "        self.name = name\n",
    "    def display(self):\n",
    "        print(\"Author Name: \", self.name)\n",
    "        # access Article's protected method\n",
    "        self._show()\n",
    "        print(\"------------------ \\n\")\n",
    "         \n",
    "         \n",
    "author = Author(\"Eyong Kevin\", \"Python Classes and Objects\", 3000)\n",
    "author.display()\n",
    "# access protected data"
   ]
  },
  {
   "cell_type": "code",
   "execution_count": null,
   "metadata": {
    "id": "kgCHXoi_0gDu"
   },
   "outputs": [],
   "source": [
    "class Article:\n",
    "    def __init__(self, title, page_count):\n",
    "        self._title = title\n",
    "        self._page_count = page_count\n",
    "    \n",
    "    def _show(self):\n",
    "        print(\"Article Title: \", self._title)\n",
    "        print(\"Page Count: \", self._page_count)\n",
    "         \n",
    "class Author(Article):\n",
    "    def __init__(self, name, title, page_count):\n",
    "        Article.__init__(self, title, page_count)\n",
    "        self.name = name\n",
    "    def display(self):\n",
    "        print(\"Author Name: \", self.name)\n",
    "        # access Article's protected method\n",
    "        self._show()\n",
    "        print(\"------------------ \\n\")\n",
    "         \n",
    "         \n",
    "author = Author(\"Eyong Kevin\", \"Python Classes and Objects\", 3000)\n",
    "author.display()\n",
    "# access protected data"
   ]
  },
  {
   "cell_type": "code",
   "execution_count": null,
   "metadata": {
    "colab": {
     "base_uri": "https://localhost:8080/"
    },
    "executionInfo": {
     "elapsed": 404,
     "status": "ok",
     "timestamp": 1654247501679,
     "user": {
      "displayName": "Diksha Soni",
      "userId": "00039680945596626387"
     },
     "user_tz": -330
    },
    "id": "VV1dO9Hu1P-_",
    "outputId": "0ce10ca1-69ea-4b21-d90d-4e0e9515e87c"
   },
   "outputs": [
    {
     "name": "stdout",
     "output_type": "stream",
     "text": [
      "Deku is a character of My hero academia series which is in top 5 ranking.\n"
     ]
    }
   ],
   "source": [
    "class Anime:\n",
    "\n",
    "  def __init__(self,character,series):\n",
    "\n",
    "    self.ch = character\n",
    "\n",
    "    self.se = series\n",
    "\n",
    "\n",
    "\n",
    "  def ranking(self):\n",
    "\n",
    "    if self.se in [\"One piece\",\"Naruto\",\"Bleach\",\"DBS\",\"My hero academia\"]:\n",
    "\n",
    "      print(\"{} is a character of {} series which is in top 5 ranking.\".format(self.ch,self.se))\n",
    "\n",
    "    elif self.se in [\"7 deadly sins\",\"Death Note\",\"Tokyo goual\",\"Jujutsu kaiosin\",\"Spy family\"]:\n",
    "\n",
    "      print(\"{} is a character of {} series which is in top 10 ranking.\".format(self.ch,self.se))\n",
    "\n",
    "    else:\n",
    "\n",
    "      print(\"{} is a character of {} series which has no rank yet.\".format(self.ch,self.se))\n",
    "\n",
    "A = Anime('Deku','My hero academia')\n",
    "\n",
    "A.ranking()"
   ]
  },
  {
   "cell_type": "code",
   "execution_count": null,
   "metadata": {
    "id": "iUOtsPtG1aZH"
   },
   "outputs": [],
   "source": []
  },
  {
   "cell_type": "markdown",
   "metadata": {
    "id": "V5SfcU427pIb"
   },
   "source": [
    "***Inheritance:-Inheritance allows us to define a class that inherits all the methods and properties from another class.***"
   ]
  },
  {
   "cell_type": "code",
   "execution_count": null,
   "metadata": {
    "id": "cru-Xons7rz1"
   },
   "outputs": [],
   "source": [
    "parent class(   base  class   )\n",
    "\n",
    "child class(   derived class   )"
   ]
  },
  {
   "cell_type": "code",
   "execution_count": 147,
   "metadata": {
    "colab": {
     "base_uri": "https://localhost:8080/"
    },
    "executionInfo": {
     "elapsed": 402,
     "status": "ok",
     "timestamp": 1654770415060,
     "user": {
      "displayName": "Diksha Soni",
      "userId": "00039680945596626387"
     },
     "user_tz": -330
    },
    "id": "pLIbJW_y41XG",
    "outputId": "01545f94-c89c-4aef-c514-335d6bca331e"
   },
   "outputs": [
    {
     "name": "stdout",
     "output_type": "stream",
     "text": [
      "2yrs\n",
      "52000\n",
      "None\n"
     ]
    }
   ],
   "source": [
    "class Employee:\n",
    "  increment=0.5\n",
    "  def __init__(self,fname,lname,salary):\n",
    "    self.fname=fname\n",
    "    self.lname=lname\n",
    "    self.salary=salary\n",
    "\n",
    "class Programmer(Employee):\n",
    "  \n",
    "  def __init__(self,fname,lname,salary,prolang,exp):\n",
    "    super().__init__(fname,lname,salary)\n",
    "    self.prolang = prolang\n",
    "    self.exp = exp\n",
    "\n",
    "  def increase(self):\n",
    "    self.salary=int(self.salary* (self.increment+0.2))\n",
    "    #return self.salary\n",
    "p = Programmer(\"Diksha\",\"Soni\",52000,\"Data scientist\",\"2yrs\")   ## Object of Programmer\n",
    "print(p.exp)\n",
    "print(p.salary)\n",
    "print(p.increase())  ## its print none because they dont return the function they return the value of function.\n",
    "help(Programmer)\n",
    "    "
   ]
  },
  {
   "cell_type": "code",
   "execution_count": null,
   "metadata": {
    "id": "JU5Ns36472ND"
   },
   "outputs": [],
   "source": [
    "class GlobalWarming:\n",
    "\n",
    "  def __init__(self, country, city, latitude, longitude):\n",
    "    self.country = country\n",
    "    self.city = city\n",
    "    self.lat = latitude\n",
    "    self.lon = longitude\n",
    "\n",
    "  def statement(self):\n",
    "    self.new = \"{} in {} tops global warming rate\".format(self.city, self.country)\n",
    "    return self.new \n",
    "\n",
    "# properties: self.country, self.city, self.lat, self.lon\n",
    "# methods: statement"
   ]
  },
  {
   "cell_type": "code",
   "execution_count": null,
   "metadata": {
    "id": "GE11jaqc74v6"
   },
   "outputs": [],
   "source": [
    "gw = GlobalWarming(\"USA\", \"Chicago\", 98.2, 98.1)"
   ]
  },
  {
   "cell_type": "code",
   "execution_count": null,
   "metadata": {
    "id": "LsYt06B876qF"
   },
   "outputs": [],
   "source": [
    "class Environment(GlobalWarming):\n",
    "  pass"
   ]
  },
  {
   "cell_type": "code",
   "execution_count": null,
   "metadata": {
    "id": "ZMhAsFdB78cP"
   },
   "outputs": [],
   "source": [
    "ev = Environment(\"India\", \"Newdelhi\", 98.2, 98.1)"
   ]
  },
  {
   "cell_type": "code",
   "execution_count": null,
   "metadata": {
    "colab": {
     "base_uri": "https://localhost:8080/",
     "height": 36
    },
    "executionInfo": {
     "elapsed": 16,
     "status": "ok",
     "timestamp": 1654249246719,
     "user": {
      "displayName": "Diksha Soni",
      "userId": "00039680945596626387"
     },
     "user_tz": -330
    },
    "id": "Ct4pP6vV7-sl",
    "outputId": "93982451-d4ce-45fd-9499-c72d29f5b64c"
   },
   "outputs": [
    {
     "data": {
      "application/vnd.google.colaboratory.intrinsic+json": {
       "type": "string"
      },
      "text/plain": [
       "'Newdelhi in India tops global warming rate'"
      ]
     },
     "execution_count": 119,
     "metadata": {},
     "output_type": "execute_result"
    }
   ],
   "source": [
    "ev.statement()"
   ]
  },
  {
   "cell_type": "code",
   "execution_count": null,
   "metadata": {
    "colab": {
     "base_uri": "https://localhost:8080/"
    },
    "executionInfo": {
     "elapsed": 12,
     "status": "ok",
     "timestamp": 1654249427679,
     "user": {
      "displayName": "Diksha Soni",
      "userId": "00039680945596626387"
     },
     "user_tz": -330
    },
    "id": "BxzrH_338EmU",
    "outputId": "f4c447c6-c72c-4be9-9a25-e1eb09de415d"
   },
   "outputs": [
    {
     "name": "stdout",
     "output_type": "stream",
     "text": [
      "abcd False\n",
      "efgh True\n"
     ]
    }
   ],
   "source": [
    "class Person(object):\n",
    "      \n",
    "    # Constructor\n",
    "    def __init__(self, name):\n",
    "        self.name = name\n",
    "  \n",
    "    # To get name\n",
    "    def getName(self):\n",
    "        return self.name\n",
    "  \n",
    "    # To check if this person is an employee\n",
    "    def isEmployee(self):\n",
    "        return False\n",
    "  \n",
    "  \n",
    "# Inherited or Subclass (Note Person in bracket)\n",
    "class Employee(Person):\n",
    "  \n",
    "    # Here we return true\n",
    "    def isEmployee(self):\n",
    "        return True\n",
    "  \n",
    "# Driver code\n",
    "emp = Person(\"abcd\")  # An Object of Person\n",
    "print(emp.getName(), emp.isEmployee())\n",
    "  \n",
    "emp = Employee(\"efgh\") # An Object of Employee\n",
    "print(emp.getName(), emp.isEmployee())"
   ]
  },
  {
   "cell_type": "code",
   "execution_count": null,
   "metadata": {
    "colab": {
     "base_uri": "https://localhost:8080/",
     "height": 36
    },
    "executionInfo": {
     "elapsed": 11,
     "status": "ok",
     "timestamp": 1654344675542,
     "user": {
      "displayName": "Diksha Soni",
      "userId": "00039680945596626387"
     },
     "user_tz": -330
    },
    "id": "rOoazYdT8wwn",
    "outputId": "76c42f71-8257-486e-f408-a7bfbe14e42d"
   },
   "outputs": [
    {
     "data": {
      "application/vnd.google.colaboratory.intrinsic+json": {
       "type": "string"
      },
      "text/plain": [
       "'the name of employee isSIta puri.he/she is developer'"
      ]
     },
     "execution_count": 4,
     "metadata": {},
     "output_type": "execute_result"
    }
   ],
   "source": [
    "class Employee:\n",
    "\n",
    "  def __init__(self,fname,lname,designation,salary):\n",
    "    self.fname=fname\n",
    "    self.lname=lname\n",
    "    self.desg= designation\n",
    "    self.salary= salary\n",
    "\n",
    "  def details(self):\n",
    "    self.new=\"The name of employee is {} {}.he/she is {}\".format(self.fname,self.lname,self.desg)\n",
    "    return self.new\n",
    "e=Employee(\"SIta\",\"puri\",\"developer\",45000)\n",
    "e.details()    \n",
    "\n"
   ]
  },
  {
   "cell_type": "code",
   "execution_count": null,
   "metadata": {
    "colab": {
     "base_uri": "https://localhost:8080/",
     "height": 36
    },
    "executionInfo": {
     "elapsed": 6,
     "status": "ok",
     "timestamp": 1654344808181,
     "user": {
      "displayName": "Diksha Soni",
      "userId": "00039680945596626387"
     },
     "user_tz": -330
    },
    "id": "I0sQ53_Ynloc",
    "outputId": "b7223b1c-27a5-4438-a8a3-974c59dd0485"
   },
   "outputs": [
    {
     "data": {
      "application/vnd.google.colaboratory.intrinsic+json": {
       "type": "string"
      },
      "text/plain": [
       "'the name of employee isSIta puri.he/she is developer'"
      ]
     },
     "execution_count": 6,
     "metadata": {},
     "output_type": "execute_result"
    }
   ],
   "source": [
    "class Student(Employee):\n",
    "  pass\n",
    "e= Student(\"SIta\",\"puri\",\"developer\",45000)\n",
    "e.details()    "
   ]
  },
  {
   "cell_type": "markdown",
   "metadata": {
    "id": "I8_3bYyIq-AK"
   },
   "source": [
    "**step-1**"
   ]
  },
  {
   "cell_type": "code",
   "execution_count": null,
   "metadata": {
    "id": "vIAbYeR_n2wU"
   },
   "outputs": [],
   "source": [
    "class GlobalWarming:\n",
    "\n",
    "  def __init__(self, country, city, latitude, longitude):\n",
    "    self.country = country\n",
    "    self.city = city\n",
    "    self.lat = latitude\n",
    "    self.lon = longitude\n",
    "\n",
    "  def statement(self):\n",
    "    self.new = \"{} in {} tops global warming rate\".format(self.city, self.country)\n",
    "    return self.new \n",
    "\n",
    "# properties: self.country, self.city, self.lat, self.lon\n",
    "# methods: statement"
   ]
  },
  {
   "cell_type": "code",
   "execution_count": null,
   "metadata": {
    "id": "Rm3Bw6MZpN66"
   },
   "outputs": [],
   "source": [
    "gw = GlobalWarming(\"USA\", \"Chicago\", 98.2, 98.1)"
   ]
  },
  {
   "cell_type": "code",
   "execution_count": null,
   "metadata": {
    "colab": {
     "base_uri": "https://localhost:8080/",
     "height": 36
    },
    "executionInfo": {
     "elapsed": 10,
     "status": "ok",
     "timestamp": 1654345101231,
     "user": {
      "displayName": "Diksha Soni",
      "userId": "00039680945596626387"
     },
     "user_tz": -330
    },
    "id": "ZTM_7bHdpiyh",
    "outputId": "bbb234ea-f326-40da-80f8-dfcc0b020f1e"
   },
   "outputs": [
    {
     "data": {
      "application/vnd.google.colaboratory.intrinsic+json": {
       "type": "string"
      },
      "text/plain": [
       "'Chicago in USA tops global warming rate'"
      ]
     },
     "execution_count": 10,
     "metadata": {},
     "output_type": "execute_result"
    }
   ],
   "source": [
    "gw.statement()"
   ]
  },
  {
   "cell_type": "code",
   "execution_count": null,
   "metadata": {
    "colab": {
     "base_uri": "https://localhost:8080/",
     "height": 36
    },
    "executionInfo": {
     "elapsed": 437,
     "status": "ok",
     "timestamp": 1654345102166,
     "user": {
      "displayName": "Diksha Soni",
      "userId": "00039680945596626387"
     },
     "user_tz": -330
    },
    "id": "ADJu7mPzplUI",
    "outputId": "962dfd60-7fa1-4233-8757-9906d27dc1b8"
   },
   "outputs": [
    {
     "data": {
      "application/vnd.google.colaboratory.intrinsic+json": {
       "type": "string"
      },
      "text/plain": [
       "'Newdelhi in India tops global warming rate'"
      ]
     },
     "execution_count": 11,
     "metadata": {},
     "output_type": "execute_result"
    }
   ],
   "source": [
    "class Environment(GlobalWarming):\n",
    "  pass\n",
    "ev = Environment(\"India\", \"Newdelhi\", 98.2, 98.1)\n",
    "ev.statement()  "
   ]
  },
  {
   "cell_type": "markdown",
   "metadata": {
    "id": "7msiOmsup-yM"
   },
   "source": [
    "**step-2**"
   ]
  },
  {
   "cell_type": "code",
   "execution_count": null,
   "metadata": {
    "id": "D9VU3P_SqB1p"
   },
   "outputs": [],
   "source": [
    "class Environment(GlobalWarming):\n",
    "  def __init__(self, country, city, latitude, longitude):\n",
    "    self.m = country\n",
    "    #props"
   ]
  },
  {
   "cell_type": "code",
   "execution_count": null,
   "metadata": {
    "id": "jshIpt0rqGt9"
   },
   "outputs": [],
   "source": [
    "mn = Environment(\"India\", \"Newdelhi\", 98.2, 98.1)\n",
    "\n",
    "# when  u define a __init__ method in child class, child class is not inheriting __init__ function of parent class."
   ]
  },
  {
   "cell_type": "code",
   "execution_count": null,
   "metadata": {
    "colab": {
     "base_uri": "https://localhost:8080/",
     "height": 295
    },
    "executionInfo": {
     "elapsed": 430,
     "status": "error",
     "timestamp": 1654345227456,
     "user": {
      "displayName": "Diksha Soni",
      "userId": "00039680945596626387"
     },
     "user_tz": -330
    },
    "id": "hpWQTzjuqIjz",
    "outputId": "6364a1c5-b5d8-4066-bc91-d06790b09b8a"
   },
   "outputs": [
    {
     "ename": "AttributeError",
     "evalue": "ignored",
     "output_type": "error",
     "traceback": [
      "\u001b[0;31m---------------------------------------------------------------------------\u001b[0m",
      "\u001b[0;31mAttributeError\u001b[0m                            Traceback (most recent call last)",
      "\u001b[0;32m<ipython-input-14-960623a25fbc>\u001b[0m in \u001b[0;36m<module>\u001b[0;34m()\u001b[0m\n\u001b[0;32m----> 1\u001b[0;31m \u001b[0mmn\u001b[0m\u001b[0;34m.\u001b[0m\u001b[0mstatement\u001b[0m\u001b[0;34m(\u001b[0m\u001b[0;34m)\u001b[0m\u001b[0;34m\u001b[0m\u001b[0;34m\u001b[0m\u001b[0m\n\u001b[0m",
      "\u001b[0;32m<ipython-input-8-170c242e6adf>\u001b[0m in \u001b[0;36mstatement\u001b[0;34m(self)\u001b[0m\n\u001b[1;32m      8\u001b[0m \u001b[0;34m\u001b[0m\u001b[0m\n\u001b[1;32m      9\u001b[0m   \u001b[0;32mdef\u001b[0m \u001b[0mstatement\u001b[0m\u001b[0;34m(\u001b[0m\u001b[0mself\u001b[0m\u001b[0;34m)\u001b[0m\u001b[0;34m:\u001b[0m\u001b[0;34m\u001b[0m\u001b[0;34m\u001b[0m\u001b[0m\n\u001b[0;32m---> 10\u001b[0;31m     \u001b[0mself\u001b[0m\u001b[0;34m.\u001b[0m\u001b[0mnew\u001b[0m \u001b[0;34m=\u001b[0m \u001b[0;34m\"{} in {} tops global warming rate\"\u001b[0m\u001b[0;34m.\u001b[0m\u001b[0mformat\u001b[0m\u001b[0;34m(\u001b[0m\u001b[0mself\u001b[0m\u001b[0;34m.\u001b[0m\u001b[0mcity\u001b[0m\u001b[0;34m,\u001b[0m \u001b[0mself\u001b[0m\u001b[0;34m.\u001b[0m\u001b[0mcountry\u001b[0m\u001b[0;34m)\u001b[0m\u001b[0;34m\u001b[0m\u001b[0;34m\u001b[0m\u001b[0m\n\u001b[0m\u001b[1;32m     11\u001b[0m     \u001b[0;32mreturn\u001b[0m \u001b[0mself\u001b[0m\u001b[0;34m.\u001b[0m\u001b[0mnew\u001b[0m\u001b[0;34m\u001b[0m\u001b[0;34m\u001b[0m\u001b[0m\n\u001b[1;32m     12\u001b[0m \u001b[0;34m\u001b[0m\u001b[0m\n",
      "\u001b[0;31mAttributeError\u001b[0m: 'Environment' object has no attribute 'city'"
     ]
    }
   ],
   "source": [
    "mn.statement()"
   ]
  },
  {
   "cell_type": "markdown",
   "metadata": {
    "id": "zaFEYAbeqXb6"
   },
   "source": [
    "**step-3**"
   ]
  },
  {
   "cell_type": "code",
   "execution_count": null,
   "metadata": {
    "id": "vdglgFP8qZ3a"
   },
   "outputs": [],
   "source": [
    "class Environment(GlobalWarming):\n",
    "  def __init__(self,  country, city, latitude, longitude):\n",
    "    GlobalWarming.__init__(self,  country, city, latitude, longitude)"
   ]
  },
  {
   "cell_type": "code",
   "execution_count": null,
   "metadata": {
    "id": "QpXFo0xXqeZZ"
   },
   "outputs": [],
   "source": [
    "mvp = Environment(\"India\", \"Newdelhi\", 98.2, 98.1)"
   ]
  },
  {
   "cell_type": "code",
   "execution_count": null,
   "metadata": {
    "colab": {
     "base_uri": "https://localhost:8080/",
     "height": 36
    },
    "executionInfo": {
     "elapsed": 14,
     "status": "ok",
     "timestamp": 1654345303214,
     "user": {
      "displayName": "Diksha Soni",
      "userId": "00039680945596626387"
     },
     "user_tz": -330
    },
    "id": "Jk5rcSfAqezQ",
    "outputId": "790dfc6b-4f0c-4950-c210-aa85ecaeba96"
   },
   "outputs": [
    {
     "data": {
      "application/vnd.google.colaboratory.intrinsic+json": {
       "type": "string"
      },
      "text/plain": [
       "'Newdelhi in India tops global warming rate'"
      ]
     },
     "execution_count": 17,
     "metadata": {},
     "output_type": "execute_result"
    }
   ],
   "source": [
    "mvp.statement()"
   ]
  },
  {
   "cell_type": "markdown",
   "metadata": {
    "id": "hCy-a9smqt4M"
   },
   "source": [
    "**step-4**"
   ]
  },
  {
   "cell_type": "code",
   "execution_count": null,
   "metadata": {
    "id": "p1H-uVVcqjDS"
   },
   "outputs": [],
   "source": [
    "class Environment(GlobalWarming):\n",
    "  def __init__(self,  country, city, latitude, longitude):\n",
    "    super().__init__(country, city, latitude, longitude)"
   ]
  },
  {
   "cell_type": "code",
   "execution_count": null,
   "metadata": {
    "id": "ehcWY3w1ql11"
   },
   "outputs": [],
   "source": [
    "prototype = Environment(\"India\", \"Newdelhi\", 98.2, 98.1)"
   ]
  },
  {
   "cell_type": "code",
   "execution_count": null,
   "metadata": {
    "colab": {
     "base_uri": "https://localhost:8080/",
     "height": 36
    },
    "executionInfo": {
     "elapsed": 6,
     "status": "ok",
     "timestamp": 1654345336508,
     "user": {
      "displayName": "Diksha Soni",
      "userId": "00039680945596626387"
     },
     "user_tz": -330
    },
    "id": "Pbkc5hlXqnRs",
    "outputId": "74a3bf40-76cf-4df3-a039-d4676d8690c1"
   },
   "outputs": [
    {
     "data": {
      "application/vnd.google.colaboratory.intrinsic+json": {
       "type": "string"
      },
      "text/plain": [
       "'Newdelhi in India tops global warming rate'"
      ]
     },
     "execution_count": 20,
     "metadata": {},
     "output_type": "execute_result"
    }
   ],
   "source": [
    "prototype.statement()"
   ]
  },
  {
   "cell_type": "markdown",
   "metadata": {
    "id": "jBHqmMvIq2IP"
   },
   "source": [
    "**step-5**"
   ]
  },
  {
   "cell_type": "code",
   "execution_count": null,
   "metadata": {
    "id": "FyaFfQ4BrK74"
   },
   "outputs": [],
   "source": [
    "class Environment(GlobalWarming):\n",
    "  def __init__(self,  country, city, latitude, longitude):\n",
    "    super().__init__(country, city, latitude, longitude)"
   ]
  },
  {
   "cell_type": "code",
   "execution_count": null,
   "metadata": {
    "id": "5zmelEgOrOvx"
   },
   "outputs": [],
   "source": [
    "prototype = Environment(\"India\", \"Newdelhi\", 98.2, 98.1)"
   ]
  },
  {
   "cell_type": "code",
   "execution_count": null,
   "metadata": {
    "colab": {
     "base_uri": "https://localhost:8080/",
     "height": 36
    },
    "executionInfo": {
     "elapsed": 16,
     "status": "ok",
     "timestamp": 1654345507579,
     "user": {
      "displayName": "Diksha Soni",
      "userId": "00039680945596626387"
     },
     "user_tz": -330
    },
    "id": "q2ZzvyJKrQ3V",
    "outputId": "974aaff5-9d6c-4d6f-94a1-67c40cbc47d8"
   },
   "outputs": [
    {
     "data": {
      "application/vnd.google.colaboratory.intrinsic+json": {
       "type": "string"
      },
      "text/plain": [
       "'Newdelhi in India tops global warming rate'"
      ]
     },
     "execution_count": 23,
     "metadata": {},
     "output_type": "execute_result"
    }
   ],
   "source": [
    "prototype.statement()"
   ]
  },
  {
   "cell_type": "markdown",
   "metadata": {
    "id": "HFdH5Y3HrTCt"
   },
   "source": [
    "**step-6**"
   ]
  },
  {
   "cell_type": "code",
   "execution_count": null,
   "metadata": {
    "id": "kuzknguwrSuM"
   },
   "outputs": [],
   "source": [
    "class Environment(GlobalWarming):\n",
    "  def __init__(self,  country, city, latitude, longitude):\n",
    "    super().__init__(country, city, latitude, longitude)\n",
    "    self.temp = 80"
   ]
  },
  {
   "cell_type": "code",
   "execution_count": null,
   "metadata": {
    "id": "g_D4L3U3raFn"
   },
   "outputs": [],
   "source": [
    "min_pro = Environment(\"India\", \"Newdelhi\", 98.2, 98.1)"
   ]
  },
  {
   "cell_type": "code",
   "execution_count": null,
   "metadata": {
    "colab": {
     "base_uri": "https://localhost:8080/"
    },
    "executionInfo": {
     "elapsed": 10,
     "status": "ok",
     "timestamp": 1654345598735,
     "user": {
      "displayName": "Diksha Soni",
      "userId": "00039680945596626387"
     },
     "user_tz": -330
    },
    "id": "XbliJp0VrhlC",
    "outputId": "7a55ab00-fd89-47e4-8d20-641cbbacf85e"
   },
   "outputs": [
    {
     "data": {
      "text/plain": [
       "80"
      ]
     },
     "execution_count": 29,
     "metadata": {},
     "output_type": "execute_result"
    }
   ],
   "source": [
    "min_pro.temp"
   ]
  },
  {
   "cell_type": "markdown",
   "metadata": {
    "id": "PLKnsL3OrtXr"
   },
   "source": [
    "**step-7**"
   ]
  },
  {
   "cell_type": "code",
   "execution_count": null,
   "metadata": {
    "id": "pSA4SjuGrwM-"
   },
   "outputs": [],
   "source": [
    "class Environment(GlobalWarming):\n",
    "  def __init__(self,  country, city, latitude, longitude, temperature):\n",
    "    super().__init__(country, city, latitude, longitude)\n",
    "    self.temp = temperature"
   ]
  },
  {
   "cell_type": "code",
   "execution_count": null,
   "metadata": {
    "colab": {
     "base_uri": "https://localhost:8080/",
     "height": 170
    },
    "executionInfo": {
     "elapsed": 399,
     "status": "error",
     "timestamp": 1654345664289,
     "user": {
      "displayName": "Diksha Soni",
      "userId": "00039680945596626387"
     },
     "user_tz": -330
    },
    "id": "bBsplBhWryw0",
    "outputId": "3f37c592-ffb6-4a80-821f-2d0d48f4d571"
   },
   "outputs": [
    {
     "ename": "TypeError",
     "evalue": "ignored",
     "output_type": "error",
     "traceback": [
      "\u001b[0;31m---------------------------------------------------------------------------\u001b[0m",
      "\u001b[0;31mTypeError\u001b[0m                                 Traceback (most recent call last)",
      "\u001b[0;32m<ipython-input-31-74883a1cac83>\u001b[0m in \u001b[0;36m<module>\u001b[0;34m()\u001b[0m\n\u001b[0;32m----> 1\u001b[0;31m \u001b[0mt\u001b[0m \u001b[0;34m=\u001b[0m \u001b[0mEnvironment\u001b[0m\u001b[0;34m(\u001b[0m\u001b[0;34m\"India\"\u001b[0m\u001b[0;34m,\u001b[0m \u001b[0;34m\"Newdelhi\"\u001b[0m\u001b[0;34m,\u001b[0m \u001b[0;36m98.2\u001b[0m\u001b[0;34m,\u001b[0m \u001b[0;36m98.1\u001b[0m\u001b[0;34m)\u001b[0m\u001b[0;34m\u001b[0m\u001b[0;34m\u001b[0m\u001b[0m\n\u001b[0m",
      "\u001b[0;31mTypeError\u001b[0m: __init__() missing 1 required positional argument: 'temperature'"
     ]
    }
   ],
   "source": [
    "t = Environment(\"India\", \"Newdelhi\", 98.2, 98.1)"
   ]
  },
  {
   "cell_type": "code",
   "execution_count": null,
   "metadata": {
    "id": "EOu1XIeBr38a"
   },
   "outputs": [],
   "source": [
    "t_new = Environment(\"India\", \"Newdelhi\", 98.2, 98.1, 30)"
   ]
  },
  {
   "cell_type": "code",
   "execution_count": null,
   "metadata": {
    "colab": {
     "base_uri": "https://localhost:8080/",
     "height": 36
    },
    "executionInfo": {
     "elapsed": 14,
     "status": "ok",
     "timestamp": 1654345706402,
     "user": {
      "displayName": "Diksha Soni",
      "userId": "00039680945596626387"
     },
     "user_tz": -330
    },
    "id": "U8-Zs-w2r6sC",
    "outputId": "9911ccae-94c8-4884-9293-34fb9c48c48f"
   },
   "outputs": [
    {
     "data": {
      "application/vnd.google.colaboratory.intrinsic+json": {
       "type": "string"
      },
      "text/plain": [
       "'Newdelhi in India tops global warming rate'"
      ]
     },
     "execution_count": 34,
     "metadata": {},
     "output_type": "execute_result"
    }
   ],
   "source": [
    "t_new.statement()"
   ]
  },
  {
   "cell_type": "code",
   "execution_count": null,
   "metadata": {
    "id": "S7dBLSr8sCZ3"
   },
   "outputs": [],
   "source": [
    "class DonMan:   #class\n",
    "  x = 20 #class attribute\n",
    "\n",
    "  def __init__(self, a, b):   # __init__ method\n",
    "    self.akbar = a  #instance attribute\n",
    "    self.birbal = b #instance attribute \n",
    "\n",
    "  def add(self):   # add method\n",
    "    return self.akbar + self.birbal"
   ]
  },
  {
   "cell_type": "code",
   "execution_count": null,
   "metadata": {
    "id": "dZxNsg68k3Uq"
   },
   "outputs": [],
   "source": [
    "m = DonMan(12, 23)  # m is class object"
   ]
  },
  {
   "cell_type": "code",
   "execution_count": null,
   "metadata": {
    "colab": {
     "base_uri": "https://localhost:8080/"
    },
    "executionInfo": {
     "elapsed": 4,
     "status": "ok",
     "timestamp": 1654662609380,
     "user": {
      "displayName": "Diksha Soni",
      "userId": "00039680945596626387"
     },
     "user_tz": -330
    },
    "id": "nDetTddok3R1",
    "outputId": "5fbebbfb-680a-47ca-c0e5-0a314020970f"
   },
   "outputs": [
    {
     "data": {
      "text/plain": [
       "20"
      ]
     },
     "execution_count": 6,
     "metadata": {},
     "output_type": "execute_result"
    }
   ],
   "source": [
    "m.x"
   ]
  },
  {
   "cell_type": "code",
   "execution_count": null,
   "metadata": {
    "colab": {
     "base_uri": "https://localhost:8080/"
    },
    "executionInfo": {
     "elapsed": 12,
     "status": "ok",
     "timestamp": 1654662616646,
     "user": {
      "displayName": "Diksha Soni",
      "userId": "00039680945596626387"
     },
     "user_tz": -330
    },
    "id": "A8Ejy_Rpk3Oy",
    "outputId": "9f941dfd-1cbf-408c-a044-0346499bccd3"
   },
   "outputs": [
    {
     "data": {
      "text/plain": [
       "12"
      ]
     },
     "execution_count": 7,
     "metadata": {},
     "output_type": "execute_result"
    }
   ],
   "source": [
    "m.akbar"
   ]
  },
  {
   "cell_type": "code",
   "execution_count": null,
   "metadata": {
    "colab": {
     "base_uri": "https://localhost:8080/"
    },
    "executionInfo": {
     "elapsed": 537,
     "status": "ok",
     "timestamp": 1654662630040,
     "user": {
      "displayName": "Diksha Soni",
      "userId": "00039680945596626387"
     },
     "user_tz": -330
    },
    "id": "xIYjp-wsk3LR",
    "outputId": "16c36246-5331-44e8-9a29-f58725aff7ac"
   },
   "outputs": [
    {
     "data": {
      "text/plain": [
       "23"
      ]
     },
     "execution_count": 8,
     "metadata": {},
     "output_type": "execute_result"
    }
   ],
   "source": [
    "m.birbal"
   ]
  },
  {
   "cell_type": "code",
   "execution_count": null,
   "metadata": {
    "id": "A2N6WxOXk2-B"
   },
   "outputs": [],
   "source": [
    "class Parent():\n",
    "\n",
    "  def __init__(self, firstname, lastname, salary):\n",
    "    self.fn = firstname\n",
    "    self.ln = lastname\n",
    "    self.sal = salary\n",
    "  \n",
    "  def first_month(self):\n",
    "    print(self.fn)\n",
    "    print(self.ln)\n",
    "    print(self.sal) \n",
    "\n",
    "  def info(self):\n",
    "    print(\"My first name is: {}\".format(self.fn))\n",
    "    print(\"My last name is: {}\".format(self.ln))\n",
    "    print(\"My salary is: {}\".format(self.sal))"
   ]
  },
  {
   "cell_type": "code",
   "execution_count": null,
   "metadata": {
    "id": "Liy5E5vylEwt"
   },
   "outputs": [],
   "source": [
    "class Child(Parent):\n",
    "  def __init__(self, firstname, lastname, salary, city, country):\n",
    "    self.city = city\n",
    "    self.country = country \n",
    "    super().__init__(firstname, lastname, salary)\n",
    "  \n",
    "  def info(self):\n",
    "    print(\"My first name is: {}\".format(self.fn))\n",
    "    print(\"My last name is: {}\".format(self.ln))\n",
    "    print(\"My salary is: {}\".format(self.sal))\n",
    "    print(\"My city is: {}\".format(self.city))\n",
    "    print(\"My country is: {}\".format(self.country))\n"
   ]
  },
  {
   "cell_type": "code",
   "execution_count": null,
   "metadata": {
    "id": "oBd-Y636lJ_u"
   },
   "outputs": [],
   "source": [
    "h = Child('sumanth', 'meenan', 1600000, 'bapatla', 'India')"
   ]
  },
  {
   "cell_type": "code",
   "execution_count": null,
   "metadata": {
    "colab": {
     "base_uri": "https://localhost:8080/"
    },
    "executionInfo": {
     "elapsed": 16,
     "status": "ok",
     "timestamp": 1654662717906,
     "user": {
      "displayName": "Diksha Soni",
      "userId": "00039680945596626387"
     },
     "user_tz": -330
    },
    "id": "fOIaudSTlNNF",
    "outputId": "fbf559a3-de86-4142-86d0-2f8cec032e5f"
   },
   "outputs": [
    {
     "name": "stdout",
     "output_type": "stream",
     "text": [
      "sumanth\n",
      "meenan\n",
      "1600000\n"
     ]
    }
   ],
   "source": [
    "h.first_month()"
   ]
  },
  {
   "cell_type": "code",
   "execution_count": null,
   "metadata": {
    "colab": {
     "base_uri": "https://localhost:8080/"
    },
    "executionInfo": {
     "elapsed": 11,
     "status": "ok",
     "timestamp": 1654662717907,
     "user": {
      "displayName": "Diksha Soni",
      "userId": "00039680945596626387"
     },
     "user_tz": -330
    },
    "id": "PqlZSXrTlPJl",
    "outputId": "2f187243-9a69-4f5f-d642-5a3378f06b89"
   },
   "outputs": [
    {
     "name": "stdout",
     "output_type": "stream",
     "text": [
      "My first name is: sumanth\n",
      "My last name is: meenan\n",
      "My salary is: 1600000\n",
      "My city is: bapatla\n",
      "My country is: India\n"
     ]
    }
   ],
   "source": [
    "h.info()"
   ]
  },
  {
   "cell_type": "code",
   "execution_count": null,
   "metadata": {
    "id": "S0uUR2MklQvt"
   },
   "outputs": [],
   "source": [
    "g = Parent('sumanth', 'meenan', 1600000)"
   ]
  },
  {
   "cell_type": "code",
   "execution_count": null,
   "metadata": {
    "colab": {
     "base_uri": "https://localhost:8080/"
    },
    "executionInfo": {
     "elapsed": 11,
     "status": "ok",
     "timestamp": 1654662719732,
     "user": {
      "displayName": "Diksha Soni",
      "userId": "00039680945596626387"
     },
     "user_tz": -330
    },
    "id": "SyAeeznplSyQ",
    "outputId": "35aea7e7-fbc8-4190-fc2c-7e91ebe3f564"
   },
   "outputs": [
    {
     "name": "stdout",
     "output_type": "stream",
     "text": [
      "My first name is: sumanth\n",
      "My last name is: meenan\n",
      "My salary is: 1600000\n"
     ]
    }
   ],
   "source": [
    "g.info()"
   ]
  },
  {
   "cell_type": "code",
   "execution_count": null,
   "metadata": {
    "id": "Wcq9CmcWmFhZ"
   },
   "outputs": [],
   "source": [
    "class College:\n",
    "\n",
    "  def __init__(self,name,courses,department,teachers,students):\n",
    "    self.name = name\n",
    "    self.courses = courses\n",
    "    self.department = department\n",
    "    self.teachers =teachers\n",
    "    self.students = students\n",
    "\n",
    "  def college_detail(self):\n",
    "    return \"My college name is {}\".format( self.c_name)\n",
    "\n",
    "  def college_info(self):\n",
    "    print(\"Different courses in college like {}\".format(self.courses))\n",
    "    print(\"Different department is college like {}\".format(self.department))\n",
    "    print(\"Total teachers in college {}\". format(self.teachers))\n",
    "    print(\"total studnets in college {}\".format(self.students))\n",
    "      "
   ]
  },
  {
   "cell_type": "code",
   "execution_count": null,
   "metadata": {
    "id": "TUdC02oHoafI"
   },
   "outputs": [],
   "source": [
    "class school(College):\n",
    "  \n",
    "  def __init__(self,name,department,courses,teachers,students,libraries,games):\n",
    "    self.lib = libraries\n",
    "    self.games=games\n",
    "    super().__init((self,name,courses,department,teachers,students))\n",
    "\n",
    "  def school_details(): \n",
    "    print(\"My school name is {}\".format(self.name))\n",
    "    print(\"total department in school{}\".format(self.department))\n",
    "    print(\"total courses in school{}\".format(self.courses))\n",
    "    print(\"total teachers in school{}\".format(self.teachers))\n",
    "    print(\"total libraries in school{}\".format(self.libraries))\n",
    "    print(\"different games in school{}\".format(self.games))\n",
    "\n"
   ]
  },
  {
   "cell_type": "code",
   "execution_count": null,
   "metadata": {
    "id": "pjXMUmmEr8Av"
   },
   "outputs": [],
   "source": [
    "c = College(\"HPTU\",\"13\",\"5\",\"45\",\"1000\")"
   ]
  },
  {
   "cell_type": "code",
   "execution_count": null,
   "metadata": {
    "colab": {
     "base_uri": "https://localhost:8080/"
    },
    "executionInfo": {
     "elapsed": 9,
     "status": "ok",
     "timestamp": 1654665182031,
     "user": {
      "displayName": "Diksha Soni",
      "userId": "00039680945596626387"
     },
     "user_tz": -330
    },
    "id": "lZnmAoDVtlG-",
    "outputId": "f07643bc-efb9-4773-de7c-394598e7036e"
   },
   "outputs": [
    {
     "name": "stdout",
     "output_type": "stream",
     "text": [
      "Different courses in college like 13\n",
      "Different department is college like 5\n",
      "Total teachers in college 45\n",
      "total studnets in college 1000\n"
     ]
    }
   ],
   "source": [
    "c.college_info()"
   ]
  },
  {
   "cell_type": "code",
   "execution_count": null,
   "metadata": {
    "colab": {
     "base_uri": "https://localhost:8080/"
    },
    "executionInfo": {
     "elapsed": 10,
     "status": "ok",
     "timestamp": 1654665232702,
     "user": {
      "displayName": "Diksha Soni",
      "userId": "00039680945596626387"
     },
     "user_tz": -330
    },
    "id": "eAlFS31Cu7G6",
    "outputId": "7098db54-14e0-4a79-ef23-85382e45f4f1"
   },
   "outputs": [
    {
     "name": "stdout",
     "output_type": "stream",
     "text": [
      "GDP of India is INR 236.65 Trillion\n",
      "None\n",
      "India has a population of 1.4b.\n",
      "None\n",
      "India's import are worth $478.88b.\n",
      "India's exports are worth $323.25b.\n",
      "None\n",
      "Country Name: India\n",
      "Population: 1.4b\n",
      "Gross Domestic Product: 236.65\n",
      "Imports worth: $478.88b\n",
      "Exports worth: $323.25b\n",
      "None\n"
     ]
    }
   ],
   "source": [
    "class Earth:\n",
    "  def __init__(fact,country,population,gdp):\n",
    "    fact.c = country\n",
    "    fact.p = population\n",
    "    fact.g = gdp\n",
    "  def economy(fact):\n",
    "    print(\"{} has a population of {}.\".format(fact.c,fact.p))\n",
    "  def gros_dom_pro(fact):\n",
    "    print(\"GDP of {} is INR {} Trillion\".format(fact.c,fact.g))\n",
    "e = Earth(\"India\",\"1.4 Billion\",236.65)\n",
    "class Country(Earth):\n",
    "  def __init__(fact,country,population,gdp,exports,imports):\n",
    "    fact.e = exports\n",
    "    fact.i = imports\n",
    "    super().__init__(country,population,gdp)\n",
    "  def economy(fact):\n",
    "    print(\"{}'s import are worth {}.\".format(fact.c,fact.i))\n",
    "    print(\"{}'s exports are worth {}.\".format(fact.c,fact.e))\n",
    "  def all_detail(fact):\n",
    "    print(\"Country Name: {}\".format(fact.c))\n",
    "    print(\"Population: {}\".format(fact.p))\n",
    "    print(\"Gross Domestic Product: {}\".format(fact.g))\n",
    "    print(\"Imports worth: {}\".format(fact.i))\n",
    "    print(\"Exports worth: {}\".format(fact.e))\n",
    "c = Country(\"India\",\"1.4b\",236.65,\"$323.25b\",\"$478.88b\")\n",
    "e = Earth(\"India\",\"1.4b\",236.65)\n",
    "print(e.gros_dom_pro())\n",
    "print(e.economy())\n",
    "print(c.economy())\n",
    "print(c.all_detail())"
   ]
  },
  {
   "cell_type": "code",
   "execution_count": null,
   "metadata": {
    "id": "sRRO6rkw1l_B"
   },
   "outputs": [],
   "source": []
  },
  {
   "cell_type": "markdown",
   "metadata": {
    "id": "_viILukN1m0p"
   },
   "source": [
    "**Polymorphism (with inheritance)**"
   ]
  },
  {
   "cell_type": "code",
   "execution_count": null,
   "metadata": {
    "id": "zl1tJfpe15gc"
   },
   "outputs": [],
   "source": [
    "class Travel:\n",
    "\n",
    "  def introduction(self):\n",
    "    print(\"There are many ways of travel\")\n",
    "\n",
    "  def mode(self):\n",
    "    print(\"Most of them can walk but some cannot\")"
   ]
  },
  {
   "cell_type": "code",
   "execution_count": null,
   "metadata": {
    "id": "1QXYk46j2MAD"
   },
   "outputs": [],
   "source": [
    "class Bus(Travel): \n",
    "\n",
    "  def mode(self):\n",
    "    print(\"we can travel through bus\")"
   ]
  },
  {
   "cell_type": "code",
   "execution_count": null,
   "metadata": {
    "id": "WurncFYD2Nf4"
   },
   "outputs": [],
   "source": [
    "class Boat(Travel):\n",
    "\n",
    "  def mode(self):\n",
    "    print(\"we cannot travel through boat\") "
   ]
  },
  {
   "cell_type": "code",
   "execution_count": null,
   "metadata": {
    "id": "IHi9epUA2QC8"
   },
   "outputs": [],
   "source": [
    "t = Travel()\n",
    "t_bus = Bus()\n",
    "t_boat = Boat()"
   ]
  },
  {
   "cell_type": "code",
   "execution_count": null,
   "metadata": {
    "colab": {
     "base_uri": "https://localhost:8080/"
    },
    "executionInfo": {
     "elapsed": 806,
     "status": "ok",
     "timestamp": 1654667229754,
     "user": {
      "displayName": "Diksha Soni",
      "userId": "00039680945596626387"
     },
     "user_tz": -330
    },
    "id": "2fk9vMqZ2Rwh",
    "outputId": "5826204a-21a1-4188-dcc2-e8889216b070"
   },
   "outputs": [
    {
     "name": "stdout",
     "output_type": "stream",
     "text": [
      "There are many ways of travel\n"
     ]
    }
   ],
   "source": [
    "t.introduction()"
   ]
  },
  {
   "cell_type": "code",
   "execution_count": null,
   "metadata": {
    "colab": {
     "base_uri": "https://localhost:8080/"
    },
    "executionInfo": {
     "elapsed": 8,
     "status": "ok",
     "timestamp": 1654667233866,
     "user": {
      "displayName": "Diksha Soni",
      "userId": "00039680945596626387"
     },
     "user_tz": -330
    },
    "id": "78mziVka2Tj4",
    "outputId": "d7eaf577-3eee-4f77-c1bf-c59759364225"
   },
   "outputs": [
    {
     "name": "stdout",
     "output_type": "stream",
     "text": [
      "Most of them can walk but some cannot\n"
     ]
    }
   ],
   "source": [
    "t.mode()"
   ]
  },
  {
   "cell_type": "code",
   "execution_count": null,
   "metadata": {
    "colab": {
     "base_uri": "https://localhost:8080/"
    },
    "executionInfo": {
     "elapsed": 635,
     "status": "ok",
     "timestamp": 1654667238309,
     "user": {
      "displayName": "Diksha Soni",
      "userId": "00039680945596626387"
     },
     "user_tz": -330
    },
    "id": "2f5rtAWT2ThU",
    "outputId": "afa884c2-8867-4146-a0bf-ff98132bed9a"
   },
   "outputs": [
    {
     "name": "stdout",
     "output_type": "stream",
     "text": [
      "There are many ways of travel\n"
     ]
    }
   ],
   "source": [
    "t_bus.introduction()"
   ]
  },
  {
   "cell_type": "code",
   "execution_count": null,
   "metadata": {
    "colab": {
     "base_uri": "https://localhost:8080/"
    },
    "executionInfo": {
     "elapsed": 541,
     "status": "ok",
     "timestamp": 1654667247842,
     "user": {
      "displayName": "Diksha Soni",
      "userId": "00039680945596626387"
     },
     "user_tz": -330
    },
    "id": "X5p0nYMN2TeP",
    "outputId": "295768eb-13f1-44e3-f707-0e7cee26fe8a"
   },
   "outputs": [
    {
     "name": "stdout",
     "output_type": "stream",
     "text": [
      "we can travel through bus\n"
     ]
    }
   ],
   "source": [
    "t_bus.mode()"
   ]
  },
  {
   "cell_type": "code",
   "execution_count": null,
   "metadata": {
    "colab": {
     "base_uri": "https://localhost:8080/"
    },
    "executionInfo": {
     "elapsed": 5,
     "status": "ok",
     "timestamp": 1654667249175,
     "user": {
      "displayName": "Diksha Soni",
      "userId": "00039680945596626387"
     },
     "user_tz": -330
    },
    "id": "vTg9siAY2TWp",
    "outputId": "07007fe4-8125-4d96-8127-948d9137f3e6"
   },
   "outputs": [
    {
     "name": "stdout",
     "output_type": "stream",
     "text": [
      "There are many ways of travel\n"
     ]
    }
   ],
   "source": [
    "t_boat.introduction()"
   ]
  },
  {
   "cell_type": "code",
   "execution_count": null,
   "metadata": {
    "colab": {
     "base_uri": "https://localhost:8080/"
    },
    "executionInfo": {
     "elapsed": 689,
     "status": "ok",
     "timestamp": 1654667280198,
     "user": {
      "displayName": "Diksha Soni",
      "userId": "00039680945596626387"
     },
     "user_tz": -330
    },
    "id": "-H9e0pSA2ZAs",
    "outputId": "a90e69bf-0e80-4002-f981-f566e3691e83"
   },
   "outputs": [
    {
     "name": "stdout",
     "output_type": "stream",
     "text": [
      "we cannot travel through boat\n"
     ]
    }
   ],
   "source": [
    "t_boat.mode()"
   ]
  },
  {
   "cell_type": "markdown",
   "metadata": {
    "id": "BGg4FaoI2p3k"
   },
   "source": [
    "**polymorphism**"
   ]
  },
  {
   "cell_type": "code",
   "execution_count": null,
   "metadata": {
    "id": "SB89QIiX2x19"
   },
   "outputs": [],
   "source": [
    "class Bachelors:\n",
    "\n",
    "  def intro(self):\n",
    "    print(\"after completion of 12th i joined bachelors\")\n",
    "\n",
    "  def span(self):\n",
    "    print(\"Its a span of 4 years\")\n",
    "\n",
    "  def country(self):\n",
    "    print(\"I study in India\")"
   ]
  },
  {
   "cell_type": "code",
   "execution_count": null,
   "metadata": {
    "id": "ebQyogve2xyb"
   },
   "outputs": [],
   "source": [
    "class Masters:\n",
    "\n",
    "  def intro(self):\n",
    "    print(\"after completion of bachelors i joined masters\")\n",
    "\n",
    "  def span(self):\n",
    "    print(\"Its a span of 2 years\")\n",
    "\n",
    "  def country(self):\n",
    "    print(\"I study in America\")"
   ]
  },
  {
   "cell_type": "code",
   "execution_count": null,
   "metadata": {
    "id": "_CiToMac2xvZ"
   },
   "outputs": [],
   "source": [
    "b = Bachelors()\n",
    "m = Masters()"
   ]
  },
  {
   "cell_type": "code",
   "execution_count": null,
   "metadata": {
    "colab": {
     "base_uri": "https://localhost:8080/"
    },
    "executionInfo": {
     "elapsed": 10,
     "status": "ok",
     "timestamp": 1654667340384,
     "user": {
      "displayName": "Diksha Soni",
      "userId": "00039680945596626387"
     },
     "user_tz": -330
    },
    "id": "U33zc_9W2xr4",
    "outputId": "bd07f991-c469-4eed-ccf1-369fd5b30419"
   },
   "outputs": [
    {
     "name": "stdout",
     "output_type": "stream",
     "text": [
      "after completion of 12th i joined bachelors\n",
      "Its a span of 4 years\n",
      "I study in India\n",
      "after completion of bachelors i joined masters\n",
      "Its a span of 2 years\n",
      "I study in America\n"
     ]
    }
   ],
   "source": [
    "for a in (b,m):\n",
    "  a.intro()\n",
    "  a.span()\n",
    "  a.country()"
   ]
  },
  {
   "cell_type": "code",
   "execution_count": null,
   "metadata": {
    "id": "cXEuLCdF3Cj7"
   },
   "outputs": [],
   "source": [
    "class Birds():\n",
    "\n",
    "  def intro(self):\n",
    "    print(\"There are different type of birds\")\n",
    "\n",
    "  def fly(self):\n",
    "    print(\"some birds are fly and some birds are not fly\")\n",
    "\n",
    "class parrots(Birds):\n",
    "\n",
    "  def fly(self):\n",
    "    print(\"parrots are fly in the air\")\n",
    "\n",
    "  def sparrow(self):\n",
    "    print(\"sparrow are fly in the air\")\n",
    "\n",
    "class penguin(Birds):   \n",
    "\n",
    "    def not_fly(slef):\n",
    "      print(\"penguins are not fly\")\n",
    "\n",
    "    def ostrich(self):\n",
    "      print(\"ostrich are not fly\")\n",
    "\n",
    "b = Birds()\n",
    "b_parrot = parrots()\n",
    "b_penguin = penguin()\n"
   ]
  },
  {
   "cell_type": "code",
   "execution_count": null,
   "metadata": {
    "colab": {
     "base_uri": "https://localhost:8080/"
    },
    "executionInfo": {
     "elapsed": 11,
     "status": "ok",
     "timestamp": 1654668560767,
     "user": {
      "displayName": "Diksha Soni",
      "userId": "00039680945596626387"
     },
     "user_tz": -330
    },
    "id": "y-xDD1e73Cec",
    "outputId": "d53bdc44-fdab-4de0-98dc-5343ace83a99"
   },
   "outputs": [
    {
     "name": "stdout",
     "output_type": "stream",
     "text": [
      "There are different type of birds\n"
     ]
    }
   ],
   "source": [
    "b.intro()"
   ]
  },
  {
   "cell_type": "code",
   "execution_count": null,
   "metadata": {
    "colab": {
     "base_uri": "https://localhost:8080/"
    },
    "executionInfo": {
     "elapsed": 2,
     "status": "ok",
     "timestamp": 1654668561397,
     "user": {
      "displayName": "Diksha Soni",
      "userId": "00039680945596626387"
     },
     "user_tz": -330
    },
    "id": "1OusJ-yS3CZ6",
    "outputId": "b9d47e1c-ce33-45e8-8dd7-df58070bd8be"
   },
   "outputs": [
    {
     "name": "stdout",
     "output_type": "stream",
     "text": [
      "parrots are fly in the air\n"
     ]
    }
   ],
   "source": [
    "b_parrot.fly()"
   ]
  },
  {
   "cell_type": "code",
   "execution_count": null,
   "metadata": {
    "colab": {
     "base_uri": "https://localhost:8080/"
    },
    "executionInfo": {
     "elapsed": 5,
     "status": "ok",
     "timestamp": 1654668562604,
     "user": {
      "displayName": "Diksha Soni",
      "userId": "00039680945596626387"
     },
     "user_tz": -330
    },
    "id": "_ZFhCNN_3CUY",
    "outputId": "c6c78313-f20f-4f20-a9d7-9da2213d9f9e"
   },
   "outputs": [
    {
     "name": "stdout",
     "output_type": "stream",
     "text": [
      "penguins are not fly\n"
     ]
    }
   ],
   "source": [
    "b_penguin.not_fly()"
   ]
  },
  {
   "cell_type": "code",
   "execution_count": null,
   "metadata": {
    "colab": {
     "base_uri": "https://localhost:8080/"
    },
    "executionInfo": {
     "elapsed": 9,
     "status": "ok",
     "timestamp": 1654669330669,
     "user": {
      "displayName": "Diksha Soni",
      "userId": "00039680945596626387"
     },
     "user_tz": -330
    },
    "id": "IkLIQdpH3CAA",
    "outputId": "3cd8412e-6db3-43b4-82b9-02d0b87867c5"
   },
   "outputs": [
    {
     "name": "stdout",
     "output_type": "stream",
     "text": [
      "New Delhi\n",
      "Hindi and English\n",
      "Washington, D.C.\n",
      "English\n"
     ]
    }
   ],
   "source": [
    "class India():\n",
    "     def capital(self):\n",
    "       print(\"New Delhi\")\n",
    " \n",
    "     def language(self):\n",
    "       print(\"Hindi and English\")\n",
    " \n",
    "class USA():\n",
    "     def capital(self):\n",
    "       print(\"Washington, D.C.\")\n",
    " \n",
    "     def language(self):\n",
    "       print(\"English\")\n",
    " \n",
    "obj_ind = India()\n",
    "obj_usa = USA()\n",
    "for country in (obj_ind, obj_usa):\n",
    "  country.capital()\n",
    "  country.language()\n"
   ]
  },
  {
   "cell_type": "code",
   "execution_count": null,
   "metadata": {
    "colab": {
     "base_uri": "https://localhost:8080/",
     "height": 223
    },
    "executionInfo": {
     "elapsed": 603,
     "status": "error",
     "timestamp": 1654712099803,
     "user": {
      "displayName": "Diksha Soni",
      "userId": "00039680945596626387"
     },
     "user_tz": -330
    },
    "id": "wOwE23aQfsfv",
    "outputId": "669eb995-faf9-454d-e866-7c4906c893ed"
   },
   "outputs": [
    {
     "ename": "TypeError",
     "evalue": "ignored",
     "output_type": "error",
     "traceback": [
      "\u001b[0;31m---------------------------------------------------------------------------\u001b[0m",
      "\u001b[0;31mTypeError\u001b[0m                                 Traceback (most recent call last)",
      "\u001b[0;32m<ipython-input-5-b061fd0d2d7d>\u001b[0m in \u001b[0;36m<module>\u001b[0;34m()\u001b[0m\n\u001b[1;32m     15\u001b[0m \u001b[0;34m\u001b[0m\u001b[0m\n\u001b[1;32m     16\u001b[0m \u001b[0;32mfor\u001b[0m \u001b[0mitem\u001b[0m \u001b[0;32min\u001b[0m \u001b[0;34m(\u001b[0m\u001b[0mBirds\u001b[0m\u001b[0;34m,\u001b[0m\u001b[0manimals\u001b[0m\u001b[0;34m)\u001b[0m\u001b[0;34m:\u001b[0m\u001b[0;34m\u001b[0m\u001b[0;34m\u001b[0m\u001b[0m\n\u001b[0;32m---> 17\u001b[0;31m   \u001b[0mitem\u001b[0m\u001b[0;34m.\u001b[0m\u001b[0mparrot\u001b[0m\u001b[0;34m(\u001b[0m\u001b[0;34m)\u001b[0m\u001b[0;34m\u001b[0m\u001b[0;34m\u001b[0m\u001b[0m\n\u001b[0m\u001b[1;32m     18\u001b[0m   \u001b[0mitem\u001b[0m\u001b[0;34m.\u001b[0m\u001b[0mcow\u001b[0m\u001b[0;34m(\u001b[0m\u001b[0;34m)\u001b[0m\u001b[0;34m\u001b[0m\u001b[0;34m\u001b[0m\u001b[0m\n",
      "\u001b[0;31mTypeError\u001b[0m: parrot() missing 1 required positional argument: 'self'"
     ]
    }
   ],
   "source": [
    "\n"
   ]
  },
  {
   "cell_type": "markdown",
   "metadata": {
    "id": "blSAOLlk-mXz"
   },
   "source": [
    "**Encapsulation**"
   ]
  },
  {
   "cell_type": "code",
   "execution_count": null,
   "metadata": {
    "id": "e_Gp5ojB-_5e"
   },
   "outputs": [],
   "source": [
    "class Cow:\n",
    "  def __init__(self): \n",
    "    self.a = \"Honey\"\n",
    "    self.__b = \"cheetah\" #private member\n",
    "    self._c = \"hey\"  #protected member"
   ]
  },
  {
   "cell_type": "code",
   "execution_count": null,
   "metadata": {
    "id": "2JNEzWdU_Bvq"
   },
   "outputs": [],
   "source": [
    "class Calf(Cow):\n",
    "  def __init__(self):\n",
    "    super().__init__()\n",
    "    print(\"call b from parent class\")\n",
    "    print(self.__b)"
   ]
  },
  {
   "cell_type": "code",
   "execution_count": null,
   "metadata": {
    "id": "YiuebtwS_Dfu"
   },
   "outputs": [],
   "source": [
    "obj = Cow()"
   ]
  },
  {
   "cell_type": "code",
   "execution_count": null,
   "metadata": {
    "colab": {
     "base_uri": "https://localhost:8080/"
    },
    "executionInfo": {
     "elapsed": 7,
     "status": "ok",
     "timestamp": 1654669480040,
     "user": {
      "displayName": "Diksha Soni",
      "userId": "00039680945596626387"
     },
     "user_tz": -330
    },
    "id": "41_Vr4IX_FEn",
    "outputId": "e0a047b0-38e6-464e-8712-67c03cbf0090"
   },
   "outputs": [
    {
     "name": "stdout",
     "output_type": "stream",
     "text": [
      "Honey\n"
     ]
    }
   ],
   "source": [
    "print(obj.a)"
   ]
  },
  {
   "cell_type": "code",
   "execution_count": null,
   "metadata": {
    "colab": {
     "base_uri": "https://localhost:8080/",
     "height": 170
    },
    "executionInfo": {
     "elapsed": 5,
     "status": "error",
     "timestamp": 1654669480574,
     "user": {
      "displayName": "Diksha Soni",
      "userId": "00039680945596626387"
     },
     "user_tz": -330
    },
    "id": "BDLSwd7D_GfJ",
    "outputId": "4eb4bb7d-3b92-4152-eea0-b8bb9ec3f7df"
   },
   "outputs": [
    {
     "ename": "AttributeError",
     "evalue": "ignored",
     "output_type": "error",
     "traceback": [
      "\u001b[0;31m---------------------------------------------------------------------------\u001b[0m",
      "\u001b[0;31mAttributeError\u001b[0m                            Traceback (most recent call last)",
      "\u001b[0;32m<ipython-input-70-55fb9835f275>\u001b[0m in \u001b[0;36m<module>\u001b[0;34m()\u001b[0m\n\u001b[0;32m----> 1\u001b[0;31m \u001b[0mprint\u001b[0m\u001b[0;34m(\u001b[0m\u001b[0mobj\u001b[0m\u001b[0;34m.\u001b[0m\u001b[0m__b\u001b[0m\u001b[0;34m)\u001b[0m\u001b[0;34m\u001b[0m\u001b[0;34m\u001b[0m\u001b[0m\n\u001b[0m",
      "\u001b[0;31mAttributeError\u001b[0m: 'Cow' object has no attribute '__b'"
     ]
    }
   ],
   "source": [
    "print(obj.__b)"
   ]
  },
  {
   "cell_type": "code",
   "execution_count": null,
   "metadata": {
    "colab": {
     "base_uri": "https://localhost:8080/",
     "height": 277
    },
    "executionInfo": {
     "elapsed": 537,
     "status": "error",
     "timestamp": 1654669506547,
     "user": {
      "displayName": "Diksha Soni",
      "userId": "00039680945596626387"
     },
     "user_tz": -330
    },
    "id": "LGOaEm8a_N8y",
    "outputId": "e678dd20-65fe-42a3-f6a1-f9a7b9eae1f8"
   },
   "outputs": [
    {
     "name": "stdout",
     "output_type": "stream",
     "text": [
      "call b from parent class\n"
     ]
    },
    {
     "ename": "AttributeError",
     "evalue": "ignored",
     "output_type": "error",
     "traceback": [
      "\u001b[0;31m---------------------------------------------------------------------------\u001b[0m",
      "\u001b[0;31mAttributeError\u001b[0m                            Traceback (most recent call last)",
      "\u001b[0;32m<ipython-input-71-c3792a65de9e>\u001b[0m in \u001b[0;36m<module>\u001b[0;34m()\u001b[0m\n\u001b[0;32m----> 1\u001b[0;31m \u001b[0mnew_obj\u001b[0m \u001b[0;34m=\u001b[0m \u001b[0mCalf\u001b[0m\u001b[0;34m(\u001b[0m\u001b[0;34m)\u001b[0m\u001b[0;34m\u001b[0m\u001b[0;34m\u001b[0m\u001b[0m\n\u001b[0m",
      "\u001b[0;32m<ipython-input-67-685cd76c0741>\u001b[0m in \u001b[0;36m__init__\u001b[0;34m(self)\u001b[0m\n\u001b[1;32m      3\u001b[0m     \u001b[0msuper\u001b[0m\u001b[0;34m(\u001b[0m\u001b[0;34m)\u001b[0m\u001b[0;34m.\u001b[0m\u001b[0m__init__\u001b[0m\u001b[0;34m(\u001b[0m\u001b[0;34m)\u001b[0m\u001b[0;34m\u001b[0m\u001b[0;34m\u001b[0m\u001b[0m\n\u001b[1;32m      4\u001b[0m     \u001b[0mprint\u001b[0m\u001b[0;34m(\u001b[0m\u001b[0;34m\"call b from parent class\"\u001b[0m\u001b[0;34m)\u001b[0m\u001b[0;34m\u001b[0m\u001b[0;34m\u001b[0m\u001b[0m\n\u001b[0;32m----> 5\u001b[0;31m     \u001b[0mprint\u001b[0m\u001b[0;34m(\u001b[0m\u001b[0mself\u001b[0m\u001b[0;34m.\u001b[0m\u001b[0m__b\u001b[0m\u001b[0;34m)\u001b[0m\u001b[0;34m\u001b[0m\u001b[0;34m\u001b[0m\u001b[0m\n\u001b[0m",
      "\u001b[0;31mAttributeError\u001b[0m: 'Calf' object has no attribute '_Calf__b'"
     ]
    }
   ],
   "source": [
    "new_obj = Calf()"
   ]
  },
  {
   "cell_type": "markdown",
   "metadata": {
    "id": "lgyFr8O-gGZl"
   },
   "source": [
    "**Public members:-Public members are accessible anywhere from the class. All the member variables of the class are by default public.**"
   ]
  },
  {
   "cell_type": "code",
   "execution_count": null,
   "metadata": {
    "colab": {
     "base_uri": "https://localhost:8080/"
    },
    "executionInfo": {
     "elapsed": 430,
     "status": "ok",
     "timestamp": 1654678195152,
     "user": {
      "displayName": "Diksha Soni",
      "userId": "00039680945596626387"
     },
     "user_tz": -330
    },
    "id": "FJC51_bpgMZh",
    "outputId": "567d0b5c-5638-4e1c-8aa7-e0b9c2013244"
   },
   "outputs": [
    {
     "name": "stdout",
     "output_type": "stream",
     "text": [
      "Name:  TeamPhoenix\n",
      "Project:  1\n"
     ]
    }
   ],
   "source": [
    "class edpresso:\n",
    "    # constructor\n",
    "    def __init__(self, name, project):\n",
    "        self.name = name;\n",
    "        self.project = project; ## public member\n",
    "\n",
    "    def displayProject(self): \n",
    "        # accessing public data member \n",
    "        print(\"Project: \", self.project)\n",
    "\n",
    "# creating object of the class \n",
    "edp = edpresso(\"TeamPhoenix\", 1);\n",
    "\n",
    "# accessing public data member \n",
    "print(\"Name: \", edp.name)  \n",
    "\n",
    "# calling public member function of the class \n",
    "edp.displayProject()"
   ]
  },
  {
   "cell_type": "code",
   "execution_count": null,
   "metadata": {
    "id": "Fq_zTSyfgaLt"
   },
   "outputs": [],
   "source": []
  },
  {
   "cell_type": "markdown",
   "metadata": {
    "id": "QW_KlqcpgeTe"
   },
   "source": [
    "**Protected members:-Protected members are accessible within the class and also available to its sub-classes. To define a protected member, prefix the member name with a single underscore “_”.**"
   ]
  },
  {
   "cell_type": "code",
   "execution_count": null,
   "metadata": {
    "colab": {
     "base_uri": "https://localhost:8080/"
    },
    "executionInfo": {
     "elapsed": 7,
     "status": "ok",
     "timestamp": 1654678264112,
     "user": {
      "displayName": "Diksha Soni",
      "userId": "00039680945596626387"
     },
     "user_tz": -330
    },
    "id": "teuAAGYEgoAg",
    "outputId": "17e3a523-c90c-4a7e-eca8-7c88f8f3c0d6"
   },
   "outputs": [
    {
     "name": "stdout",
     "output_type": "stream",
     "text": [
      "Name: TeamPhoenix\n",
      "project: 2\n"
     ]
    }
   ],
   "source": [
    "class edpresso:\n",
    "    def __init__(self, name, project):\n",
    "        self._name = name\n",
    "        self._project = project ## Protected Member\n",
    "\n",
    "# creating object of the class \n",
    "edp = edpresso(\"TeamPhoenix\", 2)\n",
    "\n",
    "# direct access of protected member\n",
    "print(\"Name:\",edp._name)\n",
    "print(\"project:\",edp._project)"
   ]
  },
  {
   "cell_type": "markdown",
   "metadata": {
    "id": "NpZQuEfPgwQ_"
   },
   "source": [
    "**Private members:-Private members are accessible within the class. To define a private member, prefix the member name with a double underscore “__”.**"
   ]
  },
  {
   "cell_type": "code",
   "execution_count": null,
   "metadata": {
    "colab": {
     "base_uri": "https://localhost:8080/"
    },
    "executionInfo": {
     "elapsed": 426,
     "status": "ok",
     "timestamp": 1654711447754,
     "user": {
      "displayName": "Diksha Soni",
      "userId": "00039680945596626387"
     },
     "user_tz": -330
    },
    "id": "4EzMiuopg6T7",
    "outputId": "b59add4e-f0f1-4eb3-ee46-8451ff0811b1"
   },
   "outputs": [
    {
     "name": "stdout",
     "output_type": "stream",
     "text": [
      "Name: TeamPhoenix\n",
      "Project: 3\n"
     ]
    }
   ],
   "source": [
    "class edpresso:\n",
    "   def __init__(self, name, project):\n",
    "      # public variable\n",
    "      self.name = name\n",
    "      # private variable\n",
    "      self.__project = project ## private Membe\n",
    "\n",
    "# creating an instance of the class Sample\n",
    "edp = edpresso('TeamPhoenix', 3)\n",
    "\n",
    "# accessing public variable name\n",
    "print(\"Name:\",edp.name)\n",
    "\n",
    "# accessing private variable __project using \n",
    "# _Edpresso__project name\n",
    "print(\"Project:\",edp._edpresso__project)"
   ]
  },
  {
   "cell_type": "markdown",
   "metadata": {
    "id": "RrhQedTMXMn1"
   },
   "source": [
    "**Regex patterns**"
   ]
  },
  {
   "cell_type": "code",
   "execution_count": null,
   "metadata": {
    "id": "vhR8uyNHXVhD"
   },
   "outputs": [],
   "source": [
    "meta chars       .[{()\\^$|?*+"
   ]
  },
  {
   "cell_type": "code",
   "execution_count": null,
   "metadata": {
    "id": "Leg0cJWlXY7h"
   },
   "outputs": [],
   "source": [
    ".  matches every character \n",
    "\\. matches only .\n",
    "\\\\ matches only \\"
   ]
  },
  {
   "cell_type": "code",
   "execution_count": null,
   "metadata": {
    "id": "dz13UreTXZgo"
   },
   "outputs": [],
   "source": [
    "import re\n",
    "\n",
    "pattern = '^a...s$'\n",
    "test_string = 'abyss'\n",
    "result = re.match(pattern, test_string)"
   ]
  },
  {
   "cell_type": "code",
   "execution_count": null,
   "metadata": {
    "colab": {
     "base_uri": "https://localhost:8080/"
    },
    "executionInfo": {
     "elapsed": 12,
     "status": "ok",
     "timestamp": 1654575218035,
     "user": {
      "displayName": "Diksha Soni",
      "userId": "00039680945596626387"
     },
     "user_tz": -330
    },
    "id": "Nef1oTvlXc04",
    "outputId": "3ed69686-9f1e-4efa-8823-bc40603e3a2e"
   },
   "outputs": [
    {
     "name": "stdout",
     "output_type": "stream",
     "text": [
      "<re.Match object; span=(0, 5), match='abyss'>\n"
     ]
    }
   ],
   "source": [
    "print(result)"
   ]
  },
  {
   "cell_type": "code",
   "execution_count": null,
   "metadata": {
    "id": "AdcWjXEVXjIT"
   },
   "outputs": [],
   "source": [
    ".     means any char except new line \n",
    "\\d    means digit (0-9)\n",
    "\\D    means not a digit (0-9)\n",
    "\\w    means word char (a-z A-Z 0-9 _)\n",
    "\\W    means not a word char\n",
    "\\s    means whitespace(space, tab, newline)\n",
    "\\S    means not a whitespace "
   ]
  },
  {
   "cell_type": "code",
   "execution_count": null,
   "metadata": {
    "id": "wOKYVYbgXrBP"
   },
   "outputs": [],
   "source": [
    "\\b  means word boundary  \n",
    "\\B  means not a word boundary \n",
    "^   means beginning of a string \n",
    "$   means end of a string "
   ]
  },
  {
   "cell_type": "code",
   "execution_count": null,
   "metadata": {
    "id": "rw39uV1kXsoT"
   },
   "outputs": [],
   "source": [
    "[]  means matches chars in brackets \n",
    "[^ ] means matches characters not in brackets \n",
    "|   means either or \n",
    "()  means group"
   ]
  },
  {
   "cell_type": "code",
   "execution_count": null,
   "metadata": {
    "id": "pclHZbdcXuoz"
   },
   "outputs": [],
   "source": [
    "# quantifiers \n",
    "\n",
    "*         0 or more\n",
    "+         1 or more \n",
    "?         0 or one\n",
    "{3}       exact number \n",
    "{3,4}     range of numbers (min, max)"
   ]
  },
  {
   "cell_type": "code",
   "execution_count": null,
   "metadata": {
    "id": "HWbK7kG4Xw2_"
   },
   "outputs": [],
   "source": [
    "111-342-9999 \n",
    "111.342.9028\n",
    "\n",
    "\n",
    "\\d{3}.\\d{3}.\\d{4}"
   ]
  },
  {
   "cell_type": "code",
   "execution_count": null,
   "metadata": {
    "id": "81EKXX5FXzDA"
   },
   "outputs": [],
   "source": [
    "Amritsar \n",
    "Aurangabad \n",
    "Alphonso \n",
    "America \n",
    "Amudalavalsa"
   ]
  },
  {
   "cell_type": "code",
   "execution_count": null,
   "metadata": {
    "id": "X2_U_yicX5ry"
   },
   "outputs": [],
   "source": [
    "import re\n",
    "\n",
    "pattern = '^A\\w+'\n",
    "test_string = 'Amudalavalsa'\n",
    "result = re.match(pattern, test_string)"
   ]
  },
  {
   "cell_type": "code",
   "execution_count": null,
   "metadata": {
    "colab": {
     "base_uri": "https://localhost:8080/"
    },
    "executionInfo": {
     "elapsed": 13,
     "status": "ok",
     "timestamp": 1654575321192,
     "user": {
      "displayName": "Diksha Soni",
      "userId": "00039680945596626387"
     },
     "user_tz": -330
    },
    "id": "yTvVKfniX8CR",
    "outputId": "74bfc409-769c-45c1-9a85-ec7a814cf6c4"
   },
   "outputs": [
    {
     "data": {
      "text/plain": [
       "<re.Match object; span=(0, 12), match='Amudalavalsa'>"
      ]
     },
     "execution_count": 4,
     "metadata": {},
     "output_type": "execute_result"
    }
   ],
   "source": [
    "result"
   ]
  },
  {
   "cell_type": "code",
   "execution_count": null,
   "metadata": {
    "id": "wf6GNrhPX8da"
   },
   "outputs": [],
   "source": [
    "import re\n",
    "\n",
    "pattern = '^A\\w+r$'\n",
    "test_string='Amritsar'\n",
    "result = re.match(pattern, test_string)"
   ]
  },
  {
   "cell_type": "code",
   "execution_count": null,
   "metadata": {
    "colab": {
     "base_uri": "https://localhost:8080/"
    },
    "executionInfo": {
     "elapsed": 365,
     "status": "ok",
     "timestamp": 1654576214494,
     "user": {
      "displayName": "Diksha Soni",
      "userId": "00039680945596626387"
     },
     "user_tz": -330
    },
    "id": "2t-6Gu58Yi0C",
    "outputId": "9ad96027-6257-4820-ba87-7bd9c248fa9c"
   },
   "outputs": [
    {
     "data": {
      "text/plain": [
       "<re.Match object; span=(0, 8), match='Amritsar'>"
      ]
     },
     "execution_count": 13,
     "metadata": {},
     "output_type": "execute_result"
    }
   ],
   "source": [
    "result"
   ]
  },
  {
   "cell_type": "code",
   "execution_count": null,
   "metadata": {
    "colab": {
     "base_uri": "https://localhost:8080/"
    },
    "executionInfo": {
     "elapsed": 8,
     "status": "ok",
     "timestamp": 1654583488672,
     "user": {
      "displayName": "Diksha Soni",
      "userId": "00039680945596626387"
     },
     "user_tz": -330
    },
    "id": "otMLFrtvY8Ks",
    "outputId": "80102724-0d24-40c6-f53b-0b4bf290cfa9"
   },
   "outputs": [
    {
     "name": "stdout",
     "output_type": "stream",
     "text": [
      "<re.Match object; span=(284, 294), match='22209-1911'>\n"
     ]
    }
   ],
   "source": [
    "import re\n",
    "mystr = '''Tata Limited\n",
    "Dr. David Landsman, executive director\n",
    "18, Grosvenor Place\n",
    "London SW1X 7HSc\n",
    "Phone: +44 (20) 7235 8281\n",
    "Fax: +44 (20) 7235 8727\n",
    "Email: tata@tata.co.uk\n",
    "Website: www.europe.tata.com\n",
    "Directions: View map\n",
    "\n",
    "Tata Sons, North America\n",
    "1700 North Moore St, Suite 1520\n",
    "Arlington, VA 22209-1911\n",
    "USA\n",
    "Phone: +1 (703) 243 9787\n",
    "Fax: +1 (703) 243 9791\n",
    "66-66\n",
    "455-4545\n",
    "Email: northamerica@tata.com \n",
    "Website: www.northamerica.tata.com\n",
    "Directions: View map fass\n",
    "harry bhai lekin\n",
    "bahut hi badia aadmi haiaiinaiiiiiiiiiiii'''\n",
    "\n",
    "# findall, search, split, sub, finditer\n",
    "patt = re.compile(r'fass')\n",
    "patt = re.compile(r'.adm')\n",
    "patt = re.compile(r'^Tata')\n",
    "patt = re.compile(r'iin$')\n",
    "patt = re.compile(r'ai{2}')\n",
    "patt = re.compile(r'(ai){1}')\n",
    "patt = re.compile(r'ai{1}|Fax')\n",
    "\n",
    "\n",
    "# Special Sequences\n",
    "patt = re.compile(r'Fax\\b')\n",
    "patt = re.compile(r'27\\b')\n",
    "patt = re.compile(r'\\d{5}-\\d{4}')\n",
    "# Task\n",
    "# Given a string with a lot of indian phone numbers starting from +91\n",
    "\n",
    "matches = patt.finditer(mystr)\n",
    "for match in matches:\n",
    "    print(match)\n",
    "\n",
    "\n",
    "\n"
   ]
  },
  {
   "cell_type": "code",
   "execution_count": null,
   "metadata": {
    "colab": {
     "base_uri": "https://localhost:8080/"
    },
    "executionInfo": {
     "elapsed": 9,
     "status": "ok",
     "timestamp": 1654590956620,
     "user": {
      "displayName": "Diksha Soni",
      "userId": "00039680945596626387"
     },
     "user_tz": -330
    },
    "id": "iOS78tjr0r_M",
    "outputId": "e8a6421c-bb60-48e4-afba-ae481c4164cb"
   },
   "outputs": [
    {
     "data": {
      "text/plain": [
       "['welcome']"
      ]
     },
     "execution_count": 2,
     "metadata": {},
     "output_type": "execute_result"
    }
   ],
   "source": [
    "import re\n",
    "string_data = \"Hello and welcome\"\n",
    "patter = r\"\\bw\\w+\"\n",
    "result = re.findall(patter,string_data)\n",
    "result"
   ]
  },
  {
   "cell_type": "code",
   "execution_count": null,
   "metadata": {
    "id": "7VykxzSeThSo"
   },
   "outputs": [],
   "source": []
  }
 ],
 "metadata": {
  "colab": {
   "authorship_tag": "ABX9TyMx7mxHmEdNIQLOP+AH5qX5",
   "collapsed_sections": [],
   "name": "oops concept.ipynb",
   "provenance": []
  },
  "kernelspec": {
   "display_name": "Python 3 (ipykernel)",
   "language": "python",
   "name": "python3"
  },
  "language_info": {
   "codemirror_mode": {
    "name": "ipython",
    "version": 3
   },
   "file_extension": ".py",
   "mimetype": "text/x-python",
   "name": "python",
   "nbconvert_exporter": "python",
   "pygments_lexer": "ipython3",
   "version": "3.10.4"
  }
 },
 "nbformat": 4,
 "nbformat_minor": 1
}
